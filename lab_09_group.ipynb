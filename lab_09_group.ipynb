{
 "cells": [
  {
   "cell_type": "markdown",
   "metadata": {},
   "source": [
    "# STAT 207 Lab Assignment 9 - Group Part - 9 points\n",
    "\n",
    "\n",
    "# <u>Case Study</u>: Exploring the Impact of Scaling on Regularization Models\n",
    "\n",
    "\n",
    "## Dataset\n",
    "\n",
    "Let's return to the dataset that was used in our Midterm 1 exam. The data in the `video_game_sales_sample.csv` file contains information about a sample of video games released between 1995 and 2016.\n",
    "\n",
    "* `NA_Sales`: yearly total European sales (in millions of dollars) of the video game\n",
    "* `EU_Sales`: yearly total European sales (in millions of dollars) of the video game\n",
    "* `JP_Sales`: yearly total Japanese sales (in millions of dollars) of the video game\n",
    "* `Other_Sales`: yearly total sales in other countries (in millions of dollars) of the video game\n",
    "* `Year`: the year that video game was released\n",
    "* `Genre`: (just considering action or strategy in this analysis) genre of the video game\n",
    "* `Platform`: (just considering PS, PS2, PS3, DS, and Wii in this analysis) platform of the video game\n",
    "\n",
    "## Learning Goals\n",
    "\n",
    "We would like to explore how a resulting regularization model output might change based on the scale of the explanatory variables.\n",
    "\n",
    "\n",
    "## Points\n",
    "\n",
    "<p>&nbsp;</p>\n",
    "<table style=\"border: none;border-collapse: collapse;width:102pt;\">\n",
    "    <tbody>\n",
    "        <tr>\n",
    "            <td style=\"color:black;font-size:15px;font-weight:700;font-style:normal;text-decoration:none;font-family:Calibri, sans-serif;text-align:right;vertical-align:bottom;border:.5pt solid black;height:14.25pt;width:51pt;\">Problem</td>\n",
    "            <td style=\"color:black;font-size:15px;font-weight:700;font-style:normal;text-decoration:none;font-family:Calibri, sans-serif;text-align:general;vertical-align:bottom;border:.5pt solid black;border-left:none;width:51pt;\">Points</td>\n",
    "        </tr>\n",
    "        <tr>\n",
    "            <td style=\"color:black;font-size:15px;font-weight:400;font-style:normal;text-decoration:none;font-family:Calibri, sans-serif;text-align:right;vertical-align:bottom;border:.5pt solid black;height:14.25pt;border-top:none;\">1.1</td>\n",
    "            <td style=\"color:black;font-size:15px;font-weight:400;font-style:normal;text-decoration:none;font-family:Calibri, sans-serif;text-align:right;vertical-align:bottom;border:.5pt solid black;border-top:none;border-left:none;\">0.5</td>\n",
    "        </tr>\n",
    "        <tr>\n",
    "            <td style=\"color:black;font-size:15px;font-weight:400;font-style:normal;text-decoration:none;font-family:Calibri, sans-serif;text-align:right;vertical-align:bottom;border:.5pt solid black;height:14.25pt;border-top:none;\">1.2</td>\n",
    "            <td style=\"color:black;font-size:15px;font-weight:400;font-style:normal;text-decoration:none;font-family:Calibri, sans-serif;text-align:right;vertical-align:bottom;border:.5pt solid black;border-top:none;border-left:none;\">0.25</td>\n",
    "        </tr>\n",
    "        <tr>\n",
    "            <td style=\"color:black;font-size:15px;font-weight:400;font-style:normal;text-decoration:none;font-family:Calibri, sans-serif;text-align:right;vertical-align:bottom;border:.5pt solid black;height:14.25pt;border-top:none;\">1.3</td>\n",
    "            <td style=\"color:black;font-size:15px;font-weight:400;font-style:normal;text-decoration:none;font-family:Calibri, sans-serif;text-align:right;vertical-align:bottom;border:.5pt solid black;border-top:none;border-left:none;\">0.25</td>\n",
    "        </tr>\n",
    "        <tr>\n",
    "            <td style=\"color:black;font-size:15px;font-weight:400;font-style:normal;text-decoration:none;font-family:Calibri, sans-serif;text-align:right;vertical-align:bottom;border:.5pt solid black;height:14.25pt;border-top:none;\">1.4</td>\n",
    "            <td style=\"color:black;font-size:15px;font-weight:400;font-style:normal;text-decoration:none;font-family:Calibri, sans-serif;text-align:right;vertical-align:bottom;border:.5pt solid black;border-top:none;border-left:none;\">0.5</td>\n",
    "        </tr>\n",
    "        <tr>\n",
    "            <td style=\"color:black;font-size:15px;font-weight:400;font-style:normal;text-decoration:none;font-family:Calibri, sans-serif;text-align:right;vertical-align:bottom;border:.5pt solid black;height:14.25pt;border-top:none;\">1.5</td>\n",
    "            <td style=\"color:black;font-size:15px;font-weight:400;font-style:normal;text-decoration:none;font-family:Calibri, sans-serif;text-align:right;vertical-align:bottom;border:.5pt solid black;border-top:none;border-left:none;\">0.5</td>\n",
    "        </tr>\n",
    "        <tr>\n",
    "            <td style=\"color:black;font-size:15px;font-weight:400;font-style:normal;text-decoration:none;font-family:Calibri, sans-serif;text-align:right;vertical-align:bottom;border:.5pt solid black;height:14.25pt;border-top:none;\">2.1</td>\n",
    "            <td style=\"color:black;font-size:15px;font-weight:400;font-style:normal;text-decoration:none;font-family:Calibri, sans-serif;text-align:right;vertical-align:bottom;border:.5pt solid black;border-top:none;border-left:none;\">0.75</td>\n",
    "        </tr>\n",
    "        <tr>\n",
    "            <td style=\"color:black;font-size:15px;font-weight:400;font-style:normal;text-decoration:none;font-family:Calibri, sans-serif;text-align:right;vertical-align:bottom;border:.5pt solid black;height:14.25pt;border-top:none;\">2.2.1</td>\n",
    "            <td style=\"color:black;font-size:15px;font-weight:400;font-style:normal;text-decoration:none;font-family:Calibri, sans-serif;text-align:right;vertical-align:bottom;border:.5pt solid black;border-top:none;border-left:none;\">0.25</td>\n",
    "        </tr>\n",
    "        <tr>\n",
    "            <td style=\"color:black;font-size:15px;font-weight:400;font-style:normal;text-decoration:none;font-family:Calibri, sans-serif;text-align:right;vertical-align:bottom;border:.5pt solid black;height:14.25pt;border-top:none;\">2.2.2</td>\n",
    "            <td style=\"color:black;font-size:15px;font-weight:400;font-style:normal;text-decoration:none;font-family:Calibri, sans-serif;text-align:right;vertical-align:bottom;border:.5pt solid black;border-top:none;border-left:none;\">0.25</td>\n",
    "        </tr>\n",
    "        <tr>\n",
    "            <td style=\"color:black;font-size:15px;font-weight:400;font-style:normal;text-decoration:none;font-family:Calibri, sans-serif;text-align:right;vertical-align:bottom;border:.5pt solid black;height:14.25pt;border-top:none;\">2.2.3</td>\n",
    "            <td style=\"color:black;font-size:15px;font-weight:400;font-style:normal;text-decoration:none;font-family:Calibri, sans-serif;text-align:right;vertical-align:bottom;border:.5pt solid black;border-top:none;border-left:none;\">0.25</td>\n",
    "        </tr>\n",
    "        <tr>\n",
    "            <td style=\"color:black;font-size:15px;font-weight:400;font-style:normal;text-decoration:none;font-family:Calibri, sans-serif;text-align:right;vertical-align:bottom;border:.5pt solid black;height:14.25pt;border-top:none;\">2.2.4</td>\n",
    "            <td style=\"color:black;font-size:15px;font-weight:400;font-style:normal;text-decoration:none;font-family:Calibri, sans-serif;text-align:right;vertical-align:bottom;border:.5pt solid black;border-top:none;border-left:none;\">0.25</td>\n",
    "        </tr>\n",
    "        <tr>\n",
    "            <td style=\"color:black;font-size:15px;font-weight:400;font-style:normal;text-decoration:none;font-family:Calibri, sans-serif;text-align:right;vertical-align:bottom;border:.5pt solid black;height:14.25pt;border-top:none;\">2.3</td>\n",
    "            <td style=\"color:black;font-size:15px;font-weight:400;font-style:normal;text-decoration:none;font-family:Calibri, sans-serif;text-align:right;vertical-align:bottom;border:.5pt solid black;border-top:none;border-left:none;\">0.75</td>\n",
    "        </tr>\n",
    "        <tr>\n",
    "            <td style=\"color:black;font-size:15px;font-weight:400;font-style:normal;text-decoration:none;font-family:Calibri, sans-serif;text-align:right;vertical-align:bottom;border:.5pt solid black;height:14.25pt;border-top:none;\">3.1</td>\n",
    "            <td style=\"color:black;font-size:15px;font-weight:400;font-style:normal;text-decoration:none;font-family:Calibri, sans-serif;text-align:right;vertical-align:bottom;border:.5pt solid black;border-top:none;border-left:none;\">0.5</td>\n",
    "        </tr>\n",
    "        <tr>\n",
    "            <td style=\"color:black;font-size:15px;font-weight:400;font-style:normal;text-decoration:none;font-family:Calibri, sans-serif;text-align:right;vertical-align:bottom;border:.5pt solid black;height:14.25pt;border-top:none;\">3.2.1</td>\n",
    "            <td style=\"color:black;font-size:15px;font-weight:400;font-style:normal;text-decoration:none;font-family:Calibri, sans-serif;text-align:right;vertical-align:bottom;border:.5pt solid black;border-top:none;border-left:none;\">0.25</td>\n",
    "        </tr>\n",
    "        <tr>\n",
    "            <td style=\"color:black;font-size:15px;font-weight:400;font-style:normal;text-decoration:none;font-family:Calibri, sans-serif;text-align:right;vertical-align:bottom;border:.5pt solid black;height:14.25pt;border-top:none;\">3.2.2</td>\n",
    "            <td style=\"color:black;font-size:15px;font-weight:400;font-style:normal;text-decoration:none;font-family:Calibri, sans-serif;text-align:right;vertical-align:bottom;border:.5pt solid black;border-top:none;border-left:none;\">0.25</td>\n",
    "        </tr>\n",
    "        <tr>\n",
    "            <td style=\"color:black;font-size:15px;font-weight:400;font-style:normal;text-decoration:none;font-family:Calibri, sans-serif;text-align:right;vertical-align:bottom;border:.5pt solid black;height:14.25pt;border-top:none;\">3.2.3</td>\n",
    "            <td style=\"color:black;font-size:15px;font-weight:400;font-style:normal;text-decoration:none;font-family:Calibri, sans-serif;text-align:right;vertical-align:bottom;border:.5pt solid black;border-top:none;border-left:none;\">0.25</td>\n",
    "        </tr>\n",
    "        <tr>\n",
    "            <td style=\"color:black;font-size:15px;font-weight:400;font-style:normal;text-decoration:none;font-family:Calibri, sans-serif;text-align:right;vertical-align:bottom;border:.5pt solid black;height:14.25pt;border-top:none;\">3.2.4</td>\n",
    "            <td style=\"color:black;font-size:15px;font-weight:400;font-style:normal;text-decoration:none;font-family:Calibri, sans-serif;text-align:right;vertical-align:bottom;border:.5pt solid black;border-top:none;border-left:none;\">0.25</td>\n",
    "        </tr>\n",
    "        <tr>\n",
    "            <td style=\"color:black;font-size:15px;font-weight:400;font-style:normal;text-decoration:none;font-family:Calibri, sans-serif;text-align:right;vertical-align:bottom;border:.5pt solid black;height:14.25pt;border-top:none;\">3.3</td>\n",
    "            <td style=\"color:black;font-size:15px;font-weight:400;font-style:normal;text-decoration:none;font-family:Calibri, sans-serif;text-align:right;vertical-align:bottom;border:.5pt solid black;border-top:none;border-left:none;\">0.75</td>\n",
    "        </tr>\n",
    "        <tr>\n",
    "            <td style=\"color:black;font-size:15px;font-weight:400;font-style:normal;text-decoration:none;font-family:Calibri, sans-serif;text-align:right;vertical-align:bottom;border:.5pt solid black;height:14.25pt;border-top:none;\">4.1</td>\n",
    "            <td style=\"color:black;font-size:15px;font-weight:400;font-style:normal;text-decoration:none;font-family:Calibri, sans-serif;text-align:right;vertical-align:bottom;border:.5pt solid black;border-top:none;border-left:none;\">0.5</td>\n",
    "        </tr>\n",
    "        <tr>\n",
    "            <td style=\"color:black;font-size:15px;font-weight:400;font-style:normal;text-decoration:none;font-family:Calibri, sans-serif;text-align:right;vertical-align:bottom;border:.5pt solid black;height:14.25pt;border-top:none;\">4.2.1</td>\n",
    "            <td style=\"color:black;font-size:15px;font-weight:400;font-style:normal;text-decoration:none;font-family:Calibri, sans-serif;text-align:right;vertical-align:bottom;border:.5pt solid black;border-top:none;border-left:none;\">0.25</td>\n",
    "        </tr>\n",
    "        <tr>\n",
    "            <td style=\"color:black;font-size:15px;font-weight:400;font-style:normal;text-decoration:none;font-family:Calibri, sans-serif;text-align:right;vertical-align:bottom;border:.5pt solid black;height:14.25pt;border-top:none;\">4.2.2</td>\n",
    "            <td style=\"color:black;font-size:15px;font-weight:400;font-style:normal;text-decoration:none;font-family:Calibri, sans-serif;text-align:right;vertical-align:bottom;border:.5pt solid black;border-top:none;border-left:none;\">0.25</td>\n",
    "        </tr>\n",
    "        <tr>\n",
    "            <td style=\"color:black;font-size:15px;font-weight:400;font-style:normal;text-decoration:none;font-family:Calibri, sans-serif;text-align:right;vertical-align:bottom;border:.5pt solid black;height:14.25pt;border-top:none;\">4.2.3</td>\n",
    "            <td style=\"color:black;font-size:15px;font-weight:400;font-style:normal;text-decoration:none;font-family:Calibri, sans-serif;text-align:right;vertical-align:bottom;border:.5pt solid black;border-top:none;border-left:none;\">0.25</td>\n",
    "        </tr>\n",
    "        <tr>\n",
    "            <td style=\"color:black;font-size:15px;font-weight:400;font-style:normal;text-decoration:none;font-family:Calibri, sans-serif;text-align:right;vertical-align:bottom;border:.5pt solid black;height:14.25pt;border-top:none;\">4.2.4</td>\n",
    "            <td style=\"color:black;font-size:15px;font-weight:400;font-style:normal;text-decoration:none;font-family:Calibri, sans-serif;text-align:right;vertical-align:bottom;border:.5pt solid black;border-top:none;border-left:none;\">0.25</td>\n",
    "        </tr>\n",
    "        <tr>\n",
    "            <td style=\"color:black;font-size:15px;font-weight:400;font-style:normal;text-decoration:none;font-family:Calibri, sans-serif;text-align:right;vertical-align:bottom;border:.5pt solid black;height:14.25pt;border-top:none;\">4.3</td>\n",
    "            <td style=\"color:black;font-size:15px;font-weight:400;font-style:normal;text-decoration:none;font-family:Calibri, sans-serif;text-align:right;vertical-align:bottom;border:.5pt solid black;border-top:none;border-left:none;\">0.75</td>\n",
    "        </tr>\n",
    "    </tbody>\n",
    "</table>\n",
    "\n"
   ]
  },
  {
   "cell_type": "code",
   "execution_count": 292,
   "metadata": {},
   "outputs": [],
   "source": [
    "import pandas as pd\n",
    "import numpy as np\n",
    "import seaborn as sns\n",
    "import matplotlib.pyplot as plt\n",
    "from sklearn.model_selection import train_test_split\n",
    "from sklearn.linear_model import Ridge\n",
    "from sklearn.linear_model import ElasticNet\n",
    "from sklearn.preprocessing import StandardScaler"
   ]
  },
  {
   "cell_type": "markdown",
   "metadata": {},
   "source": [
    "Dev Rishi Udata - dudata2@illinois.edu\n",
    "Collaborated on almost all questions."
   ]
  },
  {
   "cell_type": "markdown",
   "metadata": {},
   "source": [
    "## 1. Basic Data Examination and Cleaning\n",
    "\n",
    "### 1.1. Reading the Dataset and Detecing Any Implicit Missing Values\n",
    "\n",
    "1. **Reading and Implicit Missing Value Conversion**: Read this csv file into a dataframe. This csv file may contains implicit missing values in our intended numerical variables! Make sure that when you read your csv file into your dataframe (the final time), that any implicit missing values in the numerical variable columns have been converted into NaN values.\n",
    "\n",
    "2. **Display your dataframe.**\n",
    "\n",
    "3. **Show how many rows your dataframe has.**\n",
    "\n"
   ]
  },
  {
   "cell_type": "code",
   "execution_count": 293,
   "metadata": {},
   "outputs": [
    {
     "data": {
      "text/html": [
       "<div>\n",
       "<style scoped>\n",
       "    .dataframe tbody tr th:only-of-type {\n",
       "        vertical-align: middle;\n",
       "    }\n",
       "\n",
       "    .dataframe tbody tr th {\n",
       "        vertical-align: top;\n",
       "    }\n",
       "\n",
       "    .dataframe thead th {\n",
       "        text-align: right;\n",
       "    }\n",
       "</style>\n",
       "<table border=\"1\" class=\"dataframe\">\n",
       "  <thead>\n",
       "    <tr style=\"text-align: right;\">\n",
       "      <th></th>\n",
       "      <th>Name</th>\n",
       "      <th>Platform</th>\n",
       "      <th>Year</th>\n",
       "      <th>Genre</th>\n",
       "      <th>NA_Sales</th>\n",
       "      <th>EU_Sales</th>\n",
       "      <th>JP_Sales</th>\n",
       "      <th>Other_Sales</th>\n",
       "    </tr>\n",
       "  </thead>\n",
       "  <tbody>\n",
       "    <tr>\n",
       "      <th>0</th>\n",
       "      <td>Saints Row IV</td>\n",
       "      <td>PS3</td>\n",
       "      <td>2013.0</td>\n",
       "      <td>Action</td>\n",
       "      <td>0.56</td>\n",
       "      <td>0.44</td>\n",
       "      <td>0.09</td>\n",
       "      <td>0.21</td>\n",
       "    </tr>\n",
       "    <tr>\n",
       "      <th>1</th>\n",
       "      <td>Treasures of the Deep</td>\n",
       "      <td>PS</td>\n",
       "      <td>1997.0</td>\n",
       "      <td>Action</td>\n",
       "      <td>0.10</td>\n",
       "      <td>0.07</td>\n",
       "      <td>0.00</td>\n",
       "      <td>0.01</td>\n",
       "    </tr>\n",
       "    <tr>\n",
       "      <th>2</th>\n",
       "      <td>Skylanders: Spyro's Adventure</td>\n",
       "      <td>Wii</td>\n",
       "      <td>2011.0</td>\n",
       "      <td>Action</td>\n",
       "      <td>1.40</td>\n",
       "      <td>1.14</td>\n",
       "      <td>0.00</td>\n",
       "      <td>0.31</td>\n",
       "    </tr>\n",
       "    <tr>\n",
       "      <th>3</th>\n",
       "      <td>LEGO Batman: The Videogame</td>\n",
       "      <td>PS2</td>\n",
       "      <td>2008.0</td>\n",
       "      <td>Action</td>\n",
       "      <td>0.72</td>\n",
       "      <td>0.03</td>\n",
       "      <td>0.00</td>\n",
       "      <td>0.52</td>\n",
       "    </tr>\n",
       "    <tr>\n",
       "      <th>4</th>\n",
       "      <td>Carnage Heart</td>\n",
       "      <td>PS</td>\n",
       "      <td>1995.0</td>\n",
       "      <td>Strategy</td>\n",
       "      <td>0.01</td>\n",
       "      <td>0.01</td>\n",
       "      <td>0.09</td>\n",
       "      <td>0.01</td>\n",
       "    </tr>\n",
       "  </tbody>\n",
       "</table>\n",
       "</div>"
      ],
      "text/plain": [
       "                            Name Platform    Year     Genre  NA_Sales  \\\n",
       "0                  Saints Row IV      PS3  2013.0    Action      0.56   \n",
       "1          Treasures of the Deep       PS  1997.0    Action      0.10   \n",
       "2  Skylanders: Spyro's Adventure      Wii  2011.0    Action      1.40   \n",
       "3     LEGO Batman: The Videogame      PS2  2008.0    Action      0.72   \n",
       "4                  Carnage Heart       PS  1995.0  Strategy      0.01   \n",
       "\n",
       "   EU_Sales  JP_Sales  Other_Sales  \n",
       "0      0.44      0.09         0.21  \n",
       "1      0.07      0.00         0.01  \n",
       "2      1.14      0.00         0.31  \n",
       "3      0.03      0.00         0.52  \n",
       "4      0.01      0.09         0.01  "
      ]
     },
     "execution_count": 293,
     "metadata": {},
     "output_type": "execute_result"
    }
   ],
   "source": [
    "df = pd.read_csv('video_game_sales_sample.csv',na_values=['nan','unknown'])\n",
    "df.head()"
   ]
  },
  {
   "cell_type": "code",
   "execution_count": 294,
   "metadata": {},
   "outputs": [
    {
     "data": {
      "text/plain": [
       "1034"
      ]
     },
     "execution_count": 294,
     "metadata": {},
     "output_type": "execute_result"
    }
   ],
   "source": [
    "df.shape[0]"
   ]
  },
  {
   "cell_type": "code",
   "execution_count": 295,
   "metadata": {},
   "outputs": [
    {
     "data": {
      "text/plain": [
       "array([2013., 1997., 2011., 2008., 1995., 2007., 2003., 2009., 2015.,\n",
       "       2005., 2012., 2010., 2001., 1996., 1999., 1998., 2000., 2006.,\n",
       "         nan, 2002., 2004., 2014., 2016.])"
      ]
     },
     "execution_count": 295,
     "metadata": {},
     "output_type": "execute_result"
    }
   ],
   "source": [
    "df['Year'].unique()"
   ]
  },
  {
   "cell_type": "code",
   "execution_count": 296,
   "metadata": {},
   "outputs": [
    {
     "data": {
      "text/plain": [
       "array([0.56, 0.1 , 1.4 , 0.72, 0.01, 0.  , 0.07, 0.26, 0.11, 0.14, 0.21,\n",
       "       0.61, 0.15, 0.08, 0.05, 0.29, 2.45, 0.17, 0.19, 0.16, 0.35, 0.63,\n",
       "       0.04, 0.02, 0.23, 0.2 , 0.06, 0.13, 0.48, 0.42, 1.89, 0.12, 0.52,\n",
       "       0.44, 0.39, 0.25, 0.18, 1.43, 0.03, 0.22, 0.09, 0.24, 0.8 , 0.78,\n",
       "       0.47, 0.31, 1.46, 0.82, 0.85, 0.27,  nan, 0.37, 0.38, 1.96, 0.6 ,\n",
       "       1.01, 2.32, 0.55, 0.54, 1.79, 0.58, 1.56, 0.28, 0.34, 2.64, 0.33,\n",
       "       0.57, 0.45, 1.41, 0.88, 1.07, 0.71, 1.12, 1.15, 1.06, 0.41, 0.4 ,\n",
       "       0.86, 1.29, 0.65, 1.3 , 1.88, 1.78, 2.63, 0.75, 6.99, 2.05, 0.3 ,\n",
       "       0.32, 0.43, 0.87, 0.46, 0.64, 1.42, 0.93, 1.21, 0.66, 0.53, 1.05,\n",
       "       1.54, 3.11, 0.99, 2.7 , 2.31, 1.82, 0.81, 0.5 , 1.27, 0.51, 0.67,\n",
       "       1.59, 1.48, 0.96, 2.77, 0.76, 0.36, 0.59, 1.9 , 1.34, 2.89, 0.79,\n",
       "       2.71, 3.27, 1.23, 2.14, 0.69, 3.79, 2.74, 7.01, 0.73, 1.36, 2.36,\n",
       "       3.18, 1.7 , 1.98])"
      ]
     },
     "execution_count": 296,
     "metadata": {},
     "output_type": "execute_result"
    }
   ],
   "source": [
    "df['NA_Sales'].unique()"
   ]
  },
  {
   "cell_type": "markdown",
   "metadata": {},
   "source": [
    "### 1.2. Dropping Unneeded Variables\n",
    "\n",
    "We only intend to use the `NA_Sales, EU_Sales, JP_Sales, Other_Sales, and Year` variables in this analysis. Drop all other variables from the dataset."
   ]
  },
  {
   "cell_type": "code",
   "execution_count": 297,
   "metadata": {},
   "outputs": [
    {
     "data": {
      "text/html": [
       "<div>\n",
       "<style scoped>\n",
       "    .dataframe tbody tr th:only-of-type {\n",
       "        vertical-align: middle;\n",
       "    }\n",
       "\n",
       "    .dataframe tbody tr th {\n",
       "        vertical-align: top;\n",
       "    }\n",
       "\n",
       "    .dataframe thead th {\n",
       "        text-align: right;\n",
       "    }\n",
       "</style>\n",
       "<table border=\"1\" class=\"dataframe\">\n",
       "  <thead>\n",
       "    <tr style=\"text-align: right;\">\n",
       "      <th></th>\n",
       "      <th>NA_Sales</th>\n",
       "      <th>EU_Sales</th>\n",
       "      <th>JP_Sales</th>\n",
       "      <th>Other_Sales</th>\n",
       "      <th>Year</th>\n",
       "    </tr>\n",
       "  </thead>\n",
       "  <tbody>\n",
       "    <tr>\n",
       "      <th>0</th>\n",
       "      <td>0.56</td>\n",
       "      <td>0.44</td>\n",
       "      <td>0.09</td>\n",
       "      <td>0.21</td>\n",
       "      <td>2013.0</td>\n",
       "    </tr>\n",
       "    <tr>\n",
       "      <th>1</th>\n",
       "      <td>0.10</td>\n",
       "      <td>0.07</td>\n",
       "      <td>0.00</td>\n",
       "      <td>0.01</td>\n",
       "      <td>1997.0</td>\n",
       "    </tr>\n",
       "    <tr>\n",
       "      <th>2</th>\n",
       "      <td>1.40</td>\n",
       "      <td>1.14</td>\n",
       "      <td>0.00</td>\n",
       "      <td>0.31</td>\n",
       "      <td>2011.0</td>\n",
       "    </tr>\n",
       "    <tr>\n",
       "      <th>3</th>\n",
       "      <td>0.72</td>\n",
       "      <td>0.03</td>\n",
       "      <td>0.00</td>\n",
       "      <td>0.52</td>\n",
       "      <td>2008.0</td>\n",
       "    </tr>\n",
       "    <tr>\n",
       "      <th>4</th>\n",
       "      <td>0.01</td>\n",
       "      <td>0.01</td>\n",
       "      <td>0.09</td>\n",
       "      <td>0.01</td>\n",
       "      <td>1995.0</td>\n",
       "    </tr>\n",
       "    <tr>\n",
       "      <th>...</th>\n",
       "      <td>...</td>\n",
       "      <td>...</td>\n",
       "      <td>...</td>\n",
       "      <td>...</td>\n",
       "      <td>...</td>\n",
       "    </tr>\n",
       "    <tr>\n",
       "      <th>1029</th>\n",
       "      <td>0.37</td>\n",
       "      <td>0.47</td>\n",
       "      <td>0.54</td>\n",
       "      <td>0.07</td>\n",
       "      <td>2004.0</td>\n",
       "    </tr>\n",
       "    <tr>\n",
       "      <th>1030</th>\n",
       "      <td>0.00</td>\n",
       "      <td>0.00</td>\n",
       "      <td>0.26</td>\n",
       "      <td>0.00</td>\n",
       "      <td>2007.0</td>\n",
       "    </tr>\n",
       "    <tr>\n",
       "      <th>1031</th>\n",
       "      <td>0.22</td>\n",
       "      <td>0.03</td>\n",
       "      <td>0.08</td>\n",
       "      <td>0.02</td>\n",
       "      <td>2007.0</td>\n",
       "    </tr>\n",
       "    <tr>\n",
       "      <th>1032</th>\n",
       "      <td>0.30</td>\n",
       "      <td>0.23</td>\n",
       "      <td>0.00</td>\n",
       "      <td>0.09</td>\n",
       "      <td>2011.0</td>\n",
       "    </tr>\n",
       "    <tr>\n",
       "      <th>1033</th>\n",
       "      <td>0.01</td>\n",
       "      <td>0.01</td>\n",
       "      <td>0.00</td>\n",
       "      <td>0.00</td>\n",
       "      <td>1998.0</td>\n",
       "    </tr>\n",
       "  </tbody>\n",
       "</table>\n",
       "<p>1034 rows × 5 columns</p>\n",
       "</div>"
      ],
      "text/plain": [
       "      NA_Sales  EU_Sales  JP_Sales  Other_Sales    Year\n",
       "0         0.56      0.44      0.09         0.21  2013.0\n",
       "1         0.10      0.07      0.00         0.01  1997.0\n",
       "2         1.40      1.14      0.00         0.31  2011.0\n",
       "3         0.72      0.03      0.00         0.52  2008.0\n",
       "4         0.01      0.01      0.09         0.01  1995.0\n",
       "...        ...       ...       ...          ...     ...\n",
       "1029      0.37      0.47      0.54         0.07  2004.0\n",
       "1030      0.00      0.00      0.26         0.00  2007.0\n",
       "1031      0.22      0.03      0.08         0.02  2007.0\n",
       "1032      0.30      0.23      0.00         0.09  2011.0\n",
       "1033      0.01      0.01      0.00         0.00  1998.0\n",
       "\n",
       "[1034 rows x 5 columns]"
      ]
     },
     "execution_count": 297,
     "metadata": {},
     "output_type": "execute_result"
    }
   ],
   "source": [
    "df_five = df[['NA_Sales','EU_Sales','JP_Sales','Other_Sales','Year']]\n",
    "df_five"
   ]
  },
  {
   "cell_type": "code",
   "execution_count": null,
   "metadata": {},
   "outputs": [],
   "source": []
  },
  {
   "cell_type": "markdown",
   "metadata": {},
   "source": [
    "### 1.3. Dropping Missing Values\n",
    "\n",
    "Drop all rows in this dataframe with a missing value. How many rows did you drop?"
   ]
  },
  {
   "cell_type": "code",
   "execution_count": 298,
   "metadata": {},
   "outputs": [
    {
     "data": {
      "text/plain": [
       "array([0.56, 0.1 , 1.4 , 0.72, 0.01, 0.  , 0.07, 0.26, 0.11, 0.14, 0.21,\n",
       "       0.61, 0.15, 0.08, 0.05, 0.29, 2.45, 0.17, 0.19, 0.16, 0.35, 0.63,\n",
       "       0.04, 0.02, 0.23, 0.2 , 0.06, 0.13, 0.48, 0.42, 1.89, 0.12, 0.52,\n",
       "       0.44, 0.39, 0.25, 0.18, 1.43, 0.03, 0.22, 0.09, 0.24, 0.8 , 0.78,\n",
       "       0.47, 0.31, 1.46, 0.82, 0.85, 0.27,  nan, 0.37, 0.38, 1.96, 0.6 ,\n",
       "       1.01, 2.32, 0.55, 0.54, 1.79, 0.58, 1.56, 0.28, 0.34, 2.64, 0.33,\n",
       "       0.57, 0.45, 1.41, 0.88, 1.07, 0.71, 1.12, 1.15, 1.06, 0.41, 0.4 ,\n",
       "       0.86, 1.29, 0.65, 1.3 , 1.88, 1.78, 2.63, 0.75, 6.99, 2.05, 0.3 ,\n",
       "       0.32, 0.43, 0.87, 0.46, 0.64, 1.42, 0.93, 1.21, 0.66, 0.53, 1.05,\n",
       "       1.54, 3.11, 0.99, 2.7 , 2.31, 1.82, 0.81, 0.5 , 1.27, 0.51, 0.67,\n",
       "       1.59, 1.48, 0.96, 2.77, 0.76, 0.36, 0.59, 1.9 , 1.34, 2.89, 0.79,\n",
       "       2.71, 3.27, 1.23, 2.14, 0.69, 3.79, 2.74, 7.01, 0.73, 1.36, 2.36,\n",
       "       3.18, 1.7 , 1.98])"
      ]
     },
     "execution_count": 298,
     "metadata": {},
     "output_type": "execute_result"
    }
   ],
   "source": [
    "df_five['NA_Sales'].unique()"
   ]
  },
  {
   "cell_type": "code",
   "execution_count": 299,
   "metadata": {},
   "outputs": [
    {
     "data": {
      "text/plain": [
       "array([0.44, 0.07, 1.14, 0.03, 0.01, 0.  , 0.1 , 0.18, 0.14, 0.02, 0.09,\n",
       "       0.17, 0.48, 0.08, 0.26, 0.04, 0.24, 0.13, 2.01, 0.11, 0.12, 0.15,\n",
       "       0.2 , 0.05, 0.37, 0.54, 0.16, 0.41, 1.05, 0.63, 0.23, 0.94, 0.06,\n",
       "       0.19, 0.32, 0.29, 0.22, 0.66, 1.43, 0.9 , 0.6 , 0.28, 0.35, 1.06,\n",
       "       0.25, 0.21, 0.88, 2.56, 0.39, 0.4 , 0.36, 1.02, 0.58, 0.5 , 0.3 ,\n",
       "       0.82, 0.97, 0.45, 1.47, 1.12, 0.33, 1.74, 0.67, 5.05, 1.09, 4.51,\n",
       "       1.16, 0.34, 0.31, 0.49, 1.03, 0.77, 0.61, 0.46, 0.56, 0.43, 0.81,\n",
       "       2.02, 2.8 , 0.27, 1.91, 1.73, 0.57, 1.24, 0.38, 0.55, 0.8 , 0.73,\n",
       "       1.08, 0.65, 1.01, 0.47, 1.11, 1.83, 1.54, 1.35, 1.29, 1.07, 2.25,\n",
       "       0.52, 1.77, 1.2 , 0.83, 1.36, 9.27, 0.76, 0.71, 1.15, 1.33, 2.1 ,\n",
       "       0.7 , 0.72, 0.86])"
      ]
     },
     "execution_count": 299,
     "metadata": {},
     "output_type": "execute_result"
    }
   ],
   "source": [
    "df_five['EU_Sales'].unique()"
   ]
  },
  {
   "cell_type": "code",
   "execution_count": 300,
   "metadata": {},
   "outputs": [
    {
     "data": {
      "text/plain": [
       "array([0.09, 0.  , 0.44, 0.19, 0.33, 0.03, 0.21, 0.35, 0.01, 0.23, 0.86,\n",
       "       0.87, 0.04, 0.02, 0.25, 0.08, 0.26, 0.53, 0.05, 0.06, 0.74, 0.16,\n",
       "       0.1 , 0.75, 0.64, 0.59, 0.83, 0.24, 1.08, 0.17, 0.32, 0.58, 0.14,\n",
       "       0.13, 0.57, 0.31, 0.46, 0.07, 0.28, 0.12, 0.27, 0.6 , 0.11, 0.2 ,\n",
       "       0.38, 0.36, 0.18, 0.63, 2.02, 0.51, 0.3 , 1.11, 0.22, 1.54, 0.34,\n",
       "       0.42, 0.29, 0.15, 0.47, 0.41, 0.91, 1.09, 1.13, 0.95, 0.54, 0.49,\n",
       "       0.62, 0.37, 0.97, 0.7 , 0.78])"
      ]
     },
     "execution_count": 300,
     "metadata": {},
     "output_type": "execute_result"
    }
   ],
   "source": [
    "df_five['JP_Sales'].unique()"
   ]
  },
  {
   "cell_type": "code",
   "execution_count": 301,
   "metadata": {},
   "outputs": [
    {
     "data": {
      "text/plain": [
       "array([0.21, 0.01, 0.31, 0.52, 0.  , 0.04, 0.03, 0.02, 0.06, 0.16, 0.07,\n",
       "       0.09, 0.72, 0.05, 0.14, 0.25, 0.11, 0.15, 0.1 , 0.08, 0.27, 0.41,\n",
       "       0.13, 1.93, 0.22, 0.65, 0.37, 1.67, 0.29, 0.12, 1.14, 0.18, 0.24,\n",
       "       0.17, 0.19, 0.28, 0.39, 0.23, 0.45, 0.83, 2.01, 1.3 , 0.73, 1.13,\n",
       "       0.33, 0.8 , 0.78, 0.34, 0.53, 0.26, 0.3 , 1.06, 0.36, 0.4 , 0.49,\n",
       "       0.46, 0.43, 1.  , 0.2 , 0.74, 0.63, 4.14, 0.76])"
      ]
     },
     "execution_count": 301,
     "metadata": {},
     "output_type": "execute_result"
    }
   ],
   "source": [
    "df_five['Other_Sales'].unique()"
   ]
  },
  {
   "cell_type": "code",
   "execution_count": 302,
   "metadata": {},
   "outputs": [
    {
     "data": {
      "text/plain": [
       "1034"
      ]
     },
     "execution_count": 302,
     "metadata": {},
     "output_type": "execute_result"
    }
   ],
   "source": [
    "df_five.shape[0]"
   ]
  },
  {
   "cell_type": "code",
   "execution_count": 303,
   "metadata": {},
   "outputs": [],
   "source": [
    "df_five = df_five.dropna()"
   ]
  },
  {
   "cell_type": "code",
   "execution_count": 304,
   "metadata": {},
   "outputs": [
    {
     "data": {
      "text/plain": [
       "1011"
      ]
     },
     "execution_count": 304,
     "metadata": {},
     "output_type": "execute_result"
    }
   ],
   "source": [
    "df_five.shape[0]"
   ]
  },
  {
   "cell_type": "markdown",
   "metadata": {},
   "source": [
    "### 1.4. Features Matrix and Target Array \n",
    "\n",
    "Use this full dataset (ie. not one that has been split into training or test dataset) to create a features matrix and target array for our linear regression models. "
   ]
  },
  {
   "cell_type": "code",
   "execution_count": 305,
   "metadata": {},
   "outputs": [
    {
     "data": {
      "text/html": [
       "<div>\n",
       "<style scoped>\n",
       "    .dataframe tbody tr th:only-of-type {\n",
       "        vertical-align: middle;\n",
       "    }\n",
       "\n",
       "    .dataframe tbody tr th {\n",
       "        vertical-align: top;\n",
       "    }\n",
       "\n",
       "    .dataframe thead th {\n",
       "        text-align: right;\n",
       "    }\n",
       "</style>\n",
       "<table border=\"1\" class=\"dataframe\">\n",
       "  <thead>\n",
       "    <tr style=\"text-align: right;\">\n",
       "      <th></th>\n",
       "      <th>EU_Sales</th>\n",
       "      <th>JP_Sales</th>\n",
       "      <th>Other_Sales</th>\n",
       "      <th>Year</th>\n",
       "    </tr>\n",
       "  </thead>\n",
       "  <tbody>\n",
       "    <tr>\n",
       "      <th>0</th>\n",
       "      <td>0.44</td>\n",
       "      <td>0.09</td>\n",
       "      <td>0.21</td>\n",
       "      <td>2013.0</td>\n",
       "    </tr>\n",
       "    <tr>\n",
       "      <th>1</th>\n",
       "      <td>0.07</td>\n",
       "      <td>0.00</td>\n",
       "      <td>0.01</td>\n",
       "      <td>1997.0</td>\n",
       "    </tr>\n",
       "    <tr>\n",
       "      <th>2</th>\n",
       "      <td>1.14</td>\n",
       "      <td>0.00</td>\n",
       "      <td>0.31</td>\n",
       "      <td>2011.0</td>\n",
       "    </tr>\n",
       "    <tr>\n",
       "      <th>3</th>\n",
       "      <td>0.03</td>\n",
       "      <td>0.00</td>\n",
       "      <td>0.52</td>\n",
       "      <td>2008.0</td>\n",
       "    </tr>\n",
       "    <tr>\n",
       "      <th>4</th>\n",
       "      <td>0.01</td>\n",
       "      <td>0.09</td>\n",
       "      <td>0.01</td>\n",
       "      <td>1995.0</td>\n",
       "    </tr>\n",
       "  </tbody>\n",
       "</table>\n",
       "</div>"
      ],
      "text/plain": [
       "   EU_Sales  JP_Sales  Other_Sales    Year\n",
       "0      0.44      0.09         0.21  2013.0\n",
       "1      0.07      0.00         0.01  1997.0\n",
       "2      1.14      0.00         0.31  2011.0\n",
       "3      0.03      0.00         0.52  2008.0\n",
       "4      0.01      0.09         0.01  1995.0"
      ]
     },
     "execution_count": 305,
     "metadata": {},
     "output_type": "execute_result"
    }
   ],
   "source": [
    "#The North American Sales is the variable that is being predicted\n",
    "df_five_explanatory = df_five.drop(['NA_Sales'],axis=1)\n",
    "df_five_explanatory.head()"
   ]
  },
  {
   "cell_type": "code",
   "execution_count": 306,
   "metadata": {},
   "outputs": [
    {
     "data": {
      "text/plain": [
       "0    0.56\n",
       "1    0.10\n",
       "2    1.40\n",
       "3    0.72\n",
       "4    0.01\n",
       "Name: NA_Sales, dtype: float64"
      ]
     },
     "execution_count": 306,
     "metadata": {},
     "output_type": "execute_result"
    }
   ],
   "source": [
    "df_five['NA_Sales'].head()"
   ]
  },
  {
   "cell_type": "markdown",
   "metadata": {},
   "source": [
    "### 1.5. Features Matrix Scales\n",
    "\n",
    "Calculate the standard deviation of each variable in your features matrix. Would we be able to interpret the magnitude of the slopes in any resulting linear regression model as an indication of how important the corresponding explanatory variable is when it comes to predict `NA_Sales`? Explain."
   ]
  },
  {
   "cell_type": "code",
   "execution_count": 307,
   "metadata": {},
   "outputs": [
    {
     "data": {
      "text/plain": [
       "0.48101186547230956"
      ]
     },
     "execution_count": 307,
     "metadata": {},
     "output_type": "execute_result"
    }
   ],
   "source": [
    "df_five['EU_Sales'].std()"
   ]
  },
  {
   "cell_type": "code",
   "execution_count": 308,
   "metadata": {
    "scrolled": true
   },
   "outputs": [
    {
     "data": {
      "text/plain": [
       "0.16887870221242612"
      ]
     },
     "execution_count": 308,
     "metadata": {},
     "output_type": "execute_result"
    }
   ],
   "source": [
    "df_five['JP_Sales'].std()"
   ]
  },
  {
   "cell_type": "code",
   "execution_count": 309,
   "metadata": {},
   "outputs": [
    {
     "data": {
      "text/plain": [
       "0.20691627859736222"
      ]
     },
     "execution_count": 309,
     "metadata": {},
     "output_type": "execute_result"
    }
   ],
   "source": [
    "df_five['Other_Sales'].std()"
   ]
  },
  {
   "cell_type": "code",
   "execution_count": 310,
   "metadata": {},
   "outputs": [
    {
     "data": {
      "text/plain": [
       "4.62722628372171"
      ]
     },
     "execution_count": 310,
     "metadata": {},
     "output_type": "execute_result"
    }
   ],
   "source": [
    "df_five['Year'].std()"
   ]
  },
  {
   "cell_type": "markdown",
   "metadata": {},
   "source": [
    "Yes, the magnitude of the slopes in the resulting linear regression model can be used as an indiciation of how importnat the explanatory variable is to predict NA_Sales. However, it shouldn't be the only factor."
   ]
  },
  {
   "cell_type": "markdown",
   "metadata": {},
   "source": [
    "## 2. Elastic Net Models with Unscaled Features Matrix\n",
    "\n",
    "Let's first build a few elastic net models with an $\\alpha=0.9$, using our *unscaled* features matrix.\n",
    "\n",
    "### 2.1. Elastic Net Slopes\n",
    "\n",
    "By setting $\\alpha=0.9$ (ie the $l1\\_ratio=0.9$), would we expect our resulting elastic net linear regression slopes to look more like what a LASSO model would return or a ridge regression model?"
   ]
  },
  {
   "cell_type": "markdown",
   "metadata": {},
   "source": [
    "With the l1 (Lasso) model ratio being heavily dominant, the elastic net linear regression slopes will look more like what a LASSO model would return."
   ]
  },
  {
   "cell_type": "markdown",
   "metadata": {},
   "source": [
    "### 2.2. Explanatory Variable Important in an Elastic Net Model\n",
    "\n",
    "#### 2.2.1 All Zero Slopes\n",
    "\n",
    "First, find a value of $\\lambda$ in an elastic net model with $\\alpha=0.9$ that will yield ALL slopes being equal to 0."
   ]
  },
  {
   "cell_type": "code",
   "execution_count": 311,
   "metadata": {},
   "outputs": [
    {
     "data": {
      "text/plain": [
       "0.0"
      ]
     },
     "execution_count": 311,
     "metadata": {},
     "output_type": "execute_result"
    }
   ],
   "source": [
    "enm_all = ElasticNet(alpha = .51, l1_ratio = 0.9)\n",
    "enm_all.fit(df_five_explanatory,df_five_response)\n",
    "enm_all.score(df_five_explanatory, df_five_response)"
   ]
  },
  {
   "cell_type": "code",
   "execution_count": 312,
   "metadata": {},
   "outputs": [
    {
     "data": {
      "text/html": [
       "<div>\n",
       "<style scoped>\n",
       "    .dataframe tbody tr th:only-of-type {\n",
       "        vertical-align: middle;\n",
       "    }\n",
       "\n",
       "    .dataframe tbody tr th {\n",
       "        vertical-align: top;\n",
       "    }\n",
       "\n",
       "    .dataframe thead th {\n",
       "        text-align: right;\n",
       "    }\n",
       "</style>\n",
       "<table border=\"1\" class=\"dataframe\">\n",
       "  <thead>\n",
       "    <tr style=\"text-align: right;\">\n",
       "      <th></th>\n",
       "      <th>enm_all</th>\n",
       "    </tr>\n",
       "  </thead>\n",
       "  <tbody>\n",
       "    <tr>\n",
       "      <th>EU_Sales</th>\n",
       "      <td>0.0</td>\n",
       "    </tr>\n",
       "    <tr>\n",
       "      <th>JP_Sales</th>\n",
       "      <td>0.0</td>\n",
       "    </tr>\n",
       "    <tr>\n",
       "      <th>Other_Sales</th>\n",
       "      <td>0.0</td>\n",
       "    </tr>\n",
       "    <tr>\n",
       "      <th>Year</th>\n",
       "      <td>-0.0</td>\n",
       "    </tr>\n",
       "  </tbody>\n",
       "</table>\n",
       "</div>"
      ],
      "text/plain": [
       "             enm_all\n",
       "EU_Sales         0.0\n",
       "JP_Sales         0.0\n",
       "Other_Sales      0.0\n",
       "Year            -0.0"
      ]
     },
     "execution_count": 312,
     "metadata": {},
     "output_type": "execute_result"
    }
   ],
   "source": [
    "df_slopes = pd.DataFrame({'enm_all':enm_all.coef_.T},index=df_five_explanatory.columns)\n",
    "df_slopes"
   ]
  },
  {
   "cell_type": "markdown",
   "metadata": {},
   "source": [
    "#### 2.2.2 One Non-Zero Slopes\n",
    "\n",
    "Find a value of $\\lambda$ in an elastic net model with $\\alpha=0.9$ that will yield ONE non-zero slope. What explanatory variable corresponds to this non-zero slope?"
   ]
  },
  {
   "cell_type": "code",
   "execution_count": 313,
   "metadata": {},
   "outputs": [
    {
     "data": {
      "text/plain": [
       "0.0"
      ]
     },
     "execution_count": 313,
     "metadata": {},
     "output_type": "execute_result"
    }
   ],
   "source": [
    "enm_1 = ElasticNet(alpha = .5, l1_ratio = 0.9)\n",
    "enm_1.fit(df_five_explanatory,df_five_response)\n",
    "enm_1.score(df_five_explanatory, df_five_response)"
   ]
  },
  {
   "cell_type": "code",
   "execution_count": 285,
   "metadata": {},
   "outputs": [
    {
     "data": {
      "text/html": [
       "<div>\n",
       "<style scoped>\n",
       "    .dataframe tbody tr th:only-of-type {\n",
       "        vertical-align: middle;\n",
       "    }\n",
       "\n",
       "    .dataframe tbody tr th {\n",
       "        vertical-align: top;\n",
       "    }\n",
       "\n",
       "    .dataframe thead th {\n",
       "        text-align: right;\n",
       "    }\n",
       "</style>\n",
       "<table border=\"1\" class=\"dataframe\">\n",
       "  <thead>\n",
       "    <tr style=\"text-align: right;\">\n",
       "      <th></th>\n",
       "      <th>enm_1</th>\n",
       "    </tr>\n",
       "  </thead>\n",
       "  <tbody>\n",
       "    <tr>\n",
       "      <th>EU_Sales</th>\n",
       "      <td>0.000638</td>\n",
       "    </tr>\n",
       "    <tr>\n",
       "      <th>JP_Sales</th>\n",
       "      <td>0.000000</td>\n",
       "    </tr>\n",
       "    <tr>\n",
       "      <th>Other_Sales</th>\n",
       "      <td>0.000000</td>\n",
       "    </tr>\n",
       "    <tr>\n",
       "      <th>Year</th>\n",
       "      <td>-0.000000</td>\n",
       "    </tr>\n",
       "  </tbody>\n",
       "</table>\n",
       "</div>"
      ],
      "text/plain": [
       "                enm_1\n",
       "EU_Sales     0.000638\n",
       "JP_Sales     0.000000\n",
       "Other_Sales  0.000000\n",
       "Year        -0.000000"
      ]
     },
     "execution_count": 285,
     "metadata": {},
     "output_type": "execute_result"
    }
   ],
   "source": [
    "df_slopes = pd.DataFrame({'enm_1':enm_1.coef_.T},index=df_five_explanatory.columns)\n",
    "df_slopes"
   ]
  },
  {
   "cell_type": "markdown",
   "metadata": {},
   "source": [
    "#### 2.2.3 Two Non-Zero Slopes\n",
    "\n",
    "Find a value of $\\lambda$ in an elastic net model with $\\alpha=0.9$ that will yield TWO non-zero slopeS. What explanatory variableS corresponds to these non-zero slopes?"
   ]
  },
  {
   "cell_type": "code",
   "execution_count": 286,
   "metadata": {},
   "outputs": [
    {
     "data": {
      "text/plain": [
       "0.5751252782001434"
      ]
     },
     "execution_count": 286,
     "metadata": {},
     "output_type": "execute_result"
    }
   ],
   "source": [
    "enm_2 = ElasticNet(alpha = .2, l1_ratio = 0.9)\n",
    "enm_2.fit(df_five_explanatory,df_five_response)\n",
    "enm_2.score(df_five_explanatory, df_five_response)"
   ]
  },
  {
   "cell_type": "code",
   "execution_count": 287,
   "metadata": {},
   "outputs": [
    {
     "data": {
      "text/html": [
       "<div>\n",
       "<style scoped>\n",
       "    .dataframe tbody tr th:only-of-type {\n",
       "        vertical-align: middle;\n",
       "    }\n",
       "\n",
       "    .dataframe tbody tr th {\n",
       "        vertical-align: top;\n",
       "    }\n",
       "\n",
       "    .dataframe thead th {\n",
       "        text-align: right;\n",
       "    }\n",
       "</style>\n",
       "<table border=\"1\" class=\"dataframe\">\n",
       "  <thead>\n",
       "    <tr style=\"text-align: right;\">\n",
       "      <th></th>\n",
       "      <th>enm_2</th>\n",
       "    </tr>\n",
       "  </thead>\n",
       "  <tbody>\n",
       "    <tr>\n",
       "      <th>EU_Sales</th>\n",
       "      <td>0.260453</td>\n",
       "    </tr>\n",
       "    <tr>\n",
       "      <th>JP_Sales</th>\n",
       "      <td>0.000000</td>\n",
       "    </tr>\n",
       "    <tr>\n",
       "      <th>Other_Sales</th>\n",
       "      <td>0.006028</td>\n",
       "    </tr>\n",
       "    <tr>\n",
       "      <th>Year</th>\n",
       "      <td>-0.000000</td>\n",
       "    </tr>\n",
       "  </tbody>\n",
       "</table>\n",
       "</div>"
      ],
      "text/plain": [
       "                enm_2\n",
       "EU_Sales     0.260453\n",
       "JP_Sales     0.000000\n",
       "Other_Sales  0.006028\n",
       "Year        -0.000000"
      ]
     },
     "execution_count": 287,
     "metadata": {},
     "output_type": "execute_result"
    }
   ],
   "source": [
    "df_slopes = pd.DataFrame({'enm_2':enm_2.coef_.T},index=df_five_explanatory.columns)\n",
    "df_slopes"
   ]
  },
  {
   "cell_type": "markdown",
   "metadata": {},
   "source": [
    "#### 2.2.4 Three Non-Zero Slopes\n",
    "\n",
    "Find a value of $\\lambda$ in an elastic net model with $\\alpha=0.9$ that will yield THREE non-zero slopes. What explanatory variables corresponds to these non-zero slopes?"
   ]
  },
  {
   "cell_type": "code",
   "execution_count": 288,
   "metadata": {},
   "outputs": [
    {
     "data": {
      "text/plain": [
       "0.694442911394312"
      ]
     },
     "execution_count": 288,
     "metadata": {},
     "output_type": "execute_result"
    }
   ],
   "source": [
    "enm_3 = ElasticNet(alpha = 0.039, l1_ratio = 0.9)\n",
    "enm_3.fit(df_five_explanatory,df_five_response)\n",
    "enm_3.score(df_five_explanatory,df_five_response)"
   ]
  },
  {
   "cell_type": "code",
   "execution_count": 289,
   "metadata": {},
   "outputs": [
    {
     "data": {
      "text/html": [
       "<div>\n",
       "<style scoped>\n",
       "    .dataframe tbody tr th:only-of-type {\n",
       "        vertical-align: middle;\n",
       "    }\n",
       "\n",
       "    .dataframe tbody tr th {\n",
       "        vertical-align: top;\n",
       "    }\n",
       "\n",
       "    .dataframe thead th {\n",
       "        text-align: right;\n",
       "    }\n",
       "</style>\n",
       "<table border=\"1\" class=\"dataframe\">\n",
       "  <thead>\n",
       "    <tr style=\"text-align: right;\">\n",
       "      <th></th>\n",
       "      <th>enm_3</th>\n",
       "    </tr>\n",
       "  </thead>\n",
       "  <tbody>\n",
       "    <tr>\n",
       "      <th>EU_Sales</th>\n",
       "      <td>0.352449</td>\n",
       "    </tr>\n",
       "    <tr>\n",
       "      <th>JP_Sales</th>\n",
       "      <td>0.000354</td>\n",
       "    </tr>\n",
       "    <tr>\n",
       "      <th>Other_Sales</th>\n",
       "      <td>0.074033</td>\n",
       "    </tr>\n",
       "    <tr>\n",
       "      <th>Year</th>\n",
       "      <td>-0.000000</td>\n",
       "    </tr>\n",
       "  </tbody>\n",
       "</table>\n",
       "</div>"
      ],
      "text/plain": [
       "                enm_3\n",
       "EU_Sales     0.352449\n",
       "JP_Sales     0.000354\n",
       "Other_Sales  0.074033\n",
       "Year        -0.000000"
      ]
     },
     "execution_count": 289,
     "metadata": {},
     "output_type": "execute_result"
    }
   ],
   "source": [
    "df_slopes = pd.DataFrame({'enm_3':enm_3.coef_.T},index=df_five_explanatory.columns)\n",
    "df_slopes"
   ]
  },
  {
   "cell_type": "markdown",
   "metadata": {},
   "source": [
    "### 2.3. Interpretation\n",
    "\n",
    "When using an unscaled features matrix in an elastic net model with an $\\alpha=0.9$, which explanatory variable is determined to bring:\n",
    "* the most predictive power to the model, \n",
    "* the second most predictive power to the model, \n",
    "* the third most predictive power to the model, \n",
    "* the fourth most predictive power to the model?"
   ]
  },
  {
   "cell_type": "markdown",
   "metadata": {},
   "source": [
    "The most predictive power: EU_Sales\n",
    "2nd most: Other_Sales\n",
    "3rd most: JP_Sales\n",
    "4th most: Year"
   ]
  },
  {
   "cell_type": "markdown",
   "metadata": {},
   "source": [
    "## 3. Elastic Net Models with Scales Features Matrix\n",
    "\n",
    "Now let's build a few elastic net models with an $\\alpha=0.9$, and a *scaled* features matrix.\n",
    "\n",
    "### 3.1. Scaling the Features Matrix\n",
    "\n",
    "First, z-score scale your features matrix."
   ]
  },
  {
   "cell_type": "code",
   "execution_count": 291,
   "metadata": {},
   "outputs": [
    {
     "data": {
      "text/html": [
       "<div>\n",
       "<style scoped>\n",
       "    .dataframe tbody tr th:only-of-type {\n",
       "        vertical-align: middle;\n",
       "    }\n",
       "\n",
       "    .dataframe tbody tr th {\n",
       "        vertical-align: top;\n",
       "    }\n",
       "\n",
       "    .dataframe thead th {\n",
       "        text-align: right;\n",
       "    }\n",
       "</style>\n",
       "<table border=\"1\" class=\"dataframe\">\n",
       "  <thead>\n",
       "    <tr style=\"text-align: right;\">\n",
       "      <th></th>\n",
       "      <th>EU_Sales</th>\n",
       "      <th>JP_Sales</th>\n",
       "      <th>Other_Sales</th>\n",
       "      <th>Year</th>\n",
       "    </tr>\n",
       "  </thead>\n",
       "  <tbody>\n",
       "    <tr>\n",
       "      <th>0</th>\n",
       "      <td>0.557583</td>\n",
       "      <td>0.155697</td>\n",
       "      <td>0.679615</td>\n",
       "      <td>1.327470</td>\n",
       "    </tr>\n",
       "    <tr>\n",
       "      <th>1</th>\n",
       "      <td>-0.212010</td>\n",
       "      <td>-0.377494</td>\n",
       "      <td>-0.287438</td>\n",
       "      <td>-2.132036</td>\n",
       "    </tr>\n",
       "    <tr>\n",
       "      <th>2</th>\n",
       "      <td>2.013569</td>\n",
       "      <td>-0.377494</td>\n",
       "      <td>1.163142</td>\n",
       "      <td>0.895032</td>\n",
       "    </tr>\n",
       "    <tr>\n",
       "      <th>3</th>\n",
       "      <td>-0.295209</td>\n",
       "      <td>-0.377494</td>\n",
       "      <td>2.178547</td>\n",
       "      <td>0.246374</td>\n",
       "    </tr>\n",
       "    <tr>\n",
       "      <th>4</th>\n",
       "      <td>-0.336809</td>\n",
       "      <td>0.155697</td>\n",
       "      <td>-0.287438</td>\n",
       "      <td>-2.564475</td>\n",
       "    </tr>\n",
       "  </tbody>\n",
       "</table>\n",
       "</div>"
      ],
      "text/plain": [
       "   EU_Sales  JP_Sales  Other_Sales      Year\n",
       "0  0.557583  0.155697     0.679615  1.327470\n",
       "1 -0.212010 -0.377494    -0.287438 -2.132036\n",
       "2  2.013569 -0.377494     1.163142  0.895032\n",
       "3 -0.295209 -0.377494     2.178547  0.246374\n",
       "4 -0.336809  0.155697    -0.287438 -2.564475"
      ]
     },
     "execution_count": 291,
     "metadata": {},
     "output_type": "execute_result"
    }
   ],
   "source": [
    "scaler_full = StandardScaler()\n",
    "scaled_expl_vars = scaler_full.fit_transform(df_five_explanatory)\n",
    "df_five_explanatory = pd.DataFrame(scaled_expl_vars, columns=df_five_explanatory.columns)\n",
    "df_five_explanatory.head()"
   ]
  },
  {
   "cell_type": "markdown",
   "metadata": {},
   "source": [
    "### 3.2. Explanatory Variable Important in an Elastic Net Model\n",
    "\n",
    "#### 3.2.1 All Zero Slopes\n",
    "\n",
    "First, find a value of $\\lambda$ in an elastic net model (which uses the scaled features matrix) with $\\alpha=0.9$ that will yield ALL slopes being equal to 0."
   ]
  },
  {
   "cell_type": "code",
   "execution_count": 421,
   "metadata": {},
   "outputs": [
    {
     "data": {
      "text/plain": [
       "0.0"
      ]
     },
     "execution_count": 421,
     "metadata": {},
     "output_type": "execute_result"
    }
   ],
   "source": [
    "enm_all = ElasticNet(alpha = 0.9, l1_ratio = 0.9)\n",
    "enm_all.fit(df_five_explanatory,df_five_response)\n",
    "enm_all.score(df_five_explanatory, df_five_response)"
   ]
  },
  {
   "cell_type": "code",
   "execution_count": 422,
   "metadata": {},
   "outputs": [
    {
     "data": {
      "text/html": [
       "<div>\n",
       "<style scoped>\n",
       "    .dataframe tbody tr th:only-of-type {\n",
       "        vertical-align: middle;\n",
       "    }\n",
       "\n",
       "    .dataframe tbody tr th {\n",
       "        vertical-align: top;\n",
       "    }\n",
       "\n",
       "    .dataframe thead th {\n",
       "        text-align: right;\n",
       "    }\n",
       "</style>\n",
       "<table border=\"1\" class=\"dataframe\">\n",
       "  <thead>\n",
       "    <tr style=\"text-align: right;\">\n",
       "      <th></th>\n",
       "      <th>enm_all</th>\n",
       "    </tr>\n",
       "  </thead>\n",
       "  <tbody>\n",
       "    <tr>\n",
       "      <th>EU_Sales</th>\n",
       "      <td>0.0</td>\n",
       "    </tr>\n",
       "    <tr>\n",
       "      <th>JP_Sales</th>\n",
       "      <td>0.0</td>\n",
       "    </tr>\n",
       "    <tr>\n",
       "      <th>Other_Sales</th>\n",
       "      <td>0.0</td>\n",
       "    </tr>\n",
       "    <tr>\n",
       "      <th>Year</th>\n",
       "      <td>-0.0</td>\n",
       "    </tr>\n",
       "  </tbody>\n",
       "</table>\n",
       "</div>"
      ],
      "text/plain": [
       "             enm_all\n",
       "EU_Sales         0.0\n",
       "JP_Sales         0.0\n",
       "Other_Sales      0.0\n",
       "Year            -0.0"
      ]
     },
     "execution_count": 422,
     "metadata": {},
     "output_type": "execute_result"
    }
   ],
   "source": [
    "df_slopes = pd.DataFrame({'enm_all':enm_all.coef_.T},index=df_five_explanatory.columns)\n",
    "df_slopes"
   ]
  },
  {
   "cell_type": "markdown",
   "metadata": {},
   "source": [
    "#### 3.2.2 One Non-Zero Slopes\n",
    "\n",
    "Find a value of $\\lambda$ in an elastic net model (which uses the scaled features matrix) with $\\alpha=0.9$ that will yield ONE non-zero slope. What explanatory variable corresponds to this non-zero slope?"
   ]
  },
  {
   "cell_type": "code",
   "execution_count": 429,
   "metadata": {},
   "outputs": [
    {
     "data": {
      "text/plain": [
       "0.00362356366953831"
      ]
     },
     "execution_count": 429,
     "metadata": {},
     "output_type": "execute_result"
    }
   ],
   "source": [
    "enm_1 = ElasticNet(alpha = .9, l1_ratio = 0.1)\n",
    "enm_1.fit(df_five_explanatory,df_five_response)\n",
    "enm_1.score(df_five_explanatory, df_five_response)"
   ]
  },
  {
   "cell_type": "code",
   "execution_count": 430,
   "metadata": {},
   "outputs": [
    {
     "data": {
      "text/html": [
       "<div>\n",
       "<style scoped>\n",
       "    .dataframe tbody tr th:only-of-type {\n",
       "        vertical-align: middle;\n",
       "    }\n",
       "\n",
       "    .dataframe tbody tr th {\n",
       "        vertical-align: top;\n",
       "    }\n",
       "\n",
       "    .dataframe thead th {\n",
       "        text-align: right;\n",
       "    }\n",
       "</style>\n",
       "<table border=\"1\" class=\"dataframe\">\n",
       "  <thead>\n",
       "    <tr style=\"text-align: right;\">\n",
       "      <th></th>\n",
       "      <th>enm_1</th>\n",
       "    </tr>\n",
       "  </thead>\n",
       "  <tbody>\n",
       "    <tr>\n",
       "      <th>EU_Sales</th>\n",
       "      <td>0.000000</td>\n",
       "    </tr>\n",
       "    <tr>\n",
       "      <th>JP_Sales</th>\n",
       "      <td>0.000000</td>\n",
       "    </tr>\n",
       "    <tr>\n",
       "      <th>Other_Sales</th>\n",
       "      <td>0.000000</td>\n",
       "    </tr>\n",
       "    <tr>\n",
       "      <th>Year</th>\n",
       "      <td>-0.003938</td>\n",
       "    </tr>\n",
       "  </tbody>\n",
       "</table>\n",
       "</div>"
      ],
      "text/plain": [
       "                enm_1\n",
       "EU_Sales     0.000000\n",
       "JP_Sales     0.000000\n",
       "Other_Sales  0.000000\n",
       "Year        -0.003938"
      ]
     },
     "execution_count": 430,
     "metadata": {},
     "output_type": "execute_result"
    }
   ],
   "source": [
    "df_slopes = pd.DataFrame({'enm_1':enm_1.coef_.T},index=df_five_explanatory.columns)\n",
    "df_slopes"
   ]
  },
  {
   "cell_type": "markdown",
   "metadata": {},
   "source": [
    "#### 3.2.3 Two Non-Zero Slopes\n",
    "\n",
    "Find a value of $\\lambda$ in an elastic net model (which uses the scaled features matrix) with $\\alpha=0.9$ that will yield TWO non-zero slopeS. What explanatory variableS corresponds to these non-zero slopes?"
   ]
  },
  {
   "cell_type": "code",
   "execution_count": 445,
   "metadata": {},
   "outputs": [
    {
     "data": {
      "text/plain": [
       "0.03419440106053373"
      ]
     },
     "execution_count": 445,
     "metadata": {},
     "output_type": "execute_result"
    }
   ],
   "source": [
    "enm_2 = ElasticNet(alpha = .9, l1_ratio = 0.04)\n",
    "enm_2.fit(df_five_explanatory,df_five_response)\n",
    "enm_2.score(df_five_explanatory, df_five_response)"
   ]
  },
  {
   "cell_type": "code",
   "execution_count": 446,
   "metadata": {},
   "outputs": [
    {
     "data": {
      "text/html": [
       "<div>\n",
       "<style scoped>\n",
       "    .dataframe tbody tr th:only-of-type {\n",
       "        vertical-align: middle;\n",
       "    }\n",
       "\n",
       "    .dataframe tbody tr th {\n",
       "        vertical-align: top;\n",
       "    }\n",
       "\n",
       "    .dataframe thead th {\n",
       "        text-align: right;\n",
       "    }\n",
       "</style>\n",
       "<table border=\"1\" class=\"dataframe\">\n",
       "  <thead>\n",
       "    <tr style=\"text-align: right;\">\n",
       "      <th></th>\n",
       "      <th>enm_2</th>\n",
       "    </tr>\n",
       "  </thead>\n",
       "  <tbody>\n",
       "    <tr>\n",
       "      <th>EU_Sales</th>\n",
       "      <td>0.000000</td>\n",
       "    </tr>\n",
       "    <tr>\n",
       "      <th>JP_Sales</th>\n",
       "      <td>0.000000</td>\n",
       "    </tr>\n",
       "    <tr>\n",
       "      <th>Other_Sales</th>\n",
       "      <td>0.052488</td>\n",
       "    </tr>\n",
       "    <tr>\n",
       "      <th>Year</th>\n",
       "      <td>-0.006440</td>\n",
       "    </tr>\n",
       "  </tbody>\n",
       "</table>\n",
       "</div>"
      ],
      "text/plain": [
       "                enm_2\n",
       "EU_Sales     0.000000\n",
       "JP_Sales     0.000000\n",
       "Other_Sales  0.052488\n",
       "Year        -0.006440"
      ]
     },
     "execution_count": 446,
     "metadata": {},
     "output_type": "execute_result"
    }
   ],
   "source": [
    "df_slopes = pd.DataFrame({'enm_2':enm_2.coef_.T},index=df_five_explanatory.columns)\n",
    "df_slopes"
   ]
  },
  {
   "cell_type": "markdown",
   "metadata": {},
   "source": [
    "#### 3.2.4 Three Non-Zero Slopes\n",
    "\n",
    "Find a value of $\\lambda$ in an elastic net model (which uses the scaled features matrix) with $\\alpha=0.9$ that will yield THREE non-zero slopes. What explanatory variables corresponds to these non-zero slopes?"
   ]
  },
  {
   "cell_type": "code",
   "execution_count": 447,
   "metadata": {},
   "outputs": [
    {
     "data": {
      "text/plain": [
       "0.04600673440813641"
      ]
     },
     "execution_count": 447,
     "metadata": {},
     "output_type": "execute_result"
    }
   ],
   "source": [
    "enm_3 = ElasticNet(alpha = .9, l1_ratio = 0.02)\n",
    "enm_3.fit(df_five_explanatory,df_five_response)\n",
    "enm_3.score(df_five_explanatory, df_five_response)"
   ]
  },
  {
   "cell_type": "code",
   "execution_count": 449,
   "metadata": {},
   "outputs": [
    {
     "data": {
      "text/html": [
       "<div>\n",
       "<style scoped>\n",
       "    .dataframe tbody tr th:only-of-type {\n",
       "        vertical-align: middle;\n",
       "    }\n",
       "\n",
       "    .dataframe tbody tr th {\n",
       "        vertical-align: top;\n",
       "    }\n",
       "\n",
       "    .dataframe thead th {\n",
       "        text-align: right;\n",
       "    }\n",
       "</style>\n",
       "<table border=\"1\" class=\"dataframe\">\n",
       "  <thead>\n",
       "    <tr style=\"text-align: right;\">\n",
       "      <th></th>\n",
       "      <th>enm_3</th>\n",
       "    </tr>\n",
       "  </thead>\n",
       "  <tbody>\n",
       "    <tr>\n",
       "      <th>EU_Sales</th>\n",
       "      <td>0.000000</td>\n",
       "    </tr>\n",
       "    <tr>\n",
       "      <th>JP_Sales</th>\n",
       "      <td>0.008629</td>\n",
       "    </tr>\n",
       "    <tr>\n",
       "      <th>Other_Sales</th>\n",
       "      <td>0.070867</td>\n",
       "    </tr>\n",
       "    <tr>\n",
       "      <th>Year</th>\n",
       "      <td>-0.007237</td>\n",
       "    </tr>\n",
       "  </tbody>\n",
       "</table>\n",
       "</div>"
      ],
      "text/plain": [
       "                enm_3\n",
       "EU_Sales     0.000000\n",
       "JP_Sales     0.008629\n",
       "Other_Sales  0.070867\n",
       "Year        -0.007237"
      ]
     },
     "execution_count": 449,
     "metadata": {},
     "output_type": "execute_result"
    }
   ],
   "source": [
    "df_slopes = pd.DataFrame({'enm_3':enm_3.coef_.T},index=df_five_explanatory.columns)\n",
    "df_slopes"
   ]
  },
  {
   "cell_type": "markdown",
   "metadata": {},
   "source": [
    "### 3.3. Interpretation\n",
    "\n",
    "When using a scale features matrix in an elastic net model with an $\\alpha=0.9$, which explanatory variable is determined to bring:\n",
    "* the most predictive power to the model, \n",
    "* the second most predictive power to the model, \n",
    "* the third most predictive power to the model, \n",
    "* the fourth most predictive power to the model?"
   ]
  },
  {
   "cell_type": "markdown",
   "metadata": {},
   "source": [
    "The most predictive power: Year 2nd most: JP_Sales 3rd most: Other_Sales 4th most: EU_Sales"
   ]
  },
  {
   "cell_type": "markdown",
   "metadata": {},
   "source": [
    "## 4. Elastic Net Models with Scales Features Matrix\n",
    "\n",
    "Now let's build a few elastic net models with an $\\alpha=0.9$, and a *scaled* features matrix in which the `EU_Sales` variable has been additionally \"downweighted\". EU_Sales was deemed to bring a high amount of predictive power to the models in #2 and #3. Will it continue to do so when it's scale has been \"downweighted\"?\n",
    "\n",
    "### 4.1. Downweighting the the EU_Sales Variable\n",
    "\n",
    "Now, take your scaled features matrix and multiply the `EU_Sales` variable by 0.001."
   ]
  },
  {
   "cell_type": "code",
   "execution_count": 450,
   "metadata": {},
   "outputs": [],
   "source": [
    "df_five_explanatory['EU_Sales'] = df_five_explanatory['EU_Sales'] * 0.001"
   ]
  },
  {
   "cell_type": "markdown",
   "metadata": {},
   "source": [
    "### 4.2. Explanatory Variable Important in an Elastic Net Model\n",
    "\n",
    "#### 4.2.1 All Zero Slopes\n",
    "\n",
    "First, find a value of $\\lambda$ in an elastic net model (which uses this new features matrix) with $\\alpha=0.9$ that will yield ALL slopes being equal to 0."
   ]
  },
  {
   "cell_type": "code",
   "execution_count": null,
   "metadata": {},
   "outputs": [],
   "source": []
  },
  {
   "cell_type": "code",
   "execution_count": 394,
   "metadata": {},
   "outputs": [
    {
     "data": {
      "text/plain": [
       "0.0"
      ]
     },
     "execution_count": 394,
     "metadata": {},
     "output_type": "execute_result"
    }
   ],
   "source": [
    "second_enm_all = ElasticNet(alpha=0.9, l1_ratio=0.3)\n",
    "second_enm_all.fit(df_five_explanatory,df_five_response)\n",
    "second_enm_all.score(df_five_explanatory, df_five_response)"
   ]
  },
  {
   "cell_type": "code",
   "execution_count": 395,
   "metadata": {},
   "outputs": [
    {
     "data": {
      "text/html": [
       "<div>\n",
       "<style scoped>\n",
       "    .dataframe tbody tr th:only-of-type {\n",
       "        vertical-align: middle;\n",
       "    }\n",
       "\n",
       "    .dataframe tbody tr th {\n",
       "        vertical-align: top;\n",
       "    }\n",
       "\n",
       "    .dataframe thead th {\n",
       "        text-align: right;\n",
       "    }\n",
       "</style>\n",
       "<table border=\"1\" class=\"dataframe\">\n",
       "  <thead>\n",
       "    <tr style=\"text-align: right;\">\n",
       "      <th></th>\n",
       "      <th>second_enm_all</th>\n",
       "    </tr>\n",
       "  </thead>\n",
       "  <tbody>\n",
       "    <tr>\n",
       "      <th>EU_Sales</th>\n",
       "      <td>0.0</td>\n",
       "    </tr>\n",
       "    <tr>\n",
       "      <th>JP_Sales</th>\n",
       "      <td>0.0</td>\n",
       "    </tr>\n",
       "    <tr>\n",
       "      <th>Other_Sales</th>\n",
       "      <td>0.0</td>\n",
       "    </tr>\n",
       "    <tr>\n",
       "      <th>Year</th>\n",
       "      <td>-0.0</td>\n",
       "    </tr>\n",
       "  </tbody>\n",
       "</table>\n",
       "</div>"
      ],
      "text/plain": [
       "             second_enm_all\n",
       "EU_Sales                0.0\n",
       "JP_Sales                0.0\n",
       "Other_Sales             0.0\n",
       "Year                   -0.0"
      ]
     },
     "execution_count": 395,
     "metadata": {},
     "output_type": "execute_result"
    }
   ],
   "source": [
    "df_slopes = pd.DataFrame({'second_enm_all':second_enm_all.coef_.T},index=df_five_explanatory.columns)\n",
    "df_slopes"
   ]
  },
  {
   "cell_type": "markdown",
   "metadata": {},
   "source": [
    "#### 4.2.2 One Non-Zero Slopes\n",
    "\n",
    "Find a value of $\\lambda$ in an elastic net model (which uses this new features matrix) with $\\alpha=0.9$ that will yield ONE non-zero slope. What explanatory variable corresponds to this non-zero slope?"
   ]
  },
  {
   "cell_type": "code",
   "execution_count": 402,
   "metadata": {},
   "outputs": [
    {
     "data": {
      "text/plain": [
       "0.00362356366953831"
      ]
     },
     "execution_count": 402,
     "metadata": {},
     "output_type": "execute_result"
    }
   ],
   "source": [
    "second_enm_one = ElasticNet(alpha=0.9, l1_ratio=0.1)\n",
    "second_enm_one.fit(df_five_explanatory,df_five_response)\n",
    "second_enm_one.score(df_five_explanatory, df_five_response)"
   ]
  },
  {
   "cell_type": "code",
   "execution_count": 403,
   "metadata": {},
   "outputs": [
    {
     "data": {
      "text/html": [
       "<div>\n",
       "<style scoped>\n",
       "    .dataframe tbody tr th:only-of-type {\n",
       "        vertical-align: middle;\n",
       "    }\n",
       "\n",
       "    .dataframe tbody tr th {\n",
       "        vertical-align: top;\n",
       "    }\n",
       "\n",
       "    .dataframe thead th {\n",
       "        text-align: right;\n",
       "    }\n",
       "</style>\n",
       "<table border=\"1\" class=\"dataframe\">\n",
       "  <thead>\n",
       "    <tr style=\"text-align: right;\">\n",
       "      <th></th>\n",
       "      <th>second_enm_one</th>\n",
       "    </tr>\n",
       "  </thead>\n",
       "  <tbody>\n",
       "    <tr>\n",
       "      <th>EU_Sales</th>\n",
       "      <td>0.000000</td>\n",
       "    </tr>\n",
       "    <tr>\n",
       "      <th>JP_Sales</th>\n",
       "      <td>0.000000</td>\n",
       "    </tr>\n",
       "    <tr>\n",
       "      <th>Other_Sales</th>\n",
       "      <td>0.000000</td>\n",
       "    </tr>\n",
       "    <tr>\n",
       "      <th>Year</th>\n",
       "      <td>-0.003938</td>\n",
       "    </tr>\n",
       "  </tbody>\n",
       "</table>\n",
       "</div>"
      ],
      "text/plain": [
       "             second_enm_one\n",
       "EU_Sales           0.000000\n",
       "JP_Sales           0.000000\n",
       "Other_Sales        0.000000\n",
       "Year              -0.003938"
      ]
     },
     "execution_count": 403,
     "metadata": {},
     "output_type": "execute_result"
    }
   ],
   "source": [
    "df_slopes = pd.DataFrame({'second_enm_one':second_enm_one.coef_.T},index=df_five_explanatory.columns)\n",
    "df_slopes"
   ]
  },
  {
   "cell_type": "markdown",
   "metadata": {},
   "source": [
    "#### 4.2.3 Two Non-Zero Slopes\n",
    "\n",
    "Find a value of $\\lambda$ in an elastic net model (which uses this new features matrix) with $\\alpha=0.9$ that will yield TWO non-zero slopeS. What explanatory variableS corresponds to these non-zero slopes?"
   ]
  },
  {
   "cell_type": "code",
   "execution_count": 415,
   "metadata": {},
   "outputs": [
    {
     "data": {
      "text/plain": [
       "0.03944886701331907"
      ]
     },
     "execution_count": 415,
     "metadata": {},
     "output_type": "execute_result"
    }
   ],
   "source": [
    "second_enm_two = ElasticNet(alpha=0.9, l1_ratio=0.03)\n",
    "second_enm_two.fit(df_five_explanatory,df_five_response)\n",
    "second_enm_two.score(df_five_explanatory, df_five_response)"
   ]
  },
  {
   "cell_type": "code",
   "execution_count": 416,
   "metadata": {},
   "outputs": [
    {
     "data": {
      "text/html": [
       "<div>\n",
       "<style scoped>\n",
       "    .dataframe tbody tr th:only-of-type {\n",
       "        vertical-align: middle;\n",
       "    }\n",
       "\n",
       "    .dataframe tbody tr th {\n",
       "        vertical-align: top;\n",
       "    }\n",
       "\n",
       "    .dataframe thead th {\n",
       "        text-align: right;\n",
       "    }\n",
       "</style>\n",
       "<table border=\"1\" class=\"dataframe\">\n",
       "  <thead>\n",
       "    <tr style=\"text-align: right;\">\n",
       "      <th></th>\n",
       "      <th>second_enm_two</th>\n",
       "    </tr>\n",
       "  </thead>\n",
       "  <tbody>\n",
       "    <tr>\n",
       "      <th>EU_Sales</th>\n",
       "      <td>0.000000</td>\n",
       "    </tr>\n",
       "    <tr>\n",
       "      <th>JP_Sales</th>\n",
       "      <td>0.000000</td>\n",
       "    </tr>\n",
       "    <tr>\n",
       "      <th>Other_Sales</th>\n",
       "      <td>0.061817</td>\n",
       "    </tr>\n",
       "    <tr>\n",
       "      <th>Year</th>\n",
       "      <td>-0.006856</td>\n",
       "    </tr>\n",
       "  </tbody>\n",
       "</table>\n",
       "</div>"
      ],
      "text/plain": [
       "             second_enm_two\n",
       "EU_Sales           0.000000\n",
       "JP_Sales           0.000000\n",
       "Other_Sales        0.061817\n",
       "Year              -0.006856"
      ]
     },
     "execution_count": 416,
     "metadata": {},
     "output_type": "execute_result"
    }
   ],
   "source": [
    "df_slopes = pd.DataFrame({'second_enm_two':second_enm_two.coef_.T},index=df_five_explanatory.columns)\n",
    "df_slopes"
   ]
  },
  {
   "cell_type": "markdown",
   "metadata": {},
   "source": [
    "#### 4.2.4 Three Non-Zero Slopes\n",
    "\n",
    "Find a value of $\\lambda$ in an elastic net model (which uses this new features matrix) with $\\alpha=0.9$ that will yield THREE non-zero slopes. What explanatory variables corresponds to these non-zero slopes?"
   ]
  },
  {
   "cell_type": "code",
   "execution_count": 417,
   "metadata": {},
   "outputs": [
    {
     "data": {
      "text/plain": [
       "0.052552240450048804"
      ]
     },
     "execution_count": 417,
     "metadata": {},
     "output_type": "execute_result"
    }
   ],
   "source": [
    "second_enm_three = ElasticNet(alpha=0.9, l1_ratio=0.01)\n",
    "second_enm_three.fit(df_five_explanatory,df_five_response)\n",
    "second_enm_three.score(df_five_explanatory, df_five_response)"
   ]
  },
  {
   "cell_type": "code",
   "execution_count": 418,
   "metadata": {},
   "outputs": [
    {
     "data": {
      "text/html": [
       "<div>\n",
       "<style scoped>\n",
       "    .dataframe tbody tr th:only-of-type {\n",
       "        vertical-align: middle;\n",
       "    }\n",
       "\n",
       "    .dataframe tbody tr th {\n",
       "        vertical-align: top;\n",
       "    }\n",
       "\n",
       "    .dataframe thead th {\n",
       "        text-align: right;\n",
       "    }\n",
       "</style>\n",
       "<table border=\"1\" class=\"dataframe\">\n",
       "  <thead>\n",
       "    <tr style=\"text-align: right;\">\n",
       "      <th></th>\n",
       "      <th>second_enm_three</th>\n",
       "    </tr>\n",
       "  </thead>\n",
       "  <tbody>\n",
       "    <tr>\n",
       "      <th>EU_Sales</th>\n",
       "      <td>0.000000</td>\n",
       "    </tr>\n",
       "    <tr>\n",
       "      <th>JP_Sales</th>\n",
       "      <td>0.018198</td>\n",
       "    </tr>\n",
       "    <tr>\n",
       "      <th>Other_Sales</th>\n",
       "      <td>0.079734</td>\n",
       "    </tr>\n",
       "    <tr>\n",
       "      <th>Year</th>\n",
       "      <td>-0.007613</td>\n",
       "    </tr>\n",
       "  </tbody>\n",
       "</table>\n",
       "</div>"
      ],
      "text/plain": [
       "             second_enm_three\n",
       "EU_Sales             0.000000\n",
       "JP_Sales             0.018198\n",
       "Other_Sales          0.079734\n",
       "Year                -0.007613"
      ]
     },
     "execution_count": 418,
     "metadata": {},
     "output_type": "execute_result"
    }
   ],
   "source": [
    "df_slopes = pd.DataFrame({'second_enm_three':second_enm_three.coef_.T},index=df_five_explanatory.columns)\n",
    "df_slopes"
   ]
  },
  {
   "cell_type": "markdown",
   "metadata": {},
   "source": [
    "### 4.3. Interpretation\n",
    "\n",
    "When using this new features matrix in an elastic net model with an $\\alpha=0.9$, which explanatory variable is determined to bring:\n",
    "* the most predictive power to the model, \n",
    "* the second most predictive power to the model, \n",
    "* the third most predictive power to the model, \n",
    "* the fourth most predictive power to the model?"
   ]
  },
  {
   "cell_type": "markdown",
   "metadata": {},
   "source": [
    "Most Predicitive: Year, Second: Other_Sales, Third: JP_Sales, Fourth: EU_Sales"
   ]
  },
  {
   "cell_type": "markdown",
   "metadata": {},
   "source": [
    "## 5. Learning Outcome\n",
    "\n",
    "Do you think that the scale of the explanatory variables in the features matrix influences which explanatory variables are deemed to bring  \"enough\" predictive power to a regularization model?"
   ]
  },
  {
   "cell_type": "markdown",
   "metadata": {},
   "source": [
    "Yes, the scale of explanatory variables in a feature matrix can influence the performance and behavior of regularization models depending on the amount of predictive power they bring. "
   ]
  },
  {
   "cell_type": "markdown",
   "metadata": {},
   "source": [
    "## <u>Tip</u>\n",
    "\n",
    "**If you plan to use a regularization model to interpret how much predictive power a given explanatory brings to a model, you should scale your explanatory variables first if they do not have relatively similar standard deviations!**"
   ]
  }
 ],
 "metadata": {
  "kernelspec": {
   "display_name": "Python 3 (ipykernel)",
   "language": "python",
   "name": "python3"
  },
  "language_info": {
   "codemirror_mode": {
    "name": "ipython",
    "version": 3
   },
   "file_extension": ".py",
   "mimetype": "text/x-python",
   "name": "python",
   "nbconvert_exporter": "python",
   "pygments_lexer": "ipython3",
   "version": "3.11.4"
  }
 },
 "nbformat": 4,
 "nbformat_minor": 2
}
