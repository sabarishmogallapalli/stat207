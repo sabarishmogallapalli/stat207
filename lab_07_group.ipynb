{
 "cells": [
  {
   "cell_type": "markdown",
   "metadata": {},
   "source": [
    "# STAT 207 Lab Assignment 7 - Group Part\n"
   ]
  },
  {
   "cell_type": "markdown",
   "metadata": {},
   "source": [
    "## <u>Case Study</u>: Impact of Genre on Song Metric Importance in Predicting Popularity\n",
    "\n",
    "The dataset that we will analyze in this group assignment is comprised of information about the top 100 songs of each year on Spotify from 2010 to 2019. Each row contains the following information about a particular song.\n",
    "\n",
    "* `title`\tSong's Title\n",
    "* `artist`\tSong's artist\n",
    "* `genre`\tGenre of song\n",
    "* `pop`\tPopularity of the song (not a ranking)\n",
    "* `bpm`\tBeats Per Minute - The tempo of the song\n",
    "* `nrgy`\tEnergy - How energetic the song is\n",
    "* `dnce`\tDanceability - How easy it is to dance to the song\n",
    "* `dB`\tDecibel - How loud the song is\n",
    "* `live`\tHow likely the song is a live recording\n",
    "* `val`\tHow positive the mood of the song is\n",
    "* `dur`\tDuration of the song\n",
    "* `acous`\tHow acoustic the song is\n",
    "* `spch`\tThe more the song is focused on spoken word\n",
    "\n",
    "\n",
    "**This dataset has no missing values**.\n",
    "\n",
    "\n",
    "## Research Goal\n",
    "\n",
    "1. First you get to pick two popular song genres in this dataset.\n",
    "2. Then, we'd like to determine and compare what the top three most important `song metrics` are when it comes to predicting the `popularity` of songs for these two different genres.\n",
    "\n",
    "## Points\n",
    "\n",
    "<p>&nbsp;</p>\n",
    "<table style=\"border: none;border-collapse: collapse;width:102pt;\">\n",
    "    <tbody>\n",
    "        <tr>\n",
    "            <td style=\"color:black;font-size:15px;font-weight:700;font-style:normal;text-decoration:none;font-family:Calibri, sans-serif;text-align:general;vertical-align:bottom;border:.5pt solid windowtext;height:14.25pt;width:51pt;\">Problem</td>\n",
    "            <td style=\"color:black;font-size:15px;font-weight:700;font-style:normal;text-decoration:none;font-family:Calibri, sans-serif;text-align:general;vertical-align:bottom;border:.5pt solid windowtext;border-left:none;width:51pt;\">Points</td>\n",
    "        </tr>\n",
    "        <tr>\n",
    "            <td style=\"color:black;font-size:15px;font-weight:400;font-style:normal;text-decoration:none;font-family:Calibri, sans-serif;text-align:right;vertical-align:bottom;border:.5pt solid windowtext;height:14.25pt;border-top:none;\">1.1</td>\n",
    "            <td style=\"color:black;font-size:15px;font-weight:400;font-style:normal;text-decoration:none;font-family:Calibri, sans-serif;text-align:right;vertical-align:bottom;border:.5pt solid windowtext;border-top:none;border-left:none;\">0.25</td>\n",
    "        </tr>\n",
    "        <tr>\n",
    "            <td style=\"color:black;font-size:15px;font-weight:400;font-style:normal;text-decoration:none;font-family:Calibri, sans-serif;text-align:right;vertical-align:bottom;border:.5pt solid windowtext;height:14.25pt;border-top:none;\">1.2</td>\n",
    "            <td style=\"color:black;font-size:15px;font-weight:400;font-style:normal;text-decoration:none;font-family:Calibri, sans-serif;text-align:right;vertical-align:bottom;border:.5pt solid windowtext;border-top:none;border-left:none;\">0.75</td>\n",
    "        </tr>\n",
    "        <tr>\n",
    "            <td style=\"color:black;font-size:15px;font-weight:400;font-style:normal;text-decoration:none;font-family:Calibri, sans-serif;text-align:right;vertical-align:bottom;border:.5pt solid windowtext;height:14.25pt;border-top:none;\">1.3</td>\n",
    "            <td style=\"color:black;font-size:15px;font-weight:400;font-style:normal;text-decoration:none;font-family:Calibri, sans-serif;text-align:right;vertical-align:bottom;border:.5pt solid windowtext;border-top:none;border-left:none;\">0.75</td>\n",
    "        </tr>\n",
    "        <tr>\n",
    "            <td style=\"color:black;font-size:15px;font-weight:400;font-style:normal;text-decoration:none;font-family:Calibri, sans-serif;text-align:right;vertical-align:bottom;border:.5pt solid windowtext;height:14.25pt;border-top:none;\">2.1</td>\n",
    "            <td style=\"color:black;font-size:15px;font-weight:400;font-style:normal;text-decoration:none;font-family:Calibri, sans-serif;text-align:right;vertical-align:bottom;border:.5pt solid windowtext;border-top:none;border-left:none;\">0.75</td>\n",
    "        </tr>\n",
    "        <tr>\n",
    "            <td style=\"color:black;font-size:15px;font-weight:400;font-style:normal;text-decoration:none;font-family:Calibri, sans-serif;text-align:right;vertical-align:bottom;border:.5pt solid windowtext;height:14.25pt;border-top:none;\">2.2</td>\n",
    "            <td style=\"color:black;font-size:15px;font-weight:400;font-style:normal;text-decoration:none;font-family:Calibri, sans-serif;text-align:right;vertical-align:bottom;border:.5pt solid windowtext;border-top:none;border-left:none;\">0.75</td>\n",
    "        </tr>\n",
    "        <tr>\n",
    "            <td style=\"color:black;font-size:15px;font-weight:400;font-style:normal;text-decoration:none;font-family:Calibri, sans-serif;text-align:right;vertical-align:bottom;border:.5pt solid windowtext;height:14.25pt;border-top:none;\">2.3</td>\n",
    "            <td style=\"color:black;font-size:15px;font-weight:400;font-style:normal;text-decoration:none;font-family:Calibri, sans-serif;text-align:right;vertical-align:bottom;border:.5pt solid windowtext;border-top:none;border-left:none;\">0.75</td>\n",
    "        </tr>\n",
    "        <tr>\n",
    "            <td style=\"color:black;font-size:15px;font-weight:400;font-style:normal;text-decoration:none;font-family:Calibri, sans-serif;text-align:right;vertical-align:bottom;border:.5pt solid windowtext;height:14.25pt;border-top:none;\">2.4</td>\n",
    "            <td style=\"color:black;font-size:15px;font-weight:400;font-style:normal;text-decoration:none;font-family:Calibri, sans-serif;text-align:right;vertical-align:bottom;border:.5pt solid windowtext;border-top:none;border-left:none;\">0.75</td>\n",
    "        </tr>\n",
    "        <tr>\n",
    "            <td style=\"color:black;font-size:15px;font-weight:400;font-style:normal;text-decoration:none;font-family:Calibri, sans-serif;text-align:right;vertical-align:bottom;border:.5pt solid windowtext;height:14.25pt;border-top:none;\">2.5</td>\n",
    "            <td style=\"color:black;font-size:15px;font-weight:400;font-style:normal;text-decoration:none;font-family:Calibri, sans-serif;text-align:right;vertical-align:bottom;border:.5pt solid windowtext;border-top:none;border-left:none;\">0.75</td>\n",
    "        </tr>\n",
    "        <tr>\n",
    "            <td style=\"color:black;font-size:15px;font-weight:400;font-style:normal;text-decoration:none;font-family:Calibri, sans-serif;text-align:right;vertical-align:bottom;border:.5pt solid windowtext;height:14.25pt;border-top:none;\">2.6</td>\n",
    "            <td style=\"color:black;font-size:15px;font-weight:400;font-style:normal;text-decoration:none;font-family:Calibri, sans-serif;text-align:right;vertical-align:bottom;border:.5pt solid windowtext;border-top:none;border-left:none;\">0.75</td>\n",
    "        </tr>\n",
    "        <tr>\n",
    "            <td style=\"color:black;font-size:15px;font-weight:400;font-style:normal;text-decoration:none;font-family:Calibri, sans-serif;text-align:right;vertical-align:bottom;border:.5pt solid windowtext;height:14.25pt;border-top:none;\">3.1</td>\n",
    "            <td style=\"color:black;font-size:15px;font-weight:400;font-style:normal;text-decoration:none;font-family:Calibri, sans-serif;text-align:right;vertical-align:bottom;border:.5pt solid windowtext;border-top:none;border-left:none;\">0.75</td>\n",
    "        </tr>\n",
    "        <tr>\n",
    "            <td style=\"color:black;font-size:15px;font-weight:400;font-style:normal;text-decoration:none;font-family:Calibri, sans-serif;text-align:right;vertical-align:bottom;border:.5pt solid windowtext;height:14.25pt;border-top:none;\">3.2</td>\n",
    "            <td style=\"color:black;font-size:15px;font-weight:400;font-style:normal;text-decoration:none;font-family:Calibri, sans-serif;text-align:right;vertical-align:bottom;border:.5pt solid windowtext;border-top:none;border-left:none;\">0.75</td>\n",
    "        </tr>\n",
    "        <tr>\n",
    "            <td style=\"color:black;font-size:15px;font-weight:400;font-style:normal;text-decoration:none;font-family:Calibri, sans-serif;text-align:right;vertical-align:bottom;border:.5pt solid windowtext;height:14.25pt;border-top:none;\">3.3</td>\n",
    "            <td style=\"color:black;font-size:15px;font-weight:400;font-style:normal;text-decoration:none;font-family:Calibri, sans-serif;text-align:right;vertical-align:bottom;border:.5pt solid windowtext;border-top:none;border-left:none;\">0.75</td>\n",
    "        </tr>\n",
    "        <tr>\n",
    "            <td style=\"color:black;font-size:15px;font-weight:400;font-style:normal;text-decoration:none;font-family:Calibri, sans-serif;text-align:right;vertical-align:bottom;border:.5pt solid windowtext;height:14.25pt;border-top:none;\">3.4</td>\n",
    "            <td style=\"color:black;font-size:15px;font-weight:400;font-style:normal;text-decoration:none;font-family:Calibri, sans-serif;text-align:right;vertical-align:bottom;border:.5pt solid windowtext;border-top:none;border-left:none;\">0.75</td>\n",
    "        </tr>\n",
    "        <tr>\n",
    "            <td style=\"color:black;font-size:15px;font-weight:400;font-style:normal;text-decoration:none;font-family:Calibri, sans-serif;text-align:right;vertical-align:bottom;border:.5pt solid windowtext;height:14.25pt;border-top:none;\">4</td>\n",
    "            <td style=\"color:black;font-size:15px;font-weight:400;font-style:normal;text-decoration:none;font-family:Calibri, sans-serif;text-align:right;vertical-align:bottom;border:.5pt solid windowtext;border-top:none;border-left:none;\">0.75</td>\n",
    "        </tr>\n",
    "    </tbody>\n",
    "</table>\n",
    "\n"
   ]
  },
  {
   "cell_type": "code",
   "execution_count": null,
   "metadata": {},
   "outputs": [],
   "source": []
  },
  {
   "cell_type": "markdown",
   "metadata": {},
   "source": [
    "## 1. Dataset Exploration\n",
    "\n",
    "### 1.1. Dataset\n",
    "\n",
    "1. Read the `top_spotify.csv` file into a dataframe.\n",
    "2. Show the first five rows.\n",
    "3. Show how many rows are in the dataframe."
   ]
  },
  {
   "cell_type": "code",
   "execution_count": null,
   "metadata": {},
   "outputs": [],
   "source": []
  },
  {
   "cell_type": "code",
   "execution_count": null,
   "metadata": {},
   "outputs": [],
   "source": []
  },
  {
   "cell_type": "markdown",
   "metadata": {},
   "source": [
    "### 1.2. Genres with Larger Sample Sizes\n",
    "\n",
    "Suppose we would only like to consider genres in this dataset that have at least 20 songs. Create a **list** (or Index() object) of song genres that have at least 20 songs in this dataset."
   ]
  },
  {
   "cell_type": "code",
   "execution_count": null,
   "metadata": {},
   "outputs": [],
   "source": []
  },
  {
   "cell_type": "code",
   "execution_count": null,
   "metadata": {},
   "outputs": [],
   "source": []
  },
  {
   "cell_type": "code",
   "execution_count": null,
   "metadata": {},
   "outputs": [],
   "source": []
  },
  {
   "cell_type": "markdown",
   "metadata": {},
   "source": [
    "### 1.3. Picking Two Genres\n",
    "\n",
    "1. Next pick two genres from this list that you'd like to explore. \n",
    "2. Then create two dataframes from your original dataframe: a.) one that is comprised of songs songs from the first genre, b.) the other that is comprised of songs from the second genre."
   ]
  },
  {
   "cell_type": "code",
   "execution_count": null,
   "metadata": {},
   "outputs": [],
   "source": []
  },
  {
   "cell_type": "code",
   "execution_count": null,
   "metadata": {},
   "outputs": [],
   "source": []
  },
  {
   "cell_type": "markdown",
   "metadata": {},
   "source": [
    "## 2. First Genre Analysis\n",
    "\n",
    "First, we'd like to fit a *type of* linear regression model that predicts a songs `popularity` using the following explanatory variables for `just your genre 1 songs`:\n",
    "* `bpm`\tBeats Per Minute - The tempo of the song\n",
    "* `nrgy`\tEnergy - How energetic the song is\n",
    "* `dnce`\tDanceability - How easy it is to dance to the song\n",
    "* `dB`\tDecibel - How loud the song is\n",
    "* `live`\tHow likely the song is a live recording\n",
    "* `val`\tHow positive the mood of the song is\n",
    "* `dur`\tDuration of the song\n",
    "* `acous`\tHow acoustic the song is\n",
    "* `spch`\tThe more the song is focused on spoken word\n",
    "\n",
    "HOWEVER, we'd ALSO like to determine HOW IMPORTANT each of these explanatory variables are when it comes to predicting song `popularity`.\n",
    "\n",
    "### 2.1. Song Metric Standard Deviations\n",
    "\n",
    "First, calculate the standard deviation of each of our song metric explanatory variables for `just your genre 1 songs`\n",
    "\n",
    "* `bpm`\tBeats Per Minute - The tempo of the song\n",
    "* `nrgy`\tEnergy - How energetic the song is\n",
    "* `dnce`\tDanceability - How easy it is to dance to the song\n",
    "* `dB`\tDecibel - How loud the song is\n",
    "* `live`\tHow likely the song is a live recording\n",
    "* `val`\tHow positive the mood of the song is\n",
    "* `dur`\tDuration of the song\n",
    "* `acous`\tHow acoustic the song is\n",
    "* `spch`\tThe more the song is focused on spoken word"
   ]
  },
  {
   "cell_type": "code",
   "execution_count": null,
   "metadata": {},
   "outputs": [],
   "source": []
  },
  {
   "cell_type": "markdown",
   "metadata": {},
   "source": [
    "### 2.2. Usability of an *Unscaled* Linear Regression Model\n",
    "\n",
    "Suppose we were to just simply fit a linear regression model that predicts song `popularity` with your `first genre dataset` given the UNSCALED versions of our song metric explanatory variables. Would we be able to interpret the absolute value of the resulting slopes as an indication of how IMPORTANT the corresponding explanatory variables were when it comes to predicting `popularity` of songs from the `first genre dataset`? Explain."
   ]
  },
  {
   "cell_type": "markdown",
   "metadata": {},
   "source": []
  },
  {
   "cell_type": "markdown",
   "metadata": {},
   "source": [
    "### 2.3. z-Score Scaling the Explanatory Variables\n",
    "\n",
    "Next, scale each of your explanatory variables in your `first genre dataset` using the z-score scaling method that we discussed in class."
   ]
  },
  {
   "cell_type": "code",
   "execution_count": null,
   "metadata": {},
   "outputs": [],
   "source": []
  },
  {
   "cell_type": "code",
   "execution_count": null,
   "metadata": {
    "scrolled": false
   },
   "outputs": [],
   "source": []
  },
  {
   "cell_type": "markdown",
   "metadata": {},
   "source": [
    "### 2.4. Linear Regression Model with the Scaled Explanatory Variables\n",
    "\n",
    "Next, fit a linear regression model with your `first genre dataset`, predicting `popularity` with each of your 9 *scaled song metric explanatory variables*."
   ]
  },
  {
   "cell_type": "code",
   "execution_count": null,
   "metadata": {},
   "outputs": [],
   "source": []
  },
  {
   "cell_type": "markdown",
   "metadata": {},
   "source": [
    "### 2.5. Top 3 Most Important Song Metrics\n",
    "\n",
    "What are the three most important song metrics when it comes to predicting song popularity for the `genre 1` songs in this dataset with a linear regression model? Explain."
   ]
  },
  {
   "cell_type": "markdown",
   "metadata": {},
   "source": []
  },
  {
   "cell_type": "markdown",
   "metadata": {},
   "source": [
    "### 2.6. Complicating Effect of Multicollinearity\n",
    "\n",
    "Don't forget that when a linear regression model has issues with multicollinearity, our interpretations of the resulting slopes can be misleading and not reflect the relationships that exist between the explanatory variables and the response variable in our training dataset. This slope interpretation complication also holds for explanatory variables that have been scaled.\n",
    "\n",
    "Does our linear regression model have an issue with multicollinearity? Explain."
   ]
  },
  {
   "cell_type": "markdown",
   "metadata": {},
   "source": []
  },
  {
   "cell_type": "code",
   "execution_count": null,
   "metadata": {},
   "outputs": [],
   "source": []
  },
  {
   "cell_type": "code",
   "execution_count": null,
   "metadata": {},
   "outputs": [],
   "source": []
  },
  {
   "cell_type": "markdown",
   "metadata": {},
   "source": [
    "## 3. Second Genre Analysis\n",
    "\n",
    "Next, we'd like to fit a *type of* linear regression model that predicts a songs `popularity` using the following explanatory variables for `just your genre 2 songs`:\n",
    "* `bpm`\tBeats Per Minute - The tempo of the song\n",
    "* `nrgy`\tEnergy - How energetic the song is\n",
    "* `dnce`\tDanceability - How easy it is to dance to the song\n",
    "* `dB`\tDecibel - How loud the song is\n",
    "* `live`\tHow likely the song is a live recording\n",
    "* `val`\tHow positive the mood of the song is\n",
    "* `dur`\tDuration of the song\n",
    "* `acous`\tHow acoustic the song is\n",
    "* `spch`\tThe more the song is focused on spoken word\n",
    "\n",
    "HOWEVER, we'd ALSO like to determine HOW IMPORTANT each of these explanatory variables are when it comes to predicting song `popularity`.\n"
   ]
  },
  {
   "cell_type": "markdown",
   "metadata": {},
   "source": [
    "### 3.1 z-Score Scaling the Explanatory Variables\n",
    "\n",
    "Next, scale each of your explanatory variables in your `second genre dataset` using the z-score scaling method that we discussed in class."
   ]
  },
  {
   "cell_type": "code",
   "execution_count": null,
   "metadata": {},
   "outputs": [],
   "source": []
  },
  {
   "cell_type": "code",
   "execution_count": null,
   "metadata": {
    "scrolled": false
   },
   "outputs": [],
   "source": []
  },
  {
   "cell_type": "markdown",
   "metadata": {},
   "source": [
    "### 3.2 Linear Regression Model with the Scaled Explanatory Variables\n",
    "\n",
    "Next, fit a linear regression model with your `second genre dataset`, predicting `popularity` with each of your 9 *scaled song metric explanatory variables*."
   ]
  },
  {
   "cell_type": "code",
   "execution_count": null,
   "metadata": {},
   "outputs": [],
   "source": []
  },
  {
   "cell_type": "markdown",
   "metadata": {},
   "source": [
    "### 3.3 Top 3 Most Important Song Metrics\n",
    "\n",
    "What are the three most important song metrics when it comes to predicting song popularity for the `genre 2` songs in this dataset with a linear regression model? Explain."
   ]
  },
  {
   "cell_type": "markdown",
   "metadata": {},
   "source": []
  },
  {
   "cell_type": "markdown",
   "metadata": {},
   "source": [
    "### 3.4. Multicollinearity\n",
    "\n",
    "Does this linear regression model have an issue with multicollinearity, thereby making us more skeptical of our slope interpretations? Explain."
   ]
  },
  {
   "cell_type": "markdown",
   "metadata": {},
   "source": []
  },
  {
   "cell_type": "code",
   "execution_count": null,
   "metadata": {},
   "outputs": [],
   "source": []
  },
  {
   "cell_type": "code",
   "execution_count": null,
   "metadata": {},
   "outputs": [],
   "source": []
  },
  {
   "cell_type": "markdown",
   "metadata": {},
   "source": [
    "## 4. Fit Comparison\n",
    "\n",
    "Which of these two genre linear regression models had a better fit? Explain."
   ]
  },
  {
   "cell_type": "markdown",
   "metadata": {},
   "source": []
  }
 ],
 "metadata": {
  "kernelspec": {
   "display_name": "Python 3 (ipykernel)",
   "language": "python",
   "name": "python3"
  },
  "language_info": {
   "codemirror_mode": {
    "name": "ipython",
    "version": 3
   },
   "file_extension": ".py",
   "mimetype": "text/x-python",
   "name": "python",
   "nbconvert_exporter": "python",
   "pygments_lexer": "ipython3",
   "version": "3.11.4"
  }
 },
 "nbformat": 4,
 "nbformat_minor": 2
}
