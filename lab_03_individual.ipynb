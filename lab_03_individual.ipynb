{
 "cells": [
  {
   "cell_type": "markdown",
   "metadata": {},
   "source": [
    "# STAT 207 Lab Assignment 3 - Individual Part - [21 total points]\n"
   ]
  },
  {
   "cell_type": "markdown",
   "metadata": {},
   "source": [
    "## <u>Case Study</u>: Preliminary Analysis and Pre-Cleaning for a Linear Regression Model\n",
    "\n",
    "In this case study we will explore and answer a preliminary analysis question based on the dataset that can be found in the `coffee.csv` file. Each row in this dataset represents a brand of coffee.\n",
    "\n",
    "Click on this link to learn more about what each of the variables represent. https://corgis-edu.github.io/corgis/csv/coffee/\n",
    "\n",
    "<p>&nbsp;</p>\n",
    "<table style=\"border: none;border-collapse: collapse;width:102pt;\">\n",
    "    <tbody>\n",
    "        <tr>\n",
    "            <td style=\"color:black;font-size:15px;font-weight:700;font-style:normal;text-decoration:none;font-family:Calibri, sans-serif;text-align:general;vertical-align:bottom;border:.5pt solid windowtext;height:14.25pt;width:51pt;\">Problem</td>\n",
    "            <td style=\"color:black;font-size:15px;font-weight:700;font-style:normal;text-decoration:none;font-family:Calibri, sans-serif;text-align:general;vertical-align:bottom;border:.5pt solid windowtext;border-left:none;width:51pt;\">Points</td>\n",
    "        </tr>\n",
    "        <tr>\n",
    "            <td style=\"color:black;font-size:15px;font-weight:400;font-style:normal;text-decoration:none;font-family:Calibri, sans-serif;text-align:right;vertical-align:bottom;border:.5pt solid windowtext;height:14.25pt;border-top:none;\">1</td>\n",
    "            <td style=\"color:black;font-size:15px;font-weight:400;font-style:normal;text-decoration:none;font-family:Calibri, sans-serif;text-align:right;vertical-align:bottom;border:.5pt solid windowtext;border-top:none;border-left:none;\">1.5</td>\n",
    "        </tr>\n",
    "        <tr>\n",
    "            <td style=\"color:black;font-size:15px;font-weight:400;font-style:normal;text-decoration:none;font-family:Calibri, sans-serif;text-align:right;vertical-align:bottom;border:.5pt solid windowtext;height:14.25pt;border-top:none;\">2.1</td>\n",
    "            <td style=\"color:black;font-size:15px;font-weight:400;font-style:normal;text-decoration:none;font-family:Calibri, sans-serif;text-align:right;vertical-align:bottom;border:.5pt solid windowtext;border-top:none;border-left:none;\">1.5</td>\n",
    "        </tr>\n",
    "        <tr>\n",
    "            <td style=\"color:black;font-size:15px;font-weight:400;font-style:normal;text-decoration:none;font-family:Calibri, sans-serif;text-align:right;vertical-align:bottom;border:.5pt solid windowtext;height:14.25pt;border-top:none;\">2.2</td>\n",
    "            <td style=\"color:black;font-size:15px;font-weight:400;font-style:normal;text-decoration:none;font-family:Calibri, sans-serif;text-align:right;vertical-align:bottom;border:.5pt solid windowtext;border-top:none;border-left:none;\">1.5</td>\n",
    "        </tr>\n",
    "        <tr>\n",
    "            <td style=\"color:black;font-size:15px;font-weight:400;font-style:normal;text-decoration:none;font-family:Calibri, sans-serif;text-align:right;vertical-align:bottom;border:.5pt solid windowtext;height:14.25pt;border-top:none;\">2.3</td>\n",
    "            <td style=\"color:black;font-size:15px;font-weight:400;font-style:normal;text-decoration:none;font-family:Calibri, sans-serif;text-align:right;vertical-align:bottom;border:.5pt solid windowtext;border-top:none;border-left:none;\">1.5</td>\n",
    "        </tr>\n",
    "        <tr>\n",
    "            <td style=\"color:black;font-size:15px;font-weight:400;font-style:normal;text-decoration:none;font-family:Calibri, sans-serif;text-align:right;vertical-align:bottom;border:.5pt solid windowtext;height:14.25pt;border-top:none;\">2.4</td>\n",
    "            <td style=\"color:black;font-size:15px;font-weight:400;font-style:normal;text-decoration:none;font-family:Calibri, sans-serif;text-align:right;vertical-align:bottom;border:.5pt solid windowtext;border-top:none;border-left:none;\">1.5</td>\n",
    "        </tr>\n",
    "        <tr>\n",
    "            <td style=\"color:black;font-size:15px;font-weight:400;font-style:normal;text-decoration:none;font-family:Calibri, sans-serif;text-align:right;vertical-align:bottom;border:.5pt solid windowtext;height:14.25pt;border-top:none;\">2.5</td>\n",
    "            <td style=\"color:black;font-size:15px;font-weight:400;font-style:normal;text-decoration:none;font-family:Calibri, sans-serif;text-align:right;vertical-align:bottom;border:.5pt solid windowtext;border-top:none;border-left:none;\">1.5</td>\n",
    "        </tr>\n",
    "        <tr>\n",
    "            <td style=\"color:black;font-size:15px;font-weight:400;font-style:normal;text-decoration:none;font-family:Calibri, sans-serif;text-align:right;vertical-align:bottom;border:.5pt solid windowtext;height:14.25pt;border-top:none;\">2.6</td>\n",
    "            <td style=\"color:black;font-size:15px;font-weight:400;font-style:normal;text-decoration:none;font-family:Calibri, sans-serif;text-align:right;vertical-align:bottom;border:.5pt solid windowtext;border-top:none;border-left:none;\">1.5</td>\n",
    "        </tr>\n",
    "        <tr>\n",
    "            <td style=\"color:black;font-size:15px;font-weight:400;font-style:normal;text-decoration:none;font-family:Calibri, sans-serif;text-align:right;vertical-align:bottom;border:.5pt solid windowtext;height:14.25pt;border-top:none;\">2.7</td>\n",
    "            <td style=\"color:black;font-size:15px;font-weight:400;font-style:normal;text-decoration:none;font-family:Calibri, sans-serif;text-align:right;vertical-align:bottom;border:.5pt solid windowtext;border-top:none;border-left:none;\">1.5</td>\n",
    "        </tr>\n",
    "        <tr>\n",
    "            <td style=\"color:black;font-size:15px;font-weight:400;font-style:normal;text-decoration:none;font-family:Calibri, sans-serif;text-align:right;vertical-align:bottom;border:.5pt solid windowtext;height:14.25pt;border-top:none;\">3.1</td>\n",
    "            <td style=\"color:black;font-size:15px;font-weight:400;font-style:normal;text-decoration:none;font-family:Calibri, sans-serif;text-align:right;vertical-align:bottom;border:.5pt solid windowtext;border-top:none;border-left:none;\">1.5</td>\n",
    "        </tr>\n",
    "        <tr>\n",
    "            <td style=\"color:black;font-size:15px;font-weight:400;font-style:normal;text-decoration:none;font-family:Calibri, sans-serif;text-align:right;vertical-align:bottom;border:.5pt solid windowtext;height:14.25pt;border-top:none;\">3.2</td>\n",
    "            <td style=\"color:black;font-size:15px;font-weight:400;font-style:normal;text-decoration:none;font-family:Calibri, sans-serif;text-align:right;vertical-align:bottom;border:.5pt solid windowtext;border-top:none;border-left:none;\">1.5</td>\n",
    "        </tr>\n",
    "        <tr>\n",
    "            <td style=\"color:black;font-size:15px;font-weight:400;font-style:normal;text-decoration:none;font-family:Calibri, sans-serif;text-align:right;vertical-align:bottom;border:.5pt solid windowtext;height:14.25pt;border-top:none;\">3.3</td>\n",
    "            <td style=\"color:black;font-size:15px;font-weight:400;font-style:normal;text-decoration:none;font-family:Calibri, sans-serif;text-align:right;vertical-align:bottom;border:.5pt solid windowtext;border-top:none;border-left:none;\">1.5</td>\n",
    "        </tr>\n",
    "        <tr>\n",
    "            <td style=\"color:black;font-size:15px;font-weight:400;font-style:normal;text-decoration:none;font-family:Calibri, sans-serif;text-align:right;vertical-align:bottom;border:.5pt solid windowtext;height:14.25pt;border-top:none;\">3.4</td>\n",
    "            <td style=\"color:black;font-size:15px;font-weight:400;font-style:normal;text-decoration:none;font-family:Calibri, sans-serif;text-align:right;vertical-align:bottom;border:.5pt solid windowtext;border-top:none;border-left:none;\">1.5</td>\n",
    "        </tr>\n",
    "        <tr>\n",
    "            <td style=\"color:black;font-size:15px;font-weight:400;font-style:normal;text-decoration:none;font-family:Calibri, sans-serif;text-align:right;vertical-align:bottom;border:.5pt solid windowtext;height:14.25pt;border-top:none;\">3.5</td>\n",
    "            <td style=\"color:black;font-size:15px;font-weight:400;font-style:normal;text-decoration:none;font-family:Calibri, sans-serif;text-align:right;vertical-align:bottom;border:.5pt solid windowtext;border-top:none;border-left:none;\">1.5</td>\n",
    "        </tr>\n",
    "        <tr>\n",
    "            <td style=\"color:black;font-size:15px;font-weight:400;font-style:normal;text-decoration:none;font-family:Calibri, sans-serif;text-align:right;vertical-align:bottom;border:.5pt solid windowtext;height:14.25pt;border-top:none;\">4</td>\n",
    "            <td style=\"color:black;font-size:15px;font-weight:400;font-style:normal;text-decoration:none;font-family:Calibri, sans-serif;text-align:right;vertical-align:bottom;border:.5pt solid windowtext;border-top:none;border-left:none;\">1.5</td>\n",
    "        </tr>\n",
    "    </tbody>\n",
    "</table>\n",
    "\n",
    "\n",
    "## 1. Initial Dataset Inspection\n",
    "\n",
    "1. Read the csv file into a dataframe.\n",
    "2. Display the first 5 rows.\n",
    "3. Show the number of rows in the dataframe."
   ]
  },
  {
   "cell_type": "code",
   "execution_count": 1,
   "metadata": {},
   "outputs": [],
   "source": [
    "import pandas as pd\n",
    "import seaborn as sns\n",
    "sns.set()\n",
    "import matplotlib.pyplot as plt"
   ]
  },
  {
   "cell_type": "code",
   "execution_count": 2,
   "metadata": {},
   "outputs": [
    {
     "data": {
      "text/html": [
       "<div>\n",
       "<style scoped>\n",
       "    .dataframe tbody tr th:only-of-type {\n",
       "        vertical-align: middle;\n",
       "    }\n",
       "\n",
       "    .dataframe tbody tr th {\n",
       "        vertical-align: top;\n",
       "    }\n",
       "\n",
       "    .dataframe thead th {\n",
       "        text-align: right;\n",
       "    }\n",
       "</style>\n",
       "<table border=\"1\" class=\"dataframe\">\n",
       "  <thead>\n",
       "    <tr style=\"text-align: right;\">\n",
       "      <th></th>\n",
       "      <th>Location.Country</th>\n",
       "      <th>Location.Region</th>\n",
       "      <th>Location.Altitude.Min</th>\n",
       "      <th>Location.Altitude.Max</th>\n",
       "      <th>Location.Altitude.Average</th>\n",
       "      <th>Year</th>\n",
       "      <th>Data.Owner</th>\n",
       "      <th>Data.Type.Species</th>\n",
       "      <th>Data.Type.Variety</th>\n",
       "      <th>Data.Type.Processing method</th>\n",
       "      <th>...</th>\n",
       "      <th>Data.Scores.Flavor</th>\n",
       "      <th>Data.Scores.Aftertaste</th>\n",
       "      <th>Data.Scores.Acidity</th>\n",
       "      <th>Data.Scores.Body</th>\n",
       "      <th>Data.Scores.Balance</th>\n",
       "      <th>Data.Scores.Uniformity</th>\n",
       "      <th>Data.Scores.Sweetness</th>\n",
       "      <th>Data.Scores.Moisture</th>\n",
       "      <th>Data.Scores.Total</th>\n",
       "      <th>Data.Color</th>\n",
       "    </tr>\n",
       "  </thead>\n",
       "  <tbody>\n",
       "    <tr>\n",
       "      <th>0</th>\n",
       "      <td>United States</td>\n",
       "      <td>kona</td>\n",
       "      <td>0</td>\n",
       "      <td>0</td>\n",
       "      <td>0</td>\n",
       "      <td>2010</td>\n",
       "      <td>kona pacific farmers cooperative</td>\n",
       "      <td>Arabica</td>\n",
       "      <td>NaN</td>\n",
       "      <td>NaN</td>\n",
       "      <td>...</td>\n",
       "      <td>8.42</td>\n",
       "      <td>8.08</td>\n",
       "      <td>7.75</td>\n",
       "      <td>7.67</td>\n",
       "      <td>7.83</td>\n",
       "      <td>10.0</td>\n",
       "      <td>10.0</td>\n",
       "      <td>0.00</td>\n",
       "      <td>86.25</td>\n",
       "      <td>Unknown</td>\n",
       "    </tr>\n",
       "    <tr>\n",
       "      <th>1</th>\n",
       "      <td>Brazil</td>\n",
       "      <td>sul de minas - carmo de minas</td>\n",
       "      <td>12</td>\n",
       "      <td>12</td>\n",
       "      <td>12</td>\n",
       "      <td>2010</td>\n",
       "      <td>jacques pereira carneiro</td>\n",
       "      <td>Arabica</td>\n",
       "      <td>Yellow Bourbon</td>\n",
       "      <td>NaN</td>\n",
       "      <td>...</td>\n",
       "      <td>7.92</td>\n",
       "      <td>7.92</td>\n",
       "      <td>7.75</td>\n",
       "      <td>8.33</td>\n",
       "      <td>8.00</td>\n",
       "      <td>10.0</td>\n",
       "      <td>10.0</td>\n",
       "      <td>0.08</td>\n",
       "      <td>86.17</td>\n",
       "      <td>Unknown</td>\n",
       "    </tr>\n",
       "    <tr>\n",
       "      <th>2</th>\n",
       "      <td>Brazil</td>\n",
       "      <td>sul de minas - carmo de minas</td>\n",
       "      <td>12</td>\n",
       "      <td>12</td>\n",
       "      <td>12</td>\n",
       "      <td>2010</td>\n",
       "      <td>jacques pereira carneiro</td>\n",
       "      <td>Arabica</td>\n",
       "      <td>Yellow Bourbon</td>\n",
       "      <td>NaN</td>\n",
       "      <td>...</td>\n",
       "      <td>7.92</td>\n",
       "      <td>8.00</td>\n",
       "      <td>7.75</td>\n",
       "      <td>7.92</td>\n",
       "      <td>8.00</td>\n",
       "      <td>10.0</td>\n",
       "      <td>10.0</td>\n",
       "      <td>0.01</td>\n",
       "      <td>86.17</td>\n",
       "      <td>Unknown</td>\n",
       "    </tr>\n",
       "    <tr>\n",
       "      <th>3</th>\n",
       "      <td>Ethiopia</td>\n",
       "      <td>sidamo</td>\n",
       "      <td>0</td>\n",
       "      <td>0</td>\n",
       "      <td>0</td>\n",
       "      <td>2010</td>\n",
       "      <td>ethiopia commodity exchange</td>\n",
       "      <td>Arabica</td>\n",
       "      <td>NaN</td>\n",
       "      <td>NaN</td>\n",
       "      <td>...</td>\n",
       "      <td>8.00</td>\n",
       "      <td>7.83</td>\n",
       "      <td>8.00</td>\n",
       "      <td>7.92</td>\n",
       "      <td>7.83</td>\n",
       "      <td>10.0</td>\n",
       "      <td>10.0</td>\n",
       "      <td>0.00</td>\n",
       "      <td>85.08</td>\n",
       "      <td>Unknown</td>\n",
       "    </tr>\n",
       "    <tr>\n",
       "      <th>4</th>\n",
       "      <td>Ethiopia</td>\n",
       "      <td>sidamo</td>\n",
       "      <td>0</td>\n",
       "      <td>0</td>\n",
       "      <td>0</td>\n",
       "      <td>2010</td>\n",
       "      <td>ethiopia commodity exchange</td>\n",
       "      <td>Arabica</td>\n",
       "      <td>NaN</td>\n",
       "      <td>NaN</td>\n",
       "      <td>...</td>\n",
       "      <td>7.83</td>\n",
       "      <td>7.58</td>\n",
       "      <td>8.00</td>\n",
       "      <td>7.83</td>\n",
       "      <td>7.50</td>\n",
       "      <td>10.0</td>\n",
       "      <td>10.0</td>\n",
       "      <td>0.10</td>\n",
       "      <td>83.83</td>\n",
       "      <td>Unknown</td>\n",
       "    </tr>\n",
       "  </tbody>\n",
       "</table>\n",
       "<p>5 rows × 23 columns</p>\n",
       "</div>"
      ],
      "text/plain": [
       "  Location.Country                Location.Region  Location.Altitude.Min  \\\n",
       "0    United States                           kona                      0   \n",
       "1           Brazil  sul de minas - carmo de minas                     12   \n",
       "2           Brazil  sul de minas - carmo de minas                     12   \n",
       "3         Ethiopia                         sidamo                      0   \n",
       "4         Ethiopia                         sidamo                      0   \n",
       "\n",
       "   Location.Altitude.Max  Location.Altitude.Average  Year  \\\n",
       "0                      0                          0  2010   \n",
       "1                     12                         12  2010   \n",
       "2                     12                         12  2010   \n",
       "3                      0                          0  2010   \n",
       "4                      0                          0  2010   \n",
       "\n",
       "                         Data.Owner Data.Type.Species Data.Type.Variety  \\\n",
       "0  kona pacific farmers cooperative           Arabica               NaN   \n",
       "1          jacques pereira carneiro           Arabica    Yellow Bourbon   \n",
       "2          jacques pereira carneiro           Arabica    Yellow Bourbon   \n",
       "3       ethiopia commodity exchange           Arabica               NaN   \n",
       "4       ethiopia commodity exchange           Arabica               NaN   \n",
       "\n",
       "  Data.Type.Processing method  ...  Data.Scores.Flavor  \\\n",
       "0                         NaN  ...                8.42   \n",
       "1                         NaN  ...                7.92   \n",
       "2                         NaN  ...                7.92   \n",
       "3                         NaN  ...                8.00   \n",
       "4                         NaN  ...                7.83   \n",
       "\n",
       "   Data.Scores.Aftertaste  Data.Scores.Acidity  Data.Scores.Body  \\\n",
       "0                    8.08                 7.75              7.67   \n",
       "1                    7.92                 7.75              8.33   \n",
       "2                    8.00                 7.75              7.92   \n",
       "3                    7.83                 8.00              7.92   \n",
       "4                    7.58                 8.00              7.83   \n",
       "\n",
       "   Data.Scores.Balance  Data.Scores.Uniformity  Data.Scores.Sweetness  \\\n",
       "0                 7.83                    10.0                   10.0   \n",
       "1                 8.00                    10.0                   10.0   \n",
       "2                 8.00                    10.0                   10.0   \n",
       "3                 7.83                    10.0                   10.0   \n",
       "4                 7.50                    10.0                   10.0   \n",
       "\n",
       "   Data.Scores.Moisture  Data.Scores.Total  Data.Color  \n",
       "0                  0.00              86.25     Unknown  \n",
       "1                  0.08              86.17     Unknown  \n",
       "2                  0.01              86.17     Unknown  \n",
       "3                  0.00              85.08     Unknown  \n",
       "4                  0.10              83.83     Unknown  \n",
       "\n",
       "[5 rows x 23 columns]"
      ]
     },
     "execution_count": 2,
     "metadata": {},
     "output_type": "execute_result"
    }
   ],
   "source": [
    "df = pd.read_csv(\"coffee.csv\")\n",
    "df.head()"
   ]
  },
  {
   "cell_type": "code",
   "execution_count": 3,
   "metadata": {},
   "outputs": [
    {
     "data": {
      "text/plain": [
       "('Rows: ', 989)"
      ]
     },
     "execution_count": 3,
     "metadata": {},
     "output_type": "execute_result"
    }
   ],
   "source": [
    "\"Rows: \", df.shape[0]"
   ]
  },
  {
   "cell_type": "markdown",
   "metadata": {},
   "source": [
    "## 2. Research Goal and More Data Cleaning\n",
    "\n",
    "Suppose that we would like to *eventually* build a linear regression model that will predict the `Flavor` of the coffee given the following explanatory variables:\n",
    "* `Aftertaste`\n",
    "* `Acidity`\n",
    "* `Body`\n",
    "* `Balance`\n",
    "* `Species`\n",
    "* `Color`\n"
   ]
  },
  {
   "cell_type": "markdown",
   "metadata": {},
   "source": [
    "### 2.1. Dropping NaN Values\n",
    "\n",
    "1. First create a dataframe that is comprised of just these 7 variables.\n",
    "2. Then drop all rows from this dataframe with NaN values.\n",
    "3. How many rows did you drop?"
   ]
  },
  {
   "cell_type": "code",
   "execution_count": 4,
   "metadata": {},
   "outputs": [
    {
     "data": {
      "text/html": [
       "<div>\n",
       "<style scoped>\n",
       "    .dataframe tbody tr th:only-of-type {\n",
       "        vertical-align: middle;\n",
       "    }\n",
       "\n",
       "    .dataframe tbody tr th {\n",
       "        vertical-align: top;\n",
       "    }\n",
       "\n",
       "    .dataframe thead th {\n",
       "        text-align: right;\n",
       "    }\n",
       "</style>\n",
       "<table border=\"1\" class=\"dataframe\">\n",
       "  <thead>\n",
       "    <tr style=\"text-align: right;\">\n",
       "      <th></th>\n",
       "      <th>Data.Scores.Aftertaste</th>\n",
       "      <th>Data.Scores.Acidity</th>\n",
       "      <th>Data.Scores.Body</th>\n",
       "      <th>Data.Scores.Balance</th>\n",
       "      <th>Data.Type.Species</th>\n",
       "      <th>Data.Color</th>\n",
       "    </tr>\n",
       "  </thead>\n",
       "  <tbody>\n",
       "    <tr>\n",
       "      <th>0</th>\n",
       "      <td>8.08</td>\n",
       "      <td>7.75</td>\n",
       "      <td>7.67</td>\n",
       "      <td>7.83</td>\n",
       "      <td>Arabica</td>\n",
       "      <td>Unknown</td>\n",
       "    </tr>\n",
       "    <tr>\n",
       "      <th>1</th>\n",
       "      <td>7.92</td>\n",
       "      <td>7.75</td>\n",
       "      <td>8.33</td>\n",
       "      <td>8.00</td>\n",
       "      <td>Arabica</td>\n",
       "      <td>Unknown</td>\n",
       "    </tr>\n",
       "    <tr>\n",
       "      <th>2</th>\n",
       "      <td>8.00</td>\n",
       "      <td>7.75</td>\n",
       "      <td>7.92</td>\n",
       "      <td>8.00</td>\n",
       "      <td>Arabica</td>\n",
       "      <td>Unknown</td>\n",
       "    </tr>\n",
       "    <tr>\n",
       "      <th>3</th>\n",
       "      <td>7.83</td>\n",
       "      <td>8.00</td>\n",
       "      <td>7.92</td>\n",
       "      <td>7.83</td>\n",
       "      <td>Arabica</td>\n",
       "      <td>Unknown</td>\n",
       "    </tr>\n",
       "    <tr>\n",
       "      <th>4</th>\n",
       "      <td>7.58</td>\n",
       "      <td>8.00</td>\n",
       "      <td>7.83</td>\n",
       "      <td>7.50</td>\n",
       "      <td>Arabica</td>\n",
       "      <td>Unknown</td>\n",
       "    </tr>\n",
       "    <tr>\n",
       "      <th>...</th>\n",
       "      <td>...</td>\n",
       "      <td>...</td>\n",
       "      <td>...</td>\n",
       "      <td>...</td>\n",
       "      <td>...</td>\n",
       "      <td>...</td>\n",
       "    </tr>\n",
       "    <tr>\n",
       "      <th>984</th>\n",
       "      <td>7.42</td>\n",
       "      <td>7.42</td>\n",
       "      <td>7.67</td>\n",
       "      <td>7.67</td>\n",
       "      <td>Arabica</td>\n",
       "      <td>Green</td>\n",
       "    </tr>\n",
       "    <tr>\n",
       "      <th>985</th>\n",
       "      <td>0.00</td>\n",
       "      <td>0.00</td>\n",
       "      <td>0.00</td>\n",
       "      <td>0.00</td>\n",
       "      <td>Arabica</td>\n",
       "      <td>Green</td>\n",
       "    </tr>\n",
       "    <tr>\n",
       "      <th>986</th>\n",
       "      <td>7.92</td>\n",
       "      <td>8.00</td>\n",
       "      <td>7.92</td>\n",
       "      <td>7.92</td>\n",
       "      <td>Robusta</td>\n",
       "      <td>Unknown</td>\n",
       "    </tr>\n",
       "    <tr>\n",
       "      <th>987</th>\n",
       "      <td>7.83</td>\n",
       "      <td>7.67</td>\n",
       "      <td>7.92</td>\n",
       "      <td>7.83</td>\n",
       "      <td>Robusta</td>\n",
       "      <td>Bluish-Green</td>\n",
       "    </tr>\n",
       "    <tr>\n",
       "      <th>988</th>\n",
       "      <td>7.08</td>\n",
       "      <td>7.42</td>\n",
       "      <td>7.50</td>\n",
       "      <td>7.33</td>\n",
       "      <td>Arabica</td>\n",
       "      <td>Blue-Green</td>\n",
       "    </tr>\n",
       "  </tbody>\n",
       "</table>\n",
       "<p>989 rows × 6 columns</p>\n",
       "</div>"
      ],
      "text/plain": [
       "     Data.Scores.Aftertaste  Data.Scores.Acidity  Data.Scores.Body  \\\n",
       "0                      8.08                 7.75              7.67   \n",
       "1                      7.92                 7.75              8.33   \n",
       "2                      8.00                 7.75              7.92   \n",
       "3                      7.83                 8.00              7.92   \n",
       "4                      7.58                 8.00              7.83   \n",
       "..                      ...                  ...               ...   \n",
       "984                    7.42                 7.42              7.67   \n",
       "985                    0.00                 0.00              0.00   \n",
       "986                    7.92                 8.00              7.92   \n",
       "987                    7.83                 7.67              7.92   \n",
       "988                    7.08                 7.42              7.50   \n",
       "\n",
       "     Data.Scores.Balance Data.Type.Species    Data.Color  \n",
       "0                   7.83           Arabica       Unknown  \n",
       "1                   8.00           Arabica       Unknown  \n",
       "2                   8.00           Arabica       Unknown  \n",
       "3                   7.83           Arabica       Unknown  \n",
       "4                   7.50           Arabica       Unknown  \n",
       "..                   ...               ...           ...  \n",
       "984                 7.67           Arabica         Green  \n",
       "985                 0.00           Arabica         Green  \n",
       "986                 7.92           Robusta       Unknown  \n",
       "987                 7.83           Robusta  Bluish-Green  \n",
       "988                 7.33           Arabica    Blue-Green  \n",
       "\n",
       "[989 rows x 6 columns]"
      ]
     },
     "execution_count": 4,
     "metadata": {},
     "output_type": "execute_result"
    }
   ],
   "source": [
    "df_seven = df.copy()\n",
    "df_seven = df_seven[[\"Data.Scores.Aftertaste\",\"Data.Scores.Acidity\",\"Data.Scores.Body\",\"Data.Scores.Balance\",\"Data.Type.Species\",\"Data.Color\"]]\n",
    "df_seven"
   ]
  },
  {
   "cell_type": "code",
   "execution_count": 5,
   "metadata": {},
   "outputs": [],
   "source": [
    "df_seven.drop(df[df['Data.Color'] == 'Unknown'].index, inplace=True)"
   ]
  },
  {
   "cell_type": "code",
   "execution_count": 6,
   "metadata": {},
   "outputs": [
    {
     "data": {
      "text/html": [
       "<div>\n",
       "<style scoped>\n",
       "    .dataframe tbody tr th:only-of-type {\n",
       "        vertical-align: middle;\n",
       "    }\n",
       "\n",
       "    .dataframe tbody tr th {\n",
       "        vertical-align: top;\n",
       "    }\n",
       "\n",
       "    .dataframe thead th {\n",
       "        text-align: right;\n",
       "    }\n",
       "</style>\n",
       "<table border=\"1\" class=\"dataframe\">\n",
       "  <thead>\n",
       "    <tr style=\"text-align: right;\">\n",
       "      <th></th>\n",
       "      <th>Data.Scores.Aftertaste</th>\n",
       "      <th>Data.Scores.Acidity</th>\n",
       "      <th>Data.Scores.Body</th>\n",
       "      <th>Data.Scores.Balance</th>\n",
       "      <th>Data.Type.Species</th>\n",
       "      <th>Data.Color</th>\n",
       "    </tr>\n",
       "  </thead>\n",
       "  <tbody>\n",
       "    <tr>\n",
       "      <th>10</th>\n",
       "      <td>8.00</td>\n",
       "      <td>8.00</td>\n",
       "      <td>8.00</td>\n",
       "      <td>8.00</td>\n",
       "      <td>Arabica</td>\n",
       "      <td>Green</td>\n",
       "    </tr>\n",
       "    <tr>\n",
       "      <th>11</th>\n",
       "      <td>8.00</td>\n",
       "      <td>7.75</td>\n",
       "      <td>8.00</td>\n",
       "      <td>8.00</td>\n",
       "      <td>Arabica</td>\n",
       "      <td>Green</td>\n",
       "    </tr>\n",
       "    <tr>\n",
       "      <th>12</th>\n",
       "      <td>8.00</td>\n",
       "      <td>8.00</td>\n",
       "      <td>7.75</td>\n",
       "      <td>8.00</td>\n",
       "      <td>Arabica</td>\n",
       "      <td>Blue-Green</td>\n",
       "    </tr>\n",
       "    <tr>\n",
       "      <th>13</th>\n",
       "      <td>8.00</td>\n",
       "      <td>7.67</td>\n",
       "      <td>7.75</td>\n",
       "      <td>8.00</td>\n",
       "      <td>Arabica</td>\n",
       "      <td>Blue-Green</td>\n",
       "    </tr>\n",
       "    <tr>\n",
       "      <th>14</th>\n",
       "      <td>7.75</td>\n",
       "      <td>7.75</td>\n",
       "      <td>8.00</td>\n",
       "      <td>7.75</td>\n",
       "      <td>Arabica</td>\n",
       "      <td>Green</td>\n",
       "    </tr>\n",
       "    <tr>\n",
       "      <th>...</th>\n",
       "      <td>...</td>\n",
       "      <td>...</td>\n",
       "      <td>...</td>\n",
       "      <td>...</td>\n",
       "      <td>...</td>\n",
       "      <td>...</td>\n",
       "    </tr>\n",
       "    <tr>\n",
       "      <th>983</th>\n",
       "      <td>6.75</td>\n",
       "      <td>6.92</td>\n",
       "      <td>7.00</td>\n",
       "      <td>6.92</td>\n",
       "      <td>Arabica</td>\n",
       "      <td>Green</td>\n",
       "    </tr>\n",
       "    <tr>\n",
       "      <th>984</th>\n",
       "      <td>7.42</td>\n",
       "      <td>7.42</td>\n",
       "      <td>7.67</td>\n",
       "      <td>7.67</td>\n",
       "      <td>Arabica</td>\n",
       "      <td>Green</td>\n",
       "    </tr>\n",
       "    <tr>\n",
       "      <th>985</th>\n",
       "      <td>0.00</td>\n",
       "      <td>0.00</td>\n",
       "      <td>0.00</td>\n",
       "      <td>0.00</td>\n",
       "      <td>Arabica</td>\n",
       "      <td>Green</td>\n",
       "    </tr>\n",
       "    <tr>\n",
       "      <th>987</th>\n",
       "      <td>7.83</td>\n",
       "      <td>7.67</td>\n",
       "      <td>7.92</td>\n",
       "      <td>7.83</td>\n",
       "      <td>Robusta</td>\n",
       "      <td>Bluish-Green</td>\n",
       "    </tr>\n",
       "    <tr>\n",
       "      <th>988</th>\n",
       "      <td>7.08</td>\n",
       "      <td>7.42</td>\n",
       "      <td>7.50</td>\n",
       "      <td>7.33</td>\n",
       "      <td>Arabica</td>\n",
       "      <td>Blue-Green</td>\n",
       "    </tr>\n",
       "  </tbody>\n",
       "</table>\n",
       "<p>882 rows × 6 columns</p>\n",
       "</div>"
      ],
      "text/plain": [
       "     Data.Scores.Aftertaste  Data.Scores.Acidity  Data.Scores.Body  \\\n",
       "10                     8.00                 8.00              8.00   \n",
       "11                     8.00                 7.75              8.00   \n",
       "12                     8.00                 8.00              7.75   \n",
       "13                     8.00                 7.67              7.75   \n",
       "14                     7.75                 7.75              8.00   \n",
       "..                      ...                  ...               ...   \n",
       "983                    6.75                 6.92              7.00   \n",
       "984                    7.42                 7.42              7.67   \n",
       "985                    0.00                 0.00              0.00   \n",
       "987                    7.83                 7.67              7.92   \n",
       "988                    7.08                 7.42              7.50   \n",
       "\n",
       "     Data.Scores.Balance Data.Type.Species    Data.Color  \n",
       "10                  8.00           Arabica         Green  \n",
       "11                  8.00           Arabica         Green  \n",
       "12                  8.00           Arabica    Blue-Green  \n",
       "13                  8.00           Arabica    Blue-Green  \n",
       "14                  7.75           Arabica         Green  \n",
       "..                   ...               ...           ...  \n",
       "983                 6.92           Arabica         Green  \n",
       "984                 7.67           Arabica         Green  \n",
       "985                 0.00           Arabica         Green  \n",
       "987                 7.83           Robusta  Bluish-Green  \n",
       "988                 7.33           Arabica    Blue-Green  \n",
       "\n",
       "[882 rows x 6 columns]"
      ]
     },
     "execution_count": 6,
     "metadata": {},
     "output_type": "execute_result"
    }
   ],
   "source": [
    "df_seven"
   ]
  },
  {
   "cell_type": "markdown",
   "metadata": {},
   "source": [
    "### 2.2. Outlier Inspection (for the Presence of Single Variable Outliers)\n",
    "\n",
    "Create a boxplot for each of your numerical variables in this dataset."
   ]
  },
  {
   "cell_type": "code",
   "execution_count": 7,
   "metadata": {},
   "outputs": [
    {
     "data": {
      "image/png": "[encoded data removed]",
      "text/plain": [
       "<Figure size 640x480 with 1 Axes>"
      ]
     },
     "metadata": {},
     "output_type": "display_data"
    }
   ],
   "source": [
    "sns.boxplot(data=df_seven, x=\"Data.Scores.Aftertaste\")\n",
    "plt.show()"
   ]
  },
  {
   "cell_type": "code",
   "execution_count": 8,
   "metadata": {},
   "outputs": [
    {
     "data": {
      "image/png": "[encoded data removed]",
      "text/plain": [
       "<Figure size 640x480 with 1 Axes>"
      ]
     },
     "metadata": {},
     "output_type": "display_data"
    }
   ],
   "source": [
    "sns.boxplot(data=df_seven, x=\"Data.Scores.Acidity\")\n",
    "plt.show()"
   ]
  },
  {
   "cell_type": "code",
   "execution_count": 9,
   "metadata": {},
   "outputs": [
    {
     "data": {
      "image/png": "[encoded data removed]",
      "text/plain": [
       "<Figure size 640x480 with 1 Axes>"
      ]
     },
     "metadata": {},
     "output_type": "display_data"
    }
   ],
   "source": [
    "sns.boxplot(data=df_seven, x=\"Data.Scores.Body\")\n",
    "plt.show()"
   ]
  },
  {
   "cell_type": "code",
   "execution_count": 10,
   "metadata": {},
   "outputs": [
    {
     "data": {
      "image/png": "[encoded data removed]",
      "text/plain": [
       "<Figure size 640x480 with 1 Axes>"
      ]
     },
     "metadata": {},
     "output_type": "display_data"
    }
   ],
   "source": [
    "sns.boxplot(data=df_seven, x=\"Data.Scores.Balance\")\n",
    "plt.show()"
   ]
  },
  {
   "cell_type": "markdown",
   "metadata": {},
   "source": [
    "### 2.3. Outlier Cleaning\n",
    "\n",
    "1. If you see any outliers that are remarkably distinct from the rest of the other observations in any of these plots, drop them from the dataset.\n",
    "2. How many new rows did you drop?"
   ]
  },
  {
   "cell_type": "code",
   "execution_count": 11,
   "metadata": {},
   "outputs": [],
   "source": [
    "na_values = [985]"
   ]
  },
  {
   "cell_type": "code",
   "execution_count": 12,
   "metadata": {},
   "outputs": [
    {
     "data": {
      "text/html": [
       "<div>\n",
       "<style scoped>\n",
       "    .dataframe tbody tr th:only-of-type {\n",
       "        vertical-align: middle;\n",
       "    }\n",
       "\n",
       "    .dataframe tbody tr th {\n",
       "        vertical-align: top;\n",
       "    }\n",
       "\n",
       "    .dataframe thead th {\n",
       "        text-align: right;\n",
       "    }\n",
       "</style>\n",
       "<table border=\"1\" class=\"dataframe\">\n",
       "  <thead>\n",
       "    <tr style=\"text-align: right;\">\n",
       "      <th></th>\n",
       "      <th>Data.Scores.Aftertaste</th>\n",
       "      <th>Data.Scores.Acidity</th>\n",
       "      <th>Data.Scores.Body</th>\n",
       "      <th>Data.Scores.Balance</th>\n",
       "      <th>Data.Type.Species</th>\n",
       "      <th>Data.Color</th>\n",
       "    </tr>\n",
       "  </thead>\n",
       "  <tbody>\n",
       "    <tr>\n",
       "      <th>10</th>\n",
       "      <td>8.00</td>\n",
       "      <td>8.00</td>\n",
       "      <td>8.00</td>\n",
       "      <td>8.00</td>\n",
       "      <td>Arabica</td>\n",
       "      <td>Green</td>\n",
       "    </tr>\n",
       "    <tr>\n",
       "      <th>11</th>\n",
       "      <td>8.00</td>\n",
       "      <td>7.75</td>\n",
       "      <td>8.00</td>\n",
       "      <td>8.00</td>\n",
       "      <td>Arabica</td>\n",
       "      <td>Green</td>\n",
       "    </tr>\n",
       "    <tr>\n",
       "      <th>12</th>\n",
       "      <td>8.00</td>\n",
       "      <td>8.00</td>\n",
       "      <td>7.75</td>\n",
       "      <td>8.00</td>\n",
       "      <td>Arabica</td>\n",
       "      <td>Blue-Green</td>\n",
       "    </tr>\n",
       "    <tr>\n",
       "      <th>13</th>\n",
       "      <td>8.00</td>\n",
       "      <td>7.67</td>\n",
       "      <td>7.75</td>\n",
       "      <td>8.00</td>\n",
       "      <td>Arabica</td>\n",
       "      <td>Blue-Green</td>\n",
       "    </tr>\n",
       "    <tr>\n",
       "      <th>14</th>\n",
       "      <td>7.75</td>\n",
       "      <td>7.75</td>\n",
       "      <td>8.00</td>\n",
       "      <td>7.75</td>\n",
       "      <td>Arabica</td>\n",
       "      <td>Green</td>\n",
       "    </tr>\n",
       "    <tr>\n",
       "      <th>...</th>\n",
       "      <td>...</td>\n",
       "      <td>...</td>\n",
       "      <td>...</td>\n",
       "      <td>...</td>\n",
       "      <td>...</td>\n",
       "      <td>...</td>\n",
       "    </tr>\n",
       "    <tr>\n",
       "      <th>982</th>\n",
       "      <td>7.33</td>\n",
       "      <td>7.42</td>\n",
       "      <td>7.50</td>\n",
       "      <td>7.42</td>\n",
       "      <td>Arabica</td>\n",
       "      <td>Green</td>\n",
       "    </tr>\n",
       "    <tr>\n",
       "      <th>983</th>\n",
       "      <td>6.75</td>\n",
       "      <td>6.92</td>\n",
       "      <td>7.00</td>\n",
       "      <td>6.92</td>\n",
       "      <td>Arabica</td>\n",
       "      <td>Green</td>\n",
       "    </tr>\n",
       "    <tr>\n",
       "      <th>984</th>\n",
       "      <td>7.42</td>\n",
       "      <td>7.42</td>\n",
       "      <td>7.67</td>\n",
       "      <td>7.67</td>\n",
       "      <td>Arabica</td>\n",
       "      <td>Green</td>\n",
       "    </tr>\n",
       "    <tr>\n",
       "      <th>987</th>\n",
       "      <td>7.83</td>\n",
       "      <td>7.67</td>\n",
       "      <td>7.92</td>\n",
       "      <td>7.83</td>\n",
       "      <td>Robusta</td>\n",
       "      <td>Bluish-Green</td>\n",
       "    </tr>\n",
       "    <tr>\n",
       "      <th>988</th>\n",
       "      <td>7.08</td>\n",
       "      <td>7.42</td>\n",
       "      <td>7.50</td>\n",
       "      <td>7.33</td>\n",
       "      <td>Arabica</td>\n",
       "      <td>Blue-Green</td>\n",
       "    </tr>\n",
       "  </tbody>\n",
       "</table>\n",
       "<p>881 rows × 6 columns</p>\n",
       "</div>"
      ],
      "text/plain": [
       "     Data.Scores.Aftertaste  Data.Scores.Acidity  Data.Scores.Body  \\\n",
       "10                     8.00                 8.00              8.00   \n",
       "11                     8.00                 7.75              8.00   \n",
       "12                     8.00                 8.00              7.75   \n",
       "13                     8.00                 7.67              7.75   \n",
       "14                     7.75                 7.75              8.00   \n",
       "..                      ...                  ...               ...   \n",
       "982                    7.33                 7.42              7.50   \n",
       "983                    6.75                 6.92              7.00   \n",
       "984                    7.42                 7.42              7.67   \n",
       "987                    7.83                 7.67              7.92   \n",
       "988                    7.08                 7.42              7.50   \n",
       "\n",
       "     Data.Scores.Balance Data.Type.Species    Data.Color  \n",
       "10                  8.00           Arabica         Green  \n",
       "11                  8.00           Arabica         Green  \n",
       "12                  8.00           Arabica    Blue-Green  \n",
       "13                  8.00           Arabica    Blue-Green  \n",
       "14                  7.75           Arabica         Green  \n",
       "..                   ...               ...           ...  \n",
       "982                 7.42           Arabica         Green  \n",
       "983                 6.92           Arabica         Green  \n",
       "984                 7.67           Arabica         Green  \n",
       "987                 7.83           Robusta  Bluish-Green  \n",
       "988                 7.33           Arabica    Blue-Green  \n",
       "\n",
       "[881 rows x 6 columns]"
      ]
     },
     "execution_count": 12,
     "metadata": {},
     "output_type": "execute_result"
    }
   ],
   "source": [
    "df_seven_drop = df_seven.drop(na_values)\n",
    "df_seven_drop"
   ]
  },
  {
   "cell_type": "code",
   "execution_count": 13,
   "metadata": {},
   "outputs": [
    {
     "data": {
      "image/png": "[encoded data removed]",
      "text/plain": [
       "<Figure size 640x480 with 1 Axes>"
      ]
     },
     "metadata": {},
     "output_type": "display_data"
    }
   ],
   "source": [
    "sns.boxplot(data=df_seven_drop, x=\"Data.Scores.Aftertaste\")\n",
    "plt.show()"
   ]
  },
  {
   "cell_type": "code",
   "execution_count": 14,
   "metadata": {},
   "outputs": [
    {
     "data": {
      "image/png": "[encoded data removed]",
      "text/plain": [
       "<Figure size 640x480 with 1 Axes>"
      ]
     },
     "metadata": {},
     "output_type": "display_data"
    }
   ],
   "source": [
    "sns.boxplot(data=df_seven_drop, x=\"Data.Scores.Acidity\")\n",
    "plt.show()"
   ]
  },
  {
   "cell_type": "markdown",
   "metadata": {},
   "source": [
    "I dropped one row which was a pretty big outlier with a value of zero from Arabica. "
   ]
  },
  {
   "cell_type": "markdown",
   "metadata": {},
   "source": [
    "### 2.4. Outlier Inspection (for the Presence of Two Variable Outliers)\n",
    "\n",
    "Create a *single* figure that visualizes the relationship between all pairs of numerical variables in this dataset.\n",
    "\n",
    "*For full credit, your code should be no longer than 2 lines here.*"
   ]
  },
  {
   "cell_type": "code",
   "execution_count": 15,
   "metadata": {},
   "outputs": [
    {
     "data": {
      "text/plain": [
       "<Axes: >"
      ]
     },
     "execution_count": 15,
     "metadata": {},
     "output_type": "execute_result"
    },
    {
     "data": {
      "image/png": "[encoded data removed]",
      "text/plain": [
       "<Figure size 640x480 with 1 Axes>"
      ]
     },
     "metadata": {},
     "output_type": "display_data"
    }
   ],
   "source": [
    "sns.boxplot(data=df_seven_drop[[\"Data.Scores.Aftertaste\",\"Data.Scores.Acidity\",\"Data.Scores.Body\",\"Data.Scores.Balance\"]], orient=\"h\")"
   ]
  },
  {
   "cell_type": "markdown",
   "metadata": {},
   "source": [
    "### 2.5. Outlier Cleaning\n",
    "\n",
    "1. Drop all significant outliers that you see in your figure above.\n",
    "2. How many new rows did you drop?"
   ]
  },
  {
   "cell_type": "code",
   "execution_count": 16,
   "metadata": {},
   "outputs": [
    {
     "data": {
      "text/plain": [
       "924    5.08\n",
       "925    5.17\n",
       "Name: Data.Scores.Body, dtype: float64"
      ]
     },
     "execution_count": 16,
     "metadata": {},
     "output_type": "execute_result"
    }
   ],
   "source": [
    "df_seven_drop[\"Data.Scores.Body\"].nsmallest(2)"
   ]
  },
  {
   "cell_type": "code",
   "execution_count": 17,
   "metadata": {},
   "outputs": [
    {
     "data": {
      "text/plain": [
       "925    5.25\n",
       "Name: Data.Scores.Balance, dtype: float64"
      ]
     },
     "execution_count": 17,
     "metadata": {},
     "output_type": "execute_result"
    }
   ],
   "source": [
    "df_seven_drop[\"Data.Scores.Balance\"].nsmallest(1)"
   ]
  },
  {
   "cell_type": "code",
   "execution_count": 18,
   "metadata": {},
   "outputs": [
    {
     "data": {
      "text/plain": [
       "907    5.25\n",
       "Name: Data.Scores.Acidity, dtype: float64"
      ]
     },
     "execution_count": 18,
     "metadata": {},
     "output_type": "execute_result"
    }
   ],
   "source": [
    "df_seven_drop[\"Data.Scores.Acidity\"].nsmallest(1)"
   ]
  },
  {
   "cell_type": "code",
   "execution_count": 21,
   "metadata": {},
   "outputs": [
    {
     "data": {
      "text/plain": [
       "[924, 925, 907]"
      ]
     },
     "execution_count": 21,
     "metadata": {},
     "output_type": "execute_result"
    }
   ],
   "source": [
    "na_values = [924,925, 907]\n",
    "na_values"
   ]
  },
  {
   "cell_type": "code",
   "execution_count": 20,
   "metadata": {},
   "outputs": [
    {
     "data": {
      "text/html": [
       "<div>\n",
       "<style scoped>\n",
       "    .dataframe tbody tr th:only-of-type {\n",
       "        vertical-align: middle;\n",
       "    }\n",
       "\n",
       "    .dataframe tbody tr th {\n",
       "        vertical-align: top;\n",
       "    }\n",
       "\n",
       "    .dataframe thead th {\n",
       "        text-align: right;\n",
       "    }\n",
       "</style>\n",
       "<table border=\"1\" class=\"dataframe\">\n",
       "  <thead>\n",
       "    <tr style=\"text-align: right;\">\n",
       "      <th></th>\n",
       "      <th>Data.Scores.Aftertaste</th>\n",
       "      <th>Data.Scores.Acidity</th>\n",
       "      <th>Data.Scores.Body</th>\n",
       "      <th>Data.Scores.Balance</th>\n",
       "      <th>Data.Type.Species</th>\n",
       "      <th>Data.Color</th>\n",
       "    </tr>\n",
       "  </thead>\n",
       "  <tbody>\n",
       "    <tr>\n",
       "      <th>10</th>\n",
       "      <td>8.00</td>\n",
       "      <td>8.00</td>\n",
       "      <td>8.00</td>\n",
       "      <td>8.00</td>\n",
       "      <td>Arabica</td>\n",
       "      <td>Green</td>\n",
       "    </tr>\n",
       "    <tr>\n",
       "      <th>11</th>\n",
       "      <td>8.00</td>\n",
       "      <td>7.75</td>\n",
       "      <td>8.00</td>\n",
       "      <td>8.00</td>\n",
       "      <td>Arabica</td>\n",
       "      <td>Green</td>\n",
       "    </tr>\n",
       "    <tr>\n",
       "      <th>12</th>\n",
       "      <td>8.00</td>\n",
       "      <td>8.00</td>\n",
       "      <td>7.75</td>\n",
       "      <td>8.00</td>\n",
       "      <td>Arabica</td>\n",
       "      <td>Blue-Green</td>\n",
       "    </tr>\n",
       "    <tr>\n",
       "      <th>13</th>\n",
       "      <td>8.00</td>\n",
       "      <td>7.67</td>\n",
       "      <td>7.75</td>\n",
       "      <td>8.00</td>\n",
       "      <td>Arabica</td>\n",
       "      <td>Blue-Green</td>\n",
       "    </tr>\n",
       "    <tr>\n",
       "      <th>14</th>\n",
       "      <td>7.75</td>\n",
       "      <td>7.75</td>\n",
       "      <td>8.00</td>\n",
       "      <td>7.75</td>\n",
       "      <td>Arabica</td>\n",
       "      <td>Green</td>\n",
       "    </tr>\n",
       "    <tr>\n",
       "      <th>...</th>\n",
       "      <td>...</td>\n",
       "      <td>...</td>\n",
       "      <td>...</td>\n",
       "      <td>...</td>\n",
       "      <td>...</td>\n",
       "      <td>...</td>\n",
       "    </tr>\n",
       "    <tr>\n",
       "      <th>983</th>\n",
       "      <td>6.75</td>\n",
       "      <td>6.92</td>\n",
       "      <td>7.00</td>\n",
       "      <td>6.92</td>\n",
       "      <td>Arabica</td>\n",
       "      <td>Green</td>\n",
       "    </tr>\n",
       "    <tr>\n",
       "      <th>984</th>\n",
       "      <td>7.42</td>\n",
       "      <td>7.42</td>\n",
       "      <td>7.67</td>\n",
       "      <td>7.67</td>\n",
       "      <td>Arabica</td>\n",
       "      <td>Green</td>\n",
       "    </tr>\n",
       "    <tr>\n",
       "      <th>985</th>\n",
       "      <td>0.00</td>\n",
       "      <td>0.00</td>\n",
       "      <td>0.00</td>\n",
       "      <td>0.00</td>\n",
       "      <td>Arabica</td>\n",
       "      <td>Green</td>\n",
       "    </tr>\n",
       "    <tr>\n",
       "      <th>987</th>\n",
       "      <td>7.83</td>\n",
       "      <td>7.67</td>\n",
       "      <td>7.92</td>\n",
       "      <td>7.83</td>\n",
       "      <td>Robusta</td>\n",
       "      <td>Bluish-Green</td>\n",
       "    </tr>\n",
       "    <tr>\n",
       "      <th>988</th>\n",
       "      <td>7.08</td>\n",
       "      <td>7.42</td>\n",
       "      <td>7.50</td>\n",
       "      <td>7.33</td>\n",
       "      <td>Arabica</td>\n",
       "      <td>Blue-Green</td>\n",
       "    </tr>\n",
       "  </tbody>\n",
       "</table>\n",
       "<p>879 rows × 6 columns</p>\n",
       "</div>"
      ],
      "text/plain": [
       "     Data.Scores.Aftertaste  Data.Scores.Acidity  Data.Scores.Body  \\\n",
       "10                     8.00                 8.00              8.00   \n",
       "11                     8.00                 7.75              8.00   \n",
       "12                     8.00                 8.00              7.75   \n",
       "13                     8.00                 7.67              7.75   \n",
       "14                     7.75                 7.75              8.00   \n",
       "..                      ...                  ...               ...   \n",
       "983                    6.75                 6.92              7.00   \n",
       "984                    7.42                 7.42              7.67   \n",
       "985                    0.00                 0.00              0.00   \n",
       "987                    7.83                 7.67              7.92   \n",
       "988                    7.08                 7.42              7.50   \n",
       "\n",
       "     Data.Scores.Balance Data.Type.Species    Data.Color  \n",
       "10                  8.00           Arabica         Green  \n",
       "11                  8.00           Arabica         Green  \n",
       "12                  8.00           Arabica    Blue-Green  \n",
       "13                  8.00           Arabica    Blue-Green  \n",
       "14                  7.75           Arabica         Green  \n",
       "..                   ...               ...           ...  \n",
       "983                 6.92           Arabica         Green  \n",
       "984                 7.67           Arabica         Green  \n",
       "985                 0.00           Arabica         Green  \n",
       "987                 7.83           Robusta  Bluish-Green  \n",
       "988                 7.33           Arabica    Blue-Green  \n",
       "\n",
       "[879 rows x 6 columns]"
      ]
     },
     "execution_count": 20,
     "metadata": {},
     "output_type": "execute_result"
    }
   ],
   "source": [
    "df_seven.drop(na_values)"
   ]
  },
  {
   "cell_type": "markdown",
   "metadata": {},
   "source": [
    "I dropped 3 rows."
   ]
  },
  {
   "cell_type": "code",
   "execution_count": 22,
   "metadata": {},
   "outputs": [
    {
     "data": {
      "text/plain": [
       "<Axes: >"
      ]
     },
     "execution_count": 22,
     "metadata": {},
     "output_type": "execute_result"
    },
    {
     "data": {
      "image/png": "[encoded data removed]",
      "text/plain": [
       "<Figure size 640x480 with 1 Axes>"
      ]
     },
     "metadata": {},
     "output_type": "display_data"
    }
   ],
   "source": [
    "sns.boxplot(data=df_seven_drop[[\"Data.Scores.Aftertaste\",\"Data.Scores.Acidity\",\"Data.Scores.Body\",\"Data.Scores.Balance\"]], orient=\"h\")"
   ]
  },
  {
   "cell_type": "markdown",
   "metadata": {},
   "source": [
    "### 2.6. Outlier Cleaning Pros and Cons\n",
    "\n",
    "1. When thinking about our research goal, what is one potential reason for why we may want to clean the outliers from our dataset?\n",
    "2. When thinking about our research goal, what is one potential reason for why we may NOT want to clean the outliers from our dataset?"
   ]
  },
  {
   "cell_type": "markdown",
   "metadata": {},
   "source": [
    "One reason why we want to clean outliers from the dataset is to remove any externalities that may be caused by human error when data was entered. One reason we might not want to clean the outliers is in case the data wasn't caused by error then the outlier would be valid to include because it gives a complete view of the data. "
   ]
  },
  {
   "cell_type": "markdown",
   "metadata": {},
   "source": [
    "### 2.7. Suitability of the the Correlation\n",
    "\n",
    "After performing our outlier cleaning above, is the correlation a suitable metric for evaluating the strength of the pairwise numerical relationships shown above? Explain."
   ]
  },
  {
   "cell_type": "markdown",
   "metadata": {},
   "source": [
    "I believe the correlation is a suitable metric for evaluating the strength. After cleaning the outliers we can see an overall metric of each relationship that isn't affected by externalities and outliers. The correlation is a more accurate metric of the data."
   ]
  },
  {
   "cell_type": "markdown",
   "metadata": {},
   "source": [
    "## 3. Pre-Analysis Questions\n",
    "\n",
    "### 3.1. Strongest Numerical Explanatory Variable  Relationship\n",
    "\n",
    "Which `numerical explanatory variable` has the STRONGEST relationship with our response variable `Flavor`? Explain."
   ]
  },
  {
   "cell_type": "code",
   "execution_count": 36,
   "metadata": {},
   "outputs": [
    {
     "data": {
      "text/html": [
       "<div>\n",
       "<style scoped>\n",
       "    .dataframe tbody tr th:only-of-type {\n",
       "        vertical-align: middle;\n",
       "    }\n",
       "\n",
       "    .dataframe tbody tr th {\n",
       "        vertical-align: top;\n",
       "    }\n",
       "\n",
       "    .dataframe thead th {\n",
       "        text-align: right;\n",
       "    }\n",
       "</style>\n",
       "<table border=\"1\" class=\"dataframe\">\n",
       "  <thead>\n",
       "    <tr style=\"text-align: right;\">\n",
       "      <th></th>\n",
       "      <th>Data.Scores.Aftertaste</th>\n",
       "      <th>Data.Scores.Acidity</th>\n",
       "      <th>Data.Scores.Body</th>\n",
       "      <th>Data.Scores.Balance</th>\n",
       "      <th>Data.Scores.Flavor</th>\n",
       "    </tr>\n",
       "  </thead>\n",
       "  <tbody>\n",
       "    <tr>\n",
       "      <th>Data.Scores.Aftertaste</th>\n",
       "      <td>1.000000</td>\n",
       "      <td>0.816236</td>\n",
       "      <td>0.757161</td>\n",
       "      <td>0.850883</td>\n",
       "      <td>0.912222</td>\n",
       "    </tr>\n",
       "    <tr>\n",
       "      <th>Data.Scores.Acidity</th>\n",
       "      <td>0.816236</td>\n",
       "      <td>1.000000</td>\n",
       "      <td>0.729271</td>\n",
       "      <td>0.774362</td>\n",
       "      <td>0.842333</td>\n",
       "    </tr>\n",
       "    <tr>\n",
       "      <th>Data.Scores.Body</th>\n",
       "      <td>0.757161</td>\n",
       "      <td>0.729271</td>\n",
       "      <td>1.000000</td>\n",
       "      <td>0.780810</td>\n",
       "      <td>0.758173</td>\n",
       "    </tr>\n",
       "    <tr>\n",
       "      <th>Data.Scores.Balance</th>\n",
       "      <td>0.850883</td>\n",
       "      <td>0.774362</td>\n",
       "      <td>0.780810</td>\n",
       "      <td>1.000000</td>\n",
       "      <td>0.830330</td>\n",
       "    </tr>\n",
       "    <tr>\n",
       "      <th>Data.Scores.Flavor</th>\n",
       "      <td>0.912222</td>\n",
       "      <td>0.842333</td>\n",
       "      <td>0.758173</td>\n",
       "      <td>0.830330</td>\n",
       "      <td>1.000000</td>\n",
       "    </tr>\n",
       "  </tbody>\n",
       "</table>\n",
       "</div>"
      ],
      "text/plain": [
       "                        Data.Scores.Aftertaste  Data.Scores.Acidity  \\\n",
       "Data.Scores.Aftertaste                1.000000             0.816236   \n",
       "Data.Scores.Acidity                   0.816236             1.000000   \n",
       "Data.Scores.Body                      0.757161             0.729271   \n",
       "Data.Scores.Balance                   0.850883             0.774362   \n",
       "Data.Scores.Flavor                    0.912222             0.842333   \n",
       "\n",
       "                        Data.Scores.Body  Data.Scores.Balance  \\\n",
       "Data.Scores.Aftertaste          0.757161             0.850883   \n",
       "Data.Scores.Acidity             0.729271             0.774362   \n",
       "Data.Scores.Body                1.000000             0.780810   \n",
       "Data.Scores.Balance             0.780810             1.000000   \n",
       "Data.Scores.Flavor              0.758173             0.830330   \n",
       "\n",
       "                        Data.Scores.Flavor  \n",
       "Data.Scores.Aftertaste            0.912222  \n",
       "Data.Scores.Acidity               0.842333  \n",
       "Data.Scores.Body                  0.758173  \n",
       "Data.Scores.Balance               0.830330  \n",
       "Data.Scores.Flavor                1.000000  "
      ]
     },
     "execution_count": 36,
     "metadata": {},
     "output_type": "execute_result"
    }
   ],
   "source": [
    "df[['Data.Scores.Aftertaste', 'Data.Scores.Acidity', 'Data.Scores.Body', 'Data.Scores.Balance', 'Data.Scores.Flavor']].corr()"
   ]
  },
  {
   "cell_type": "markdown",
   "metadata": {},
   "source": [
    "The Aftertaste has the strongest relationship with a correlation of 0.91 with Flavor."
   ]
  },
  {
   "cell_type": "code",
   "execution_count": null,
   "metadata": {},
   "outputs": [],
   "source": []
  },
  {
   "cell_type": "markdown",
   "metadata": {},
   "source": [
    "### 3.2. Best Fit Line\n",
    "\n",
    "Create a single scatterplot showing the relationship between `Flavor` and this numerical explanatory variable that you selected in 3.1. Plot a best fit line over this scatterplot."
   ]
  },
  {
   "cell_type": "code",
   "execution_count": 37,
   "metadata": {},
   "outputs": [
    {
     "data": {
      "text/plain": [
       "<Axes: xlabel='Data.Scores.Flavor', ylabel='Data.Scores.Aftertaste'>"
      ]
     },
     "execution_count": 37,
     "metadata": {},
     "output_type": "execute_result"
    },
    {
     "data": {
      "image/png": "[encoded data removed]",
      "text/plain": [
       "<Figure size 640x480 with 1 Axes>"
      ]
     },
     "metadata": {},
     "output_type": "display_data"
    }
   ],
   "source": [
    "sns.scatterplot(data=df, x=\"Data.Scores.Flavor\", y=\"Data.Scores.Aftertaste\")"
   ]
  },
  {
   "cell_type": "markdown",
   "metadata": {},
   "source": [
    "### 3.3. Strongest  Categorical Explanatory Variable Relationship\n",
    "\n",
    "1. Which categorical explantory variable has the STRONGEST relationship with our response variable `Flavor`? Explain.\n",
    "2. Do either of these categorical explanatory variables show STRONG relationship with our response variable `Flavor`? Explain.\n",
    "\n",
    "*Hint: There are two figures/visualizations that you should show to explain this*"
   ]
  },
  {
   "cell_type": "code",
   "execution_count": 40,
   "metadata": {},
   "outputs": [
    {
     "data": {
      "text/plain": [
       "Data.Type.Species     no\n",
       "Data.Color            no\n",
       "Data.Scores.Flavor    no\n",
       "dtype: object"
      ]
     },
     "execution_count": 40,
     "metadata": {},
     "output_type": "execute_result"
    }
   ],
   "source": [
    "df[['Data.Type.Species', 'Data.Color','Data.Scores.Flavor']].apply(lambda x: ('Data.Scores.Flavor' in x)).replace({True: 'yes',False:'no'})"
   ]
  },
  {
   "cell_type": "code",
   "execution_count": 54,
   "metadata": {},
   "outputs": [
    {
     "data": {
      "text/plain": [
       "<Axes: xlabel='Data.Scores.Flavor', ylabel='Data.Type.Species'>"
      ]
     },
     "execution_count": 54,
     "metadata": {},
     "output_type": "execute_result"
    },
    {
     "data": {
      "image/png": "[encoded data removed]",
      "text/plain": [
       "<Figure size 640x480 with 1 Axes>"
      ]
     },
     "metadata": {},
     "output_type": "display_data"
    }
   ],
   "source": [
    "sns.scatterplot(data=df, x=\"Data.Scores.Flavor\", y=\"Data.Type.Species\")"
   ]
  },
  {
   "cell_type": "code",
   "execution_count": 55,
   "metadata": {},
   "outputs": [
    {
     "data": {
      "text/plain": [
       "<Axes: xlabel='Data.Scores.Flavor', ylabel='Data.Color'>"
      ]
     },
     "execution_count": 55,
     "metadata": {},
     "output_type": "execute_result"
    },
    {
     "data": {
      "image/png": "[encoded data removed]",
      "text/plain": [
       "<Figure size 640x480 with 1 Axes>"
      ]
     },
     "metadata": {},
     "output_type": "display_data"
    }
   ],
   "source": [
    "sns.scatterplot(data=df, x=\"Data.Scores.Flavor\", y=\"Data.Color\")"
   ]
  },
  {
   "cell_type": "code",
   "execution_count": 48,
   "metadata": {},
   "outputs": [
    {
     "data": {
      "image/png": "[encoded data removed]",
      "text/plain": [
       "<Figure size 640x480 with 1 Axes>"
      ]
     },
     "metadata": {},
     "output_type": "display_data"
    }
   ],
   "source": [
    "sns.boxplot(x='Data.Scores.Flavor',y='Data.Type.Species',data=df)\n",
    "plt.show()"
   ]
  },
  {
   "cell_type": "code",
   "execution_count": 52,
   "metadata": {},
   "outputs": [
    {
     "data": {
      "image/png": "[encoded data removed]",
      "text/plain": [
       "<Figure size 640x480 with 1 Axes>"
      ]
     },
     "metadata": {},
     "output_type": "display_data"
    }
   ],
   "source": [
    "sns.boxplot(x='Data.Scores.Flavor',y='Data.Color',data=df)\n",
    "plt.show()"
   ]
  },
  {
   "cell_type": "code",
   "execution_count": 53,
   "metadata": {},
   "outputs": [
    {
     "data": {
      "image/png": "[encoded data removed]",
      "text/plain": [
       "<Figure size 640x480 with 1 Axes>"
      ]
     },
     "metadata": {},
     "output_type": "display_data"
    }
   ],
   "source": [
    "sns.violinplot(x='Data.Scores.Flavor',y='Data.Color',data=df)\n",
    "plt.show()"
   ]
  },
  {
   "cell_type": "code",
   "execution_count": 51,
   "metadata": {},
   "outputs": [
    {
     "data": {
      "image/png": "[encoded data removed]",
      "text/plain": [
       "<Figure size 640x480 with 1 Axes>"
      ]
     },
     "metadata": {},
     "output_type": "display_data"
    }
   ],
   "source": [
    "sns.violinplot(x='Data.Scores.Flavor',y='Data.Type.Species',data=df)\n",
    "plt.show()"
   ]
  },
  {
   "cell_type": "markdown",
   "metadata": {},
   "source": [
    "The species has a stronger correlation due to having less overlap than the color."
   ]
  },
  {
   "cell_type": "markdown",
   "metadata": {},
   "source": [
    "### 3.4 Multicollinearity of the Numerical Explanatory Variables\n",
    "\n",
    "Do our explanatory variable exhibit what we described as \"multicollinearity\" in the Unit 2 notes? Explain."
   ]
  },
  {
   "cell_type": "code",
   "execution_count": null,
   "metadata": {},
   "outputs": [],
   "source": []
  },
  {
   "cell_type": "code",
   "execution_count": null,
   "metadata": {},
   "outputs": [],
   "source": []
  },
  {
   "cell_type": "markdown",
   "metadata": {},
   "source": []
  },
  {
   "cell_type": "markdown",
   "metadata": {},
   "source": [
    "### 3.5. Association of the Categorical Explanatory Variables\n",
    "\n",
    "Is there a STRONG association between our two categorical explanatory variables? Use the appropriate visualization to discuss this."
   ]
  },
  {
   "cell_type": "code",
   "execution_count": null,
   "metadata": {},
   "outputs": [],
   "source": []
  },
  {
   "cell_type": "code",
   "execution_count": null,
   "metadata": {},
   "outputs": [],
   "source": []
  },
  {
   "cell_type": "raw",
   "metadata": {},
   "source": []
  },
  {
   "cell_type": "markdown",
   "metadata": {},
   "source": [
    "## 4. Searching for Interaction Effects\n",
    "\n",
    "1. Is there an interaction between how `Species` and `Aftertaste` effect `Flavor`? \n",
    "2. Is there an interaction between how `Species` and `Acidity` effect `Flavor`? \n",
    "3. Is there an interaction between how `Species` and `Body` effect `Flavor`? \n",
    "4. Is there an interaction between how `Color` and `Aftertaste` effect `Flavor`? \n",
    "5. Is there an interaction between how `Color` and `Acidity` effect `Flavor`? \n",
    "6. Is there an interaction between how `Color` and `Body` effect `Flavor`? \n",
    "\n",
    "You should create and interpret 6 visualizations to help you answer this."
   ]
  },
  {
   "cell_type": "markdown",
   "metadata": {},
   "source": []
  },
  {
   "cell_type": "code",
   "execution_count": null,
   "metadata": {},
   "outputs": [],
   "source": []
  },
  {
   "cell_type": "code",
   "execution_count": null,
   "metadata": {},
   "outputs": [],
   "source": []
  },
  {
   "cell_type": "code",
   "execution_count": null,
   "metadata": {},
   "outputs": [],
   "source": []
  },
  {
   "cell_type": "code",
   "execution_count": null,
   "metadata": {},
   "outputs": [],
   "source": []
  },
  {
   "cell_type": "code",
   "execution_count": null,
   "metadata": {},
   "outputs": [],
   "source": []
  },
  {
   "cell_type": "code",
   "execution_count": null,
   "metadata": {},
   "outputs": [],
   "source": []
  }
 ],
 "metadata": {
  "kernelspec": {
   "display_name": "Python 3 (ipykernel)",
   "language": "python",
   "name": "python3"
  },
  "language_info": {
   "codemirror_mode": {
    "name": "ipython",
    "version": 3
   },
   "file_extension": ".py",
   "mimetype": "text/x-python",
   "name": "python",
   "nbconvert_exporter": "python",
   "pygments_lexer": "ipython3",
   "version": "3.11.4"
  }
 },
 "nbformat": 4,
 "nbformat_minor": 2
}
