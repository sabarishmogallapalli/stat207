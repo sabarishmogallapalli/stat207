{
 "cells": [
  {
   "cell_type": "markdown",
   "metadata": {},
   "source": [
    "# STAT207 Mini-Project #1 - INSERT TITLE HERE\n",
    "\n",
    "\n",
    "YOUR NAME"
   ]
  },
  {
   "cell_type": "markdown",
   "metadata": {},
   "source": [
    "**Delete this code block before submitting**\n",
    "\n",
    "You should delete and add cells as you see fit.\n",
    "\n",
    "Don't forget to put written text in **markdown** cells. To change a cell from a <u>code block</u> to a <u>markdown cell</u>:\n",
    "* Click on the cell you'd like to modify.\n",
    "* Go to 'Cell' at the top of the page.\n",
    "* Go to 'Cell Type' in the drop down menu and click on either 'Code' or 'Markdown'.\n"
   ]
  },
  {
   "cell_type": "code",
   "execution_count": 2,
   "metadata": {},
   "outputs": [],
   "source": [
    "#Imports here\n",
    "import pandas as pd\n",
    "import numpy as np\n",
    "import seaborn as sns\n",
    "import matplotlib.pyplot as plt\n",
    "import numpy as np\n",
    "import statsmodels.formula.api as smf"
   ]
  },
  {
   "cell_type": "markdown",
   "metadata": {},
   "source": [
    "## 1. Introduction"
   ]
  },
  {
   "cell_type": "markdown",
   "metadata": {},
   "source": [
    "How does the nature of the relationship between product name and price change for different values of brand\n",
    "<!-- Can add rating too -->"
   ]
  },
  {
   "cell_type": "markdown",
   "metadata": {},
   "source": [
    "My motivation to analyze the dataset and find the answer to this question is to gauge how much brand name plays factor in terms of price, rating, and purchase power. In today's world where most of fashion industry and society is starting to move towards away from brand loyalty.\n",
    "\n",
    "One type of audience that might find the answer to this question helpful are people who are sticking to brand loyalty. This audience can use the findings from this dataset to analyze how much more money they are spending by sticking to brand loyalty and how much they could save if they strayed away from it."
   ]
  },
  {
   "cell_type": "code",
   "execution_count": null,
   "metadata": {},
   "outputs": [],
   "source": []
  },
  {
   "cell_type": "markdown",
   "metadata": {},
   "source": [
    "## 2. Dataset Discussion"
   ]
  },
  {
   "cell_type": "markdown",
   "metadata": {},
   "source": [
    "I got the fashion_products.csv dataset from kaggle. Here is the link to the dataset: https://www.kaggle.com/datasets/bhanupratapbiswas/fashion-products. I downloaded this file at 11:51 PM on Thursday September 21, 2023. Each row/observation in the dataset is a clothing product. The source doesn't state how the information from the dataset was found. This data is pretty inclusive as it has varieties of clothing and shoes, gender, and ages. The dataset leaves out whether the kids is either boys or girls. The dataset could also include toddler vs kid vs baby just to make the dataset more transparent. Because most of the people viewing this dataset and analysis are older, if they are parents it would be helpful for them to know which brands to buy from in order to budget properly. The three variables I will explore are Product Name, Brand, and Price. Product Name categorizes what type of category the article of clothing is whether it be shoes or dresses or jeans or other. The brand name categorizes the manufacture of that article of clothing. The price categorizes the cost of that product and also brings a valuation for that product item."
   ]
  },
  {
   "cell_type": "code",
   "execution_count": 17,
   "metadata": {},
   "outputs": [
    {
     "data": {
      "text/html": [
       "<div>\n",
       "<style scoped>\n",
       "    .dataframe tbody tr th:only-of-type {\n",
       "        vertical-align: middle;\n",
       "    }\n",
       "\n",
       "    .dataframe tbody tr th {\n",
       "        vertical-align: top;\n",
       "    }\n",
       "\n",
       "    .dataframe thead th {\n",
       "        text-align: right;\n",
       "    }\n",
       "</style>\n",
       "<table border=\"1\" class=\"dataframe\">\n",
       "  <thead>\n",
       "    <tr style=\"text-align: right;\">\n",
       "      <th></th>\n",
       "      <th>User ID</th>\n",
       "      <th>Product ID</th>\n",
       "      <th>Product Name</th>\n",
       "      <th>Brand</th>\n",
       "      <th>Category</th>\n",
       "      <th>Price</th>\n",
       "      <th>Rating</th>\n",
       "      <th>Color</th>\n",
       "      <th>Size</th>\n",
       "    </tr>\n",
       "  </thead>\n",
       "  <tbody>\n",
       "    <tr>\n",
       "      <th>0</th>\n",
       "      <td>19</td>\n",
       "      <td>1</td>\n",
       "      <td>Dress</td>\n",
       "      <td>Adidas</td>\n",
       "      <td>Men's Fashion</td>\n",
       "      <td>40</td>\n",
       "      <td>1.043159</td>\n",
       "      <td>Black</td>\n",
       "      <td>XL</td>\n",
       "    </tr>\n",
       "    <tr>\n",
       "      <th>1</th>\n",
       "      <td>97</td>\n",
       "      <td>2</td>\n",
       "      <td>Shoes</td>\n",
       "      <td>H&amp;M</td>\n",
       "      <td>Women's Fashion</td>\n",
       "      <td>82</td>\n",
       "      <td>4.026416</td>\n",
       "      <td>Black</td>\n",
       "      <td>L</td>\n",
       "    </tr>\n",
       "    <tr>\n",
       "      <th>2</th>\n",
       "      <td>25</td>\n",
       "      <td>3</td>\n",
       "      <td>Dress</td>\n",
       "      <td>Adidas</td>\n",
       "      <td>Women's Fashion</td>\n",
       "      <td>44</td>\n",
       "      <td>3.337938</td>\n",
       "      <td>Yellow</td>\n",
       "      <td>XL</td>\n",
       "    </tr>\n",
       "    <tr>\n",
       "      <th>3</th>\n",
       "      <td>57</td>\n",
       "      <td>4</td>\n",
       "      <td>Shoes</td>\n",
       "      <td>Zara</td>\n",
       "      <td>Men's Fashion</td>\n",
       "      <td>23</td>\n",
       "      <td>1.049523</td>\n",
       "      <td>White</td>\n",
       "      <td>S</td>\n",
       "    </tr>\n",
       "    <tr>\n",
       "      <th>4</th>\n",
       "      <td>79</td>\n",
       "      <td>5</td>\n",
       "      <td>T-shirt</td>\n",
       "      <td>Adidas</td>\n",
       "      <td>Men's Fashion</td>\n",
       "      <td>79</td>\n",
       "      <td>4.302773</td>\n",
       "      <td>Black</td>\n",
       "      <td>M</td>\n",
       "    </tr>\n",
       "  </tbody>\n",
       "</table>\n",
       "</div>"
      ],
      "text/plain": [
       "   User ID  Product ID Product Name   Brand         Category  Price    Rating  \\\n",
       "0       19           1        Dress  Adidas    Men's Fashion     40  1.043159   \n",
       "1       97           2        Shoes     H&M  Women's Fashion     82  4.026416   \n",
       "2       25           3        Dress  Adidas  Women's Fashion     44  3.337938   \n",
       "3       57           4        Shoes    Zara    Men's Fashion     23  1.049523   \n",
       "4       79           5      T-shirt  Adidas    Men's Fashion     79  4.302773   \n",
       "\n",
       "    Color Size  \n",
       "0   Black   XL  \n",
       "1   Black    L  \n",
       "2  Yellow   XL  \n",
       "3   White    S  \n",
       "4   Black    M  "
      ]
     },
     "execution_count": 17,
     "metadata": {},
     "output_type": "execute_result"
    }
   ],
   "source": [
    "product_df = pd.read_csv(\"fashion_products.csv\")\n",
    "product_df.head()"
   ]
  },
  {
   "cell_type": "code",
   "execution_count": 18,
   "metadata": {},
   "outputs": [
    {
     "name": "stdout",
     "output_type": "stream",
     "text": [
      "Rows: 1000\n"
     ]
    }
   ],
   "source": [
    "print(f'Rows:',product_df.shape[0])"
   ]
  },
  {
   "cell_type": "code",
   "execution_count": 19,
   "metadata": {},
   "outputs": [
    {
     "data": {
      "text/plain": [
       "User ID           int64\n",
       "Product ID        int64\n",
       "Product Name     object\n",
       "Brand            object\n",
       "Category         object\n",
       "Price             int64\n",
       "Rating          float64\n",
       "Color            object\n",
       "Size             object\n",
       "dtype: object"
      ]
     },
     "execution_count": 19,
     "metadata": {},
     "output_type": "execute_result"
    }
   ],
   "source": [
    "product_df.dtypes"
   ]
  },
  {
   "cell_type": "markdown",
   "metadata": {},
   "source": [
    "## 3. Dataset Cleaning"
   ]
  },
  {
   "cell_type": "markdown",
   "metadata": {},
   "source": []
  },
  {
   "cell_type": "code",
   "execution_count": 21,
   "metadata": {},
   "outputs": [
    {
     "data": {
      "text/html": [
       "<div>\n",
       "<style scoped>\n",
       "    .dataframe tbody tr th:only-of-type {\n",
       "        vertical-align: middle;\n",
       "    }\n",
       "\n",
       "    .dataframe tbody tr th {\n",
       "        vertical-align: top;\n",
       "    }\n",
       "\n",
       "    .dataframe thead th {\n",
       "        text-align: right;\n",
       "    }\n",
       "</style>\n",
       "<table border=\"1\" class=\"dataframe\">\n",
       "  <thead>\n",
       "    <tr style=\"text-align: right;\">\n",
       "      <th></th>\n",
       "      <th>User ID</th>\n",
       "      <th>Product ID</th>\n",
       "      <th>Product Name</th>\n",
       "      <th>Brand</th>\n",
       "      <th>Category</th>\n",
       "      <th>Price</th>\n",
       "      <th>Rating</th>\n",
       "      <th>Color</th>\n",
       "      <th>Size</th>\n",
       "    </tr>\n",
       "  </thead>\n",
       "  <tbody>\n",
       "    <tr>\n",
       "      <th>0</th>\n",
       "      <td>19</td>\n",
       "      <td>1</td>\n",
       "      <td>Dress</td>\n",
       "      <td>Adidas</td>\n",
       "      <td>Men's Fashion</td>\n",
       "      <td>40</td>\n",
       "      <td>1.043159</td>\n",
       "      <td>Black</td>\n",
       "      <td>XL</td>\n",
       "    </tr>\n",
       "    <tr>\n",
       "      <th>1</th>\n",
       "      <td>97</td>\n",
       "      <td>2</td>\n",
       "      <td>Shoes</td>\n",
       "      <td>H&amp;M</td>\n",
       "      <td>Women's Fashion</td>\n",
       "      <td>82</td>\n",
       "      <td>4.026416</td>\n",
       "      <td>Black</td>\n",
       "      <td>L</td>\n",
       "    </tr>\n",
       "    <tr>\n",
       "      <th>2</th>\n",
       "      <td>25</td>\n",
       "      <td>3</td>\n",
       "      <td>Dress</td>\n",
       "      <td>Adidas</td>\n",
       "      <td>Women's Fashion</td>\n",
       "      <td>44</td>\n",
       "      <td>3.337938</td>\n",
       "      <td>Yellow</td>\n",
       "      <td>XL</td>\n",
       "    </tr>\n",
       "    <tr>\n",
       "      <th>3</th>\n",
       "      <td>57</td>\n",
       "      <td>4</td>\n",
       "      <td>Shoes</td>\n",
       "      <td>Zara</td>\n",
       "      <td>Men's Fashion</td>\n",
       "      <td>23</td>\n",
       "      <td>1.049523</td>\n",
       "      <td>White</td>\n",
       "      <td>S</td>\n",
       "    </tr>\n",
       "    <tr>\n",
       "      <th>4</th>\n",
       "      <td>79</td>\n",
       "      <td>5</td>\n",
       "      <td>T-shirt</td>\n",
       "      <td>Adidas</td>\n",
       "      <td>Men's Fashion</td>\n",
       "      <td>79</td>\n",
       "      <td>4.302773</td>\n",
       "      <td>Black</td>\n",
       "      <td>M</td>\n",
       "    </tr>\n",
       "    <tr>\n",
       "      <th>...</th>\n",
       "      <td>...</td>\n",
       "      <td>...</td>\n",
       "      <td>...</td>\n",
       "      <td>...</td>\n",
       "      <td>...</td>\n",
       "      <td>...</td>\n",
       "      <td>...</td>\n",
       "      <td>...</td>\n",
       "      <td>...</td>\n",
       "    </tr>\n",
       "    <tr>\n",
       "      <th>995</th>\n",
       "      <td>20</td>\n",
       "      <td>996</td>\n",
       "      <td>Shoes</td>\n",
       "      <td>Zara</td>\n",
       "      <td>Women's Fashion</td>\n",
       "      <td>55</td>\n",
       "      <td>1.620081</td>\n",
       "      <td>Black</td>\n",
       "      <td>M</td>\n",
       "    </tr>\n",
       "    <tr>\n",
       "      <th>996</th>\n",
       "      <td>42</td>\n",
       "      <td>997</td>\n",
       "      <td>Sweater</td>\n",
       "      <td>Nike</td>\n",
       "      <td>Kids' Fashion</td>\n",
       "      <td>13</td>\n",
       "      <td>1.544464</td>\n",
       "      <td>Green</td>\n",
       "      <td>L</td>\n",
       "    </tr>\n",
       "    <tr>\n",
       "      <th>997</th>\n",
       "      <td>9</td>\n",
       "      <td>998</td>\n",
       "      <td>Sweater</td>\n",
       "      <td>Zara</td>\n",
       "      <td>Men's Fashion</td>\n",
       "      <td>47</td>\n",
       "      <td>3.961913</td>\n",
       "      <td>White</td>\n",
       "      <td>L</td>\n",
       "    </tr>\n",
       "    <tr>\n",
       "      <th>998</th>\n",
       "      <td>8</td>\n",
       "      <td>999</td>\n",
       "      <td>T-shirt</td>\n",
       "      <td>Zara</td>\n",
       "      <td>Women's Fashion</td>\n",
       "      <td>68</td>\n",
       "      <td>3.089722</td>\n",
       "      <td>Blue</td>\n",
       "      <td>S</td>\n",
       "    </tr>\n",
       "    <tr>\n",
       "      <th>999</th>\n",
       "      <td>91</td>\n",
       "      <td>1000</td>\n",
       "      <td>Shoes</td>\n",
       "      <td>Adidas</td>\n",
       "      <td>Women's Fashion</td>\n",
       "      <td>79</td>\n",
       "      <td>3.093553</td>\n",
       "      <td>White</td>\n",
       "      <td>L</td>\n",
       "    </tr>\n",
       "  </tbody>\n",
       "</table>\n",
       "<p>1000 rows × 9 columns</p>\n",
       "</div>"
      ],
      "text/plain": [
       "     User ID  Product ID Product Name   Brand         Category  Price  \\\n",
       "0         19           1        Dress  Adidas    Men's Fashion     40   \n",
       "1         97           2        Shoes     H&M  Women's Fashion     82   \n",
       "2         25           3        Dress  Adidas  Women's Fashion     44   \n",
       "3         57           4        Shoes    Zara    Men's Fashion     23   \n",
       "4         79           5      T-shirt  Adidas    Men's Fashion     79   \n",
       "..       ...         ...          ...     ...              ...    ...   \n",
       "995       20         996        Shoes    Zara  Women's Fashion     55   \n",
       "996       42         997      Sweater    Nike    Kids' Fashion     13   \n",
       "997        9         998      Sweater    Zara    Men's Fashion     47   \n",
       "998        8         999      T-shirt    Zara  Women's Fashion     68   \n",
       "999       91        1000        Shoes  Adidas  Women's Fashion     79   \n",
       "\n",
       "       Rating   Color Size  \n",
       "0    1.043159   Black   XL  \n",
       "1    4.026416   Black    L  \n",
       "2    3.337938  Yellow   XL  \n",
       "3    1.049523   White    S  \n",
       "4    4.302773   Black    M  \n",
       "..        ...     ...  ...  \n",
       "995  1.620081   Black    M  \n",
       "996  1.544464   Green    L  \n",
       "997  3.961913   White    L  \n",
       "998  3.089722    Blue    S  \n",
       "999  3.093553   White    L  \n",
       "\n",
       "[1000 rows x 9 columns]"
      ]
     },
     "execution_count": 21,
     "metadata": {},
     "output_type": "execute_result"
    }
   ],
   "source": [
    "product_df_copy = product_df.copy()\n",
    "product_df_copy"
   ]
  },
  {
   "cell_type": "code",
   "execution_count": 24,
   "metadata": {},
   "outputs": [
    {
     "data": {
      "text/html": [
       "<div>\n",
       "<style scoped>\n",
       "    .dataframe tbody tr th:only-of-type {\n",
       "        vertical-align: middle;\n",
       "    }\n",
       "\n",
       "    .dataframe tbody tr th {\n",
       "        vertical-align: top;\n",
       "    }\n",
       "\n",
       "    .dataframe thead th {\n",
       "        text-align: right;\n",
       "    }\n",
       "</style>\n",
       "<table border=\"1\" class=\"dataframe\">\n",
       "  <thead>\n",
       "    <tr style=\"text-align: right;\">\n",
       "      <th></th>\n",
       "      <th>Product Name</th>\n",
       "      <th>Brand</th>\n",
       "      <th>Price</th>\n",
       "    </tr>\n",
       "  </thead>\n",
       "  <tbody>\n",
       "    <tr>\n",
       "      <th>0</th>\n",
       "      <td>Dress</td>\n",
       "      <td>Adidas</td>\n",
       "      <td>40</td>\n",
       "    </tr>\n",
       "    <tr>\n",
       "      <th>1</th>\n",
       "      <td>Shoes</td>\n",
       "      <td>H&amp;M</td>\n",
       "      <td>82</td>\n",
       "    </tr>\n",
       "    <tr>\n",
       "      <th>2</th>\n",
       "      <td>Dress</td>\n",
       "      <td>Adidas</td>\n",
       "      <td>44</td>\n",
       "    </tr>\n",
       "    <tr>\n",
       "      <th>3</th>\n",
       "      <td>Shoes</td>\n",
       "      <td>Zara</td>\n",
       "      <td>23</td>\n",
       "    </tr>\n",
       "    <tr>\n",
       "      <th>4</th>\n",
       "      <td>T-shirt</td>\n",
       "      <td>Adidas</td>\n",
       "      <td>79</td>\n",
       "    </tr>\n",
       "    <tr>\n",
       "      <th>...</th>\n",
       "      <td>...</td>\n",
       "      <td>...</td>\n",
       "      <td>...</td>\n",
       "    </tr>\n",
       "    <tr>\n",
       "      <th>995</th>\n",
       "      <td>Shoes</td>\n",
       "      <td>Zara</td>\n",
       "      <td>55</td>\n",
       "    </tr>\n",
       "    <tr>\n",
       "      <th>996</th>\n",
       "      <td>Sweater</td>\n",
       "      <td>Nike</td>\n",
       "      <td>13</td>\n",
       "    </tr>\n",
       "    <tr>\n",
       "      <th>997</th>\n",
       "      <td>Sweater</td>\n",
       "      <td>Zara</td>\n",
       "      <td>47</td>\n",
       "    </tr>\n",
       "    <tr>\n",
       "      <th>998</th>\n",
       "      <td>T-shirt</td>\n",
       "      <td>Zara</td>\n",
       "      <td>68</td>\n",
       "    </tr>\n",
       "    <tr>\n",
       "      <th>999</th>\n",
       "      <td>Shoes</td>\n",
       "      <td>Adidas</td>\n",
       "      <td>79</td>\n",
       "    </tr>\n",
       "  </tbody>\n",
       "</table>\n",
       "<p>1000 rows × 3 columns</p>\n",
       "</div>"
      ],
      "text/plain": [
       "    Product Name   Brand  Price\n",
       "0          Dress  Adidas     40\n",
       "1          Shoes     H&M     82\n",
       "2          Dress  Adidas     44\n",
       "3          Shoes    Zara     23\n",
       "4        T-shirt  Adidas     79\n",
       "..           ...     ...    ...\n",
       "995        Shoes    Zara     55\n",
       "996      Sweater    Nike     13\n",
       "997      Sweater    Zara     47\n",
       "998      T-shirt    Zara     68\n",
       "999        Shoes  Adidas     79\n",
       "\n",
       "[1000 rows x 3 columns]"
      ]
     },
     "execution_count": 24,
     "metadata": {},
     "output_type": "execute_result"
    }
   ],
   "source": [
    "product_df_copy = product_df_copy[['Product Name','Brand','Price']]\n",
    "product_df_copy"
   ]
  },
  {
   "cell_type": "markdown",
   "metadata": {},
   "source": [
    "Missing Value Cleaning"
   ]
  },
  {
   "cell_type": "code",
   "execution_count": 27,
   "metadata": {},
   "outputs": [
    {
     "data": {
      "text/plain": [
       "array(['Dress', 'Shoes', 'T-shirt', 'Jeans', 'Sweater'], dtype=object)"
      ]
     },
     "execution_count": 27,
     "metadata": {},
     "output_type": "execute_result"
    }
   ],
   "source": [
    "product_df_copy['Product Name'].unique()"
   ]
  },
  {
   "cell_type": "code",
   "execution_count": 28,
   "metadata": {},
   "outputs": [
    {
     "data": {
      "text/plain": [
       "array(['Adidas', 'H&M', 'Zara', 'Gucci', 'Nike'], dtype=object)"
      ]
     },
     "execution_count": 28,
     "metadata": {},
     "output_type": "execute_result"
    }
   ],
   "source": [
    "product_df_copy['Brand'].unique()"
   ]
  },
  {
   "cell_type": "code",
   "execution_count": 29,
   "metadata": {},
   "outputs": [
    {
     "data": {
      "text/plain": [
       "array([ 40,  82,  44,  23,  79,  47,  37,  64,  53,  55,  51,  91,  35,\n",
       "        34,  54,  27,  75,  73,  56,  89,  15,  38,  21,  72,  32,  85,\n",
       "        99,  78,  80,  74,  48,  76,  90,  26,  43,  39,  62,  10,  52,\n",
       "        67,  59,  16,  33,  61,  93,  24,  25,  66,  41,  36,  68,  86,\n",
       "        11,  31,  49,  42,  50, 100,  70,  58,  30,  84,  95,  19,  13,\n",
       "        60,  71,  12,  96,  65,  81,  28,  14,  45,  57,  77,  88,  69,\n",
       "        98,  20,  87,  92,  17,  97,  94,  22,  29,  18,  63,  83,  46])"
      ]
     },
     "execution_count": 29,
     "metadata": {},
     "output_type": "execute_result"
    }
   ],
   "source": [
    "product_df_copy['Price'].unique()"
   ]
  },
  {
   "cell_type": "markdown",
   "metadata": {},
   "source": [
    "The Dataset has no implicit or explicit missing values. Due to it having no implicit or explicit missing values, I didn't have to drop any rows. "
   ]
  },
  {
   "cell_type": "markdown",
   "metadata": {},
   "source": [
    "The pros of using the missing values cleaning technique is to remove any externalities in the data that could skew the data (0's that are placed since value isn't there) and rows that don't have some values in some fields. The cons could be removing data that are meant to be, (0s that are meant to be there) believing they are implicit missing values which then removes crucial datapoints."
   ]
  },
  {
   "cell_type": "code",
   "execution_count": 30,
   "metadata": {},
   "outputs": [
    {
     "data": {
      "text/plain": [
       "Jeans      231\n",
       "Shoes      222\n",
       "T-shirt    201\n",
       "Dress      176\n",
       "Sweater    170\n",
       "Name: Product Name, dtype: int64"
      ]
     },
     "execution_count": 30,
     "metadata": {},
     "output_type": "execute_result"
    }
   ],
   "source": [
    "product_df_copy['Product Name'].value_counts()"
   ]
  },
  {
   "cell_type": "code",
   "execution_count": 31,
   "metadata": {},
   "outputs": [
    {
     "data": {
      "text/plain": [
       "Nike      214\n",
       "Zara      203\n",
       "Adidas    198\n",
       "H&M       194\n",
       "Gucci     191\n",
       "Name: Brand, dtype: int64"
      ]
     },
     "execution_count": 31,
     "metadata": {},
     "output_type": "execute_result"
    }
   ],
   "source": [
    "product_df_copy['Brand'].value_counts()"
   ]
  },
  {
   "cell_type": "code",
   "execution_count": 32,
   "metadata": {},
   "outputs": [
    {
     "data": {
      "text/plain": [
       "96     18\n",
       "80     18\n",
       "68     18\n",
       "55     18\n",
       "85     16\n",
       "       ..\n",
       "65      7\n",
       "54      6\n",
       "100     6\n",
       "87      5\n",
       "46      4\n",
       "Name: Price, Length: 91, dtype: int64"
      ]
     },
     "execution_count": 32,
     "metadata": {},
     "output_type": "execute_result"
    }
   ],
   "source": [
    "product_df_copy['Price'].value_counts()"
   ]
  },
  {
   "cell_type": "code",
   "execution_count": 45,
   "metadata": {},
   "outputs": [
    {
     "data": {
      "text/html": [
       "<div>\n",
       "<style scoped>\n",
       "    .dataframe tbody tr th:only-of-type {\n",
       "        vertical-align: middle;\n",
       "    }\n",
       "\n",
       "    .dataframe tbody tr th {\n",
       "        vertical-align: top;\n",
       "    }\n",
       "\n",
       "    .dataframe thead th {\n",
       "        text-align: right;\n",
       "    }\n",
       "</style>\n",
       "<table border=\"1\" class=\"dataframe\">\n",
       "  <thead>\n",
       "    <tr style=\"text-align: right;\">\n",
       "      <th></th>\n",
       "      <th>Product Name</th>\n",
       "      <th>Brand</th>\n",
       "      <th>counts</th>\n",
       "    </tr>\n",
       "  </thead>\n",
       "  <tbody>\n",
       "    <tr>\n",
       "      <th>0</th>\n",
       "      <td>Dress</td>\n",
       "      <td>Adidas</td>\n",
       "      <td>37</td>\n",
       "    </tr>\n",
       "    <tr>\n",
       "      <th>1</th>\n",
       "      <td>Dress</td>\n",
       "      <td>Gucci</td>\n",
       "      <td>25</td>\n",
       "    </tr>\n",
       "    <tr>\n",
       "      <th>2</th>\n",
       "      <td>Dress</td>\n",
       "      <td>H&amp;M</td>\n",
       "      <td>39</td>\n",
       "    </tr>\n",
       "    <tr>\n",
       "      <th>3</th>\n",
       "      <td>Dress</td>\n",
       "      <td>Nike</td>\n",
       "      <td>40</td>\n",
       "    </tr>\n",
       "    <tr>\n",
       "      <th>4</th>\n",
       "      <td>Dress</td>\n",
       "      <td>Zara</td>\n",
       "      <td>35</td>\n",
       "    </tr>\n",
       "    <tr>\n",
       "      <th>5</th>\n",
       "      <td>Jeans</td>\n",
       "      <td>Adidas</td>\n",
       "      <td>40</td>\n",
       "    </tr>\n",
       "    <tr>\n",
       "      <th>6</th>\n",
       "      <td>Jeans</td>\n",
       "      <td>Gucci</td>\n",
       "      <td>52</td>\n",
       "    </tr>\n",
       "    <tr>\n",
       "      <th>7</th>\n",
       "      <td>Jeans</td>\n",
       "      <td>H&amp;M</td>\n",
       "      <td>43</td>\n",
       "    </tr>\n",
       "    <tr>\n",
       "      <th>8</th>\n",
       "      <td>Jeans</td>\n",
       "      <td>Nike</td>\n",
       "      <td>54</td>\n",
       "    </tr>\n",
       "    <tr>\n",
       "      <th>9</th>\n",
       "      <td>Jeans</td>\n",
       "      <td>Zara</td>\n",
       "      <td>42</td>\n",
       "    </tr>\n",
       "    <tr>\n",
       "      <th>10</th>\n",
       "      <td>Shoes</td>\n",
       "      <td>Adidas</td>\n",
       "      <td>46</td>\n",
       "    </tr>\n",
       "    <tr>\n",
       "      <th>11</th>\n",
       "      <td>Shoes</td>\n",
       "      <td>Gucci</td>\n",
       "      <td>45</td>\n",
       "    </tr>\n",
       "    <tr>\n",
       "      <th>12</th>\n",
       "      <td>Shoes</td>\n",
       "      <td>H&amp;M</td>\n",
       "      <td>39</td>\n",
       "    </tr>\n",
       "    <tr>\n",
       "      <th>13</th>\n",
       "      <td>Shoes</td>\n",
       "      <td>Nike</td>\n",
       "      <td>43</td>\n",
       "    </tr>\n",
       "    <tr>\n",
       "      <th>14</th>\n",
       "      <td>Shoes</td>\n",
       "      <td>Zara</td>\n",
       "      <td>49</td>\n",
       "    </tr>\n",
       "    <tr>\n",
       "      <th>15</th>\n",
       "      <td>Sweater</td>\n",
       "      <td>Adidas</td>\n",
       "      <td>32</td>\n",
       "    </tr>\n",
       "    <tr>\n",
       "      <th>16</th>\n",
       "      <td>Sweater</td>\n",
       "      <td>Gucci</td>\n",
       "      <td>32</td>\n",
       "    </tr>\n",
       "    <tr>\n",
       "      <th>17</th>\n",
       "      <td>Sweater</td>\n",
       "      <td>H&amp;M</td>\n",
       "      <td>38</td>\n",
       "    </tr>\n",
       "    <tr>\n",
       "      <th>18</th>\n",
       "      <td>Sweater</td>\n",
       "      <td>Nike</td>\n",
       "      <td>30</td>\n",
       "    </tr>\n",
       "    <tr>\n",
       "      <th>19</th>\n",
       "      <td>Sweater</td>\n",
       "      <td>Zara</td>\n",
       "      <td>38</td>\n",
       "    </tr>\n",
       "    <tr>\n",
       "      <th>20</th>\n",
       "      <td>T-shirt</td>\n",
       "      <td>Adidas</td>\n",
       "      <td>43</td>\n",
       "    </tr>\n",
       "    <tr>\n",
       "      <th>21</th>\n",
       "      <td>T-shirt</td>\n",
       "      <td>Gucci</td>\n",
       "      <td>37</td>\n",
       "    </tr>\n",
       "    <tr>\n",
       "      <th>22</th>\n",
       "      <td>T-shirt</td>\n",
       "      <td>H&amp;M</td>\n",
       "      <td>35</td>\n",
       "    </tr>\n",
       "    <tr>\n",
       "      <th>23</th>\n",
       "      <td>T-shirt</td>\n",
       "      <td>Nike</td>\n",
       "      <td>47</td>\n",
       "    </tr>\n",
       "    <tr>\n",
       "      <th>24</th>\n",
       "      <td>T-shirt</td>\n",
       "      <td>Zara</td>\n",
       "      <td>39</td>\n",
       "    </tr>\n",
       "  </tbody>\n",
       "</table>\n",
       "</div>"
      ],
      "text/plain": [
       "   Product Name   Brand  counts\n",
       "0         Dress  Adidas      37\n",
       "1         Dress   Gucci      25\n",
       "2         Dress     H&M      39\n",
       "3         Dress    Nike      40\n",
       "4         Dress    Zara      35\n",
       "5         Jeans  Adidas      40\n",
       "6         Jeans   Gucci      52\n",
       "7         Jeans     H&M      43\n",
       "8         Jeans    Nike      54\n",
       "9         Jeans    Zara      42\n",
       "10        Shoes  Adidas      46\n",
       "11        Shoes   Gucci      45\n",
       "12        Shoes     H&M      39\n",
       "13        Shoes    Nike      43\n",
       "14        Shoes    Zara      49\n",
       "15      Sweater  Adidas      32\n",
       "16      Sweater   Gucci      32\n",
       "17      Sweater     H&M      38\n",
       "18      Sweater    Nike      30\n",
       "19      Sweater    Zara      38\n",
       "20      T-shirt  Adidas      43\n",
       "21      T-shirt   Gucci      37\n",
       "22      T-shirt     H&M      35\n",
       "23      T-shirt    Nike      47\n",
       "24      T-shirt    Zara      39"
      ]
     },
     "execution_count": 45,
     "metadata": {},
     "output_type": "execute_result"
    }
   ],
   "source": [
    "product_df_copy.groupby(['Product Name','Brand']).size().reset_index(name='counts')"
   ]
  },
  {
   "cell_type": "code",
   "execution_count": 48,
   "metadata": {},
   "outputs": [
    {
     "data": {
      "text/plain": [
       "<AxesSubplot: xlabel='Price'>"
      ]
     },
     "execution_count": 48,
     "metadata": {},
     "output_type": "execute_result"
    },
    {
     "data": {
      "image/png": "[encoded data removed]",
      "text/plain": [
       "<Figure size 640x480 with 1 Axes>"
      ]
     },
     "metadata": {},
     "output_type": "display_data"
    }
   ],
   "source": [
    "sns.boxplot(x=product_df[\"Price\"])"
   ]
  },
  {
   "cell_type": "markdown",
   "metadata": {},
   "source": [
    "## 4. <u>Research Question</u>: How does the Relationship between `x` and `y` Change based on Different Values of `z` in the Dataset?"
   ]
  },
  {
   "cell_type": "markdown",
   "metadata": {},
   "source": []
  },
  {
   "cell_type": "code",
   "execution_count": 63,
   "metadata": {},
   "outputs": [
    {
     "data": {
      "image/png": "[encoded data removed]",
      "text/plain": [
       "<Figure size 640x480 with 1 Axes>"
      ]
     },
     "metadata": {},
     "output_type": "display_data"
    },
    {
     "name": "stdout",
     "output_type": "stream",
     "text": [
      "Summary statistics for Adidas:\n",
      "              count       mean        std   min   25%   50%    75%    max\n",
      "Product Name                                                             \n",
      "Dress          37.0  48.837838  28.686537  10.0  23.0  44.0  71.00   99.0\n",
      "Jeans          40.0  49.275000  25.438702  11.0  27.5  52.0  69.00  100.0\n",
      "Shoes          46.0  60.260870  23.512110  11.0  45.5  60.5  78.75   97.0\n",
      "Sweater        32.0  52.625000  26.039362  10.0  33.5  51.5  75.25   96.0\n",
      "T-shirt        43.0  54.930233  24.378362  13.0  36.0  53.0  71.50   99.0\n",
      "\n"
     ]
    },
    {
     "data": {
      "image/png": "[encoded data removed]",
      "text/plain": [
       "<Figure size 640x480 with 1 Axes>"
      ]
     },
     "metadata": {},
     "output_type": "display_data"
    },
    {
     "name": "stdout",
     "output_type": "stream",
     "text": [
      "Summary statistics for Gucci:\n",
      "              count       mean        std   min    25%   50%    75%    max\n",
      "Product Name                                                              \n",
      "Dress          25.0  50.280000  27.125511  14.0  25.00  48.0  74.00   99.0\n",
      "Jeans          52.0  59.980769  26.734343  12.0  37.00  66.5  85.25   98.0\n",
      "Shoes          45.0  58.111111  28.097414  10.0  35.00  58.0  85.00  100.0\n",
      "Sweater        32.0  51.531250  26.965910  10.0  29.75  52.5  72.25   98.0\n",
      "T-shirt        37.0  52.621622  31.547452  10.0  23.00  48.0  83.00  100.0\n",
      "\n"
     ]
    },
    {
     "data": {
      "image/png": "[encoded data removed]",
      "text/plain": [
       "<Figure size 640x480 with 1 Axes>"
      ]
     },
     "metadata": {},
     "output_type": "display_data"
    },
    {
     "name": "stdout",
     "output_type": "stream",
     "text": [
      "Summary statistics for H&M:\n",
      "              count       mean        std   min   25%   50%   75%    max\n",
      "Product Name                                                            \n",
      "Dress          39.0  57.358974  28.337707  10.0  30.0  64.0  84.5   97.0\n",
      "Jeans          43.0  62.348837  25.403303  11.0  39.5  68.0  83.0  100.0\n",
      "Shoes          39.0  55.692308  27.339150  15.0  29.0  66.0  79.0  100.0\n",
      "Sweater        38.0  61.263158  23.901469  15.0  45.0  62.0  83.5   92.0\n",
      "T-shirt        35.0  50.000000  22.434218  12.0  37.0  51.0  72.0   86.0\n",
      "\n"
     ]
    },
    {
     "data": {
      "image/png": "[encoded data removed]",
      "text/plain": [
       "<Figure size 640x480 with 1 Axes>"
      ]
     },
     "metadata": {},
     "output_type": "display_data"
    },
    {
     "name": "stdout",
     "output_type": "stream",
     "text": [
      "Summary statistics for Nike:\n",
      "              count       mean        std   min    25%   50%   75%   max\n",
      "Product Name                                                            \n",
      "Dress          40.0  55.050000  23.530613  14.0  35.25  55.0  70.5  95.0\n",
      "Jeans          54.0  57.277778  26.553909  11.0  33.50  56.0  82.0  99.0\n",
      "Shoes          43.0  55.488372  26.004003  11.0  32.50  54.0  80.5  97.0\n",
      "Sweater        30.0  57.800000  28.104976  11.0  37.25  60.5  80.0  99.0\n",
      "T-shirt        47.0  61.808511  26.452285  10.0  45.00  67.0  83.0  99.0\n",
      "\n"
     ]
    },
    {
     "data": {
      "image/png": "[encoded data removed]",
      "text/plain": [
       "<Figure size 640x480 with 1 Axes>"
      ]
     },
     "metadata": {},
     "output_type": "display_data"
    },
    {
     "name": "stdout",
     "output_type": "stream",
     "text": [
      "Summary statistics for Zara:\n",
      "              count       mean        std   min    25%   50%   75%    max\n",
      "Product Name                                                             \n",
      "Dress          35.0  53.600000  25.388974  11.0  34.00  59.0  73.0   98.0\n",
      "Jeans          42.0  53.166667  23.403061  11.0  36.25  51.0  70.0  100.0\n",
      "Shoes          49.0  54.102041  26.796490  11.0  32.00  50.0  77.0   98.0\n",
      "Sweater        38.0  50.500000  25.427959  11.0  28.25  48.0  68.5   97.0\n",
      "T-shirt        39.0  62.435897  28.516657  12.0  37.00  67.0  88.0   99.0\n",
      "\n"
     ]
    }
   ],
   "source": [
    "group_by_brand = product_df_copy.groupby('Brand')\n",
    "\n",
    "for Brand, group in group_by_brand:\n",
    "\n",
    "    sns.boxplot(x=\"Product Name\",y=\"Price\", data=product_df_copy)\n",
    "    plt.title(f\"Boxplot relationship between price and product for {Brand}\")\n",
    "    plt.show()\n",
    "\n",
    "    summary_stats = group.groupby(\"Product Name\")[\"Price\"].describe()\n",
    "    print(f\"Summary statistics for {Brand}:\\n{summary_stats}\\n\")"
   ]
  },
  {
   "cell_type": "markdown",
   "metadata": {},
   "source": [
    "There is little to no variation between product name and price for each of the brands. This means that it doesn't really matter which brand is chosen as the correlation product name and price is pretty much the same between each brand. "
   ]
  },
  {
   "cell_type": "markdown",
   "metadata": {},
   "source": []
  },
  {
   "cell_type": "markdown",
   "metadata": {},
   "source": [
    "## 5. Conclusion"
   ]
  },
  {
   "cell_type": "markdown",
   "metadata": {},
   "source": [
    "In analyzing the relationship between product name and price across different types of brand within the fashion products dataset, we observed that there wasn't that much of notable variations based off brand. This shows that most all brands have the same price point for products. It is important to acknowledge limitations and caveats in the data. The limitations are that the clothing types that are used are limited as it is only basic products and the companies that were used didn't really vary. If there was a more diverse set of brands and products we would be able to find more variance between the brands. These shortcomings could impact buyers that have different purposes in mind. An example is if they are looking for certain types of clothing (vintage, professional, etc.). Further data analysis could relate to purchase times regarding seasonal (thanksgiving, black friday, summar, etc.). Further analyzations into outliers can also enhance the accuracy of the conclusions."
   ]
  }
 ],
 "metadata": {
  "kernelspec": {
   "display_name": "Python 3 (ipykernel)",
   "language": "python",
   "name": "python3"
  },
  "language_info": {
   "codemirror_mode": {
    "name": "ipython",
    "version": 3
   },
   "file_extension": ".py",
   "mimetype": "text/x-python",
   "name": "python",
   "nbconvert_exporter": "python",
   "pygments_lexer": "ipython3",
   "version": "3.10.6"
  }
 },
 "nbformat": 4,
 "nbformat_minor": 4
}
