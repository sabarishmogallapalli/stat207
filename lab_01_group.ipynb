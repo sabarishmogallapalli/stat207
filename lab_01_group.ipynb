{
 "cells": [
  {
   "cell_type": "markdown",
   "metadata": {},
   "source": [
    "# STAT 207 Lab Assignment 1 - Group Part - [5 total points]\n",
    "\n",
    "## Exploring your own dataset!"
   ]
  },
  {
   "cell_type": "markdown",
   "metadata": {},
   "source": [
    "Due: Tuesday, August 29, 11:59pm CST\n",
    "\n",
    "<hr>\n"
   ]
  },
  {
   "cell_type": "markdown",
   "metadata": {},
   "source": [
    "## <u>Purpose</u>:\n",
    "You should try to work in groups of 2-3 on this report. The purpose of this group lab assignment is to download your own dataset that you find interesting and perform some preliminary descriptive analytics on this dataset. Also, you can take this opportunity to get to know some of your classmates! \n",
    "<hr>"
   ]
  },
  {
   "cell_type": "markdown",
   "metadata": {},
   "source": [
    "## <u>Instructions</u>:\n"
   ]
  },
  {
   "cell_type": "code",
   "execution_count": 2,
   "metadata": {},
   "outputs": [],
   "source": [
    "#Run this\n",
    "import pandas as pd                    # imports pandas and calls the imported version 'pd'\n",
    "import matplotlib.pyplot as plt        # imports the package and calls it 'plt'\n",
    "import seaborn as sns                  # imports the seaborn package with the imported name 'sns'\n",
    "sns.set()  "
   ]
  },
  {
   "cell_type": "markdown",
   "metadata": {},
   "source": [
    "### Contribution Report [0.5 pt]\n",
    "These contribution reports should be included in all group lab assignments. In this contribution report below you should list of the following:\n",
    "1. Names of each team member.\n",
    "2. Contributions of each team member to report.\n",
    "\n",
    "*<u>Teammates:</u>*\n",
    "\n",
    "*1. Nolan Enright: did number 3*\n",
    "\n",
    "*2. Tyler Falsy: did number 4*\n",
    "\n",
    "*For example:*\n",
    "\n",
    "*<u>Teammates:</u>*\n",
    "\n",
    "*1. John Smith: did number 1,2 and 3*\n",
    "\n",
    "*2. Jane Doe: did number 4, and 5*"
   ]
  },
  {
   "cell_type": "markdown",
   "metadata": {},
   "source": []
  },
  {
   "cell_type": "markdown",
   "metadata": {},
   "source": [
    "### 1. Load an Interesting Dataset [1.5 pt]\n",
    "\n",
    "1. Go to https://www.kaggle.com/datasets?fileType=csv&sizeStart=0%2CKB&sizeEnd=100%2CKB. Browse through the available datasets and find one that you think is interesting *that has at least one categorical variable*.\n",
    "2. Once you have found and clicked on a dataset you'd like to explore, select \"Download\" to download the csv file.\n",
    "3. On your desktop, move this csv into the same folder that this Jupyter notebook is located in.\n",
    "4. Finally, read this csv file into a pandas dataframe and display the first five rows."
   ]
  },
  {
   "cell_type": "code",
   "execution_count": 7,
   "metadata": {},
   "outputs": [
    {
     "data": {
      "text/html": [
       "<div>\n",
       "<style scoped>\n",
       "    .dataframe tbody tr th:only-of-type {\n",
       "        vertical-align: middle;\n",
       "    }\n",
       "\n",
       "    .dataframe tbody tr th {\n",
       "        vertical-align: top;\n",
       "    }\n",
       "\n",
       "    .dataframe thead th {\n",
       "        text-align: right;\n",
       "    }\n",
       "</style>\n",
       "<table border=\"1\" class=\"dataframe\">\n",
       "  <thead>\n",
       "    <tr style=\"text-align: right;\">\n",
       "      <th></th>\n",
       "      <th>Company</th>\n",
       "      <th>Item</th>\n",
       "      <th>Calories</th>\n",
       "      <th>Calories from\\nFat</th>\n",
       "      <th>Total Fat\\n(g)</th>\n",
       "      <th>Saturated Fat\\n(g)</th>\n",
       "      <th>Trans Fat\\n(g)</th>\n",
       "      <th>Cholesterol\\n(mg)</th>\n",
       "      <th>Sodium \\n(mg)</th>\n",
       "      <th>Carbs\\n(g)</th>\n",
       "      <th>Fiber\\n(g)</th>\n",
       "      <th>Sugars\\n(g)</th>\n",
       "      <th>Protein\\n(g)</th>\n",
       "      <th>Weight Watchers\\nPnts</th>\n",
       "    </tr>\n",
       "  </thead>\n",
       "  <tbody>\n",
       "    <tr>\n",
       "      <th>0</th>\n",
       "      <td>McDonald’s</td>\n",
       "      <td>Hamburger</td>\n",
       "      <td>250</td>\n",
       "      <td>80</td>\n",
       "      <td>9</td>\n",
       "      <td>3.5</td>\n",
       "      <td>0.5</td>\n",
       "      <td>25</td>\n",
       "      <td>520</td>\n",
       "      <td>31</td>\n",
       "      <td>2</td>\n",
       "      <td>6</td>\n",
       "      <td>12</td>\n",
       "      <td>247.5</td>\n",
       "    </tr>\n",
       "    <tr>\n",
       "      <th>1</th>\n",
       "      <td>McDonald’s</td>\n",
       "      <td>Cheeseburger</td>\n",
       "      <td>300</td>\n",
       "      <td>110</td>\n",
       "      <td>12</td>\n",
       "      <td>6</td>\n",
       "      <td>0.5</td>\n",
       "      <td>40</td>\n",
       "      <td>750</td>\n",
       "      <td>33</td>\n",
       "      <td>2</td>\n",
       "      <td>6</td>\n",
       "      <td>15</td>\n",
       "      <td>297</td>\n",
       "    </tr>\n",
       "    <tr>\n",
       "      <th>2</th>\n",
       "      <td>McDonald’s</td>\n",
       "      <td>Double Cheeseburger</td>\n",
       "      <td>440</td>\n",
       "      <td>210</td>\n",
       "      <td>23</td>\n",
       "      <td>11</td>\n",
       "      <td>1.5</td>\n",
       "      <td>80</td>\n",
       "      <td>1150</td>\n",
       "      <td>34</td>\n",
       "      <td>2</td>\n",
       "      <td>7</td>\n",
       "      <td>25</td>\n",
       "      <td>433</td>\n",
       "    </tr>\n",
       "    <tr>\n",
       "      <th>3</th>\n",
       "      <td>McDonald’s</td>\n",
       "      <td>McDouble</td>\n",
       "      <td>390</td>\n",
       "      <td>170</td>\n",
       "      <td>19</td>\n",
       "      <td>8</td>\n",
       "      <td>1</td>\n",
       "      <td>65</td>\n",
       "      <td>920</td>\n",
       "      <td>33</td>\n",
       "      <td>2</td>\n",
       "      <td>7</td>\n",
       "      <td>22</td>\n",
       "      <td>383</td>\n",
       "    </tr>\n",
       "    <tr>\n",
       "      <th>4</th>\n",
       "      <td>McDonald’s</td>\n",
       "      <td>Quarter Pounder® with Cheese</td>\n",
       "      <td>510</td>\n",
       "      <td>230</td>\n",
       "      <td>26</td>\n",
       "      <td>12</td>\n",
       "      <td>1.5</td>\n",
       "      <td>90</td>\n",
       "      <td>1190</td>\n",
       "      <td>40</td>\n",
       "      <td>3</td>\n",
       "      <td>9</td>\n",
       "      <td>29</td>\n",
       "      <td>502</td>\n",
       "    </tr>\n",
       "  </tbody>\n",
       "</table>\n",
       "</div>"
      ],
      "text/plain": [
       "      Company                           Item Calories Calories from\\nFat  \\\n",
       "0  McDonald’s                      Hamburger      250                 80   \n",
       "1  McDonald’s                   Cheeseburger      300                110   \n",
       "2  McDonald’s            Double Cheeseburger      440                210   \n",
       "3  McDonald’s                       McDouble      390                170   \n",
       "4  McDonald’s   Quarter Pounder® with Cheese      510                230   \n",
       "\n",
       "  Total Fat\\n(g) Saturated Fat\\n(g) Trans Fat\\n(g) Cholesterol\\n(mg)  \\\n",
       "0              9                3.5            0.5                25   \n",
       "1             12                  6            0.5                40   \n",
       "2             23                 11            1.5                80   \n",
       "3             19                  8              1                65   \n",
       "4             26                 12            1.5                90   \n",
       "\n",
       "  Sodium \\n(mg) Carbs\\n(g) Fiber\\n(g) Sugars\\n(g) Protein\\n(g)  \\\n",
       "0           520         31          2           6           12   \n",
       "1           750         33          2           6           15   \n",
       "2          1150         34          2           7           25   \n",
       "3           920         33          2           7           22   \n",
       "4          1190         40          3           9           29   \n",
       "\n",
       "  Weight Watchers\\nPnts  \n",
       "0                 247.5  \n",
       "1                   297  \n",
       "2                   433  \n",
       "3                   383  \n",
       "4                   502  "
      ]
     },
     "execution_count": 7,
     "metadata": {},
     "output_type": "execute_result"
    }
   ],
   "source": [
    "df = pd.read_csv(\"FastFoodNutritionMenu.csv\")\n",
    "df.head()"
   ]
  },
  {
   "cell_type": "markdown",
   "metadata": {},
   "source": [
    "### 2. Give the link for the dataset that you downloaded. [0.5 pts]"
   ]
  },
  {
   "cell_type": "markdown",
   "metadata": {},
   "source": [
    "https://www.kaggle.com/datasets/joebeachcapital/fast-food"
   ]
  },
  {
   "cell_type": "markdown",
   "metadata": {},
   "source": [
    "### 3. What does a row in this dataframe represent? [0.5 pt]"
   ]
  },
  {
   "cell_type": "markdown",
   "metadata": {},
   "source": [
    "A menu item"
   ]
  },
  {
   "cell_type": "markdown",
   "metadata": {},
   "source": [
    "### 4. Select a categorical variable from this dataset and create a barplot that shows the *counts* for each level of this categorical variable. [1 pt]"
   ]
  },
  {
   "cell_type": "code",
   "execution_count": 8,
   "metadata": {},
   "outputs": [
    {
     "data": {
      "image/png": "[encoded data removed]",
      "text/plain": [
       "<Figure size 640x480 with 1 Axes>"
      ]
     },
     "metadata": {},
     "output_type": "display_data"
    }
   ],
   "source": [
    "count = df['Company'].value_counts()\n",
    "count.plot(kind = 'bar')\n",
    "plt.title(\"Number of Menu Items per Comapny\")\n",
    "plt.xlabel(\"Company\")\n",
    "plt.ylabel(\"Number of Menu Items\")\n",
    "plt.show()"
   ]
  },
  {
   "cell_type": "markdown",
   "metadata": {},
   "source": [
    "### 5. Show this plot to someone *not* on your team. Ask them if they find this plot clear and are able to quickly determine what this plot represents.\n",
    "\n",
    "### Below, write down at least one idea for how you could make this plot more clear or visually appealling. [1 pt]\n",
    "\n",
    "(You don't actually have to do this, we're just looking for ideas.)"
   ]
  },
  {
   "cell_type": "markdown",
   "metadata": {},
   "source": [
    "If each one had a different color it would be more visually appealling."
   ]
  }
 ],
 "metadata": {
  "kernelspec": {
   "display_name": "Python 3 (ipykernel)",
   "language": "python",
   "name": "python3"
  },
  "language_info": {
   "codemirror_mode": {
    "name": "ipython",
    "version": 3
   },
   "file_extension": ".py",
   "mimetype": "text/x-python",
   "name": "python",
   "nbconvert_exporter": "python",
   "pygments_lexer": "ipython3",
   "version": "3.11.4"
  }
 },
 "nbformat": 4,
 "nbformat_minor": 2
}
