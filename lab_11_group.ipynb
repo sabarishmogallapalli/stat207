{
 "cells": [
  {
   "cell_type": "markdown",
   "metadata": {},
   "source": [
    "# STAT 207 Lab Assignment 11 - Group Part - [13.25 Points]\n",
    "\n",
    "\n",
    "\n",
    "## <u>Case Study</u>: Predicting Airbnb Superhost Status\n",
    "\n",
    "Suppose that you have a spare room in your house (in Seattle) and you are considering advertising this room to guests on Airbnb. Airbnb superhosts are considered to be experienced hosts who provide a shining example for other hosts, and extraordinary experiences for their guests. Once a host reaches Superhost status, a superhost badge will automatically appear on their listing and profile to help guests identify them. You would like to assess your chances of being named a superhost with your property.\n",
    "\n",
    "The following dataset is a sample (assume random) of available Airbnb listings in Seattle, WA. These listings were collected in January 2016, and filtered to just contain listings from the five most popular Seattlbe neighborhoods (for Airbnb listings) and just contain listings that are either in a house or apartment property.\n",
    "\n",
    "This dataset contains the following variables.\n",
    "\n",
    "**Listing Information**\n",
    "The dataset contains the following information about the Airbnb *listing*:\n",
    "* <u>price</u>: price of the listing (per night)(in US dollars)\n",
    "* <u>review_scores_rating</u>: the average rating of the listing [0,100] (100 is the best)\n",
    "* <u>number_of_reviews</u>: the number of reviews for the listing\n",
    "* <u>security_deposit</u>: the security deposit required for the listing (in US dollars)\n",
    "* <u>cleaning_fee</u>: the cleaning fee required for the listing (in US dollars)\n",
    "* <u>neighborhood</u>: the neighborhood of Seattle the listing is located in\n",
    "* <u>property_type</u>: is the listing in a 'House' or 'Apartment'\n",
    "* <u>room_type</u>: is the listing a 'Entire home/apt', 'Private room', or 'Shared room'\n",
    "* <u>accommodates</u>: how many guests will the listing accommodate\n",
    "* <u>bathrooms</u>:how many bathrooms does the listing have\n",
    "* <u>beds</u>: how many beds does the listing have\n",
    "\n",
    "**Host Information**\n",
    "The dataset also contains the following information about the *host* of the given Airbnb listing:\n",
    "* <u>host_is_superhost</u>: is the host a \"superhost\": t=True, f=False\n",
    "* <u>host_has_profile_pic</u>: does the host have a profile pic in their bio: t=True, f=False\n",
    "* <u>host_response_time</u>: how fast will the host respond to requests (on average)\n",
    "\n",
    "## Research Goals\n",
    "\n",
    "The primary research goal that we will pursue in this group lab will be to build a predictive model that effectively predicts the `probability a Seattle Airbnb host is a **superhost**` for ***LISTINGS IN THIS DATASET*** given some combination of the available explanatory variables.\n",
    "\n",
    "\n",
    "\n",
    "## Points\n",
    "\n",
    "<p>&nbsp;</p>\n",
    "<table style=\"border: none;border-collapse: collapse;width:102pt;\">\n",
    "    <tbody>\n",
    "        <tr>\n",
    "            <td style=\"color:black;font-size:15px;font-weight:700;font-style:normal;text-decoration:none;font-family:Calibri, sans-serif;text-align:right;vertical-align:bottom;border:.5pt solid windowtext;height:14.25pt;width:51pt;\">Problem</td>\n",
    "            <td style=\"color:black;font-size:15px;font-weight:700;font-style:normal;text-decoration:none;font-family:Calibri, sans-serif;text-align:general;vertical-align:bottom;border:.5pt solid windowtext;border-left:none;width:51pt;\">Points</td>\n",
    "        </tr>\n",
    "        <tr>\n",
    "            <td style=\"color:black;font-size:15px;font-weight:400;font-style:normal;text-decoration:none;font-family:Calibri, sans-serif;text-align:right;vertical-align:bottom;border:.5pt solid windowtext;height:14.25pt;border-top:none;\">1.1</td>\n",
    "            <td style=\"color:black;font-size:15px;font-weight:400;font-style:normal;text-decoration:none;font-family:Calibri, sans-serif;text-align:right;vertical-align:bottom;border:.5pt solid windowtext;border-top:none;border-left:none;\">0.25</td>\n",
    "        </tr>\n",
    "        <tr>\n",
    "            <td style=\"color:black;font-size:15px;font-weight:400;font-style:normal;text-decoration:none;font-family:Calibri, sans-serif;text-align:right;vertical-align:bottom;border:.5pt solid windowtext;height:14.25pt;border-top:none;\">1.2</td>\n",
    "            <td style=\"color:black;font-size:15px;font-weight:400;font-style:normal;text-decoration:none;font-family:Calibri, sans-serif;text-align:right;vertical-align:bottom;border:.5pt solid windowtext;border-top:none;border-left:none;\">0.5</td>\n",
    "        </tr>\n",
    "        <tr>\n",
    "            <td style=\"color:black;font-size:15px;font-weight:400;font-style:normal;text-decoration:none;font-family:Calibri, sans-serif;text-align:right;vertical-align:bottom;border:.5pt solid windowtext;height:14.25pt;border-top:none;\">2.1</td>\n",
    "            <td style=\"color:black;font-size:15px;font-weight:400;font-style:normal;text-decoration:none;font-family:Calibri, sans-serif;text-align:right;vertical-align:bottom;border:.5pt solid windowtext;border-top:none;border-left:none;\">0.5</td>\n",
    "        </tr>\n",
    "        <tr>\n",
    "            <td style=\"color:black;font-size:15px;font-weight:400;font-style:normal;text-decoration:none;font-family:Calibri, sans-serif;text-align:right;vertical-align:bottom;border:.5pt solid windowtext;height:14.25pt;border-top:none;\">2.2</td>\n",
    "            <td style=\"color:black;font-size:15px;font-weight:400;font-style:normal;text-decoration:none;font-family:Calibri, sans-serif;text-align:right;vertical-align:bottom;border:.5pt solid windowtext;border-top:none;border-left:none;\">0.75</td>\n",
    "        </tr>\n",
    "        <tr>\n",
    "            <td style=\"color:black;font-size:15px;font-weight:400;font-style:normal;text-decoration:none;font-family:Calibri, sans-serif;text-align:right;vertical-align:bottom;border:.5pt solid windowtext;height:14.25pt;border-top:none;\">3.1</td>\n",
    "            <td style=\"color:black;font-size:15px;font-weight:400;font-style:normal;text-decoration:none;font-family:Calibri, sans-serif;text-align:right;vertical-align:bottom;border:.5pt solid windowtext;border-top:none;border-left:none;\">1.25</td>\n",
    "        </tr>\n",
    "        <tr>\n",
    "            <td style=\"color:black;font-size:15px;font-weight:400;font-style:normal;text-decoration:none;font-family:Calibri, sans-serif;text-align:right;vertical-align:bottom;border:.5pt solid windowtext;height:14.25pt;border-top:none;\">3.2</td>\n",
    "            <td style=\"color:black;font-size:15px;font-weight:400;font-style:normal;text-decoration:none;font-family:Calibri, sans-serif;text-align:right;vertical-align:bottom;border:.5pt solid windowtext;border-top:none;border-left:none;\">1</td>\n",
    "        </tr>\n",
    "        <tr>\n",
    "            <td style=\"color:black;font-size:15px;font-weight:400;font-style:normal;text-decoration:none;font-family:Calibri, sans-serif;text-align:right;vertical-align:bottom;border:.5pt solid windowtext;height:14.25pt;border-top:none;\">3.3.1</td>\n",
    "            <td style=\"color:black;font-size:15px;font-weight:400;font-style:normal;text-decoration:none;font-family:Calibri, sans-serif;text-align:right;vertical-align:bottom;border:.5pt solid windowtext;border-top:none;border-left:none;\">1</td>\n",
    "        </tr>\n",
    "        <tr>\n",
    "            <td style=\"color:black;font-size:15px;font-weight:400;font-style:normal;text-decoration:none;font-family:Calibri, sans-serif;text-align:right;vertical-align:bottom;border:.5pt solid windowtext;height:14.25pt;border-top:none;\">3.3.2</td>\n",
    "            <td style=\"color:black;font-size:15px;font-weight:400;font-style:normal;text-decoration:none;font-family:Calibri, sans-serif;text-align:right;vertical-align:bottom;border:.5pt solid windowtext;border-top:none;border-left:none;\">1</td>\n",
    "        </tr>\n",
    "        <tr>\n",
    "            <td style=\"color:black;font-size:15px;font-weight:400;font-style:normal;text-decoration:none;font-family:Calibri, sans-serif;text-align:right;vertical-align:bottom;border:.5pt solid windowtext;height:14.25pt;border-top:none;\">3.3.3</td>\n",
    "            <td style=\"color:black;font-size:15px;font-weight:400;font-style:normal;text-decoration:none;font-family:Calibri, sans-serif;text-align:right;vertical-align:bottom;border:.5pt solid windowtext;border-top:none;border-left:none;\">1</td>\n",
    "        </tr>\n",
    "        <tr>\n",
    "            <td style=\"color:black;font-size:15px;font-weight:400;font-style:normal;text-decoration:none;font-family:Calibri, sans-serif;text-align:right;vertical-align:bottom;border:.5pt solid windowtext;height:14.25pt;border-top:none;\">3.4.1</td>\n",
    "            <td style=\"color:black;font-size:15px;font-weight:400;font-style:normal;text-decoration:none;font-family:Calibri, sans-serif;text-align:right;vertical-align:bottom;border:.5pt solid windowtext;border-top:none;border-left:none;\">1</td>\n",
    "        </tr>\n",
    "        <tr>\n",
    "            <td style=\"color:black;font-size:15px;font-weight:400;font-style:normal;text-decoration:none;font-family:Calibri, sans-serif;text-align:right;vertical-align:bottom;border:.5pt solid windowtext;height:14.25pt;border-top:none;\">3.4.2</td>\n",
    "            <td style=\"color:black;font-size:15px;font-weight:400;font-style:normal;text-decoration:none;font-family:Calibri, sans-serif;text-align:right;vertical-align:bottom;border:.5pt solid windowtext;border-top:none;border-left:none;\">1</td>\n",
    "        </tr>\n",
    "        <tr>\n",
    "            <td style=\"color:black;font-size:15px;font-weight:400;font-style:normal;text-decoration:none;font-family:Calibri, sans-serif;text-align:right;vertical-align:bottom;border:.5pt solid windowtext;height:14.25pt;border-top:none;\">3.4.3</td>\n",
    "            <td style=\"color:black;font-size:15px;font-weight:400;font-style:normal;text-decoration:none;font-family:Calibri, sans-serif;text-align:right;vertical-align:bottom;border:.5pt solid windowtext;border-top:none;border-left:none;\">1</td>\n",
    "        </tr>\n",
    "        <tr>\n",
    "            <td style=\"color:black;font-size:15px;font-weight:400;font-style:normal;text-decoration:none;font-family:Calibri, sans-serif;text-align:right;vertical-align:bottom;border:.5pt solid windowtext;height:14.25pt;border-top:none;\">3.4.1</td>\n",
    "            <td style=\"color:black;font-size:15px;font-weight:400;font-style:normal;text-decoration:none;font-family:Calibri, sans-serif;text-align:right;vertical-align:bottom;border:.5pt solid windowtext;border-top:none;border-left:none;\">1</td>\n",
    "        </tr>\n",
    "        <tr>\n",
    "            <td style=\"color:black;font-size:15px;font-weight:400;font-style:normal;text-decoration:none;font-family:Calibri, sans-serif;text-align:right;vertical-align:bottom;border:.5pt solid windowtext;height:14.25pt;border-top:none;\">3.4.2</td>\n",
    "            <td style=\"color:black;font-size:15px;font-weight:400;font-style:normal;text-decoration:none;font-family:Calibri, sans-serif;text-align:right;vertical-align:bottom;border:.5pt solid windowtext;border-top:none;border-left:none;\">1</td>\n",
    "        </tr>\n",
    "        <tr>\n",
    "            <td style=\"color:black;font-size:15px;font-weight:400;font-style:normal;text-decoration:none;font-family:Calibri, sans-serif;text-align:right;vertical-align:bottom;border:.5pt solid windowtext;height:14.25pt;border-top:none;\">3.4.3</td>\n",
    "            <td style=\"color:black;font-size:15px;font-weight:400;font-style:normal;text-decoration:none;font-family:Calibri, sans-serif;text-align:right;vertical-align:bottom;border:.5pt solid windowtext;border-top:none;border-left:none;\">1</td>\n",
    "        </tr>\n",
    "    </tbody>\n",
    "</table>"
   ]
  },
  {
   "cell_type": "markdown",
   "metadata": {},
   "source": [
    "Worked with:\n",
    "\n",
    "Dev Udata - dudata2\n",
    "Mo Raheem"
   ]
  },
  {
   "cell_type": "code",
   "execution_count": 1,
   "metadata": {},
   "outputs": [],
   "source": [
    "import pandas as pd\n",
    "import numpy as np\n",
    "import matplotlib.pyplot as plt\n",
    "import seaborn as sns"
   ]
  },
  {
   "cell_type": "markdown",
   "metadata": {},
   "source": [
    "## 1. Basic Data Examination and Manipulation\n",
    "\n",
    "### 1.1. Basics\n",
    "1. Read this csv file into a dataframe.\n",
    "\n",
    "2. Display your dataframe.\n",
    "\n",
    "3. Show how many rows your dataframe has.\n",
    "\n"
   ]
  },
  {
   "cell_type": "code",
   "execution_count": 2,
   "metadata": {},
   "outputs": [
    {
     "data": {
      "text/html": [
       "<div>\n",
       "<style scoped>\n",
       "    .dataframe tbody tr th:only-of-type {\n",
       "        vertical-align: middle;\n",
       "    }\n",
       "\n",
       "    .dataframe tbody tr th {\n",
       "        vertical-align: top;\n",
       "    }\n",
       "\n",
       "    .dataframe thead th {\n",
       "        text-align: right;\n",
       "    }\n",
       "</style>\n",
       "<table border=\"1\" class=\"dataframe\">\n",
       "  <thead>\n",
       "    <tr style=\"text-align: right;\">\n",
       "      <th></th>\n",
       "      <th>price</th>\n",
       "      <th>review_scores_rating</th>\n",
       "      <th>number_of_reviews</th>\n",
       "      <th>security_deposit</th>\n",
       "      <th>cleaning_fee</th>\n",
       "      <th>neighborhood</th>\n",
       "      <th>property_type</th>\n",
       "      <th>room_type</th>\n",
       "      <th>accommodates</th>\n",
       "      <th>bathrooms</th>\n",
       "      <th>beds</th>\n",
       "      <th>host_response_time</th>\n",
       "      <th>host_response_rate</th>\n",
       "      <th>host_is_superhost</th>\n",
       "      <th>host_has_profile_pic</th>\n",
       "      <th>host_identity_verified</th>\n",
       "    </tr>\n",
       "  </thead>\n",
       "  <tbody>\n",
       "    <tr>\n",
       "      <th>0</th>\n",
       "      <td>300</td>\n",
       "      <td>100</td>\n",
       "      <td>24</td>\n",
       "      <td>500</td>\n",
       "      <td>95</td>\n",
       "      <td>Wallingford</td>\n",
       "      <td>House</td>\n",
       "      <td>Entire home/apt</td>\n",
       "      <td>5</td>\n",
       "      <td>1.5</td>\n",
       "      <td>3</td>\n",
       "      <td>within a few hours</td>\n",
       "      <td>1.00</td>\n",
       "      <td>t</td>\n",
       "      <td>t</td>\n",
       "      <td>t</td>\n",
       "    </tr>\n",
       "    <tr>\n",
       "      <th>1</th>\n",
       "      <td>149</td>\n",
       "      <td>96</td>\n",
       "      <td>11</td>\n",
       "      <td>300</td>\n",
       "      <td>105</td>\n",
       "      <td>Wallingford</td>\n",
       "      <td>Apartment</td>\n",
       "      <td>Entire home/apt</td>\n",
       "      <td>6</td>\n",
       "      <td>1.0</td>\n",
       "      <td>3</td>\n",
       "      <td>within an hour</td>\n",
       "      <td>1.00</td>\n",
       "      <td>f</td>\n",
       "      <td>t</td>\n",
       "      <td>t</td>\n",
       "    </tr>\n",
       "    <tr>\n",
       "      <th>2</th>\n",
       "      <td>95</td>\n",
       "      <td>95</td>\n",
       "      <td>79</td>\n",
       "      <td>150</td>\n",
       "      <td>40</td>\n",
       "      <td>Wallingford</td>\n",
       "      <td>Apartment</td>\n",
       "      <td>Entire home/apt</td>\n",
       "      <td>3</td>\n",
       "      <td>1.0</td>\n",
       "      <td>2</td>\n",
       "      <td>within an hour</td>\n",
       "      <td>1.00</td>\n",
       "      <td>f</td>\n",
       "      <td>t</td>\n",
       "      <td>t</td>\n",
       "    </tr>\n",
       "    <tr>\n",
       "      <th>3</th>\n",
       "      <td>105</td>\n",
       "      <td>100</td>\n",
       "      <td>13</td>\n",
       "      <td>500</td>\n",
       "      <td>50</td>\n",
       "      <td>Wallingford</td>\n",
       "      <td>House</td>\n",
       "      <td>Private room</td>\n",
       "      <td>2</td>\n",
       "      <td>2.0</td>\n",
       "      <td>1</td>\n",
       "      <td>within a few hours</td>\n",
       "      <td>1.00</td>\n",
       "      <td>t</td>\n",
       "      <td>t</td>\n",
       "      <td>t</td>\n",
       "    </tr>\n",
       "    <tr>\n",
       "      <th>4</th>\n",
       "      <td>140</td>\n",
       "      <td>99</td>\n",
       "      <td>30</td>\n",
       "      <td>250</td>\n",
       "      <td>65</td>\n",
       "      <td>Wallingford</td>\n",
       "      <td>House</td>\n",
       "      <td>Entire home/apt</td>\n",
       "      <td>2</td>\n",
       "      <td>1.0</td>\n",
       "      <td>1</td>\n",
       "      <td>within an hour</td>\n",
       "      <td>1.00</td>\n",
       "      <td>t</td>\n",
       "      <td>t</td>\n",
       "      <td>t</td>\n",
       "    </tr>\n",
       "    <tr>\n",
       "      <th>...</th>\n",
       "      <td>...</td>\n",
       "      <td>...</td>\n",
       "      <td>...</td>\n",
       "      <td>...</td>\n",
       "      <td>...</td>\n",
       "      <td>...</td>\n",
       "      <td>...</td>\n",
       "      <td>...</td>\n",
       "      <td>...</td>\n",
       "      <td>...</td>\n",
       "      <td>...</td>\n",
       "      <td>...</td>\n",
       "      <td>...</td>\n",
       "      <td>...</td>\n",
       "      <td>...</td>\n",
       "      <td>...</td>\n",
       "    </tr>\n",
       "    <tr>\n",
       "      <th>334</th>\n",
       "      <td>250</td>\n",
       "      <td>95</td>\n",
       "      <td>4</td>\n",
       "      <td>250</td>\n",
       "      <td>100</td>\n",
       "      <td>Fremont</td>\n",
       "      <td>House</td>\n",
       "      <td>Entire home/apt</td>\n",
       "      <td>16</td>\n",
       "      <td>3.5</td>\n",
       "      <td>10</td>\n",
       "      <td>within a few hours</td>\n",
       "      <td>0.97</td>\n",
       "      <td>f</td>\n",
       "      <td>t</td>\n",
       "      <td>t</td>\n",
       "    </tr>\n",
       "    <tr>\n",
       "      <th>335</th>\n",
       "      <td>125</td>\n",
       "      <td>95</td>\n",
       "      <td>12</td>\n",
       "      <td>150</td>\n",
       "      <td>45</td>\n",
       "      <td>Fremont</td>\n",
       "      <td>Apartment</td>\n",
       "      <td>Entire home/apt</td>\n",
       "      <td>2</td>\n",
       "      <td>1.0</td>\n",
       "      <td>1</td>\n",
       "      <td>within a few hours</td>\n",
       "      <td>1.00</td>\n",
       "      <td>t</td>\n",
       "      <td>t</td>\n",
       "      <td>t</td>\n",
       "    </tr>\n",
       "    <tr>\n",
       "      <th>336</th>\n",
       "      <td>100</td>\n",
       "      <td>98</td>\n",
       "      <td>10</td>\n",
       "      <td>200</td>\n",
       "      <td>89</td>\n",
       "      <td>Fremont</td>\n",
       "      <td>Apartment</td>\n",
       "      <td>Entire home/apt</td>\n",
       "      <td>6</td>\n",
       "      <td>1.0</td>\n",
       "      <td>2</td>\n",
       "      <td>within an hour</td>\n",
       "      <td>1.00</td>\n",
       "      <td>f</td>\n",
       "      <td>t</td>\n",
       "      <td>t</td>\n",
       "    </tr>\n",
       "    <tr>\n",
       "      <th>337</th>\n",
       "      <td>175</td>\n",
       "      <td>96</td>\n",
       "      <td>29</td>\n",
       "      <td>500</td>\n",
       "      <td>95</td>\n",
       "      <td>Fremont</td>\n",
       "      <td>House</td>\n",
       "      <td>Entire home/apt</td>\n",
       "      <td>6</td>\n",
       "      <td>2.0</td>\n",
       "      <td>3</td>\n",
       "      <td>within a few hours</td>\n",
       "      <td>1.00</td>\n",
       "      <td>f</td>\n",
       "      <td>t</td>\n",
       "      <td>t</td>\n",
       "    </tr>\n",
       "    <tr>\n",
       "      <th>338</th>\n",
       "      <td>154</td>\n",
       "      <td>92</td>\n",
       "      <td>5</td>\n",
       "      <td>150</td>\n",
       "      <td>85</td>\n",
       "      <td>Fremont</td>\n",
       "      <td>House</td>\n",
       "      <td>Entire home/apt</td>\n",
       "      <td>5</td>\n",
       "      <td>1.0</td>\n",
       "      <td>3</td>\n",
       "      <td>within an hour</td>\n",
       "      <td>1.00</td>\n",
       "      <td>f</td>\n",
       "      <td>t</td>\n",
       "      <td>t</td>\n",
       "    </tr>\n",
       "  </tbody>\n",
       "</table>\n",
       "<p>339 rows × 16 columns</p>\n",
       "</div>"
      ],
      "text/plain": [
       "     price  review_scores_rating  number_of_reviews  security_deposit  \\\n",
       "0      300                   100                 24               500   \n",
       "1      149                    96                 11               300   \n",
       "2       95                    95                 79               150   \n",
       "3      105                   100                 13               500   \n",
       "4      140                    99                 30               250   \n",
       "..     ...                   ...                ...               ...   \n",
       "334    250                    95                  4               250   \n",
       "335    125                    95                 12               150   \n",
       "336    100                    98                 10               200   \n",
       "337    175                    96                 29               500   \n",
       "338    154                    92                  5               150   \n",
       "\n",
       "     cleaning_fee neighborhood property_type        room_type  accommodates  \\\n",
       "0              95  Wallingford         House  Entire home/apt             5   \n",
       "1             105  Wallingford     Apartment  Entire home/apt             6   \n",
       "2              40  Wallingford     Apartment  Entire home/apt             3   \n",
       "3              50  Wallingford         House     Private room             2   \n",
       "4              65  Wallingford         House  Entire home/apt             2   \n",
       "..            ...          ...           ...              ...           ...   \n",
       "334           100      Fremont         House  Entire home/apt            16   \n",
       "335            45      Fremont     Apartment  Entire home/apt             2   \n",
       "336            89      Fremont     Apartment  Entire home/apt             6   \n",
       "337            95      Fremont         House  Entire home/apt             6   \n",
       "338            85      Fremont         House  Entire home/apt             5   \n",
       "\n",
       "     bathrooms  beds  host_response_time  host_response_rate  \\\n",
       "0          1.5     3  within a few hours                1.00   \n",
       "1          1.0     3      within an hour                1.00   \n",
       "2          1.0     2      within an hour                1.00   \n",
       "3          2.0     1  within a few hours                1.00   \n",
       "4          1.0     1      within an hour                1.00   \n",
       "..         ...   ...                 ...                 ...   \n",
       "334        3.5    10  within a few hours                0.97   \n",
       "335        1.0     1  within a few hours                1.00   \n",
       "336        1.0     2      within an hour                1.00   \n",
       "337        2.0     3  within a few hours                1.00   \n",
       "338        1.0     3      within an hour                1.00   \n",
       "\n",
       "    host_is_superhost host_has_profile_pic host_identity_verified  \n",
       "0                   t                    t                      t  \n",
       "1                   f                    t                      t  \n",
       "2                   f                    t                      t  \n",
       "3                   t                    t                      t  \n",
       "4                   t                    t                      t  \n",
       "..                ...                  ...                    ...  \n",
       "334                 f                    t                      t  \n",
       "335                 t                    t                      t  \n",
       "336                 f                    t                      t  \n",
       "337                 f                    t                      t  \n",
       "338                 f                    t                      t  \n",
       "\n",
       "[339 rows x 16 columns]"
      ]
     },
     "execution_count": 2,
     "metadata": {},
     "output_type": "execute_result"
    }
   ],
   "source": [
    "airbnb_df = pd.read_csv('seattle_airbnb_listings_cleaned.csv')\n",
    "airbnb_df"
   ]
  },
  {
   "cell_type": "code",
   "execution_count": 3,
   "metadata": {},
   "outputs": [
    {
     "name": "stdout",
     "output_type": "stream",
     "text": [
      "Rows: 339\n"
     ]
    }
   ],
   "source": [
    "print(f'Rows:',airbnb_df.shape[0])"
   ]
  },
  {
   "cell_type": "markdown",
   "metadata": {},
   "source": [
    "### 1.2. 0/1 Response Variable\n",
    "\n",
    "Create a new 0/1 variable in your dataset in which `superhosts=1` and `nonsuperhosts=0`. "
   ]
  },
  {
   "cell_type": "code",
   "execution_count": 6,
   "metadata": {},
   "outputs": [
    {
     "data": {
      "text/html": [
       "<div>\n",
       "<style scoped>\n",
       "    .dataframe tbody tr th:only-of-type {\n",
       "        vertical-align: middle;\n",
       "    }\n",
       "\n",
       "    .dataframe tbody tr th {\n",
       "        vertical-align: top;\n",
       "    }\n",
       "\n",
       "    .dataframe thead th {\n",
       "        text-align: right;\n",
       "    }\n",
       "</style>\n",
       "<table border=\"1\" class=\"dataframe\">\n",
       "  <thead>\n",
       "    <tr style=\"text-align: right;\">\n",
       "      <th></th>\n",
       "      <th>price</th>\n",
       "      <th>review_scores_rating</th>\n",
       "      <th>number_of_reviews</th>\n",
       "      <th>security_deposit</th>\n",
       "      <th>cleaning_fee</th>\n",
       "      <th>neighborhood</th>\n",
       "      <th>property_type</th>\n",
       "      <th>room_type</th>\n",
       "      <th>accommodates</th>\n",
       "      <th>bathrooms</th>\n",
       "      <th>beds</th>\n",
       "      <th>host_response_time</th>\n",
       "      <th>host_response_rate</th>\n",
       "      <th>host_is_superhost</th>\n",
       "      <th>host_has_profile_pic</th>\n",
       "      <th>host_identity_verified</th>\n",
       "      <th>is_superhost</th>\n",
       "    </tr>\n",
       "  </thead>\n",
       "  <tbody>\n",
       "    <tr>\n",
       "      <th>0</th>\n",
       "      <td>300</td>\n",
       "      <td>100</td>\n",
       "      <td>24</td>\n",
       "      <td>500</td>\n",
       "      <td>95</td>\n",
       "      <td>Wallingford</td>\n",
       "      <td>House</td>\n",
       "      <td>Entire home/apt</td>\n",
       "      <td>5</td>\n",
       "      <td>1.5</td>\n",
       "      <td>3</td>\n",
       "      <td>within a few hours</td>\n",
       "      <td>1.00</td>\n",
       "      <td>t</td>\n",
       "      <td>t</td>\n",
       "      <td>t</td>\n",
       "      <td>1</td>\n",
       "    </tr>\n",
       "    <tr>\n",
       "      <th>1</th>\n",
       "      <td>149</td>\n",
       "      <td>96</td>\n",
       "      <td>11</td>\n",
       "      <td>300</td>\n",
       "      <td>105</td>\n",
       "      <td>Wallingford</td>\n",
       "      <td>Apartment</td>\n",
       "      <td>Entire home/apt</td>\n",
       "      <td>6</td>\n",
       "      <td>1.0</td>\n",
       "      <td>3</td>\n",
       "      <td>within an hour</td>\n",
       "      <td>1.00</td>\n",
       "      <td>f</td>\n",
       "      <td>t</td>\n",
       "      <td>t</td>\n",
       "      <td>0</td>\n",
       "    </tr>\n",
       "    <tr>\n",
       "      <th>2</th>\n",
       "      <td>95</td>\n",
       "      <td>95</td>\n",
       "      <td>79</td>\n",
       "      <td>150</td>\n",
       "      <td>40</td>\n",
       "      <td>Wallingford</td>\n",
       "      <td>Apartment</td>\n",
       "      <td>Entire home/apt</td>\n",
       "      <td>3</td>\n",
       "      <td>1.0</td>\n",
       "      <td>2</td>\n",
       "      <td>within an hour</td>\n",
       "      <td>1.00</td>\n",
       "      <td>f</td>\n",
       "      <td>t</td>\n",
       "      <td>t</td>\n",
       "      <td>0</td>\n",
       "    </tr>\n",
       "    <tr>\n",
       "      <th>3</th>\n",
       "      <td>105</td>\n",
       "      <td>100</td>\n",
       "      <td>13</td>\n",
       "      <td>500</td>\n",
       "      <td>50</td>\n",
       "      <td>Wallingford</td>\n",
       "      <td>House</td>\n",
       "      <td>Private room</td>\n",
       "      <td>2</td>\n",
       "      <td>2.0</td>\n",
       "      <td>1</td>\n",
       "      <td>within a few hours</td>\n",
       "      <td>1.00</td>\n",
       "      <td>t</td>\n",
       "      <td>t</td>\n",
       "      <td>t</td>\n",
       "      <td>1</td>\n",
       "    </tr>\n",
       "    <tr>\n",
       "      <th>4</th>\n",
       "      <td>140</td>\n",
       "      <td>99</td>\n",
       "      <td>30</td>\n",
       "      <td>250</td>\n",
       "      <td>65</td>\n",
       "      <td>Wallingford</td>\n",
       "      <td>House</td>\n",
       "      <td>Entire home/apt</td>\n",
       "      <td>2</td>\n",
       "      <td>1.0</td>\n",
       "      <td>1</td>\n",
       "      <td>within an hour</td>\n",
       "      <td>1.00</td>\n",
       "      <td>t</td>\n",
       "      <td>t</td>\n",
       "      <td>t</td>\n",
       "      <td>1</td>\n",
       "    </tr>\n",
       "    <tr>\n",
       "      <th>...</th>\n",
       "      <td>...</td>\n",
       "      <td>...</td>\n",
       "      <td>...</td>\n",
       "      <td>...</td>\n",
       "      <td>...</td>\n",
       "      <td>...</td>\n",
       "      <td>...</td>\n",
       "      <td>...</td>\n",
       "      <td>...</td>\n",
       "      <td>...</td>\n",
       "      <td>...</td>\n",
       "      <td>...</td>\n",
       "      <td>...</td>\n",
       "      <td>...</td>\n",
       "      <td>...</td>\n",
       "      <td>...</td>\n",
       "      <td>...</td>\n",
       "    </tr>\n",
       "    <tr>\n",
       "      <th>334</th>\n",
       "      <td>250</td>\n",
       "      <td>95</td>\n",
       "      <td>4</td>\n",
       "      <td>250</td>\n",
       "      <td>100</td>\n",
       "      <td>Fremont</td>\n",
       "      <td>House</td>\n",
       "      <td>Entire home/apt</td>\n",
       "      <td>16</td>\n",
       "      <td>3.5</td>\n",
       "      <td>10</td>\n",
       "      <td>within a few hours</td>\n",
       "      <td>0.97</td>\n",
       "      <td>f</td>\n",
       "      <td>t</td>\n",
       "      <td>t</td>\n",
       "      <td>0</td>\n",
       "    </tr>\n",
       "    <tr>\n",
       "      <th>335</th>\n",
       "      <td>125</td>\n",
       "      <td>95</td>\n",
       "      <td>12</td>\n",
       "      <td>150</td>\n",
       "      <td>45</td>\n",
       "      <td>Fremont</td>\n",
       "      <td>Apartment</td>\n",
       "      <td>Entire home/apt</td>\n",
       "      <td>2</td>\n",
       "      <td>1.0</td>\n",
       "      <td>1</td>\n",
       "      <td>within a few hours</td>\n",
       "      <td>1.00</td>\n",
       "      <td>t</td>\n",
       "      <td>t</td>\n",
       "      <td>t</td>\n",
       "      <td>1</td>\n",
       "    </tr>\n",
       "    <tr>\n",
       "      <th>336</th>\n",
       "      <td>100</td>\n",
       "      <td>98</td>\n",
       "      <td>10</td>\n",
       "      <td>200</td>\n",
       "      <td>89</td>\n",
       "      <td>Fremont</td>\n",
       "      <td>Apartment</td>\n",
       "      <td>Entire home/apt</td>\n",
       "      <td>6</td>\n",
       "      <td>1.0</td>\n",
       "      <td>2</td>\n",
       "      <td>within an hour</td>\n",
       "      <td>1.00</td>\n",
       "      <td>f</td>\n",
       "      <td>t</td>\n",
       "      <td>t</td>\n",
       "      <td>0</td>\n",
       "    </tr>\n",
       "    <tr>\n",
       "      <th>337</th>\n",
       "      <td>175</td>\n",
       "      <td>96</td>\n",
       "      <td>29</td>\n",
       "      <td>500</td>\n",
       "      <td>95</td>\n",
       "      <td>Fremont</td>\n",
       "      <td>House</td>\n",
       "      <td>Entire home/apt</td>\n",
       "      <td>6</td>\n",
       "      <td>2.0</td>\n",
       "      <td>3</td>\n",
       "      <td>within a few hours</td>\n",
       "      <td>1.00</td>\n",
       "      <td>f</td>\n",
       "      <td>t</td>\n",
       "      <td>t</td>\n",
       "      <td>0</td>\n",
       "    </tr>\n",
       "    <tr>\n",
       "      <th>338</th>\n",
       "      <td>154</td>\n",
       "      <td>92</td>\n",
       "      <td>5</td>\n",
       "      <td>150</td>\n",
       "      <td>85</td>\n",
       "      <td>Fremont</td>\n",
       "      <td>House</td>\n",
       "      <td>Entire home/apt</td>\n",
       "      <td>5</td>\n",
       "      <td>1.0</td>\n",
       "      <td>3</td>\n",
       "      <td>within an hour</td>\n",
       "      <td>1.00</td>\n",
       "      <td>f</td>\n",
       "      <td>t</td>\n",
       "      <td>t</td>\n",
       "      <td>0</td>\n",
       "    </tr>\n",
       "  </tbody>\n",
       "</table>\n",
       "<p>339 rows × 17 columns</p>\n",
       "</div>"
      ],
      "text/plain": [
       "     price  review_scores_rating  number_of_reviews  security_deposit  \\\n",
       "0      300                   100                 24               500   \n",
       "1      149                    96                 11               300   \n",
       "2       95                    95                 79               150   \n",
       "3      105                   100                 13               500   \n",
       "4      140                    99                 30               250   \n",
       "..     ...                   ...                ...               ...   \n",
       "334    250                    95                  4               250   \n",
       "335    125                    95                 12               150   \n",
       "336    100                    98                 10               200   \n",
       "337    175                    96                 29               500   \n",
       "338    154                    92                  5               150   \n",
       "\n",
       "     cleaning_fee neighborhood property_type        room_type  accommodates  \\\n",
       "0              95  Wallingford         House  Entire home/apt             5   \n",
       "1             105  Wallingford     Apartment  Entire home/apt             6   \n",
       "2              40  Wallingford     Apartment  Entire home/apt             3   \n",
       "3              50  Wallingford         House     Private room             2   \n",
       "4              65  Wallingford         House  Entire home/apt             2   \n",
       "..            ...          ...           ...              ...           ...   \n",
       "334           100      Fremont         House  Entire home/apt            16   \n",
       "335            45      Fremont     Apartment  Entire home/apt             2   \n",
       "336            89      Fremont     Apartment  Entire home/apt             6   \n",
       "337            95      Fremont         House  Entire home/apt             6   \n",
       "338            85      Fremont         House  Entire home/apt             5   \n",
       "\n",
       "     bathrooms  beds  host_response_time  host_response_rate  \\\n",
       "0          1.5     3  within a few hours                1.00   \n",
       "1          1.0     3      within an hour                1.00   \n",
       "2          1.0     2      within an hour                1.00   \n",
       "3          2.0     1  within a few hours                1.00   \n",
       "4          1.0     1      within an hour                1.00   \n",
       "..         ...   ...                 ...                 ...   \n",
       "334        3.5    10  within a few hours                0.97   \n",
       "335        1.0     1  within a few hours                1.00   \n",
       "336        1.0     2      within an hour                1.00   \n",
       "337        2.0     3  within a few hours                1.00   \n",
       "338        1.0     3      within an hour                1.00   \n",
       "\n",
       "    host_is_superhost host_has_profile_pic host_identity_verified  \\\n",
       "0                   t                    t                      t   \n",
       "1                   f                    t                      t   \n",
       "2                   f                    t                      t   \n",
       "3                   t                    t                      t   \n",
       "4                   t                    t                      t   \n",
       "..                ...                  ...                    ...   \n",
       "334                 f                    t                      t   \n",
       "335                 t                    t                      t   \n",
       "336                 f                    t                      t   \n",
       "337                 f                    t                      t   \n",
       "338                 f                    t                      t   \n",
       "\n",
       "     is_superhost  \n",
       "0               1  \n",
       "1               0  \n",
       "2               0  \n",
       "3               1  \n",
       "4               1  \n",
       "..            ...  \n",
       "334             0  \n",
       "335             1  \n",
       "336             0  \n",
       "337             0  \n",
       "338             0  \n",
       "\n",
       "[339 rows x 17 columns]"
      ]
     },
     "execution_count": 6,
     "metadata": {},
     "output_type": "execute_result"
    }
   ],
   "source": [
    "airbnb_df['is_superhost'] = airbnb_df['host_is_superhost'].replace({'t':1, 'f':0})\n",
    "airbnb_df"
   ]
  },
  {
   "cell_type": "markdown",
   "metadata": {},
   "source": [
    "## 2. Model\n",
    "\n",
    "In the interest of time, let's build a logistic regression model, which will predict the `probability that a host is a superhost` given:\n",
    "\n",
    "* `review_scores_rating`\n",
    "* `property_type`\n",
    "* `room_type`\n",
    "\n",
    "### 2.1. Fit the Model\n",
    "\n",
    "Fit this \"full\" logistic regression model and show the summary output table."
   ]
  },
  {
   "cell_type": "code",
   "execution_count": 11,
   "metadata": {},
   "outputs": [
    {
     "name": "stdout",
     "output_type": "stream",
     "text": [
      "Optimization terminated successfully.\n",
      "         Current function value: 0.527465\n",
      "         Iterations 8\n"
     ]
    },
    {
     "data": {
      "text/html": [
       "<table class=\"simpletable\">\n",
       "<caption>Logit Regression Results</caption>\n",
       "<tr>\n",
       "  <th>Dep. Variable:</th>     <td>is_superhost</td>   <th>  No. Observations:  </th>  <td>   339</td>  \n",
       "</tr>\n",
       "<tr>\n",
       "  <th>Model:</th>                 <td>Logit</td>      <th>  Df Residuals:      </th>  <td>   334</td>  \n",
       "</tr>\n",
       "<tr>\n",
       "  <th>Method:</th>                 <td>MLE</td>       <th>  Df Model:          </th>  <td>     4</td>  \n",
       "</tr>\n",
       "<tr>\n",
       "  <th>Date:</th>            <td>Wed, 01 Nov 2023</td> <th>  Pseudo R-squ.:     </th>  <td>0.1340</td>  \n",
       "</tr>\n",
       "<tr>\n",
       "  <th>Time:</th>                <td>13:50:48</td>     <th>  Log-Likelihood:    </th> <td> -178.81</td> \n",
       "</tr>\n",
       "<tr>\n",
       "  <th>converged:</th>             <td>True</td>       <th>  LL-Null:           </th> <td> -206.49</td> \n",
       "</tr>\n",
       "<tr>\n",
       "  <th>Covariance Type:</th>     <td>nonrobust</td>    <th>  LLR p-value:       </th> <td>2.742e-11</td>\n",
       "</tr>\n",
       "</table>\n",
       "<table class=\"simpletable\">\n",
       "<tr>\n",
       "              <td></td>                 <th>coef</th>     <th>std err</th>      <th>z</th>      <th>P>|z|</th>  <th>[0.025</th>    <th>0.975]</th>  \n",
       "</tr>\n",
       "<tr>\n",
       "  <th>Intercept</th>                 <td>  -21.5503</td> <td>    4.075</td> <td>   -5.288</td> <td> 0.000</td> <td>  -29.538</td> <td>  -13.563</td>\n",
       "</tr>\n",
       "<tr>\n",
       "  <th>property_type[T.House]</th>    <td>   -0.1621</td> <td>    0.286</td> <td>   -0.568</td> <td> 0.570</td> <td>   -0.722</td> <td>    0.397</td>\n",
       "</tr>\n",
       "<tr>\n",
       "  <th>room_type[T.Private room]</th> <td>    0.0057</td> <td>    0.366</td> <td>    0.016</td> <td> 0.988</td> <td>   -0.712</td> <td>    0.723</td>\n",
       "</tr>\n",
       "<tr>\n",
       "  <th>room_type[T.Shared room]</th>  <td>   -2.1751</td> <td>    1.059</td> <td>   -2.054</td> <td> 0.040</td> <td>   -4.251</td> <td>   -0.099</td>\n",
       "</tr>\n",
       "<tr>\n",
       "  <th>review_scores_rating</th>      <td>    0.2171</td> <td>    0.042</td> <td>    5.157</td> <td> 0.000</td> <td>    0.135</td> <td>    0.300</td>\n",
       "</tr>\n",
       "</table>"
      ],
      "text/latex": [
       "\\begin{center}\n",
       "\\begin{tabular}{lclc}\n",
       "\\toprule\n",
       "\\textbf{Dep. Variable:}             &  is\\_superhost   & \\textbf{  No. Observations:  } &      339    \\\\\n",
       "\\textbf{Model:}                     &      Logit       & \\textbf{  Df Residuals:      } &      334    \\\\\n",
       "\\textbf{Method:}                    &       MLE        & \\textbf{  Df Model:          } &        4    \\\\\n",
       "\\textbf{Date:}                      & Wed, 01 Nov 2023 & \\textbf{  Pseudo R-squ.:     } &   0.1340    \\\\\n",
       "\\textbf{Time:}                      &     13:50:48     & \\textbf{  Log-Likelihood:    } &   -178.81   \\\\\n",
       "\\textbf{converged:}                 &       True       & \\textbf{  LL-Null:           } &   -206.49   \\\\\n",
       "\\textbf{Covariance Type:}           &    nonrobust     & \\textbf{  LLR p-value:       } & 2.742e-11   \\\\\n",
       "\\bottomrule\n",
       "\\end{tabular}\n",
       "\\begin{tabular}{lcccccc}\n",
       "                                    & \\textbf{coef} & \\textbf{std err} & \\textbf{z} & \\textbf{P$> |$z$|$} & \\textbf{[0.025} & \\textbf{0.975]}  \\\\\n",
       "\\midrule\n",
       "\\textbf{Intercept}                  &     -21.5503  &        4.075     &    -5.288  &         0.000        &      -29.538    &      -13.563     \\\\\n",
       "\\textbf{property\\_type[T.House]}    &      -0.1621  &        0.286     &    -0.568  &         0.570        &       -0.722    &        0.397     \\\\\n",
       "\\textbf{room\\_type[T.Private room]} &       0.0057  &        0.366     &     0.016  &         0.988        &       -0.712    &        0.723     \\\\\n",
       "\\textbf{room\\_type[T.Shared room]}  &      -2.1751  &        1.059     &    -2.054  &         0.040        &       -4.251    &       -0.099     \\\\\n",
       "\\textbf{review\\_scores\\_rating}     &       0.2171  &        0.042     &     5.157  &         0.000        &        0.135    &        0.300     \\\\\n",
       "\\bottomrule\n",
       "\\end{tabular}\n",
       "%\\caption{Logit Regression Results}\n",
       "\\end{center}"
      ],
      "text/plain": [
       "<class 'statsmodels.iolib.summary.Summary'>\n",
       "\"\"\"\n",
       "                           Logit Regression Results                           \n",
       "==============================================================================\n",
       "Dep. Variable:           is_superhost   No. Observations:                  339\n",
       "Model:                          Logit   Df Residuals:                      334\n",
       "Method:                           MLE   Df Model:                            4\n",
       "Date:                Wed, 01 Nov 2023   Pseudo R-squ.:                  0.1340\n",
       "Time:                        13:50:48   Log-Likelihood:                -178.81\n",
       "converged:                       True   LL-Null:                       -206.49\n",
       "Covariance Type:            nonrobust   LLR p-value:                 2.742e-11\n",
       "=============================================================================================\n",
       "                                coef    std err          z      P>|z|      [0.025      0.975]\n",
       "---------------------------------------------------------------------------------------------\n",
       "Intercept                   -21.5503      4.075     -5.288      0.000     -29.538     -13.563\n",
       "property_type[T.House]       -0.1621      0.286     -0.568      0.570      -0.722       0.397\n",
       "room_type[T.Private room]     0.0057      0.366      0.016      0.988      -0.712       0.723\n",
       "room_type[T.Shared room]     -2.1751      1.059     -2.054      0.040      -4.251      -0.099\n",
       "review_scores_rating          0.2171      0.042      5.157      0.000       0.135       0.300\n",
       "=============================================================================================\n",
       "\"\"\""
      ]
     },
     "execution_count": 11,
     "metadata": {},
     "output_type": "execute_result"
    }
   ],
   "source": [
    "import statsmodels.formula.api as smf\n",
    "full_model = smf.logit(formula='is_superhost~review_scores_rating+property_type+room_type',data=airbnb_df).fit()\n",
    "full_model.summary()"
   ]
  },
  {
   "cell_type": "markdown",
   "metadata": {},
   "source": [
    "### 2.2. Model Equation\n",
    "\n",
    "Write the equation for the resulting logistic regression model that has the predicted **odds** on the left-hand side. Make sure to use the appropriate notation discussed in class."
   ]
  },
  {
   "cell_type": "markdown",
   "metadata": {},
   "source": [
    "$$\n",
    "\\hat{odds}=\\frac{\\hat{p}}{1-\\hat{p}}=exp(-21.5503-0.1621(property_type[T.House])+0.0057(room_type[T.Private room])-2.1751(room_type[T.Shared room])+0.2171(review_scores_rating)\n",
    "$$"
   ]
  },
  {
   "cell_type": "markdown",
   "metadata": {},
   "source": [
    "## 3. Slope and Intercept Interpretations\n",
    "\n",
    "### 3.1. Baseline Odds\n",
    "\n",
    "Calculate the baseline odds for this model and put it into words. Make sure to use non-misleading language discussed in class."
   ]
  },
  {
   "cell_type": "code",
   "execution_count": 16,
   "metadata": {},
   "outputs": [
    {
     "data": {
      "text/plain": [
       "4.373444570886403e-10"
      ]
     },
     "execution_count": 16,
     "metadata": {},
     "output_type": "execute_result"
    }
   ],
   "source": [
    "np.exp(-21.5503)"
   ]
  },
  {
   "cell_type": "markdown",
   "metadata": {},
   "source": [
    "e^(-21.5503) = 4.373* 10^(-10)"
   ]
  },
  {
   "cell_type": "markdown",
   "metadata": {},
   "source": [
    "### 3.2. Prose Baseline Odds\n",
    "\n",
    "The baseline odds that you calculated in 3.1 is a numerical odds. Put this numerical odds into prose form."
   ]
  },
  {
   "cell_type": "markdown",
   "metadata": {},
   "source": [
    "We predict that the odds that a host without a property house or private or shared room and no review scores rating being a superhost are 4.373 to 10^(10)."
   ]
  },
  {
   "cell_type": "markdown",
   "metadata": {},
   "source": [
    "### 3.3. Odds Multiplier for Review Scores Rating"
   ]
  },
  {
   "cell_type": "markdown",
   "metadata": {},
   "source": [
    "#### 3.3.1. Odds Multiplier\n",
    "\n",
    "Calculate the odds multiplier for review scores rating and put it into words. Make sure to use non-misleading language discussed in class."
   ]
  },
  {
   "cell_type": "code",
   "execution_count": 17,
   "metadata": {},
   "outputs": [
    {
     "data": {
      "text/plain": [
       "1.2424683427599053"
      ]
     },
     "execution_count": 17,
     "metadata": {},
     "output_type": "execute_result"
    }
   ],
   "source": [
    "np.exp(0.2171)"
   ]
  },
  {
   "cell_type": "markdown",
   "metadata": {},
   "source": [
    "All else held equal, if we were to increase the review_scores_rating of a listing by 1 rating, we expect, on average, the odds of the listing being a superhost to increase by a multiple of ~1.242, on average"
   ]
  },
  {
   "cell_type": "markdown",
   "metadata": {},
   "source": [
    "#### 3.3.2. Applying the Odds Multiplier\n",
    "\n",
    "Suppose that an Airbnb host currently has a review scores rating of 8. The odds of her being a superhost was predicted to be 2 by this model. If she were to increase her review scores rating to 9, what would the model predict her new odds to be?"
   ]
  },
  {
   "cell_type": "code",
   "execution_count": 18,
   "metadata": {},
   "outputs": [
    {
     "data": {
      "text/plain": [
       "3.2424683427599055"
      ]
     },
     "execution_count": 18,
     "metadata": {},
     "output_type": "execute_result"
    }
   ],
   "source": [
    "2+1.2424683427599053"
   ]
  },
  {
   "cell_type": "markdown",
   "metadata": {},
   "source": [
    "If we were to increase her review scores rating to 9, we would predict the new odds of the listing being a superhost to increase by multiple of 3.2424683427599055"
   ]
  },
  {
   "cell_type": "markdown",
   "metadata": {},
   "source": [
    "#### 3.3.3. Review Scores and Superhost Status\n",
    "\n",
    "Visualize the relationships between `host_is_superhost` and `review_scores_rating`.\n",
    "\n",
    "Does your odds multiplier of `review_scores_rating` interpretation match what your visualization suggests about the relationship between `host_is_superhost` and `review_scores_rating`? Explain."
   ]
  },
  {
   "cell_type": "code",
   "execution_count": 29,
   "metadata": {},
   "outputs": [
    {
     "data": {
      "text/plain": [
       "<Axes: xlabel='host_is_superhost', ylabel='review_scores_rating'>"
      ]
     },
     "execution_count": 29,
     "metadata": {},
     "output_type": "execute_result"
    },
    {
     "data": {
      "image/png": "[encoded data removed]",
      "text/plain": [
       "<Figure size 640x480 with 1 Axes>"
      ]
     },
     "metadata": {},
     "output_type": "display_data"
    }
   ],
   "source": [
    "sns.boxplot(data=airbnb_df, x=\"host_is_superhost\", y=\"review_scores_rating\")"
   ]
  },
  {
   "cell_type": "markdown",
   "metadata": {},
   "source": [
    "My odds multiplier interpretation matches what the visualization suggests about the relationship between being a superhost and review scores rating. Due to there being a high odds multiplier value (greater than 1) we can see that being a superhost is associated with higher review scores rating as compared to not being a superhost. This is seen through the range of the boxplots. For the superhosts the range is smaller but at higher values while not being a superhost has a higher range and higher outliers."
   ]
  },
  {
   "cell_type": "markdown",
   "metadata": {},
   "source": [
    "### 3.4. Odds Ratio of House vs. Apartment Listings"
   ]
  },
  {
   "cell_type": "markdown",
   "metadata": {},
   "source": [
    "#### 3.4.1. Odds Ratio\n",
    "\n",
    "Calculate the odds ratio for <u>house</u> vs. <u>apartment</u> listings in this model and put it into words. Make sure to use non-misleading language discussed in class."
   ]
  },
  {
   "cell_type": "code",
   "execution_count": 19,
   "metadata": {},
   "outputs": [
    {
     "data": {
      "text/plain": [
       "0.8503561646718433"
      ]
     },
     "execution_count": 19,
     "metadata": {},
     "output_type": "execute_result"
    }
   ],
   "source": [
    "np.exp(-0.1621)"
   ]
  },
  {
   "cell_type": "markdown",
   "metadata": {},
   "source": [
    "All else held equal, we would expect that with property listing being a house, the odds that the person is a superhost would to be a multiple of 0.8503561646718433 times higher than the odds of the person being a superhost with a property listing as an apartment, on average."
   ]
  },
  {
   "cell_type": "markdown",
   "metadata": {},
   "source": [
    "## 3.4.2. Applying the Odds Ratio\n",
    "\n",
    "Suppose that an Airbnb host is currently listing a private room in their <u>apartment</u>. The model predicts the odds that he is a superhost to be 0.9. If he were to also list a private room in a <u>house</u>, what would the model predict the odds of him being a superhost to be?"
   ]
  },
  {
   "cell_type": "code",
   "execution_count": 28,
   "metadata": {},
   "outputs": [
    {
     "data": {
      "text/plain": [
       "1.7503561646718433"
      ]
     },
     "execution_count": 28,
     "metadata": {},
     "output_type": "execute_result"
    }
   ],
   "source": [
    "0.9+0.8503561646718433"
   ]
  },
  {
   "cell_type": "markdown",
   "metadata": {},
   "source": []
  },
  {
   "cell_type": "markdown",
   "metadata": {},
   "source": [
    "#### 3.4.3. Property Type and Superhost Status\n",
    "\n",
    "Visualize the relationships between `host_is_superhost` and `property_type`. \n",
    "\n",
    "Does your odds ratio interpretation from 3.4.1 match what your visualization suggests about the relationship between `host_is_superhost` and `property_type`? Explain.\n",
    "\n",
    "*(Hint: `property_type` should be on your x-axis in this visualization in order to best answer the question above).*"
   ]
  },
  {
   "cell_type": "code",
   "execution_count": 35,
   "metadata": {},
   "outputs": [
    {
     "data": {
      "text/plain": [
       "<Axes: xlabel='property_type', ylabel='count'>"
      ]
     },
     "execution_count": 35,
     "metadata": {},
     "output_type": "execute_result"
    },
    {
     "data": {
      "image/png": "[encoded data removed]",
      "text/plain": [
       "<Figure size 640x480 with 1 Axes>"
      ]
     },
     "metadata": {},
     "output_type": "display_data"
    }
   ],
   "source": [
    "sns.countplot(data=airbnb_df, x=\"property_type\", hue=\"host_is_superhost\")"
   ]
  },
  {
   "cell_type": "markdown",
   "metadata": {},
   "source": [
    "My odds ratio interpretation doesn't match what the visualization suggests about the relationship between being a superhost and property type. From our analysis, it was believed that the odds of a person being a superhost would be higher if he/she had a house compared to an apartment. However, when comparing the two graphs, we see that the count of a person being a superhost with an apartment is higher compared to a house."
   ]
  },
  {
   "cell_type": "markdown",
   "metadata": {},
   "source": [
    "### 3.5. Odds Ratio of Shared Room vs. Whole House/Apartment Listings"
   ]
  },
  {
   "cell_type": "markdown",
   "metadata": {},
   "source": [
    "#### 3.5.1. Odds Ratio\n",
    "\n",
    "Calculate the odds ratio for <u>shared room</u> vs. <u>whole house/apartment</u> listings in this model and put it into words. Make sure to use non-misleading language discussed in class."
   ]
  },
  {
   "cell_type": "code",
   "execution_count": 25,
   "metadata": {},
   "outputs": [
    {
     "data": {
      "text/plain": [
       "0.1135967934234185"
      ]
     },
     "execution_count": 25,
     "metadata": {},
     "output_type": "execute_result"
    }
   ],
   "source": [
    "np.exp(-2.1751)"
   ]
  },
  {
   "cell_type": "markdown",
   "metadata": {},
   "source": [
    "All else held equal, we would expect that with property listing being a shared room, the odds that the person is a superhost would to be a multiple of 0.1135967934234185 times higher than the odds of the person being a superhost with a property listing being a whole house or apartment, on average."
   ]
  },
  {
   "cell_type": "markdown",
   "metadata": {},
   "source": [
    "#### 3.5.2. Applying the Odds Ratio\n",
    "\n",
    "Suppose that an Airbnb host is currently listing their <u>shared room</u>. The model predicts the odds that she is a superhost to be 9. If she were instead to list her <u>whole house</u>, what would the model predict the odds of her being a superhost to be?"
   ]
  },
  {
   "cell_type": "code",
   "execution_count": 26,
   "metadata": {},
   "outputs": [
    {
     "data": {
      "text/plain": [
       "9.113596793423419"
      ]
     },
     "execution_count": 26,
     "metadata": {},
     "output_type": "execute_result"
    }
   ],
   "source": [
    "9+0.1135967934234185"
   ]
  },
  {
   "cell_type": "markdown",
   "metadata": {},
   "source": []
  },
  {
   "cell_type": "markdown",
   "metadata": {},
   "source": [
    "#### 3.5.3. Room Type and Superhost Status\n",
    "\n",
    "Visualize the relationships between `host_is_superhost` and `room_type`. \n",
    "\n",
    "Does your odds ratio interpretation from 3.5.1 match what your visualization suggests about the relationship between `host_is_superhost` and `room_type`? Explain.\n",
    "\n",
    "*(Hint: `room_type` should be on your x-axis in this visualization in order to best answer the question above).*"
   ]
  },
  {
   "cell_type": "code",
   "execution_count": 36,
   "metadata": {},
   "outputs": [
    {
     "data": {
      "text/plain": [
       "<Axes: xlabel='room_type', ylabel='count'>"
      ]
     },
     "execution_count": 36,
     "metadata": {},
     "output_type": "execute_result"
    },
    {
     "data": {
      "image/png": "[encoded data removed]",
      "text/plain": [
       "<Figure size 640x480 with 1 Axes>"
      ]
     },
     "metadata": {},
     "output_type": "display_data"
    }
   ],
   "source": [
    "sns.countplot(data=airbnb_df, x=\"room_type\", hue=\"host_is_superhost\")"
   ]
  },
  {
   "cell_type": "markdown",
   "metadata": {},
   "source": [
    "My odds ratio interpretation doesn't match what the visualization suggests about the relationship between being a superhost and property type. From our analysis, it was believed that the odds of a person being a superhost wouldn't be that much higher if he/she had a house compared to an apartment. However, when comparing the three graphs, we see that there is a large disparity between the counts when the host is a superhost and not a superhost for each of the room types."
   ]
  }
 ],
 "metadata": {
  "kernelspec": {
   "display_name": "Python 3 (ipykernel)",
   "language": "python",
   "name": "python3"
  },
  "language_info": {
   "codemirror_mode": {
    "name": "ipython",
    "version": 3
   },
   "file_extension": ".py",
   "mimetype": "text/x-python",
   "name": "python",
   "nbconvert_exporter": "python",
   "pygments_lexer": "ipython3",
   "version": "3.11.4"
  }
 },
 "nbformat": 4,
 "nbformat_minor": 2
}
