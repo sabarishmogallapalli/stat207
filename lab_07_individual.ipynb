{
 "cells": [
  {
   "cell_type": "markdown",
   "metadata": {},
   "source": [
    "# STAT 207 Lab Assignment 7 - Individual Part - [20 total points]\n",
    "\n",
    "## <u>Case Study</u>: Predicting IMDB Comedy Movie Ratings based on Content *for New Datasets*\n",
    "\n",
    "In this individual assignments we will use the data in the `imdb.csv` to pursue our research goals.\n",
    "\n",
    "Each row in the `imdb.csv` file contains the following information about **POPULAR** `films` as well as `series` listed on IMDB.\n",
    "\n",
    "* `Name`\n",
    "* `Date`: the date film/series was released.\n",
    "* `Rate`: the rating of the film/series\n",
    "* `Votes`: how many votes this film/series received on IMDB\n",
    "* `Genre`: a **list** of genres that the film/series is considered to be. Most films/series have multiple genres listed (ex: 'Action, Adventure, Thriller')\n",
    "* `Duration`: the duration of the film/series\n",
    "* `Type`: whether the row is a `Film` or `Series`\n",
    "* `Certificate`: the content rating of the film (ex: 'G', 'PG', 'PG-13', 'R')\n",
    "* `Nudity`: the amount of nudity in the film/series\n",
    "* `Violence`: the amount of violence in the film/series\n",
    "* `Profanity`: the amount of profanity in the film/series\n",
    "* `Alcohol`: the amount of alcohol in the film/series\n",
    "* `Frightening`: the amount of frightening content in the film/series\n",
    "\n",
    "\n",
    "\n",
    "\n",
    "### Points\n",
    "\n",
    "<p>&nbsp;</p>\n",
    "<table style=\"border: none;border-collapse: collapse;width:102pt;\">\n",
    "    <tbody>\n",
    "        <tr>\n",
    "            <td style=\"color:black;font-size:15px;font-weight:700;font-style:normal;text-decoration:none;font-family:Calibri, sans-serif;text-align:general;vertical-align:bottom;border:.5pt solid windowtext;height:14.25pt;width:51pt;\">Problem</td>\n",
    "            <td style=\"color:black;font-size:15px;font-weight:700;font-style:normal;text-decoration:none;font-family:Calibri, sans-serif;text-align:general;vertical-align:bottom;border:.5pt solid windowtext;border-left:none;width:51pt;\">Points</td>\n",
    "        </tr>\n",
    "        <tr>\n",
    "            <td style=\"color:black;font-size:15px;font-weight:400;font-style:normal;text-decoration:none;font-family:Calibri, sans-serif;text-align:right;vertical-align:bottom;border:.5pt solid windowtext;height:14.25pt;border-top:none;\">1.1</td>\n",
    "            <td style=\"color:black;font-size:15px;font-weight:400;font-style:normal;text-decoration:none;font-family:Calibri, sans-serif;text-align:right;vertical-align:bottom;border:.5pt solid windowtext;border-top:none;border-left:none;\">0.5</td>\n",
    "        </tr>\n",
    "        <tr>\n",
    "            <td style=\"color:black;font-size:15px;font-weight:400;font-style:normal;text-decoration:none;font-family:Calibri, sans-serif;text-align:right;vertical-align:bottom;border:.5pt solid windowtext;height:14.25pt;border-top:none;\">1.2</td>\n",
    "            <td style=\"color:black;font-size:15px;font-weight:400;font-style:normal;text-decoration:none;font-family:Calibri, sans-serif;text-align:right;vertical-align:bottom;border:.5pt solid windowtext;border-top:none;border-left:none;\">0.5</td>\n",
    "        </tr>\n",
    "        <tr>\n",
    "            <td style=\"color:black;font-size:15px;font-weight:400;font-style:normal;text-decoration:none;font-family:Calibri, sans-serif;text-align:right;vertical-align:bottom;border:.5pt solid windowtext;height:14.25pt;border-top:none;\">1.3</td>\n",
    "            <td style=\"color:black;font-size:15px;font-weight:400;font-style:normal;text-decoration:none;font-family:Calibri, sans-serif;text-align:right;vertical-align:bottom;border:.5pt solid windowtext;border-top:none;border-left:none;\">1</td>\n",
    "        </tr>\n",
    "        <tr>\n",
    "            <td style=\"color:black;font-size:15px;font-weight:400;font-style:normal;text-decoration:none;font-family:Calibri, sans-serif;text-align:right;vertical-align:bottom;border:.5pt solid windowtext;height:14.25pt;border-top:none;\">1.4</td>\n",
    "            <td style=\"color:black;font-size:15px;font-weight:400;font-style:normal;text-decoration:none;font-family:Calibri, sans-serif;text-align:right;vertical-align:bottom;border:.5pt solid windowtext;border-top:none;border-left:none;\">0.5</td>\n",
    "        </tr>\n",
    "        <tr>\n",
    "            <td style=\"color:black;font-size:15px;font-weight:400;font-style:normal;text-decoration:none;font-family:Calibri, sans-serif;text-align:right;vertical-align:bottom;border:.5pt solid windowtext;height:14.25pt;border-top:none;\">2.1</td>\n",
    "            <td style=\"color:black;font-size:15px;font-weight:400;font-style:normal;text-decoration:none;font-family:Calibri, sans-serif;text-align:right;vertical-align:bottom;border:.5pt solid windowtext;border-top:none;border-left:none;\">1</td>\n",
    "        </tr>\n",
    "        <tr>\n",
    "            <td style=\"color:black;font-size:15px;font-weight:400;font-style:normal;text-decoration:none;font-family:Calibri, sans-serif;text-align:right;vertical-align:bottom;border:.5pt solid windowtext;height:14.25pt;border-top:none;\">3.1</td>\n",
    "            <td style=\"color:black;font-size:15px;font-weight:400;font-style:normal;text-decoration:none;font-family:Calibri, sans-serif;text-align:right;vertical-align:bottom;border:.5pt solid windowtext;border-top:none;border-left:none;\">1</td>\n",
    "        </tr>\n",
    "        <tr>\n",
    "            <td style=\"color:black;font-size:15px;font-weight:400;font-style:normal;text-decoration:none;font-family:Calibri, sans-serif;text-align:right;vertical-align:bottom;border:.5pt solid windowtext;height:14.25pt;border-top:none;\">3.2</td>\n",
    "            <td style=\"color:black;font-size:15px;font-weight:400;font-style:normal;text-decoration:none;font-family:Calibri, sans-serif;text-align:right;vertical-align:bottom;border:.5pt solid windowtext;border-top:none;border-left:none;\">1</td>\n",
    "        </tr>\n",
    "        <tr>\n",
    "            <td style=\"color:black;font-size:15px;font-weight:400;font-style:normal;text-decoration:none;font-family:Calibri, sans-serif;text-align:right;vertical-align:bottom;border:.5pt solid windowtext;height:14.25pt;border-top:none;\">3.3</td>\n",
    "            <td style=\"color:black;font-size:15px;font-weight:400;font-style:normal;text-decoration:none;font-family:Calibri, sans-serif;text-align:right;vertical-align:bottom;border:.5pt solid windowtext;border-top:none;border-left:none;\">0.75</td>\n",
    "        </tr>\n",
    "        <tr>\n",
    "            <td style=\"color:black;font-size:15px;font-weight:400;font-style:normal;text-decoration:none;font-family:Calibri, sans-serif;text-align:right;vertical-align:bottom;border:.5pt solid windowtext;height:14.25pt;border-top:none;\">3.4</td>\n",
    "            <td style=\"color:black;font-size:15px;font-weight:400;font-style:normal;text-decoration:none;font-family:Calibri, sans-serif;text-align:right;vertical-align:bottom;border:.5pt solid windowtext;border-top:none;border-left:none;\">0.75</td>\n",
    "        </tr>\n",
    "        <tr>\n",
    "            <td style=\"color:black;font-size:15px;font-weight:400;font-style:normal;text-decoration:none;font-family:Calibri, sans-serif;text-align:right;vertical-align:bottom;border:.5pt solid windowtext;height:14.25pt;border-top:none;\">3.5</td>\n",
    "            <td style=\"color:black;font-size:15px;font-weight:400;font-style:normal;text-decoration:none;font-family:Calibri, sans-serif;text-align:right;vertical-align:bottom;border:.5pt solid windowtext;border-top:none;border-left:none;\">0.75</td>\n",
    "        </tr>\n",
    "        <tr>\n",
    "            <td style=\"color:black;font-size:15px;font-weight:400;font-style:normal;text-decoration:none;font-family:Calibri, sans-serif;text-align:right;vertical-align:bottom;border:.5pt solid windowtext;height:14.25pt;border-top:none;\">3.6</td>\n",
    "            <td style=\"color:black;font-size:15px;font-weight:400;font-style:normal;text-decoration:none;font-family:Calibri, sans-serif;text-align:right;vertical-align:bottom;border:.5pt solid windowtext;border-top:none;border-left:none;\">1</td>\n",
    "        </tr>\n",
    "        <tr>\n",
    "            <td style=\"color:black;font-size:15px;font-weight:400;font-style:normal;text-decoration:none;font-family:Calibri, sans-serif;text-align:right;vertical-align:bottom;border:.5pt solid windowtext;height:14.25pt;border-top:none;\">3.7</td>\n",
    "            <td style=\"color:black;font-size:15px;font-weight:400;font-style:normal;text-decoration:none;font-family:Calibri, sans-serif;text-align:right;vertical-align:bottom;border:.5pt solid windowtext;border-top:none;border-left:none;\">1</td>\n",
    "        </tr>\n",
    "        <tr>\n",
    "            <td style=\"color:black;font-size:15px;font-weight:400;font-style:normal;text-decoration:none;font-family:Calibri, sans-serif;text-align:right;vertical-align:bottom;border:.5pt solid windowtext;height:14.25pt;border-top:none;\">3.8</td>\n",
    "            <td style=\"color:black;font-size:15px;font-weight:400;font-style:normal;text-decoration:none;font-family:Calibri, sans-serif;text-align:right;vertical-align:bottom;border:.5pt solid windowtext;border-top:none;border-left:none;\">1</td>\n",
    "        </tr>\n",
    "        <tr>\n",
    "            <td style=\"color:black;font-size:15px;font-weight:400;font-style:normal;text-decoration:none;font-family:Calibri, sans-serif;text-align:right;vertical-align:bottom;border:.5pt solid windowtext;height:14.25pt;border-top:none;\">4</td>\n",
    "            <td style=\"color:black;font-size:15px;font-weight:400;font-style:normal;text-decoration:none;font-family:Calibri, sans-serif;text-align:right;vertical-align:bottom;border:.5pt solid windowtext;border-top:none;border-left:none;\">1</td>\n",
    "        </tr>\n",
    "        <tr>\n",
    "            <td style=\"color:black;font-size:15px;font-weight:400;font-style:normal;text-decoration:none;font-family:Calibri, sans-serif;text-align:right;vertical-align:bottom;border:.5pt solid windowtext;height:14.25pt;border-top:none;\">5</td>\n",
    "            <td style=\"color:black;font-size:15px;font-weight:400;font-style:normal;text-decoration:none;font-family:Calibri, sans-serif;text-align:right;vertical-align:bottom;border:.5pt solid windowtext;border-top:none;border-left:none;\">3</td>\n",
    "        </tr>\n",
    "        <tr>\n",
    "            <td style=\"color:black;font-size:15px;font-weight:400;font-style:normal;text-decoration:none;font-family:Calibri, sans-serif;text-align:right;vertical-align:bottom;border:.5pt solid windowtext;height:14.25pt;border-top:none;\">6.1</td>\n",
    "            <td style=\"color:black;font-size:15px;font-weight:400;font-style:normal;text-decoration:none;font-family:Calibri, sans-serif;text-align:right;vertical-align:bottom;border:.5pt solid windowtext;border-top:none;border-left:none;\">0.75</td>\n",
    "        </tr>\n",
    "        <tr>\n",
    "            <td style=\"color:black;font-size:15px;font-weight:400;font-style:normal;text-decoration:none;font-family:Calibri, sans-serif;text-align:right;vertical-align:bottom;border:.5pt solid windowtext;height:14.25pt;border-top:none;\">6.2</td>\n",
    "            <td style=\"color:black;font-size:15px;font-weight:400;font-style:normal;text-decoration:none;font-family:Calibri, sans-serif;text-align:right;vertical-align:bottom;border:.5pt solid windowtext;border-top:none;border-left:none;\">0.75</td>\n",
    "        </tr>\n",
    "        <tr>\n",
    "            <td style=\"color:black;font-size:15px;font-weight:400;font-style:normal;text-decoration:none;font-family:Calibri, sans-serif;text-align:right;vertical-align:bottom;border:.5pt solid windowtext;height:14.25pt;border-top:none;\">6.3</td>\n",
    "            <td style=\"color:black;font-size:15px;font-weight:400;font-style:normal;text-decoration:none;font-family:Calibri, sans-serif;text-align:right;vertical-align:bottom;border:.5pt solid windowtext;border-top:none;border-left:none;\">0.75</td>\n",
    "        </tr>\n",
    "        <tr>\n",
    "            <td style=\"color:black;font-size:15px;font-weight:400;font-style:normal;text-decoration:none;font-family:Calibri, sans-serif;text-align:right;vertical-align:bottom;border:.5pt solid windowtext;height:14.25pt;border-top:none;\">6.4</td>\n",
    "            <td style=\"color:black;font-size:15px;font-weight:400;font-style:normal;text-decoration:none;font-family:Calibri, sans-serif;text-align:right;vertical-align:bottom;border:.5pt solid windowtext;border-top:none;border-left:none;\">1</td>\n",
    "        </tr>\n",
    "        <tr>\n",
    "            <td style=\"color:black;font-size:15px;font-weight:400;font-style:normal;text-decoration:none;font-family:Calibri, sans-serif;text-align:right;vertical-align:bottom;border:.5pt solid windowtext;height:14.25pt;border-top:none;\">6.5</td>\n",
    "            <td style=\"color:black;font-size:15px;font-weight:400;font-style:normal;text-decoration:none;font-family:Calibri, sans-serif;text-align:right;vertical-align:bottom;border:.5pt solid windowtext;border-top:none;border-left:none;\">1</td>\n",
    "        </tr>\n",
    "        <tr>\n",
    "            <td style=\"color:black;font-size:15px;font-weight:400;font-style:normal;text-decoration:none;font-family:Calibri, sans-serif;text-align:right;vertical-align:bottom;border:.5pt solid windowtext;height:14.25pt;border-top:none;\">7</td>\n",
    "            <td style=\"color:black;font-size:15px;font-weight:400;font-style:normal;text-decoration:none;font-family:Calibri, sans-serif;text-align:right;vertical-align:bottom;border:.5pt solid windowtext;border-top:none;border-left:none;\">1</td>\n",
    "        </tr>\n",
    "    </tbody>\n",
    "</table>\n"
   ]
  },
  {
   "cell_type": "code",
   "execution_count": 74,
   "metadata": {},
   "outputs": [],
   "source": [
    "import pandas as pd\n",
    "import seaborn as sns\n",
    "sns.set()\n",
    "import statsmodels.formula.api as smf\n",
    "import matplotlib.pyplot as plt\n",
    "import numpy as np\n",
    "from sklearn.model_selection import train_test_split\n",
    "from sklearn.metrics import r2_score"
   ]
  },
  {
   "cell_type": "markdown",
   "metadata": {},
   "source": [
    "## 1. Dataset Exploration\n",
    "\n",
    "### 1.1. Reading the csv\n",
    "\n",
    "1. Read the `imdb.csv` into a dataframe. The strings that are used to represent missing values in this csv file are `No Rate`, `No Votes`, and `None`. Make sure that these values are converted to NaN values when you read the csv file.\n",
    "2. Show the first 5 rows.\n",
    "3. Show how many rows this dataframe has."
   ]
  },
  {
   "cell_type": "code",
   "execution_count": 75,
   "metadata": {},
   "outputs": [
    {
     "data": {
      "text/html": [
       "<div>\n",
       "<style scoped>\n",
       "    .dataframe tbody tr th:only-of-type {\n",
       "        vertical-align: middle;\n",
       "    }\n",
       "\n",
       "    .dataframe tbody tr th {\n",
       "        vertical-align: top;\n",
       "    }\n",
       "\n",
       "    .dataframe thead th {\n",
       "        text-align: right;\n",
       "    }\n",
       "</style>\n",
       "<table border=\"1\" class=\"dataframe\">\n",
       "  <thead>\n",
       "    <tr style=\"text-align: right;\">\n",
       "      <th></th>\n",
       "      <th>Name</th>\n",
       "      <th>Date</th>\n",
       "      <th>Rate</th>\n",
       "      <th>Votes</th>\n",
       "      <th>Genre</th>\n",
       "      <th>Duration</th>\n",
       "      <th>Type</th>\n",
       "      <th>Certificate</th>\n",
       "      <th>Nudity</th>\n",
       "      <th>Violence</th>\n",
       "      <th>Profanity</th>\n",
       "      <th>Alcohol</th>\n",
       "      <th>Frightening</th>\n",
       "    </tr>\n",
       "  </thead>\n",
       "  <tbody>\n",
       "    <tr>\n",
       "      <th>0</th>\n",
       "      <td>No Time to Die</td>\n",
       "      <td>2021</td>\n",
       "      <td>7.6</td>\n",
       "      <td>107163.0</td>\n",
       "      <td>Action, Adventure, Thriller</td>\n",
       "      <td>163.0</td>\n",
       "      <td>Film</td>\n",
       "      <td>PG-13</td>\n",
       "      <td>Mild</td>\n",
       "      <td>Moderate</td>\n",
       "      <td>Mild</td>\n",
       "      <td>Mild</td>\n",
       "      <td>Moderate</td>\n",
       "    </tr>\n",
       "    <tr>\n",
       "      <th>1</th>\n",
       "      <td>The Guilty</td>\n",
       "      <td>2021</td>\n",
       "      <td>6.3</td>\n",
       "      <td>64375.0</td>\n",
       "      <td>Crime, Drama, Thriller</td>\n",
       "      <td>90.0</td>\n",
       "      <td>Film</td>\n",
       "      <td>R</td>\n",
       "      <td>NaN</td>\n",
       "      <td>NaN</td>\n",
       "      <td>Severe</td>\n",
       "      <td>NaN</td>\n",
       "      <td>Moderate</td>\n",
       "    </tr>\n",
       "    <tr>\n",
       "      <th>2</th>\n",
       "      <td>The Many Saints of Newark</td>\n",
       "      <td>2021</td>\n",
       "      <td>6.4</td>\n",
       "      <td>27145.0</td>\n",
       "      <td>Crime, Drama</td>\n",
       "      <td>120.0</td>\n",
       "      <td>Film</td>\n",
       "      <td>R</td>\n",
       "      <td>Moderate</td>\n",
       "      <td>Severe</td>\n",
       "      <td>Severe</td>\n",
       "      <td>Moderate</td>\n",
       "      <td>Moderate</td>\n",
       "    </tr>\n",
       "    <tr>\n",
       "      <th>3</th>\n",
       "      <td>Venom: Let There Be Carnage</td>\n",
       "      <td>2021</td>\n",
       "      <td>6.4</td>\n",
       "      <td>30443.0</td>\n",
       "      <td>Action, Adventure, Sci-Fi</td>\n",
       "      <td>97.0</td>\n",
       "      <td>Film</td>\n",
       "      <td>PG-13</td>\n",
       "      <td>NaN</td>\n",
       "      <td>Moderate</td>\n",
       "      <td>Moderate</td>\n",
       "      <td>Mild</td>\n",
       "      <td>Moderate</td>\n",
       "    </tr>\n",
       "    <tr>\n",
       "      <th>4</th>\n",
       "      <td>Dune</td>\n",
       "      <td>2021</td>\n",
       "      <td>8.3</td>\n",
       "      <td>84636.0</td>\n",
       "      <td>Action, Adventure, Drama</td>\n",
       "      <td>155.0</td>\n",
       "      <td>Film</td>\n",
       "      <td>PG-13</td>\n",
       "      <td>NaN</td>\n",
       "      <td>Moderate</td>\n",
       "      <td>NaN</td>\n",
       "      <td>Mild</td>\n",
       "      <td>Moderate</td>\n",
       "    </tr>\n",
       "  </tbody>\n",
       "</table>\n",
       "</div>"
      ],
      "text/plain": [
       "                          Name  Date  Rate     Votes  \\\n",
       "0               No Time to Die  2021   7.6  107163.0   \n",
       "1                   The Guilty  2021   6.3   64375.0   \n",
       "2    The Many Saints of Newark  2021   6.4   27145.0   \n",
       "3  Venom: Let There Be Carnage  2021   6.4   30443.0   \n",
       "4                         Dune  2021   8.3   84636.0   \n",
       "\n",
       "                         Genre  Duration  Type Certificate    Nudity  \\\n",
       "0  Action, Adventure, Thriller     163.0  Film       PG-13      Mild   \n",
       "1       Crime, Drama, Thriller      90.0  Film           R       NaN   \n",
       "2                 Crime, Drama     120.0  Film           R  Moderate   \n",
       "3    Action, Adventure, Sci-Fi      97.0  Film       PG-13       NaN   \n",
       "4     Action, Adventure, Drama     155.0  Film       PG-13       NaN   \n",
       "\n",
       "   Violence Profanity   Alcohol Frightening  \n",
       "0  Moderate      Mild      Mild    Moderate  \n",
       "1       NaN    Severe       NaN    Moderate  \n",
       "2    Severe    Severe  Moderate    Moderate  \n",
       "3  Moderate  Moderate      Mild    Moderate  \n",
       "4  Moderate       NaN      Mild    Moderate  "
      ]
     },
     "execution_count": 75,
     "metadata": {},
     "output_type": "execute_result"
    }
   ],
   "source": [
    "imdb_df = pd.read_csv(\"imdb.csv\", na_values = ['No Rate','No Votes','None'])\n",
    "imdb_df.head()"
   ]
  },
  {
   "cell_type": "code",
   "execution_count": 76,
   "metadata": {
    "scrolled": true
   },
   "outputs": [
    {
     "name": "stdout",
     "output_type": "stream",
     "text": [
      "It has 6178 rows.\n"
     ]
    }
   ],
   "source": [
    "print(f\"It has {imdb_df.shape[0]} rows.\")"
   ]
  },
  {
   "cell_type": "markdown",
   "metadata": {},
   "source": [
    "### 1.2. Dropping NaN Values\n",
    "\n",
    "We only intend to use the `Rate`, `Genre`, `Nudity`, `Violence`, `Profanity`, `Alcohol`, `Frightening` variables in this dataframe.\n",
    "\n",
    "1. Create a dataframe with just these variables.\n",
    "2. Then drop all rows from this dataframe that have a NaN value.\n",
    "3. How many rows did you drop?"
   ]
  },
  {
   "cell_type": "code",
   "execution_count": 77,
   "metadata": {},
   "outputs": [
    {
     "data": {
      "text/html": [
       "<div>\n",
       "<style scoped>\n",
       "    .dataframe tbody tr th:only-of-type {\n",
       "        vertical-align: middle;\n",
       "    }\n",
       "\n",
       "    .dataframe tbody tr th {\n",
       "        vertical-align: top;\n",
       "    }\n",
       "\n",
       "    .dataframe thead th {\n",
       "        text-align: right;\n",
       "    }\n",
       "</style>\n",
       "<table border=\"1\" class=\"dataframe\">\n",
       "  <thead>\n",
       "    <tr style=\"text-align: right;\">\n",
       "      <th></th>\n",
       "      <th>Rate</th>\n",
       "      <th>Genre</th>\n",
       "      <th>Nudity</th>\n",
       "      <th>Violence</th>\n",
       "      <th>Profanity</th>\n",
       "      <th>Alcohol</th>\n",
       "      <th>Frightening</th>\n",
       "    </tr>\n",
       "  </thead>\n",
       "  <tbody>\n",
       "    <tr>\n",
       "      <th>0</th>\n",
       "      <td>7.6</td>\n",
       "      <td>Action, Adventure, Thriller</td>\n",
       "      <td>Mild</td>\n",
       "      <td>Moderate</td>\n",
       "      <td>Mild</td>\n",
       "      <td>Mild</td>\n",
       "      <td>Moderate</td>\n",
       "    </tr>\n",
       "    <tr>\n",
       "      <th>1</th>\n",
       "      <td>6.3</td>\n",
       "      <td>Crime, Drama, Thriller</td>\n",
       "      <td>NaN</td>\n",
       "      <td>NaN</td>\n",
       "      <td>Severe</td>\n",
       "      <td>NaN</td>\n",
       "      <td>Moderate</td>\n",
       "    </tr>\n",
       "    <tr>\n",
       "      <th>2</th>\n",
       "      <td>6.4</td>\n",
       "      <td>Crime, Drama</td>\n",
       "      <td>Moderate</td>\n",
       "      <td>Severe</td>\n",
       "      <td>Severe</td>\n",
       "      <td>Moderate</td>\n",
       "      <td>Moderate</td>\n",
       "    </tr>\n",
       "    <tr>\n",
       "      <th>3</th>\n",
       "      <td>6.4</td>\n",
       "      <td>Action, Adventure, Sci-Fi</td>\n",
       "      <td>NaN</td>\n",
       "      <td>Moderate</td>\n",
       "      <td>Moderate</td>\n",
       "      <td>Mild</td>\n",
       "      <td>Moderate</td>\n",
       "    </tr>\n",
       "    <tr>\n",
       "      <th>4</th>\n",
       "      <td>8.3</td>\n",
       "      <td>Action, Adventure, Drama</td>\n",
       "      <td>NaN</td>\n",
       "      <td>Moderate</td>\n",
       "      <td>NaN</td>\n",
       "      <td>Mild</td>\n",
       "      <td>Moderate</td>\n",
       "    </tr>\n",
       "    <tr>\n",
       "      <th>...</th>\n",
       "      <td>...</td>\n",
       "      <td>...</td>\n",
       "      <td>...</td>\n",
       "      <td>...</td>\n",
       "      <td>...</td>\n",
       "      <td>...</td>\n",
       "      <td>...</td>\n",
       "    </tr>\n",
       "    <tr>\n",
       "      <th>6173</th>\n",
       "      <td>3.8</td>\n",
       "      <td>Horror</td>\n",
       "      <td>Severe</td>\n",
       "      <td>Severe</td>\n",
       "      <td>Severe</td>\n",
       "      <td>Mild</td>\n",
       "      <td>Severe</td>\n",
       "    </tr>\n",
       "    <tr>\n",
       "      <th>6174</th>\n",
       "      <td>8.3</td>\n",
       "      <td>Crime, Drama, Film-Noir</td>\n",
       "      <td>NaN</td>\n",
       "      <td>Mild</td>\n",
       "      <td>NaN</td>\n",
       "      <td>Mild</td>\n",
       "      <td>Mild</td>\n",
       "    </tr>\n",
       "    <tr>\n",
       "      <th>6175</th>\n",
       "      <td>7.3</td>\n",
       "      <td>Crime, Drama, Thriller</td>\n",
       "      <td>Severe</td>\n",
       "      <td>Moderate</td>\n",
       "      <td>Severe</td>\n",
       "      <td>Severe</td>\n",
       "      <td>Severe</td>\n",
       "    </tr>\n",
       "    <tr>\n",
       "      <th>6176</th>\n",
       "      <td>6.0</td>\n",
       "      <td>Comedy, Drama, Romance</td>\n",
       "      <td>NaN</td>\n",
       "      <td>NaN</td>\n",
       "      <td>Mild</td>\n",
       "      <td>Moderate</td>\n",
       "      <td>NaN</td>\n",
       "    </tr>\n",
       "    <tr>\n",
       "      <th>6177</th>\n",
       "      <td>6.3</td>\n",
       "      <td>Action, Sci-Fi, Thriller</td>\n",
       "      <td>Mild</td>\n",
       "      <td>Severe</td>\n",
       "      <td>Severe</td>\n",
       "      <td>Mild</td>\n",
       "      <td>Moderate</td>\n",
       "    </tr>\n",
       "  </tbody>\n",
       "</table>\n",
       "<p>6178 rows × 7 columns</p>\n",
       "</div>"
      ],
      "text/plain": [
       "      Rate                        Genre    Nudity  Violence Profanity  \\\n",
       "0      7.6  Action, Adventure, Thriller      Mild  Moderate      Mild   \n",
       "1      6.3       Crime, Drama, Thriller       NaN       NaN    Severe   \n",
       "2      6.4                 Crime, Drama  Moderate    Severe    Severe   \n",
       "3      6.4    Action, Adventure, Sci-Fi       NaN  Moderate  Moderate   \n",
       "4      8.3     Action, Adventure, Drama       NaN  Moderate       NaN   \n",
       "...    ...                          ...       ...       ...       ...   \n",
       "6173   3.8                       Horror    Severe    Severe    Severe   \n",
       "6174   8.3      Crime, Drama, Film-Noir       NaN      Mild       NaN   \n",
       "6175   7.3       Crime, Drama, Thriller    Severe  Moderate    Severe   \n",
       "6176   6.0       Comedy, Drama, Romance       NaN       NaN      Mild   \n",
       "6177   6.3     Action, Sci-Fi, Thriller      Mild    Severe    Severe   \n",
       "\n",
       "       Alcohol Frightening  \n",
       "0         Mild    Moderate  \n",
       "1          NaN    Moderate  \n",
       "2     Moderate    Moderate  \n",
       "3         Mild    Moderate  \n",
       "4         Mild    Moderate  \n",
       "...        ...         ...  \n",
       "6173      Mild      Severe  \n",
       "6174      Mild        Mild  \n",
       "6175    Severe      Severe  \n",
       "6176  Moderate         NaN  \n",
       "6177      Mild    Moderate  \n",
       "\n",
       "[6178 rows x 7 columns]"
      ]
     },
     "execution_count": 77,
     "metadata": {},
     "output_type": "execute_result"
    }
   ],
   "source": [
    "imdb_seven = imdb_df[[\"Rate\",\"Genre\",\"Nudity\",\"Violence\",\"Profanity\",\"Alcohol\",\"Frightening\"]]\n",
    "imdb_seven"
   ]
  },
  {
   "cell_type": "code",
   "execution_count": 78,
   "metadata": {},
   "outputs": [
    {
     "data": {
      "text/html": [
       "<div>\n",
       "<style scoped>\n",
       "    .dataframe tbody tr th:only-of-type {\n",
       "        vertical-align: middle;\n",
       "    }\n",
       "\n",
       "    .dataframe tbody tr th {\n",
       "        vertical-align: top;\n",
       "    }\n",
       "\n",
       "    .dataframe thead th {\n",
       "        text-align: right;\n",
       "    }\n",
       "</style>\n",
       "<table border=\"1\" class=\"dataframe\">\n",
       "  <thead>\n",
       "    <tr style=\"text-align: right;\">\n",
       "      <th></th>\n",
       "      <th>Rate</th>\n",
       "      <th>Genre</th>\n",
       "      <th>Nudity</th>\n",
       "      <th>Violence</th>\n",
       "      <th>Profanity</th>\n",
       "      <th>Alcohol</th>\n",
       "      <th>Frightening</th>\n",
       "    </tr>\n",
       "  </thead>\n",
       "  <tbody>\n",
       "    <tr>\n",
       "      <th>0</th>\n",
       "      <td>7.6</td>\n",
       "      <td>Action, Adventure, Thriller</td>\n",
       "      <td>Mild</td>\n",
       "      <td>Moderate</td>\n",
       "      <td>Mild</td>\n",
       "      <td>Mild</td>\n",
       "      <td>Moderate</td>\n",
       "    </tr>\n",
       "    <tr>\n",
       "      <th>2</th>\n",
       "      <td>6.4</td>\n",
       "      <td>Crime, Drama</td>\n",
       "      <td>Moderate</td>\n",
       "      <td>Severe</td>\n",
       "      <td>Severe</td>\n",
       "      <td>Moderate</td>\n",
       "      <td>Moderate</td>\n",
       "    </tr>\n",
       "    <tr>\n",
       "      <th>9</th>\n",
       "      <td>8.3</td>\n",
       "      <td>Comedy, Drama</td>\n",
       "      <td>Severe</td>\n",
       "      <td>Mild</td>\n",
       "      <td>Severe</td>\n",
       "      <td>Moderate</td>\n",
       "      <td>Mild</td>\n",
       "    </tr>\n",
       "    <tr>\n",
       "      <th>10</th>\n",
       "      <td>8.2</td>\n",
       "      <td>Drama, Horror, Thriller</td>\n",
       "      <td>Mild</td>\n",
       "      <td>Severe</td>\n",
       "      <td>Moderate</td>\n",
       "      <td>Mild</td>\n",
       "      <td>Severe</td>\n",
       "    </tr>\n",
       "    <tr>\n",
       "      <th>13</th>\n",
       "      <td>9.2</td>\n",
       "      <td>Crime, Drama</td>\n",
       "      <td>Severe</td>\n",
       "      <td>Severe</td>\n",
       "      <td>Severe</td>\n",
       "      <td>Severe</td>\n",
       "      <td>Severe</td>\n",
       "    </tr>\n",
       "    <tr>\n",
       "      <th>...</th>\n",
       "      <td>...</td>\n",
       "      <td>...</td>\n",
       "      <td>...</td>\n",
       "      <td>...</td>\n",
       "      <td>...</td>\n",
       "      <td>...</td>\n",
       "      <td>...</td>\n",
       "    </tr>\n",
       "    <tr>\n",
       "      <th>6169</th>\n",
       "      <td>6.6</td>\n",
       "      <td>Drama, History, Thriller</td>\n",
       "      <td>Mild</td>\n",
       "      <td>Moderate</td>\n",
       "      <td>Moderate</td>\n",
       "      <td>Mild</td>\n",
       "      <td>Severe</td>\n",
       "    </tr>\n",
       "    <tr>\n",
       "      <th>6171</th>\n",
       "      <td>7.8</td>\n",
       "      <td>Action, Crime, Thriller</td>\n",
       "      <td>Mild</td>\n",
       "      <td>Severe</td>\n",
       "      <td>Moderate</td>\n",
       "      <td>Mild</td>\n",
       "      <td>Severe</td>\n",
       "    </tr>\n",
       "    <tr>\n",
       "      <th>6173</th>\n",
       "      <td>3.8</td>\n",
       "      <td>Horror</td>\n",
       "      <td>Severe</td>\n",
       "      <td>Severe</td>\n",
       "      <td>Severe</td>\n",
       "      <td>Mild</td>\n",
       "      <td>Severe</td>\n",
       "    </tr>\n",
       "    <tr>\n",
       "      <th>6175</th>\n",
       "      <td>7.3</td>\n",
       "      <td>Crime, Drama, Thriller</td>\n",
       "      <td>Severe</td>\n",
       "      <td>Moderate</td>\n",
       "      <td>Severe</td>\n",
       "      <td>Severe</td>\n",
       "      <td>Severe</td>\n",
       "    </tr>\n",
       "    <tr>\n",
       "      <th>6177</th>\n",
       "      <td>6.3</td>\n",
       "      <td>Action, Sci-Fi, Thriller</td>\n",
       "      <td>Mild</td>\n",
       "      <td>Severe</td>\n",
       "      <td>Severe</td>\n",
       "      <td>Mild</td>\n",
       "      <td>Moderate</td>\n",
       "    </tr>\n",
       "  </tbody>\n",
       "</table>\n",
       "<p>2753 rows × 7 columns</p>\n",
       "</div>"
      ],
      "text/plain": [
       "      Rate                        Genre    Nudity  Violence Profanity  \\\n",
       "0      7.6  Action, Adventure, Thriller      Mild  Moderate      Mild   \n",
       "2      6.4                 Crime, Drama  Moderate    Severe    Severe   \n",
       "9      8.3                Comedy, Drama    Severe      Mild    Severe   \n",
       "10     8.2      Drama, Horror, Thriller      Mild    Severe  Moderate   \n",
       "13     9.2                 Crime, Drama    Severe    Severe    Severe   \n",
       "...    ...                          ...       ...       ...       ...   \n",
       "6169   6.6     Drama, History, Thriller      Mild  Moderate  Moderate   \n",
       "6171   7.8      Action, Crime, Thriller      Mild    Severe  Moderate   \n",
       "6173   3.8                       Horror    Severe    Severe    Severe   \n",
       "6175   7.3       Crime, Drama, Thriller    Severe  Moderate    Severe   \n",
       "6177   6.3     Action, Sci-Fi, Thriller      Mild    Severe    Severe   \n",
       "\n",
       "       Alcohol Frightening  \n",
       "0         Mild    Moderate  \n",
       "2     Moderate    Moderate  \n",
       "9     Moderate        Mild  \n",
       "10        Mild      Severe  \n",
       "13      Severe      Severe  \n",
       "...        ...         ...  \n",
       "6169      Mild      Severe  \n",
       "6171      Mild      Severe  \n",
       "6173      Mild      Severe  \n",
       "6175    Severe      Severe  \n",
       "6177      Mild    Moderate  \n",
       "\n",
       "[2753 rows x 7 columns]"
      ]
     },
     "execution_count": 78,
     "metadata": {},
     "output_type": "execute_result"
    }
   ],
   "source": [
    "imdb_seven_drop = imdb_seven.dropna()\n",
    "imdb_seven_drop"
   ]
  },
  {
   "cell_type": "code",
   "execution_count": 79,
   "metadata": {},
   "outputs": [
    {
     "name": "stdout",
     "output_type": "stream",
     "text": [
      "We dropped 3425 rows.\n"
     ]
    }
   ],
   "source": [
    "print(f\"We dropped {imdb_df.shape[0] - imdb_seven_drop.shape[0]} rows.\")"
   ]
  },
  {
   "cell_type": "markdown",
   "metadata": {},
   "source": [
    "### 1.3. Comedy Movies\n",
    "\n",
    "Finally, only keep those rows in your dataframe that have `Comedy` as one of the genres.\n",
    "\n",
    "*Hint: You might consider first creating a variable called `is_comedy` which assesses whether Comedy is one of the genres this movie is about.*"
   ]
  },
  {
   "cell_type": "code",
   "execution_count": 80,
   "metadata": {},
   "outputs": [
    {
     "name": "stderr",
     "output_type": "stream",
     "text": [
      "/var/folders/1_/mvpgsccn1d72q5sqg708xyf80000gn/T/ipykernel_56970/2699271452.py:1: SettingWithCopyWarning: \n",
      "A value is trying to be set on a copy of a slice from a DataFrame.\n",
      "Try using .loc[row_indexer,col_indexer] = value instead\n",
      "\n",
      "See the caveats in the documentation: https://pandas.pydata.org/pandas-docs/stable/user_guide/indexing.html#returning-a-view-versus-a-copy\n",
      "  imdb_seven_drop['is_comedy'] = imdb_seven_drop['Genre'].str.contains('Comedy')\n"
     ]
    },
    {
     "data": {
      "text/html": [
       "<div>\n",
       "<style scoped>\n",
       "    .dataframe tbody tr th:only-of-type {\n",
       "        vertical-align: middle;\n",
       "    }\n",
       "\n",
       "    .dataframe tbody tr th {\n",
       "        vertical-align: top;\n",
       "    }\n",
       "\n",
       "    .dataframe thead th {\n",
       "        text-align: right;\n",
       "    }\n",
       "</style>\n",
       "<table border=\"1\" class=\"dataframe\">\n",
       "  <thead>\n",
       "    <tr style=\"text-align: right;\">\n",
       "      <th></th>\n",
       "      <th>Rate</th>\n",
       "      <th>Genre</th>\n",
       "      <th>Nudity</th>\n",
       "      <th>Violence</th>\n",
       "      <th>Profanity</th>\n",
       "      <th>Alcohol</th>\n",
       "      <th>Frightening</th>\n",
       "      <th>is_comedy</th>\n",
       "    </tr>\n",
       "  </thead>\n",
       "  <tbody>\n",
       "    <tr>\n",
       "      <th>9</th>\n",
       "      <td>8.3</td>\n",
       "      <td>Comedy, Drama</td>\n",
       "      <td>Severe</td>\n",
       "      <td>Mild</td>\n",
       "      <td>Severe</td>\n",
       "      <td>Moderate</td>\n",
       "      <td>Mild</td>\n",
       "      <td>True</td>\n",
       "    </tr>\n",
       "    <tr>\n",
       "      <th>14</th>\n",
       "      <td>8.3</td>\n",
       "      <td>Comedy, Crime, Drama</td>\n",
       "      <td>Mild</td>\n",
       "      <td>Moderate</td>\n",
       "      <td>Severe</td>\n",
       "      <td>Mild</td>\n",
       "      <td>Mild</td>\n",
       "      <td>True</td>\n",
       "    </tr>\n",
       "    <tr>\n",
       "      <th>45</th>\n",
       "      <td>8.5</td>\n",
       "      <td>Comedy, Fantasy, Horror</td>\n",
       "      <td>Moderate</td>\n",
       "      <td>Moderate</td>\n",
       "      <td>Moderate</td>\n",
       "      <td>Mild</td>\n",
       "      <td>Mild</td>\n",
       "      <td>True</td>\n",
       "    </tr>\n",
       "    <tr>\n",
       "      <th>53</th>\n",
       "      <td>8.0</td>\n",
       "      <td>Comedy, Drama</td>\n",
       "      <td>Mild</td>\n",
       "      <td>Moderate</td>\n",
       "      <td>Moderate</td>\n",
       "      <td>Moderate</td>\n",
       "      <td>Mild</td>\n",
       "      <td>True</td>\n",
       "    </tr>\n",
       "    <tr>\n",
       "      <th>56</th>\n",
       "      <td>8.0</td>\n",
       "      <td>Comedy, Crime, Drama</td>\n",
       "      <td>Mild</td>\n",
       "      <td>Moderate</td>\n",
       "      <td>Mild</td>\n",
       "      <td>Moderate</td>\n",
       "      <td>Mild</td>\n",
       "      <td>True</td>\n",
       "    </tr>\n",
       "    <tr>\n",
       "      <th>...</th>\n",
       "      <td>...</td>\n",
       "      <td>...</td>\n",
       "      <td>...</td>\n",
       "      <td>...</td>\n",
       "      <td>...</td>\n",
       "      <td>...</td>\n",
       "      <td>...</td>\n",
       "      <td>...</td>\n",
       "    </tr>\n",
       "    <tr>\n",
       "      <th>6129</th>\n",
       "      <td>7.1</td>\n",
       "      <td>Comedy, Crime, Drama</td>\n",
       "      <td>Severe</td>\n",
       "      <td>Mild</td>\n",
       "      <td>Severe</td>\n",
       "      <td>Moderate</td>\n",
       "      <td>Mild</td>\n",
       "      <td>True</td>\n",
       "    </tr>\n",
       "    <tr>\n",
       "      <th>6131</th>\n",
       "      <td>6.6</td>\n",
       "      <td>Comedy</td>\n",
       "      <td>Severe</td>\n",
       "      <td>Moderate</td>\n",
       "      <td>Severe</td>\n",
       "      <td>Mild</td>\n",
       "      <td>Mild</td>\n",
       "      <td>True</td>\n",
       "    </tr>\n",
       "    <tr>\n",
       "      <th>6148</th>\n",
       "      <td>5.6</td>\n",
       "      <td>Comedy</td>\n",
       "      <td>Moderate</td>\n",
       "      <td>Mild</td>\n",
       "      <td>Moderate</td>\n",
       "      <td>Mild</td>\n",
       "      <td>Mild</td>\n",
       "      <td>True</td>\n",
       "    </tr>\n",
       "    <tr>\n",
       "      <th>6155</th>\n",
       "      <td>6.8</td>\n",
       "      <td>Comedy</td>\n",
       "      <td>Moderate</td>\n",
       "      <td>Moderate</td>\n",
       "      <td>Severe</td>\n",
       "      <td>Moderate</td>\n",
       "      <td>Moderate</td>\n",
       "      <td>True</td>\n",
       "    </tr>\n",
       "    <tr>\n",
       "      <th>6168</th>\n",
       "      <td>5.0</td>\n",
       "      <td>Animation, Adventure, Comedy</td>\n",
       "      <td>Mild</td>\n",
       "      <td>Mild</td>\n",
       "      <td>Mild</td>\n",
       "      <td>Mild</td>\n",
       "      <td>Mild</td>\n",
       "      <td>True</td>\n",
       "    </tr>\n",
       "  </tbody>\n",
       "</table>\n",
       "<p>657 rows × 8 columns</p>\n",
       "</div>"
      ],
      "text/plain": [
       "      Rate                         Genre    Nudity  Violence Profanity  \\\n",
       "9      8.3                 Comedy, Drama    Severe      Mild    Severe   \n",
       "14     8.3          Comedy, Crime, Drama      Mild  Moderate    Severe   \n",
       "45     8.5       Comedy, Fantasy, Horror  Moderate  Moderate  Moderate   \n",
       "53     8.0                 Comedy, Drama      Mild  Moderate  Moderate   \n",
       "56     8.0          Comedy, Crime, Drama      Mild  Moderate      Mild   \n",
       "...    ...                           ...       ...       ...       ...   \n",
       "6129   7.1          Comedy, Crime, Drama    Severe      Mild    Severe   \n",
       "6131   6.6                        Comedy    Severe  Moderate    Severe   \n",
       "6148   5.6                        Comedy  Moderate      Mild  Moderate   \n",
       "6155   6.8                        Comedy  Moderate  Moderate    Severe   \n",
       "6168   5.0  Animation, Adventure, Comedy      Mild      Mild      Mild   \n",
       "\n",
       "       Alcohol Frightening  is_comedy  \n",
       "9     Moderate        Mild       True  \n",
       "14        Mild        Mild       True  \n",
       "45        Mild        Mild       True  \n",
       "53    Moderate        Mild       True  \n",
       "56    Moderate        Mild       True  \n",
       "...        ...         ...        ...  \n",
       "6129  Moderate        Mild       True  \n",
       "6131      Mild        Mild       True  \n",
       "6148      Mild        Mild       True  \n",
       "6155  Moderate    Moderate       True  \n",
       "6168      Mild        Mild       True  \n",
       "\n",
       "[657 rows x 8 columns]"
      ]
     },
     "execution_count": 80,
     "metadata": {},
     "output_type": "execute_result"
    }
   ],
   "source": [
    "imdb_seven_drop['is_comedy'] = imdb_seven_drop['Genre'].str.contains('Comedy')\n",
    "comedy_df = imdb_seven_drop[imdb_seven_drop['is_comedy']]\n",
    "comedy_df"
   ]
  },
  {
   "cell_type": "code",
   "execution_count": null,
   "metadata": {},
   "outputs": [],
   "source": []
  },
  {
   "cell_type": "markdown",
   "metadata": {},
   "source": [
    "### 1.4. Train Test Split\n",
    "\n",
    "Finally, create a random training dataset and test dataset from your dataset in 1.3 using a random state of `123`, where the test dataset size is 20% of the observations."
   ]
  },
  {
   "cell_type": "code",
   "execution_count": 81,
   "metadata": {},
   "outputs": [],
   "source": [
    "imdb_test,imdb_train = train_test_split(comedy_df,test_size=0.2,random_state=123)"
   ]
  },
  {
   "cell_type": "code",
   "execution_count": null,
   "metadata": {},
   "outputs": [],
   "source": []
  },
  {
   "cell_type": "markdown",
   "metadata": {},
   "source": [
    "## 2. Preanalysis\n",
    "\n",
    "Eventually, we will build a linear regression model that will predict the IMDB `Rate`ing of `Comedy` movies given the level of content from each of the 5 content types:\n",
    "* `Nudity`\n",
    "* `Violence`\n",
    "* `Profanity`\n",
    "* `Alcohol`\n",
    "* `Frightening`\n",
    "\n",
    "### 2.1. Weakest Individual Association\n",
    "\n",
    "Which of these 5 explanatory variables has the weakest association with `Rate` for `Comedy` movies in the training dataset?"
   ]
  },
  {
   "cell_type": "code",
   "execution_count": 82,
   "metadata": {},
   "outputs": [
    {
     "data": {
      "text/plain": [
       "<Axes: xlabel='Nudity', ylabel='Rate'>"
      ]
     },
     "execution_count": 82,
     "metadata": {},
     "output_type": "execute_result"
    },
    {
     "data": {
      "image/png": "[encoded data removed]",
      "text/plain": [
       "<Figure size 640x480 with 1 Axes>"
      ]
     },
     "metadata": {},
     "output_type": "display_data"
    }
   ],
   "source": [
    "#one numerical and one categorical variable (box plot) categorical = comedy, numerical = rate\n",
    "sns.boxplot(data=comedy_df,x=\"Nudity\", y=\"Rate\")"
   ]
  },
  {
   "cell_type": "code",
   "execution_count": 83,
   "metadata": {},
   "outputs": [
    {
     "data": {
      "text/plain": [
       "<Axes: xlabel='Violence', ylabel='Rate'>"
      ]
     },
     "execution_count": 83,
     "metadata": {},
     "output_type": "execute_result"
    },
    {
     "data": {
      "image/png": "[encoded data removed]",
      "text/plain": [
       "<Figure size 640x480 with 1 Axes>"
      ]
     },
     "metadata": {},
     "output_type": "display_data"
    }
   ],
   "source": [
    "sns.boxplot(data=comedy_df,x=\"Violence\", y=\"Rate\")"
   ]
  },
  {
   "cell_type": "code",
   "execution_count": 84,
   "metadata": {},
   "outputs": [
    {
     "data": {
      "text/plain": [
       "<Axes: xlabel='Profanity', ylabel='Rate'>"
      ]
     },
     "execution_count": 84,
     "metadata": {},
     "output_type": "execute_result"
    },
    {
     "data": {
      "image/png": "[encoded data removed]",
      "text/plain": [
       "<Figure size 640x480 with 1 Axes>"
      ]
     },
     "metadata": {},
     "output_type": "display_data"
    }
   ],
   "source": [
    "sns.boxplot(data=comedy_df,x=\"Profanity\", y=\"Rate\")"
   ]
  },
  {
   "cell_type": "code",
   "execution_count": 85,
   "metadata": {},
   "outputs": [
    {
     "data": {
      "text/plain": [
       "<Axes: xlabel='Alcohol', ylabel='Rate'>"
      ]
     },
     "execution_count": 85,
     "metadata": {},
     "output_type": "execute_result"
    },
    {
     "data": {
      "image/png": "[encoded data removed]",
      "text/plain": [
       "<Figure size 640x480 with 1 Axes>"
      ]
     },
     "metadata": {},
     "output_type": "display_data"
    }
   ],
   "source": [
    "sns.boxplot(data=comedy_df,x=\"Alcohol\", y=\"Rate\")"
   ]
  },
  {
   "cell_type": "code",
   "execution_count": 86,
   "metadata": {},
   "outputs": [
    {
     "data": {
      "text/plain": [
       "<Axes: xlabel='Frightening', ylabel='Rate'>"
      ]
     },
     "execution_count": 86,
     "metadata": {},
     "output_type": "execute_result"
    },
    {
     "data": {
      "image/png": "[encoded data removed]",
      "text/plain": [
       "<Figure size 640x480 with 1 Axes>"
      ]
     },
     "metadata": {},
     "output_type": "display_data"
    }
   ],
   "source": [
    "sns.boxplot(data=comedy_df,x=\"Frightening\", y=\"Rate\")"
   ]
  },
  {
   "cell_type": "markdown",
   "metadata": {},
   "source": [
    "Violence has the weakest association as can be seen from the boxplots having the most overlap."
   ]
  },
  {
   "cell_type": "markdown",
   "metadata": {},
   "source": [
    "## 3. Exploring Overfitting Variables\n",
    "\n",
    "Next, we'd like to explore if the variable that you selected in 2.1 would lead to overfitting (if we decided to include all the other 4 explanatory variables). We'll consult with two methods that will help assess this: adjusted R^2 and the test R^2."
   ]
  },
  {
   "cell_type": "markdown",
   "metadata": {},
   "source": [
    "### 3.1. Full Model\n",
    "\n",
    "First fit the 'full model' which predicts `Rate`ing of `Comedy` movies given the 5 content explanatory variables:\n",
    "* `Nudity`\n",
    "* `Violence`\n",
    "* `Profanity`\n",
    "* `Alcohol`\n",
    "* `Frightening`\n",
    "\n",
    "Then find the adjusted R^2 of this model."
   ]
  },
  {
   "cell_type": "code",
   "execution_count": 87,
   "metadata": {},
   "outputs": [
    {
     "data": {
      "text/html": [
       "<table class=\"simpletable\">\n",
       "<caption>OLS Regression Results</caption>\n",
       "<tr>\n",
       "  <th>Dep. Variable:</th>          <td>Rate</td>       <th>  R-squared:         </th> <td>   0.051</td>\n",
       "</tr>\n",
       "<tr>\n",
       "  <th>Model:</th>                   <td>OLS</td>       <th>  Adj. R-squared:    </th> <td>   0.036</td>\n",
       "</tr>\n",
       "<tr>\n",
       "  <th>Method:</th>             <td>Least Squares</td>  <th>  F-statistic:       </th> <td>   3.438</td>\n",
       "</tr>\n",
       "<tr>\n",
       "  <th>Date:</th>             <td>Tue, 10 Oct 2023</td> <th>  Prob (F-statistic):</th> <td>0.000207</td>\n",
       "</tr>\n",
       "<tr>\n",
       "  <th>Time:</th>                 <td>23:32:18</td>     <th>  Log-Likelihood:    </th> <td> -987.38</td>\n",
       "</tr>\n",
       "<tr>\n",
       "  <th>No. Observations:</th>      <td>   657</td>      <th>  AIC:               </th> <td>   1997.</td>\n",
       "</tr>\n",
       "<tr>\n",
       "  <th>Df Residuals:</th>          <td>   646</td>      <th>  BIC:               </th> <td>   2046.</td>\n",
       "</tr>\n",
       "<tr>\n",
       "  <th>Df Model:</th>              <td>    10</td>      <th>                     </th>     <td> </td>   \n",
       "</tr>\n",
       "<tr>\n",
       "  <th>Covariance Type:</th>      <td>nonrobust</td>    <th>                     </th>     <td> </td>   \n",
       "</tr>\n",
       "</table>\n",
       "<table class=\"simpletable\">\n",
       "<tr>\n",
       "             <td></td>                <th>coef</th>     <th>std err</th>      <th>t</th>      <th>P>|t|</th>  <th>[0.025</th>    <th>0.975]</th>  \n",
       "</tr>\n",
       "<tr>\n",
       "  <th>Intercept</th>               <td>    6.7939</td> <td>    0.091</td> <td>   74.343</td> <td> 0.000</td> <td>    6.614</td> <td>    6.973</td>\n",
       "</tr>\n",
       "<tr>\n",
       "  <th>Nudity[T.Moderate]</th>      <td>   -0.0771</td> <td>    0.098</td> <td>   -0.790</td> <td> 0.430</td> <td>   -0.269</td> <td>    0.114</td>\n",
       "</tr>\n",
       "<tr>\n",
       "  <th>Nudity[T.Severe]</th>        <td>   -0.1894</td> <td>    0.167</td> <td>   -1.135</td> <td> 0.257</td> <td>   -0.517</td> <td>    0.138</td>\n",
       "</tr>\n",
       "<tr>\n",
       "  <th>Violence[T.Moderate]</th>    <td>    0.0339</td> <td>    0.106</td> <td>    0.319</td> <td> 0.750</td> <td>   -0.175</td> <td>    0.242</td>\n",
       "</tr>\n",
       "<tr>\n",
       "  <th>Violence[T.Severe]</th>      <td>    0.0814</td> <td>    0.158</td> <td>    0.514</td> <td> 0.607</td> <td>   -0.229</td> <td>    0.392</td>\n",
       "</tr>\n",
       "<tr>\n",
       "  <th>Profanity[T.Moderate]</th>   <td>   -0.0855</td> <td>    0.113</td> <td>   -0.758</td> <td> 0.449</td> <td>   -0.307</td> <td>    0.136</td>\n",
       "</tr>\n",
       "<tr>\n",
       "  <th>Profanity[T.Severe]</th>     <td>   -0.0494</td> <td>    0.135</td> <td>   -0.366</td> <td> 0.715</td> <td>   -0.315</td> <td>    0.216</td>\n",
       "</tr>\n",
       "<tr>\n",
       "  <th>Alcohol[T.Moderate]</th>     <td>    0.3109</td> <td>    0.105</td> <td>    2.971</td> <td> 0.003</td> <td>    0.105</td> <td>    0.516</td>\n",
       "</tr>\n",
       "<tr>\n",
       "  <th>Alcohol[T.Severe]</th>       <td>    0.4963</td> <td>    0.163</td> <td>    3.054</td> <td> 0.002</td> <td>    0.177</td> <td>    0.815</td>\n",
       "</tr>\n",
       "<tr>\n",
       "  <th>Frightening[T.Moderate]</th> <td>   -0.0577</td> <td>    0.114</td> <td>   -0.505</td> <td> 0.614</td> <td>   -0.282</td> <td>    0.167</td>\n",
       "</tr>\n",
       "<tr>\n",
       "  <th>Frightening[T.Severe]</th>   <td>   -0.7764</td> <td>    0.194</td> <td>   -4.012</td> <td> 0.000</td> <td>   -1.156</td> <td>   -0.396</td>\n",
       "</tr>\n",
       "</table>\n",
       "<table class=\"simpletable\">\n",
       "<tr>\n",
       "  <th>Omnibus:</th>       <td>79.058</td> <th>  Durbin-Watson:     </th> <td>   1.584</td>\n",
       "</tr>\n",
       "<tr>\n",
       "  <th>Prob(Omnibus):</th> <td> 0.000</td> <th>  Jarque-Bera (JB):  </th> <td> 123.768</td>\n",
       "</tr>\n",
       "<tr>\n",
       "  <th>Skew:</th>          <td>-0.804</td> <th>  Prob(JB):          </th> <td>1.33e-27</td>\n",
       "</tr>\n",
       "<tr>\n",
       "  <th>Kurtosis:</th>      <td> 4.391</td> <th>  Cond. No.          </th> <td>    7.74</td>\n",
       "</tr>\n",
       "</table><br/><br/>Notes:<br/>[1] Standard Errors assume that the covariance matrix of the errors is correctly specified."
      ],
      "text/latex": [
       "\\begin{center}\n",
       "\\begin{tabular}{lclc}\n",
       "\\toprule\n",
       "\\textbf{Dep. Variable:}          &       Rate       & \\textbf{  R-squared:         } &     0.051   \\\\\n",
       "\\textbf{Model:}                  &       OLS        & \\textbf{  Adj. R-squared:    } &     0.036   \\\\\n",
       "\\textbf{Method:}                 &  Least Squares   & \\textbf{  F-statistic:       } &     3.438   \\\\\n",
       "\\textbf{Date:}                   & Tue, 10 Oct 2023 & \\textbf{  Prob (F-statistic):} &  0.000207   \\\\\n",
       "\\textbf{Time:}                   &     23:32:18     & \\textbf{  Log-Likelihood:    } &   -987.38   \\\\\n",
       "\\textbf{No. Observations:}       &         657      & \\textbf{  AIC:               } &     1997.   \\\\\n",
       "\\textbf{Df Residuals:}           &         646      & \\textbf{  BIC:               } &     2046.   \\\\\n",
       "\\textbf{Df Model:}               &          10      & \\textbf{                     } &             \\\\\n",
       "\\textbf{Covariance Type:}        &    nonrobust     & \\textbf{                     } &             \\\\\n",
       "\\bottomrule\n",
       "\\end{tabular}\n",
       "\\begin{tabular}{lcccccc}\n",
       "                                 & \\textbf{coef} & \\textbf{std err} & \\textbf{t} & \\textbf{P$> |$t$|$} & \\textbf{[0.025} & \\textbf{0.975]}  \\\\\n",
       "\\midrule\n",
       "\\textbf{Intercept}               &       6.7939  &        0.091     &    74.343  &         0.000        &        6.614    &        6.973     \\\\\n",
       "\\textbf{Nudity[T.Moderate]}      &      -0.0771  &        0.098     &    -0.790  &         0.430        &       -0.269    &        0.114     \\\\\n",
       "\\textbf{Nudity[T.Severe]}        &      -0.1894  &        0.167     &    -1.135  &         0.257        &       -0.517    &        0.138     \\\\\n",
       "\\textbf{Violence[T.Moderate]}    &       0.0339  &        0.106     &     0.319  &         0.750        &       -0.175    &        0.242     \\\\\n",
       "\\textbf{Violence[T.Severe]}      &       0.0814  &        0.158     &     0.514  &         0.607        &       -0.229    &        0.392     \\\\\n",
       "\\textbf{Profanity[T.Moderate]}   &      -0.0855  &        0.113     &    -0.758  &         0.449        &       -0.307    &        0.136     \\\\\n",
       "\\textbf{Profanity[T.Severe]}     &      -0.0494  &        0.135     &    -0.366  &         0.715        &       -0.315    &        0.216     \\\\\n",
       "\\textbf{Alcohol[T.Moderate]}     &       0.3109  &        0.105     &     2.971  &         0.003        &        0.105    &        0.516     \\\\\n",
       "\\textbf{Alcohol[T.Severe]}       &       0.4963  &        0.163     &     3.054  &         0.002        &        0.177    &        0.815     \\\\\n",
       "\\textbf{Frightening[T.Moderate]} &      -0.0577  &        0.114     &    -0.505  &         0.614        &       -0.282    &        0.167     \\\\\n",
       "\\textbf{Frightening[T.Severe]}   &      -0.7764  &        0.194     &    -4.012  &         0.000        &       -1.156    &       -0.396     \\\\\n",
       "\\bottomrule\n",
       "\\end{tabular}\n",
       "\\begin{tabular}{lclc}\n",
       "\\textbf{Omnibus:}       & 79.058 & \\textbf{  Durbin-Watson:     } &    1.584  \\\\\n",
       "\\textbf{Prob(Omnibus):} &  0.000 & \\textbf{  Jarque-Bera (JB):  } &  123.768  \\\\\n",
       "\\textbf{Skew:}          & -0.804 & \\textbf{  Prob(JB):          } & 1.33e-27  \\\\\n",
       "\\textbf{Kurtosis:}      &  4.391 & \\textbf{  Cond. No.          } &     7.74  \\\\\n",
       "\\bottomrule\n",
       "\\end{tabular}\n",
       "%\\caption{OLS Regression Results}\n",
       "\\end{center}\n",
       "\n",
       "Notes: \\newline\n",
       " [1] Standard Errors assume that the covariance matrix of the errors is correctly specified."
      ],
      "text/plain": [
       "<class 'statsmodels.iolib.summary.Summary'>\n",
       "\"\"\"\n",
       "                            OLS Regression Results                            \n",
       "==============================================================================\n",
       "Dep. Variable:                   Rate   R-squared:                       0.051\n",
       "Model:                            OLS   Adj. R-squared:                  0.036\n",
       "Method:                 Least Squares   F-statistic:                     3.438\n",
       "Date:                Tue, 10 Oct 2023   Prob (F-statistic):           0.000207\n",
       "Time:                        23:32:18   Log-Likelihood:                -987.38\n",
       "No. Observations:                 657   AIC:                             1997.\n",
       "Df Residuals:                     646   BIC:                             2046.\n",
       "Df Model:                          10                                         \n",
       "Covariance Type:            nonrobust                                         \n",
       "===========================================================================================\n",
       "                              coef    std err          t      P>|t|      [0.025      0.975]\n",
       "-------------------------------------------------------------------------------------------\n",
       "Intercept                   6.7939      0.091     74.343      0.000       6.614       6.973\n",
       "Nudity[T.Moderate]         -0.0771      0.098     -0.790      0.430      -0.269       0.114\n",
       "Nudity[T.Severe]           -0.1894      0.167     -1.135      0.257      -0.517       0.138\n",
       "Violence[T.Moderate]        0.0339      0.106      0.319      0.750      -0.175       0.242\n",
       "Violence[T.Severe]          0.0814      0.158      0.514      0.607      -0.229       0.392\n",
       "Profanity[T.Moderate]      -0.0855      0.113     -0.758      0.449      -0.307       0.136\n",
       "Profanity[T.Severe]        -0.0494      0.135     -0.366      0.715      -0.315       0.216\n",
       "Alcohol[T.Moderate]         0.3109      0.105      2.971      0.003       0.105       0.516\n",
       "Alcohol[T.Severe]           0.4963      0.163      3.054      0.002       0.177       0.815\n",
       "Frightening[T.Moderate]    -0.0577      0.114     -0.505      0.614      -0.282       0.167\n",
       "Frightening[T.Severe]      -0.7764      0.194     -4.012      0.000      -1.156      -0.396\n",
       "==============================================================================\n",
       "Omnibus:                       79.058   Durbin-Watson:                   1.584\n",
       "Prob(Omnibus):                  0.000   Jarque-Bera (JB):              123.768\n",
       "Skew:                          -0.804   Prob(JB):                     1.33e-27\n",
       "Kurtosis:                       4.391   Cond. No.                         7.74\n",
       "==============================================================================\n",
       "\n",
       "Notes:\n",
       "[1] Standard Errors assume that the covariance matrix of the errors is correctly specified.\n",
       "\"\"\""
      ]
     },
     "execution_count": 87,
     "metadata": {},
     "output_type": "execute_result"
    }
   ],
   "source": [
    "full_model = smf.ols(formula='Rate~Nudity+Violence+Profanity+Alcohol+Frightening',data=comedy_df).fit()\n",
    "full_model.summary()"
   ]
  },
  {
   "cell_type": "markdown",
   "metadata": {},
   "source": [
    "### 3.2. Reduced Model\n",
    "\n",
    "Next fit the 'reduced model' which predicts `Rate`ing of `Comedy` movies given the 5 content explanatory variables `excluding the variable that you selected in 2.1`.\n",
    "\n",
    "Then find the adjusted R^2 of this model."
   ]
  },
  {
   "cell_type": "code",
   "execution_count": 88,
   "metadata": {},
   "outputs": [
    {
     "data": {
      "text/html": [
       "<table class=\"simpletable\">\n",
       "<caption>OLS Regression Results</caption>\n",
       "<tr>\n",
       "  <th>Dep. Variable:</th>          <td>Rate</td>       <th>  R-squared:         </th> <td>   0.055</td>\n",
       "</tr>\n",
       "<tr>\n",
       "  <th>Model:</th>                   <td>OLS</td>       <th>  Adj. R-squared:    </th> <td>   0.040</td>\n",
       "</tr>\n",
       "<tr>\n",
       "  <th>Method:</th>             <td>Least Squares</td>  <th>  F-statistic:       </th> <td>   3.764</td>\n",
       "</tr>\n",
       "<tr>\n",
       "  <th>Date:</th>             <td>Tue, 10 Oct 2023</td> <th>  Prob (F-statistic):</th> <td>0.000266</td>\n",
       "</tr>\n",
       "<tr>\n",
       "  <th>Time:</th>                 <td>23:32:22</td>     <th>  Log-Likelihood:    </th> <td> -799.79</td>\n",
       "</tr>\n",
       "<tr>\n",
       "  <th>No. Observations:</th>      <td>   525</td>      <th>  AIC:               </th> <td>   1618.</td>\n",
       "</tr>\n",
       "<tr>\n",
       "  <th>Df Residuals:</th>          <td>   516</td>      <th>  BIC:               </th> <td>   1656.</td>\n",
       "</tr>\n",
       "<tr>\n",
       "  <th>Df Model:</th>              <td>     8</td>      <th>                     </th>     <td> </td>   \n",
       "</tr>\n",
       "<tr>\n",
       "  <th>Covariance Type:</th>      <td>nonrobust</td>    <th>                     </th>     <td> </td>   \n",
       "</tr>\n",
       "</table>\n",
       "<table class=\"simpletable\">\n",
       "<tr>\n",
       "             <td></td>                <th>coef</th>     <th>std err</th>      <th>t</th>      <th>P>|t|</th>  <th>[0.025</th>    <th>0.975]</th>  \n",
       "</tr>\n",
       "<tr>\n",
       "  <th>Intercept</th>               <td>    6.7625</td> <td>    0.100</td> <td>   67.600</td> <td> 0.000</td> <td>    6.566</td> <td>    6.959</td>\n",
       "</tr>\n",
       "<tr>\n",
       "  <th>Nudity[T.Moderate]</th>      <td>   -0.0592</td> <td>    0.110</td> <td>   -0.536</td> <td> 0.592</td> <td>   -0.276</td> <td>    0.158</td>\n",
       "</tr>\n",
       "<tr>\n",
       "  <th>Nudity[T.Severe]</th>        <td>   -0.1897</td> <td>    0.192</td> <td>   -0.990</td> <td> 0.322</td> <td>   -0.566</td> <td>    0.187</td>\n",
       "</tr>\n",
       "<tr>\n",
       "  <th>Profanity[T.Moderate]</th>   <td>   -0.0029</td> <td>    0.129</td> <td>   -0.022</td> <td> 0.982</td> <td>   -0.256</td> <td>    0.250</td>\n",
       "</tr>\n",
       "<tr>\n",
       "  <th>Profanity[T.Severe]</th>     <td>    0.0503</td> <td>    0.148</td> <td>    0.341</td> <td> 0.733</td> <td>   -0.240</td> <td>    0.340</td>\n",
       "</tr>\n",
       "<tr>\n",
       "  <th>Alcohol[T.Moderate]</th>     <td>    0.2650</td> <td>    0.119</td> <td>    2.224</td> <td> 0.027</td> <td>    0.031</td> <td>    0.499</td>\n",
       "</tr>\n",
       "<tr>\n",
       "  <th>Alcohol[T.Severe]</th>       <td>    0.4471</td> <td>    0.189</td> <td>    2.360</td> <td> 0.019</td> <td>    0.075</td> <td>    0.819</td>\n",
       "</tr>\n",
       "<tr>\n",
       "  <th>Frightening[T.Moderate]</th> <td>   -0.0082</td> <td>    0.110</td> <td>   -0.074</td> <td> 0.941</td> <td>   -0.224</td> <td>    0.208</td>\n",
       "</tr>\n",
       "<tr>\n",
       "  <th>Frightening[T.Severe]</th>   <td>   -0.8307</td> <td>    0.191</td> <td>   -4.343</td> <td> 0.000</td> <td>   -1.206</td> <td>   -0.455</td>\n",
       "</tr>\n",
       "</table>\n",
       "<table class=\"simpletable\">\n",
       "<tr>\n",
       "  <th>Omnibus:</th>       <td>59.765</td> <th>  Durbin-Watson:     </th> <td>   2.129</td>\n",
       "</tr>\n",
       "<tr>\n",
       "  <th>Prob(Omnibus):</th> <td> 0.000</td> <th>  Jarque-Bera (JB):  </th> <td>  90.876</td>\n",
       "</tr>\n",
       "<tr>\n",
       "  <th>Skew:</th>          <td>-0.767</td> <th>  Prob(JB):          </th> <td>1.85e-20</td>\n",
       "</tr>\n",
       "<tr>\n",
       "  <th>Kurtosis:</th>      <td> 4.342</td> <th>  Cond. No.          </th> <td>    5.99</td>\n",
       "</tr>\n",
       "</table><br/><br/>Notes:<br/>[1] Standard Errors assume that the covariance matrix of the errors is correctly specified."
      ],
      "text/latex": [
       "\\begin{center}\n",
       "\\begin{tabular}{lclc}\n",
       "\\toprule\n",
       "\\textbf{Dep. Variable:}          &       Rate       & \\textbf{  R-squared:         } &     0.055   \\\\\n",
       "\\textbf{Model:}                  &       OLS        & \\textbf{  Adj. R-squared:    } &     0.040   \\\\\n",
       "\\textbf{Method:}                 &  Least Squares   & \\textbf{  F-statistic:       } &     3.764   \\\\\n",
       "\\textbf{Date:}                   & Tue, 10 Oct 2023 & \\textbf{  Prob (F-statistic):} &  0.000266   \\\\\n",
       "\\textbf{Time:}                   &     23:32:22     & \\textbf{  Log-Likelihood:    } &   -799.79   \\\\\n",
       "\\textbf{No. Observations:}       &         525      & \\textbf{  AIC:               } &     1618.   \\\\\n",
       "\\textbf{Df Residuals:}           &         516      & \\textbf{  BIC:               } &     1656.   \\\\\n",
       "\\textbf{Df Model:}               &           8      & \\textbf{                     } &             \\\\\n",
       "\\textbf{Covariance Type:}        &    nonrobust     & \\textbf{                     } &             \\\\\n",
       "\\bottomrule\n",
       "\\end{tabular}\n",
       "\\begin{tabular}{lcccccc}\n",
       "                                 & \\textbf{coef} & \\textbf{std err} & \\textbf{t} & \\textbf{P$> |$t$|$} & \\textbf{[0.025} & \\textbf{0.975]}  \\\\\n",
       "\\midrule\n",
       "\\textbf{Intercept}               &       6.7625  &        0.100     &    67.600  &         0.000        &        6.566    &        6.959     \\\\\n",
       "\\textbf{Nudity[T.Moderate]}      &      -0.0592  &        0.110     &    -0.536  &         0.592        &       -0.276    &        0.158     \\\\\n",
       "\\textbf{Nudity[T.Severe]}        &      -0.1897  &        0.192     &    -0.990  &         0.322        &       -0.566    &        0.187     \\\\\n",
       "\\textbf{Profanity[T.Moderate]}   &      -0.0029  &        0.129     &    -0.022  &         0.982        &       -0.256    &        0.250     \\\\\n",
       "\\textbf{Profanity[T.Severe]}     &       0.0503  &        0.148     &     0.341  &         0.733        &       -0.240    &        0.340     \\\\\n",
       "\\textbf{Alcohol[T.Moderate]}     &       0.2650  &        0.119     &     2.224  &         0.027        &        0.031    &        0.499     \\\\\n",
       "\\textbf{Alcohol[T.Severe]}       &       0.4471  &        0.189     &     2.360  &         0.019        &        0.075    &        0.819     \\\\\n",
       "\\textbf{Frightening[T.Moderate]} &      -0.0082  &        0.110     &    -0.074  &         0.941        &       -0.224    &        0.208     \\\\\n",
       "\\textbf{Frightening[T.Severe]}   &      -0.8307  &        0.191     &    -4.343  &         0.000        &       -1.206    &       -0.455     \\\\\n",
       "\\bottomrule\n",
       "\\end{tabular}\n",
       "\\begin{tabular}{lclc}\n",
       "\\textbf{Omnibus:}       & 59.765 & \\textbf{  Durbin-Watson:     } &    2.129  \\\\\n",
       "\\textbf{Prob(Omnibus):} &  0.000 & \\textbf{  Jarque-Bera (JB):  } &   90.876  \\\\\n",
       "\\textbf{Skew:}          & -0.767 & \\textbf{  Prob(JB):          } & 1.85e-20  \\\\\n",
       "\\textbf{Kurtosis:}      &  4.342 & \\textbf{  Cond. No.          } &     5.99  \\\\\n",
       "\\bottomrule\n",
       "\\end{tabular}\n",
       "%\\caption{OLS Regression Results}\n",
       "\\end{center}\n",
       "\n",
       "Notes: \\newline\n",
       " [1] Standard Errors assume that the covariance matrix of the errors is correctly specified."
      ],
      "text/plain": [
       "<class 'statsmodels.iolib.summary.Summary'>\n",
       "\"\"\"\n",
       "                            OLS Regression Results                            \n",
       "==============================================================================\n",
       "Dep. Variable:                   Rate   R-squared:                       0.055\n",
       "Model:                            OLS   Adj. R-squared:                  0.040\n",
       "Method:                 Least Squares   F-statistic:                     3.764\n",
       "Date:                Tue, 10 Oct 2023   Prob (F-statistic):           0.000266\n",
       "Time:                        23:32:22   Log-Likelihood:                -799.79\n",
       "No. Observations:                 525   AIC:                             1618.\n",
       "Df Residuals:                     516   BIC:                             1656.\n",
       "Df Model:                           8                                         \n",
       "Covariance Type:            nonrobust                                         \n",
       "===========================================================================================\n",
       "                              coef    std err          t      P>|t|      [0.025      0.975]\n",
       "-------------------------------------------------------------------------------------------\n",
       "Intercept                   6.7625      0.100     67.600      0.000       6.566       6.959\n",
       "Nudity[T.Moderate]         -0.0592      0.110     -0.536      0.592      -0.276       0.158\n",
       "Nudity[T.Severe]           -0.1897      0.192     -0.990      0.322      -0.566       0.187\n",
       "Profanity[T.Moderate]      -0.0029      0.129     -0.022      0.982      -0.256       0.250\n",
       "Profanity[T.Severe]         0.0503      0.148      0.341      0.733      -0.240       0.340\n",
       "Alcohol[T.Moderate]         0.2650      0.119      2.224      0.027       0.031       0.499\n",
       "Alcohol[T.Severe]           0.4471      0.189      2.360      0.019       0.075       0.819\n",
       "Frightening[T.Moderate]    -0.0082      0.110     -0.074      0.941      -0.224       0.208\n",
       "Frightening[T.Severe]      -0.8307      0.191     -4.343      0.000      -1.206      -0.455\n",
       "==============================================================================\n",
       "Omnibus:                       59.765   Durbin-Watson:                   2.129\n",
       "Prob(Omnibus):                  0.000   Jarque-Bera (JB):               90.876\n",
       "Skew:                          -0.767   Prob(JB):                     1.85e-20\n",
       "Kurtosis:                       4.342   Cond. No.                         5.99\n",
       "==============================================================================\n",
       "\n",
       "Notes:\n",
       "[1] Standard Errors assume that the covariance matrix of the errors is correctly specified.\n",
       "\"\"\""
      ]
     },
     "execution_count": 88,
     "metadata": {},
     "output_type": "execute_result"
    }
   ],
   "source": [
    "reduced_model = smf.ols(formula=\"Rate~Nudity+Profanity+Alcohol+Frightening\",data=imdb_test).fit()\n",
    "reduced_model.summary()"
   ]
  },
  {
   "cell_type": "markdown",
   "metadata": {},
   "source": [
    "### 3.3. Parsimonous Model\n",
    "\n",
    "According to the adjusted R^2, is your full model or your reduced model more parsimonious?"
   ]
  },
  {
   "cell_type": "markdown",
   "metadata": {},
   "source": [
    "The adjusted r^2 for the reduced model is higher so it is more parsimonious."
   ]
  },
  {
   "cell_type": "markdown",
   "metadata": {},
   "source": [
    "### 3.4. Predictive Power\n",
    "\n",
    "According to the adjusted R^2, does the model that you excluded in the reduced model bring \"enough\" predictive power to the model (in the presence of the other 4 explanatory variables)? Explain."
   ]
  },
  {
   "cell_type": "markdown",
   "metadata": {},
   "source": [
    "The reduced model brings enough predictive power to the model and performs better than the full model does. This can be seen by observing the adjusted r^2 value. It can be seen that reduced model has a higher adjusted r^2 value of 0.04 compared to the full model adjusted r^2 of 0.036."
   ]
  },
  {
   "cell_type": "markdown",
   "metadata": {},
   "source": [
    "### 3.5. Overfitting and Performance with New Datasets\n",
    "\n",
    "Does the adjusted R^2 suggest that we would be overfitting the model by including this variable and thus may have worse performance when prediting `Rate` for *new datasets*?"
   ]
  },
  {
   "cell_type": "markdown",
   "metadata": {},
   "source": [
    "The adjusted r^2 for the full model which is 0.036 and the adjusted r^2 for the reduced model which is 0.04. Because the adjusted r^2 for the reduced model is higher, we can see that the excluded variable doesn't have predictive power because if it did then the r^2 should have gone down. Therefore the model is overfitted. "
   ]
  },
  {
   "cell_type": "markdown",
   "metadata": {},
   "source": [
    "### 3.6. Test R^2\n",
    "\n",
    "Calculate the test R^2 of each of these two models."
   ]
  },
  {
   "cell_type": "code",
   "execution_count": 89,
   "metadata": {},
   "outputs": [],
   "source": [
    "reduced_model_test_predict = reduced_model.predict(imdb_test)"
   ]
  },
  {
   "cell_type": "code",
   "execution_count": 90,
   "metadata": {},
   "outputs": [
    {
     "data": {
      "text/plain": [
       "0.05514168622694127"
      ]
     },
     "execution_count": 90,
     "metadata": {},
     "output_type": "execute_result"
    }
   ],
   "source": [
    "r2_score(imdb_test[\"Rate\"],reduced_model_test_predict)"
   ]
  },
  {
   "cell_type": "code",
   "execution_count": 91,
   "metadata": {},
   "outputs": [],
   "source": [
    "full_model_test_predict = full_model.predict(imdb_test)"
   ]
  },
  {
   "cell_type": "code",
   "execution_count": 92,
   "metadata": {},
   "outputs": [
    {
     "data": {
      "text/plain": [
       "0.05365766260010241"
      ]
     },
     "execution_count": 92,
     "metadata": {},
     "output_type": "execute_result"
    }
   ],
   "source": [
    "r2_score(imdb_test[\"Rate\"],full_model_test_predict)"
   ]
  },
  {
   "cell_type": "markdown",
   "metadata": {},
   "source": [
    "### 3.7. Test R^2 Corroboration\n",
    "\n",
    "Which model (full vs. reduced) does the test R^2 suggest might perform better when predicting new datasets? Does this suggestion agree with what the adjusted R^2 suggested?"
   ]
  },
  {
   "cell_type": "markdown",
   "metadata": {},
   "source": [
    "The test r^2 suggests that the reduced model will perform better in predicting new datasets due to it having a higher r^2 so higher predictive power. "
   ]
  },
  {
   "cell_type": "markdown",
   "metadata": {},
   "source": [
    "### 3.8. Model Performance\n",
    "\n",
    "Would we expect either of these models to perform *well* when predicting `Rate` for *new datasets*? Explain."
   ]
  },
  {
   "cell_type": "markdown",
   "metadata": {},
   "source": [
    "Both of these models have low r^2 values which means neither of them have good prediciting power."
   ]
  },
  {
   "cell_type": "markdown",
   "metadata": {},
   "source": [
    "## 4. Total Number of Candidate Models\n",
    "\n",
    "Given that we are considering using the following 5 explanatory variables in our linear regression model (without interaction terms), how many possible linear regression models could we make based on whether we decide to include or exclude each of these 5 variables?\n",
    "\n",
    "* `Nudity`\n",
    "* `Violence`\n",
    "* `Profanity`\n",
    "* `Alcohol`\n",
    "* `Frightening`"
   ]
  },
  {
   "cell_type": "markdown",
   "metadata": {},
   "source": [
    "Each variable has two options: being included or excluded.\n",
    "\n",
    "since we have 5 variables. 2^5 = 32.\n",
    "\n",
    "Therefore we have 32 different linear regression model variations depending on whether we want to include or exclude each of these 5 variables.\n"
   ]
  },
  {
   "cell_type": "code",
   "execution_count": null,
   "metadata": {},
   "outputs": [],
   "source": []
  },
  {
   "cell_type": "markdown",
   "metadata": {},
   "source": [
    "## 5. Backwards Elimination Algorithm\n",
    "\n",
    "Ideally, we'd like to find the linear regression model that gives us the highest adjusted R^2 value. Use a backwards elimination algorithm to try to find this linear regression model."
   ]
  },
  {
   "cell_type": "code",
   "execution_count": 93,
   "metadata": {},
   "outputs": [
    {
     "data": {
      "text/plain": [
       "0.023274861278337222"
      ]
     },
     "execution_count": 93,
     "metadata": {},
     "output_type": "execute_result"
    }
   ],
   "source": [
    "#Full model with all variables\n",
    "full_model = smf.ols(formula='Rate~Nudity+Violence+Profanity+Alcohol+Frightening',data=imdb_train).fit()\n",
    "full_model.rsquared_adj"
   ]
  },
  {
   "cell_type": "code",
   "execution_count": 94,
   "metadata": {},
   "outputs": [
    {
     "data": {
      "text/plain": [
       "0.036672537074378564"
      ]
     },
     "execution_count": 94,
     "metadata": {},
     "output_type": "execute_result"
    }
   ],
   "source": [
    "#Test model with no Nudity\n",
    "#HIGHEST MODEL - NEW CURRENT MODEL 1\n",
    "test_model = smf.ols(formula='Rate~Violence+Profanity+Alcohol+Frightening',data=imdb_train).fit()\n",
    "test_model.rsquared_adj"
   ]
  },
  {
   "cell_type": "code",
   "execution_count": 95,
   "metadata": {},
   "outputs": [
    {
     "data": {
      "text/plain": [
       "0.011118125541001445"
      ]
     },
     "execution_count": 95,
     "metadata": {},
     "output_type": "execute_result"
    }
   ],
   "source": [
    "#Test model with no Violence\n",
    "test_model = smf.ols(formula='Rate~Nudity+Profanity+Alcohol+Frightening',data=imdb_train).fit()\n",
    "test_model.rsquared_adj"
   ]
  },
  {
   "cell_type": "code",
   "execution_count": 96,
   "metadata": {},
   "outputs": [
    {
     "data": {
      "text/plain": [
       "0.01534497888583708"
      ]
     },
     "execution_count": 96,
     "metadata": {},
     "output_type": "execute_result"
    }
   ],
   "source": [
    "#Test model with no Profanity\n",
    "test_model = smf.ols(formula='Rate~Nudity+Violence+Alcohol+Frightening',data=imdb_train).fit()\n",
    "test_model.rsquared_adj"
   ]
  },
  {
   "cell_type": "code",
   "execution_count": 97,
   "metadata": {},
   "outputs": [
    {
     "data": {
      "text/plain": [
       "-0.01723534373521418"
      ]
     },
     "execution_count": 97,
     "metadata": {},
     "output_type": "execute_result"
    }
   ],
   "source": [
    "#Test model with no Alcohol\n",
    "test_model = smf.ols(formula='Rate~Nudity+Violence+Profanity+Frightening',data=imdb_train).fit()\n",
    "test_model.rsquared_adj"
   ]
  },
  {
   "cell_type": "code",
   "execution_count": 98,
   "metadata": {},
   "outputs": [
    {
     "data": {
      "text/plain": [
       "0.03093466522556776"
      ]
     },
     "execution_count": 98,
     "metadata": {},
     "output_type": "execute_result"
    }
   ],
   "source": [
    "#Test model with no Frightening\n",
    "test_model = smf.ols(formula='Rate~Nudity+Violence+Profanity+Alcohol',data=imdb_train).fit()\n",
    "test_model.rsquared_adj"
   ]
  },
  {
   "cell_type": "code",
   "execution_count": 99,
   "metadata": {},
   "outputs": [
    {
     "data": {
      "text/plain": [
       "0.036672537074378564"
      ]
     },
     "execution_count": 99,
     "metadata": {},
     "output_type": "execute_result"
    }
   ],
   "source": [
    "#NEW CURRENT MODEL 1 (NO Nudity)\n",
    "current_model1 = smf.ols(formula='Rate~Violence+Profanity+Alcohol+Frightening',data=imdb_train).fit()\n",
    "current_model1.rsquared_adj"
   ]
  },
  {
   "cell_type": "code",
   "execution_count": 100,
   "metadata": {},
   "outputs": [
    {
     "data": {
      "text/plain": [
       "0.022957364749333964"
      ]
     },
     "execution_count": 100,
     "metadata": {},
     "output_type": "execute_result"
    }
   ],
   "source": [
    "#Test model with no Violence\n",
    "test_model1 = smf.ols(formula='Rate~Profanity+Alcohol+Frightening',data=imdb_train).fit()\n",
    "test_model1.rsquared_adj"
   ]
  },
  {
   "cell_type": "code",
   "execution_count": 101,
   "metadata": {},
   "outputs": [
    {
     "data": {
      "text/plain": [
       "0.017504310189960348"
      ]
     },
     "execution_count": 101,
     "metadata": {},
     "output_type": "execute_result"
    }
   ],
   "source": [
    "#Test model with no Profanity\n",
    "test_model1 = smf.ols(formula='Rate~Violence+Alcohol+Frightening',data=imdb_train).fit()\n",
    "test_model1.rsquared_adj"
   ]
  },
  {
   "cell_type": "code",
   "execution_count": 102,
   "metadata": {},
   "outputs": [
    {
     "data": {
      "text/plain": [
       "-0.0009944384225075709"
      ]
     },
     "execution_count": 102,
     "metadata": {},
     "output_type": "execute_result"
    }
   ],
   "source": [
    "#Test model with no Alcohol\n",
    "test_model1 = smf.ols(formula='Rate~Violence+Profanity+Frightening',data=imdb_train).fit()\n",
    "test_model1.rsquared_adj"
   ]
  },
  {
   "cell_type": "code",
   "execution_count": 103,
   "metadata": {},
   "outputs": [
    {
     "data": {
      "text/plain": [
       "0.044586690417654284"
      ]
     },
     "execution_count": 103,
     "metadata": {},
     "output_type": "execute_result"
    }
   ],
   "source": [
    "#Test model with no Frightening\n",
    "test_model1 = smf.ols(formula='Rate~Violence+Profanity+Alcohol',data=imdb_train).fit()\n",
    "test_model1.rsquared_adj"
   ]
  },
  {
   "cell_type": "code",
   "execution_count": 104,
   "metadata": {},
   "outputs": [
    {
     "data": {
      "text/plain": [
       "0.044586690417654284"
      ]
     },
     "execution_count": 104,
     "metadata": {},
     "output_type": "execute_result"
    }
   ],
   "source": [
    "#LINEAR REGRESSION MODEL\n",
    "#NEW CURRENT MODEL 2 (NO Frightening)\n",
    "test_model2 = smf.ols(formula='Rate~Violence+Profanity+Alcohol',data=imdb_train).fit()\n",
    "test_model2.rsquared_adj"
   ]
  },
  {
   "cell_type": "code",
   "execution_count": 105,
   "metadata": {},
   "outputs": [
    {
     "data": {
      "text/plain": [
       "0.03305305418971671"
      ]
     },
     "execution_count": 105,
     "metadata": {},
     "output_type": "execute_result"
    }
   ],
   "source": [
    "#Test model with no Violence\n",
    "test_model2 = smf.ols(formula='Rate~Profanity+Alcohol',data=imdb_train).fit()\n",
    "test_model2.rsquared_adj"
   ]
  },
  {
   "cell_type": "code",
   "execution_count": 106,
   "metadata": {},
   "outputs": [
    {
     "data": {
      "text/plain": [
       "0.028065560540939005"
      ]
     },
     "execution_count": 106,
     "metadata": {},
     "output_type": "execute_result"
    }
   ],
   "source": [
    "#Test model with no Profanity\n",
    "test_model2 = smf.ols(formula='Rate~Violence+Alcohol',data=imdb_train).fit()\n",
    "test_model2.rsquared_adj"
   ]
  },
  {
   "cell_type": "code",
   "execution_count": 107,
   "metadata": {},
   "outputs": [
    {
     "data": {
      "text/plain": [
       "0.00938149384914122"
      ]
     },
     "execution_count": 107,
     "metadata": {},
     "output_type": "execute_result"
    }
   ],
   "source": [
    "#Test model with no Alcohol\n",
    "test_model2 = smf.ols(formula='Rate~Violence+Profanity',data=imdb_train).fit()\n",
    "test_model2.rsquared_adj"
   ]
  },
  {
   "cell_type": "markdown",
   "metadata": {},
   "source": [
    "## 6. Interpreting the Backwards Elimination Algorithm Results\n",
    "\n",
    "### 6.1. Best Adjusted R^2 Guarantees\n",
    "\n",
    "Is the final model returned by the backwards elimination algorithm guaranteed to return the linear regression model that has the *highest possible adjusted R^2* out of all possible linear regression models that we could make with our 5 content explanatory variables?"
   ]
  },
  {
   "cell_type": "markdown",
   "metadata": {},
   "source": [
    "No, the backwards elimination algorithm doesn't guarantee the return of a linear regression model with the highest possible adjusted r^2 value out of all possible linear regression models."
   ]
  },
  {
   "cell_type": "markdown",
   "metadata": {},
   "source": [
    "### 6.2. Most Likely Overfitter\n",
    "\n",
    "Of the 5 content explanatory variable that we considered, which one was the most likely to lead to overfitting (if we were to keep all of the other 4 explanatory variables)? Explain."
   ]
  },
  {
   "cell_type": "markdown",
   "metadata": {},
   "source": [
    "The explanatory variable that is the most likely to lead to overfitting is Nudity. This is because when we dropped that variable we had the highest r^2 value. This means that Nudity didn't have that much predictive power."
   ]
  },
  {
   "cell_type": "markdown",
   "metadata": {},
   "source": [
    "### 6.3. Adjusted R^2 Suggestions\n",
    "\n",
    "Let's now consider the adjusted R^2 of 3 candidate models that we've explored in this assignment\n",
    "* the full model (3.1) - 0.036\n",
    "* the reduced model (3.2) - 0.040\n",
    "* the final model from the backwards elimination algorithm (5) - 0.0445\n",
    "\n",
    "According to the adjusted R^2, which model is suggested to have the *best* prediction performance for *new datasets*?\n",
    "\n"
   ]
  },
  {
   "cell_type": "markdown",
   "metadata": {},
   "source": [
    "According to the adjusted r^2, the model suggested to have the best prediction performance is the final model from the backwards elimination algorithm."
   ]
  },
  {
   "cell_type": "markdown",
   "metadata": {},
   "source": [
    "### 6.4. Test R^2\n",
    "\n",
    "Calculate the test R^2 of the final model returned by your backwards elimination algorithm.\n"
   ]
  },
  {
   "cell_type": "code",
   "execution_count": 108,
   "metadata": {},
   "outputs": [],
   "source": [
    "final_model_test_predict = test_model2.predict(imdb_test)"
   ]
  },
  {
   "cell_type": "code",
   "execution_count": 109,
   "metadata": {},
   "outputs": [
    {
     "data": {
      "text/plain": [
       "-0.031234135537806296"
      ]
     },
     "execution_count": 109,
     "metadata": {},
     "output_type": "execute_result"
    }
   ],
   "source": [
    "r2_score(imdb_test[\"Rate\"],final_model_test_predict)"
   ]
  },
  {
   "cell_type": "markdown",
   "metadata": {},
   "source": [
    "### 6.5. Test R^2 Suggestions\n",
    "\n",
    "Let's now consider the test R^2 of 3 candidate models that we've explored in this assignment\n",
    "* the full model (3.6)\n",
    "* the reduced model (3.6)\n",
    "* the final model from the backwards elimination algorithm (6.3)\n",
    "\n",
    "According to the test R^2, which model is suggested to have the *best* prediction performance for *new datasets*?"
   ]
  },
  {
   "cell_type": "markdown",
   "metadata": {},
   "source": [
    "The reduced model since it has the highest r^2 value."
   ]
  },
  {
   "cell_type": "markdown",
   "metadata": {},
   "source": [
    "## 7. Conceptual Question\n",
    "\n",
    "Suppose we wanted to predict `income` given the following two possible explanatory variables:\n",
    "* `college_GPA`\n",
    "* `political_affiliation`: Independent, Republican, Democrat\n",
    "\n",
    "We fit the following three candidate models, each of which had the following training dataset R^2 values.\n",
    "\n",
    "**Full Model (R^2=0.5)**\n",
    "Predicts `income` with:\n",
    "* `college_GPA`\n",
    "* `political_affiliation`: Independent, Republican, Democrat\n",
    "\n",
    "\n",
    "**Reduced Model 1 (R^2=0.43)**\n",
    "Predicts `income` with:\n",
    "* `political_affiliation`: Independent, Republican, Democrat\n",
    "\n",
    "**Reduced Model 2 (R^2=0.43)**\n",
    "Predicts `income` with:\n",
    "* `college_GPA`\n",
    "\n",
    "\n",
    "Will the `Reduced Model 1` or the `Reduced Model 2` have a higher adjusted R^2 value? Explain."
   ]
  },
  {
   "cell_type": "markdown",
   "metadata": {},
   "source": [
    "The reduce model 2 will have a higher adjusted r^2 value because it only has one slope as opposed to political_affiliation which will have three."
   ]
  }
 ],
 "metadata": {
  "kernelspec": {
   "display_name": "Python 3 (ipykernel)",
   "language": "python",
   "name": "python3"
  },
  "language_info": {
   "codemirror_mode": {
    "name": "ipython",
    "version": 3
   },
   "file_extension": ".py",
   "mimetype": "text/x-python",
   "name": "python",
   "nbconvert_exporter": "python",
   "pygments_lexer": "ipython3",
   "version": "3.11.4"
  }
 },
 "nbformat": 4,
 "nbformat_minor": 2
}
