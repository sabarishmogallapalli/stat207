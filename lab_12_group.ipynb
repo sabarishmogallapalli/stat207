{
 "cells": [
  {
   "cell_type": "markdown",
   "metadata": {},
   "source": [
    "# STAT 207 Lab Assignment 12 - Group Part - [9 Points]\n",
    "\n",
    "\n",
    "\n",
    "## <u>Case Study</u>: Predicting Airbnb Superhost Status\n",
    "\n",
    "Suppose that you have a spare room in your house (in Seattle) and you are considering advertising this room to guests on Airbnb. Airbnb superhosts are considered to be experienced hosts who provide a shining example for other hosts, and extraordinary experiences for their guests. Once a host reaches Superhost status, a superhost badge will automatically appear on their listing and profile to help guests identify them. You would like to assess your chances of being named a superhost with your property.\n",
    "\n",
    "The following dataset is a sample (assume random) of available Airbnb listings in Seattle, WA. These listings were collected in January 2016, and filtered to just contain listings from the five most popular Seattlbe neighborhoods (for Airbnb listings) and just contain listings that are either in a house or apartment property.\n",
    "\n",
    "This dataset contains the following variables.\n",
    "\n",
    "**Listing Information**\n",
    "The dataset contains the following information about the Airbnb *listing*:\n",
    "* <u>price</u>: price of the listing (per night)(in US dollars)\n",
    "* <u>review_scores_rating</u>: the average rating of the listing [0,100] (100 is the best)\n",
    "* <u>number_of_reviews</u>: the number of reviews for the listing\n",
    "* <u>security_deposit</u>: the security deposit required for the listing (in US dollars)\n",
    "* <u>cleaning_fee</u>: the cleaning fee required for the listing (in US dollars)\n",
    "* <u>neighborhood</u>: the neighborhood of Seattle the listing is located in\n",
    "* <u>property_type</u>: is the listing in a 'House' or 'Apartment'\n",
    "* <u>room_type</u>: is the listing a 'Entire home/apt', 'Private room', or 'Shared room'\n",
    "* <u>accommodates</u>: how many guests will the listing accommodate\n",
    "* <u>bathrooms</u>:how many bathrooms does the listing have\n",
    "* <u>beds</u>: how many beds does the listing have\n",
    "\n",
    "**Host Information**\n",
    "The dataset also contains the following information about the *host* of the given Airbnb listing:\n",
    "* <u>host_is_superhost</u>: is the host a \"superhost\": t=True, f=False\n",
    "* <u>host_has_profile_pic</u>: does the host have a profile pic in their bio: t=True, f=False\n",
    "* <u>host_response_time</u>: how fast will the host respond to requests (on average)\n",
    "\n",
    "## Research Goals\n",
    "\n",
    "The primary research goal that we will pursue in this group lab will be to build a predictive model that effectively predicts the `probability a Seattle Airbnb host is a **superhost**` for ***LISTINGS IN THIS DATASET*** given some combination of the available explanatory variables.\n",
    "\n",
    "\n",
    "\n",
    "## Points\n",
    "\n",
    "<p>&nbsp;</p>\n",
    "<table style=\"border: none;border-collapse: collapse;width:102pt;\">\n",
    "    <tbody>\n",
    "        <tr>\n",
    "            <td style=\"padding:0px;color:black;font-size:15px;font-weight:700;font-style:normal;text-decoration:none;font-family:Calibri, sans-serif;text-align:right;vertical-align:bottom;border:.5pt solid windowtext;height:14.25pt;width:51pt;\">Problem</td>\n",
    "            <td style=\"padding:0px;color:black;font-size:15px;font-weight:700;font-style:normal;text-decoration:none;font-family:Calibri, sans-serif;text-align:general;vertical-align:bottom;border:.5pt solid windowtext;border-left:none;width:51pt;\">Points</td>\n",
    "        </tr>\n",
    "        <tr>\n",
    "            <td style=\"padding:0px;color:black;font-size:15px;font-weight:400;font-style:normal;text-decoration:none;font-family:Calibri, sans-serif;text-align:right;vertical-align:bottom;border:.5pt solid windowtext;height:14.25pt;border-top:none;\">1.1</td>\n",
    "            <td style=\"padding:0px;color:black;font-size:15px;font-weight:400;font-style:normal;text-decoration:none;font-family:Calibri, sans-serif;text-align:right;vertical-align:bottom;border:.5pt solid windowtext;border-top:none;border-left:none;\">0.25</td>\n",
    "        </tr>\n",
    "        <tr>\n",
    "            <td style=\"padding:0px;color:black;font-size:15px;font-weight:400;font-style:normal;text-decoration:none;font-family:Calibri, sans-serif;text-align:right;vertical-align:bottom;border:.5pt solid windowtext;height:14.25pt;border-top:none;\">1.2</td>\n",
    "            <td style=\"padding:0px;color:black;font-size:15px;font-weight:400;font-style:normal;text-decoration:none;font-family:Calibri, sans-serif;text-align:right;vertical-align:bottom;border:.5pt solid windowtext;border-top:none;border-left:none;\">0.25</td>\n",
    "        </tr>\n",
    "        <tr>\n",
    "            <td style=\"padding:0px;color:black;font-size:15px;font-weight:400;font-style:normal;text-decoration:none;font-family:Calibri, sans-serif;text-align:right;vertical-align:bottom;border:.5pt solid windowtext;height:14.25pt;border-top:none;\">2.1.1</td>\n",
    "            <td style=\"padding:0px;color:black;font-size:15px;font-weight:400;font-style:normal;text-decoration:none;font-family:Calibri, sans-serif;text-align:right;vertical-align:bottom;border:.5pt solid windowtext;border-top:none;border-left:none;\">0.75</td>\n",
    "        </tr>\n",
    "        <tr>\n",
    "            <td style=\"padding:0px;color:black;font-size:15px;font-weight:400;font-style:normal;text-decoration:none;font-family:Calibri, sans-serif;text-align:right;vertical-align:bottom;border:.5pt solid windowtext;height:14.25pt;border-top:none;\">2.1.2</td>\n",
    "            <td style=\"padding:0px;color:black;font-size:15px;font-weight:400;font-style:normal;text-decoration:none;font-family:Calibri, sans-serif;text-align:right;vertical-align:bottom;border:.5pt solid windowtext;border-top:none;border-left:none;\">0.75</td>\n",
    "        </tr>\n",
    "        <tr>\n",
    "            <td style=\"padding:0px;color:black;font-size:15px;font-weight:400;font-style:normal;text-decoration:none;font-family:Calibri, sans-serif;text-align:right;vertical-align:bottom;border:.5pt solid windowtext;height:14.25pt;border-top:none;\">2.1.3</td>\n",
    "            <td style=\"padding:0px;color:black;font-size:15px;font-weight:400;font-style:normal;text-decoration:none;font-family:Calibri, sans-serif;text-align:right;vertical-align:bottom;border:.5pt solid windowtext;border-top:none;border-left:none;\">0.25</td>\n",
    "        </tr>\n",
    "        <tr>\n",
    "            <td style=\"padding:0px;color:black;font-size:15px;font-weight:400;font-style:normal;text-decoration:none;font-family:Calibri, sans-serif;text-align:right;vertical-align:bottom;border:.5pt solid windowtext;height:14.25pt;border-top:none;\">2.1.4</td>\n",
    "            <td style=\"padding:0px;color:black;font-size:15px;font-weight:400;font-style:normal;text-decoration:none;font-family:Calibri, sans-serif;text-align:right;vertical-align:bottom;border:.5pt solid windowtext;border-top:none;border-left:none;\">0.25</td>\n",
    "        </tr>\n",
    "        <tr>\n",
    "            <td style=\"padding:0px;color:black;font-size:15px;font-weight:400;font-style:normal;text-decoration:none;font-family:Calibri, sans-serif;text-align:right;vertical-align:bottom;border:.5pt solid windowtext;height:14.25pt;border-top:none;\">2.1.5</td>\n",
    "            <td style=\"padding:0px;color:black;font-size:15px;font-weight:400;font-style:normal;text-decoration:none;font-family:Calibri, sans-serif;text-align:right;vertical-align:bottom;border:.5pt solid windowtext;border-top:none;border-left:none;\">0.25</td>\n",
    "        </tr>\n",
    "        <tr>\n",
    "            <td style=\"padding:0px;color:black;font-size:15px;font-weight:400;font-style:normal;text-decoration:none;font-family:Calibri, sans-serif;text-align:right;vertical-align:bottom;border:.5pt solid windowtext;height:14.25pt;border-top:none;\">3.1</td>\n",
    "            <td style=\"padding:0px;color:black;font-size:15px;font-weight:400;font-style:normal;text-decoration:none;font-family:Calibri, sans-serif;text-align:right;vertical-align:bottom;border:.5pt solid windowtext;border-top:none;border-left:none;\">0.5</td>\n",
    "        </tr>\n",
    "        <tr>\n",
    "            <td style=\"padding:0px;color:black;font-size:15px;font-weight:400;font-style:normal;text-decoration:none;font-family:Calibri, sans-serif;text-align:right;vertical-align:bottom;border:.5pt solid windowtext;height:14.25pt;border-top:none;\">3.2</td>\n",
    "            <td style=\"padding:0px;color:black;font-size:15px;font-weight:400;font-style:normal;text-decoration:none;font-family:Calibri, sans-serif;text-align:right;vertical-align:bottom;border:.5pt solid windowtext;border-top:none;border-left:none;\">0.75</td>\n",
    "        </tr>\n",
    "        <tr>\n",
    "            <td style=\"padding:0px;color:black;font-size:15px;font-weight:400;font-style:normal;text-decoration:none;font-family:Calibri, sans-serif;text-align:right;vertical-align:bottom;border:.5pt solid windowtext;height:14.25pt;border-top:none;\">3.3</td>\n",
    "            <td style=\"padding:0px;color:black;font-size:15px;font-weight:400;font-style:normal;text-decoration:none;font-family:Calibri, sans-serif;text-align:right;vertical-align:bottom;border:.5pt solid windowtext;border-top:none;border-left:none;\">1</td>\n",
    "        </tr>\n",
    "        <tr>\n",
    "            <td style=\"padding:0px;color:black;font-size:15px;font-weight:400;font-style:normal;text-decoration:none;font-family:Calibri, sans-serif;text-align:right;vertical-align:bottom;border:.5pt solid windowtext;height:14.25pt;border-top:none;\">4.1</td>\n",
    "            <td style=\"padding:0px;color:black;font-size:15px;font-weight:400;font-style:normal;text-decoration:none;font-family:Calibri, sans-serif;text-align:right;vertical-align:bottom;border:.5pt solid windowtext;border-top:none;border-left:none;\">0.75</td>\n",
    "        </tr>\n",
    "        <tr>\n",
    "            <td style=\"padding:0px;color:black;font-size:15px;font-weight:400;font-style:normal;text-decoration:none;font-family:Calibri, sans-serif;text-align:right;vertical-align:bottom;border:.5pt solid windowtext;height:14.25pt;border-top:none;\">4.2</td>\n",
    "            <td style=\"padding:0px;color:black;font-size:15px;font-weight:400;font-style:normal;text-decoration:none;font-family:Calibri, sans-serif;text-align:right;vertical-align:bottom;border:.5pt solid windowtext;border-top:none;border-left:none;\">1</td>\n",
    "        </tr>\n",
    "        <tr>\n",
    "            <td style=\"padding:0px;color:black;font-size:15px;font-weight:400;font-style:normal;text-decoration:none;font-family:Calibri, sans-serif;text-align:right;vertical-align:bottom;border:.5pt solid windowtext;height:14.25pt;border-top:none;\">5.1</td>\n",
    "            <td style=\"padding:0px;color:black;font-size:15px;font-weight:400;font-style:normal;text-decoration:none;font-family:Calibri, sans-serif;text-align:right;vertical-align:bottom;border:.5pt solid windowtext;border-top:none;border-left:none;\">1</td>\n",
    "        </tr>\n",
    "        <tr>\n",
    "            <td style=\"padding:0px;color:black;font-size:15px;font-weight:400;font-style:normal;text-decoration:none;font-family:Calibri, sans-serif;text-align:right;vertical-align:bottom;border:.5pt solid windowtext;height:14.25pt;border-top:none;\">5.2</td>\n",
    "            <td style=\"padding:0px;color:black;font-size:15px;font-weight:400;font-style:normal;text-decoration:none;font-family:Calibri, sans-serif;text-align:right;vertical-align:bottom;border:.5pt solid windowtext;border-top:none;border-left:none;\">0.5</td>\n",
    "        </tr>\n",
    "        <tr>\n",
    "            <td style=\"padding:0px;color:black;font-size:15px;font-weight:400;font-style:normal;text-decoration:none;font-family:Calibri, sans-serif;text-align:right;vertical-align:bottom;border:.5pt solid windowtext;height:14.25pt;border-top:none;\">5.3</td>\n",
    "            <td style=\"padding:0px;color:black;font-size:15px;font-weight:400;font-style:normal;text-decoration:none;font-family:Calibri, sans-serif;text-align:right;vertical-align:bottom;border:.5pt solid windowtext;border-top:none;border-left:none;\">0.75</td>\n",
    "        </tr>\n",
    "    </tbody>\n",
    "</table>"
   ]
  },
  {
   "cell_type": "code",
   "execution_count": 1,
   "metadata": {},
   "outputs": [],
   "source": [
    "import pandas as pd\n",
    "import seaborn as sns\n",
    "sns.set()\n",
    "import statsmodels.formula.api as smf\n",
    "import matplotlib.pyplot as plt\n",
    "import numpy as np\n",
    "from sklearn.model_selection import train_test_split\n",
    "from sklearn.metrics import r2_score\n"
   ]
  },
  {
   "cell_type": "markdown",
   "metadata": {},
   "source": [
    "## 1. Basic Data Examination and Manipulation\n",
    "\n",
    "### 1.1. Basics\n",
    "1. Read this csv file into a dataframe.\n",
    "\n",
    "2. Display your dataframe.\n",
    "\n",
    "3. Show how many rows your dataframe has.\n",
    "\n"
   ]
  },
  {
   "cell_type": "code",
   "execution_count": null,
   "metadata": {},
   "outputs": [],
   "source": [
    "df = pd.read_csv('')"
   ]
  },
  {
   "cell_type": "code",
   "execution_count": null,
   "metadata": {},
   "outputs": [],
   "source": []
  },
  {
   "cell_type": "markdown",
   "metadata": {},
   "source": [
    "### 1.2. 0/1 Response Variable\n",
    "\n",
    "Create a new 0/1 variable in your dataset in which `superhosts=1` and `nonsuperhosts=0`. "
   ]
  },
  {
   "cell_type": "code",
   "execution_count": null,
   "metadata": {},
   "outputs": [],
   "source": []
  },
  {
   "cell_type": "markdown",
   "metadata": {},
   "source": [
    "## 2. Full Model Logistic Regression with Scikit Learn\n",
    "\n",
    "Next, rather than use the `smf.logit()` function to fit a logistic regression model as we've discussed in class, let's learn how to use the `LogisticRegression()` function from scikit learn to fit a logistic regression model instead.\n",
    "\n",
    "\n"
   ]
  },
  {
   "cell_type": "code",
   "execution_count": 1,
   "metadata": {},
   "outputs": [],
   "source": [
    "from sklearn.linear_model import LogisticRegression"
   ]
  },
  {
   "cell_type": "markdown",
   "metadata": {},
   "source": [
    "### 2.1. Full Logistic Regression Model\n",
    "\n",
    "In the interest of time, we'll call our \"full\" model the one that predicts the `probability that a host is a superhost` given the four explanatory variables below:\n",
    "* `review_scores_rating`\n",
    "* `number_of_reviews`\n",
    "* `neighborhood`\n",
    "* `room_type`\n",
    "\n",
    "\n",
    "#### 2.1.1. Features Matrix and Target Array\n",
    "\n",
    "Just like the `LinearRegression()` function, the `LogisticRegression()` requires us to create a features matrix (of just the explanatory variables we intend to use) and a target array (ie. our 0/1 response variable).\n",
    "\n",
    "Create your features matrix and target array below for this full model."
   ]
  },
  {
   "cell_type": "code",
   "execution_count": null,
   "metadata": {},
   "outputs": [],
   "source": []
  },
  {
   "cell_type": "code",
   "execution_count": null,
   "metadata": {},
   "outputs": [],
   "source": []
  },
  {
   "cell_type": "markdown",
   "metadata": {},
   "source": [
    "#### 2.1.2. Indicator Variables\n",
    "\n",
    "Furthermore, we need to translate our categorical explanatory variables into indicator variables in this features matrix. Do so below."
   ]
  },
  {
   "cell_type": "code",
   "execution_count": null,
   "metadata": {},
   "outputs": [],
   "source": []
  },
  {
   "cell_type": "markdown",
   "metadata": {},
   "source": [
    "#### 2.1.3. Instantiating a Logistic Regression Model\n",
    "\n",
    "Now, instantiate a logistic regression model using the code below. In the code below we happen to call this instantiated model `full_mod`.\n",
    "\n",
    "`full_mod = LogisticRegression()`"
   ]
  },
  {
   "cell_type": "code",
   "execution_count": null,
   "metadata": {},
   "outputs": [],
   "source": []
  },
  {
   "cell_type": "markdown",
   "metadata": {},
   "source": [
    "#### 2.1.4. Fitting the Instantiated Logistic Regression Model\n",
    "\n",
    "Much like what we did with an instantiated LinearRegression() object, we can fit an instantiated LogisticRegression() object with the following code below.\n",
    "\n",
    "`full_mod.fit(YOUR_FEATURES_MATRIX,YOUR_TARGET_ARRAY)`\n",
    "\n",
    "Fit your logistic regression model with your features matrix and target array below."
   ]
  },
  {
   "cell_type": "code",
   "execution_count": null,
   "metadata": {},
   "outputs": [],
   "source": []
  },
  {
   "cell_type": "markdown",
   "metadata": {},
   "source": [
    "#### 2.1.5. Predictive Probabilities\n",
    "\n",
    "Now that we've fit our model, let's predict the probability that each of our hosts in the features matrix is a superhost. You can do so with the code below.\n",
    "\n",
    "`full_mod.predict_proba(YOUR_FEATURES_MATRIX)[:,1]`\n",
    "\n",
    "Calculate these model predictive probabilities for the observations in your features matrix."
   ]
  },
  {
   "cell_type": "code",
   "execution_count": null,
   "metadata": {
    "scrolled": true
   },
   "outputs": [],
   "source": []
  },
  {
   "cell_type": "markdown",
   "metadata": {},
   "source": [
    "## 3. k-Fold Cross-Validation with the Full Logistic Regression Model\n",
    "\n",
    "Next, let's learn how to perform k-fold cross-validation on our full logistic regression model.\n",
    "\n",
    "### 3.1. Instantiate a Logistic Regression Model\n",
    "\n",
    "First, instantiate (but don't fit) another logistic regression model object like we did in #2.1.3."
   ]
  },
  {
   "cell_type": "code",
   "execution_count": null,
   "metadata": {},
   "outputs": [],
   "source": []
  },
  {
   "cell_type": "markdown",
   "metadata": {},
   "source": [
    "### 3.2. k=5 Fold Cross-Validation\n",
    "\n",
    "Next, instantiate a k=5 fold object that *will* randomly split the dataset up into k=5 test folds. Your dataset should be randomly shuffled first before creating the test folds. Use a random state of 100."
   ]
  },
  {
   "cell_type": "code",
   "execution_count": null,
   "metadata": {},
   "outputs": [],
   "source": []
  },
  {
   "cell_type": "markdown",
   "metadata": {},
   "source": [
    "### 3.3. k-Fold Cross-Validation\n",
    "\n",
    "1. Finally, use these two objects that you created in 3.1 and 3.2 to perform k=5 fold cross-validation on your **full features matrix** and your target array. You should use the **AUC of the test ROC curve** to evaluate each of your 5 training dataset model's corresponding test datasets.\n",
    "2. Display each of the 5 test AUC values.\n",
    "3. Display the mean of these 5 test AUC values.\n",
    "4. Display the standard deviation of these 5 test AUC values.\n",
    "\n",
    "**Hint:** *You can use the `cross_val_score()` function to perform k-fold cross-validation on a logistic regression model in the same way that we used it to perform k-fold cross-validation on a linear regression model. The only thing that you would want to change is the parameter `scoring=\"roc_auc\"` in the function. This will calculate the AUC of each of the test dataset ROC curves.*"
   ]
  },
  {
   "cell_type": "code",
   "execution_count": null,
   "metadata": {},
   "outputs": [],
   "source": []
  },
  {
   "cell_type": "markdown",
   "metadata": {},
   "source": [
    "## 4. Cross-Validation for a Reduced Model\n",
    "\n",
    "Now, we would like to perform k=5 fold cross-validation on a *reduced* logistic regression model. This reduced model will predict the `probability that a host is a superhost` given the three explanatory variables below:\n",
    "* `review_scores_rating`\n",
    "* `number_of_reviews`\n",
    "* <strike>`neighborhood`</strike>\n",
    "* `room_type`"
   ]
  },
  {
   "cell_type": "markdown",
   "metadata": {},
   "source": [
    "### 4.1. Reduced Features Matrix\n",
    "\n",
    "First create another features matrix that only corresponds to the three explanatory variables that we will use in the reduced model (ie. `review_scores_rating`, `number_of_reviews`, and `room_type`.) This features matrix should still use the nessary indicator variables."
   ]
  },
  {
   "cell_type": "code",
   "execution_count": null,
   "metadata": {},
   "outputs": [],
   "source": []
  },
  {
   "cell_type": "markdown",
   "metadata": {},
   "source": [
    "### 4.2. k-Fold Cross-Validation\n",
    "\n",
    "1. Finally, use these two objects that you created in 3.1 and 3.2 to perform k=5 fold cross-validation on your **reduced features matrix** (that you created in #4.1) and your target array. You should use the **AUC of the test ROC curve** to evaluate each of your 5 training dataset model's corresponding test datasets.\n",
    "2. Display each of the 5 test AUC values.\n",
    "3. Display the mean of these 5 test AUC values.\n",
    "4. Display the standard deviation of these 5 test AUC values."
   ]
  },
  {
   "cell_type": "code",
   "execution_count": null,
   "metadata": {},
   "outputs": [],
   "source": []
  },
  {
   "cell_type": "markdown",
   "metadata": {},
   "source": [
    "## 5. Model Evaluation\n",
    "\n",
    "### 5.1. Overall Best Cross-Validation Performance\n",
    "\n",
    "Which of these two logistic regression models that we fitted above had the best k-fold cross-validation performance?"
   ]
  },
  {
   "cell_type": "markdown",
   "metadata": {},
   "source": []
  },
  {
   "cell_type": "markdown",
   "metadata": {},
   "source": [
    "### 5.2. Relative Cross-Validation Performance\n",
    "\n",
    "Would you say that the model that you selected in 5.1 has *comparatively* (or significantly) better performance than the other model? Explain."
   ]
  },
  {
   "cell_type": "markdown",
   "metadata": {},
   "source": []
  },
  {
   "cell_type": "code",
   "execution_count": null,
   "metadata": {},
   "outputs": [],
   "source": []
  },
  {
   "cell_type": "code",
   "execution_count": null,
   "metadata": {},
   "outputs": [],
   "source": []
  },
  {
   "cell_type": "markdown",
   "metadata": {},
   "source": [
    "### 5.3. Overfitting\n",
    "\n",
    "Does your analysis above suggest that the neighborhood variable was overfitting the logistic regression model? Explain."
   ]
  },
  {
   "cell_type": "markdown",
   "metadata": {},
   "source": []
  }
 ],
 "metadata": {
  "kernelspec": {
   "display_name": "Python 3 (ipykernel)",
   "language": "python",
   "name": "python3"
  },
  "language_info": {
   "codemirror_mode": {
    "name": "ipython",
    "version": 3
   },
   "file_extension": ".py",
   "mimetype": "text/x-python",
   "name": "python",
   "nbconvert_exporter": "python",
   "pygments_lexer": "ipython3",
   "version": "3.11.4"
  }
 },
 "nbformat": 4,
 "nbformat_minor": 2
}
