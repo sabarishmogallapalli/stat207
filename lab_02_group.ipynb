{
 "cells": [
  {
   "cell_type": "markdown",
   "metadata": {},
   "source": [
    "# STAT 207 Lab Assignment 2 - Group Part - [5 total points]\n"
   ]
  },
  {
   "cell_type": "markdown",
   "metadata": {},
   "source": [
    "Due: Tuesday, September 5, 11:59pm CST\n",
    "\n",
    "<hr>\n"
   ]
  },
  {
   "cell_type": "markdown",
   "metadata": {},
   "source": [
    "## <u>Case Study</u>: Learning More about Billionaires Continued\n",
    "\n",
    "In this case study we will explore a dataset comprised of all the world's billionaires from 2021 https://www.forbes.com/real-time-billionaires/#49c85f6e3d78, this dataset is contained in the attached **billionaire_2021_demographic.csv** file. This file contains the following variables.\n",
    "\n",
    "* **name** of the billionaire\n",
    "* **NetWorth_billions**: their networth in billions USD\n",
    "* **Country**: country that they reside in\n",
    "* **Source**: the source of their income\n",
    "* **Rank**: their ranking in the 2021 billionaire list\n",
    "* **Age**: their age in 2021\n",
    "* **Industry**: the industry that they derive their wealth from\n",
    "* **company_founded**: year their company was founded\n",
    "* **company_relationship**: their relationship to the company\n",
    "* **company_type**: the type of business this company is\n",
    "* **demographics_gender**: the gender of the billionaire\n",
    "* **location_region**: the region of the world this billionaire lives in\n",
    "* **wealth_type**: the type of billionaire they are\n",
    "* **wealth_how_category**: A category representing where their money came from.\n",
    "* **wealth_how_industry**: The specific industry this billionaire profitted from.\n",
    "* **wealth_how_inherited**: The way that this money was inherited (or not inherited). Inheritance can come from a spouse, the father, or from multiple generations within a family (either 3, 4, or 5+).\n",
    "\n",
    "*More Info if Interested: Building off the Forbes World’s Billionaires lists from 1996-2014, scholars at Peterson Institute for International Economics have added more variables about each billionaire - including whether they were self-made or inherited their wealth.*\n",
    "\n",
    "http://www.iie.com/publications/interstitial.cfm?ResearchID=2917\n",
    "\n",
    "\n",
    "<hr>\n",
    "\n",
    "## <u>Research Questions</u>:\n",
    "\n",
    "You should *thoroughly* seek to answer two types of research questions based on this dataset.\n",
    "\n",
    "**Question 1**: In this analysis you will choose **two categorical variables** that you are interested in (not the names or company names) and determine if there is an association between these two variables for the 2021 billionaires.\n",
    "\n",
    "**Question 2**: In this analysis you will also choose **a categorical and a numerical variable** that you are interested in (not the names or company names) and determine if there is an association between these two variables for the 2021 billionaires."
   ]
  },
  {
   "cell_type": "markdown",
   "metadata": {},
   "source": [
    "### Imports"
   ]
  },
  {
   "cell_type": "code",
   "execution_count": 2,
   "metadata": {},
   "outputs": [],
   "source": [
    "import pandas as pd\n",
    "import matplotlib.pyplot as plt\n",
    "import seaborn as sns\n",
    "sns.set()"
   ]
  },
  {
   "cell_type": "markdown",
   "metadata": {},
   "source": [
    "### Contribution Report [0.25 pt]\n",
    "These contribution reports should be included in all group lab assignments. In this contribution report below you should list of the following:\n",
    "1. Names of each team member.\n",
    "2. Contributions of each team member to report.\n",
    "\n",
    "*For example:*\n",
    "\n",
    "*<u>Teammates:</u>*\n",
    "\n",
    "*1. John Smith: did number 1,2 and 3*\n",
    "\n",
    "*2. Jane Doe: did number 4, and 5*"
   ]
  },
  {
   "cell_type": "markdown",
   "metadata": {},
   "source": [
    "Reece Farrell\n",
    "Nolan Enright\n",
    "Sabarish Mogallapalli\n",
    "\n",
    "We collaborated on all of the problems and as questions arose but wrote our own answers and interprertations. "
   ]
  },
  {
   "cell_type": "markdown",
   "metadata": {},
   "source": [
    "## 1. Read the csv file [0.25 pt]\n",
    "\n",
    "Read the `billionaire_2021_demographic.csv` into a dataframe. You can assume that this dataframe has no missing values."
   ]
  },
  {
   "cell_type": "code",
   "execution_count": 3,
   "metadata": {
    "scrolled": true
   },
   "outputs": [
    {
     "data": {
      "text/html": [
       "<div>\n",
       "<style scoped>\n",
       "    .dataframe tbody tr th:only-of-type {\n",
       "        vertical-align: middle;\n",
       "    }\n",
       "\n",
       "    .dataframe tbody tr th {\n",
       "        vertical-align: top;\n",
       "    }\n",
       "\n",
       "    .dataframe thead th {\n",
       "        text-align: right;\n",
       "    }\n",
       "</style>\n",
       "<table border=\"1\" class=\"dataframe\">\n",
       "  <thead>\n",
       "    <tr style=\"text-align: right;\">\n",
       "      <th></th>\n",
       "      <th>name</th>\n",
       "      <th>NetWorth_billions</th>\n",
       "      <th>Country</th>\n",
       "      <th>Source</th>\n",
       "      <th>Rank</th>\n",
       "      <th>Age</th>\n",
       "      <th>Industry</th>\n",
       "      <th>company_founded</th>\n",
       "      <th>company_relationship</th>\n",
       "      <th>company_type</th>\n",
       "      <th>demographics_gender</th>\n",
       "      <th>location_region</th>\n",
       "      <th>wealth_type</th>\n",
       "      <th>wealth_how_category</th>\n",
       "      <th>wealth_how_industry</th>\n",
       "      <th>wealth_how_inherited</th>\n",
       "    </tr>\n",
       "  </thead>\n",
       "  <tbody>\n",
       "    <tr>\n",
       "      <th>0</th>\n",
       "      <td>Jeff Bezos</td>\n",
       "      <td>177.0</td>\n",
       "      <td>United States</td>\n",
       "      <td>Amazon</td>\n",
       "      <td>1</td>\n",
       "      <td>57.0</td>\n",
       "      <td>Technology</td>\n",
       "      <td>1995</td>\n",
       "      <td>founder</td>\n",
       "      <td>new</td>\n",
       "      <td>male</td>\n",
       "      <td>North America</td>\n",
       "      <td>founder non-finance</td>\n",
       "      <td>Non-Traded Sectors</td>\n",
       "      <td>Retail, Restaurant</td>\n",
       "      <td>not inherited</td>\n",
       "    </tr>\n",
       "    <tr>\n",
       "      <th>1</th>\n",
       "      <td>Elon Musk</td>\n",
       "      <td>151.0</td>\n",
       "      <td>United States</td>\n",
       "      <td>Tesla, SpaceX</td>\n",
       "      <td>2</td>\n",
       "      <td>49.0</td>\n",
       "      <td>Automotive</td>\n",
       "      <td>1999</td>\n",
       "      <td>investor/founder</td>\n",
       "      <td>new</td>\n",
       "      <td>male</td>\n",
       "      <td>North America</td>\n",
       "      <td>founder non-finance</td>\n",
       "      <td>Traded Sectors</td>\n",
       "      <td>Consumer</td>\n",
       "      <td>not inherited</td>\n",
       "    </tr>\n",
       "    <tr>\n",
       "      <th>2</th>\n",
       "      <td>Bill Gates</td>\n",
       "      <td>124.0</td>\n",
       "      <td>United States</td>\n",
       "      <td>Microsoft</td>\n",
       "      <td>4</td>\n",
       "      <td>65.0</td>\n",
       "      <td>Technology</td>\n",
       "      <td>1975</td>\n",
       "      <td>founder</td>\n",
       "      <td>new</td>\n",
       "      <td>male</td>\n",
       "      <td>North America</td>\n",
       "      <td>founder non-finance</td>\n",
       "      <td>New Sectors</td>\n",
       "      <td>Technology-Computer</td>\n",
       "      <td>not inherited</td>\n",
       "    </tr>\n",
       "    <tr>\n",
       "      <th>3</th>\n",
       "      <td>Mark Zuckerberg</td>\n",
       "      <td>97.0</td>\n",
       "      <td>United States</td>\n",
       "      <td>Facebook</td>\n",
       "      <td>5</td>\n",
       "      <td>36.0</td>\n",
       "      <td>Technology</td>\n",
       "      <td>2004</td>\n",
       "      <td>founder</td>\n",
       "      <td>new</td>\n",
       "      <td>male</td>\n",
       "      <td>North America</td>\n",
       "      <td>founder non-finance</td>\n",
       "      <td>New Sectors</td>\n",
       "      <td>Technology-Computer</td>\n",
       "      <td>not inherited</td>\n",
       "    </tr>\n",
       "    <tr>\n",
       "      <th>4</th>\n",
       "      <td>Warren Buffett</td>\n",
       "      <td>96.0</td>\n",
       "      <td>United States</td>\n",
       "      <td>Berkshire Hathaway</td>\n",
       "      <td>6</td>\n",
       "      <td>90.0</td>\n",
       "      <td>Finance &amp; Investments</td>\n",
       "      <td>1839</td>\n",
       "      <td>founder</td>\n",
       "      <td>aquired</td>\n",
       "      <td>male</td>\n",
       "      <td>North America</td>\n",
       "      <td>founder non-finance</td>\n",
       "      <td>Traded Sectors</td>\n",
       "      <td>Consumer</td>\n",
       "      <td>not inherited</td>\n",
       "    </tr>\n",
       "    <tr>\n",
       "      <th>...</th>\n",
       "      <td>...</td>\n",
       "      <td>...</td>\n",
       "      <td>...</td>\n",
       "      <td>...</td>\n",
       "      <td>...</td>\n",
       "      <td>...</td>\n",
       "      <td>...</td>\n",
       "      <td>...</td>\n",
       "      <td>...</td>\n",
       "      <td>...</td>\n",
       "      <td>...</td>\n",
       "      <td>...</td>\n",
       "      <td>...</td>\n",
       "      <td>...</td>\n",
       "      <td>...</td>\n",
       "      <td>...</td>\n",
       "    </tr>\n",
       "    <tr>\n",
       "      <th>973</th>\n",
       "      <td>Mofatraj Munot</td>\n",
       "      <td>1.0</td>\n",
       "      <td>India</td>\n",
       "      <td>real estate</td>\n",
       "      <td>2674</td>\n",
       "      <td>76.0</td>\n",
       "      <td>Real Estate</td>\n",
       "      <td>1969</td>\n",
       "      <td>founder</td>\n",
       "      <td>new</td>\n",
       "      <td>male</td>\n",
       "      <td>South Asia</td>\n",
       "      <td>self-made finance</td>\n",
       "      <td>Financial</td>\n",
       "      <td>Real Estate</td>\n",
       "      <td>not inherited</td>\n",
       "    </tr>\n",
       "    <tr>\n",
       "      <th>974</th>\n",
       "      <td>Jorge Rodriguez Rodriguez</td>\n",
       "      <td>1.0</td>\n",
       "      <td>Peru</td>\n",
       "      <td>processed milk</td>\n",
       "      <td>2674</td>\n",
       "      <td>75.0</td>\n",
       "      <td>Diversified</td>\n",
       "      <td>1967</td>\n",
       "      <td>founder</td>\n",
       "      <td>new</td>\n",
       "      <td>male</td>\n",
       "      <td>Latin America</td>\n",
       "      <td>founder non-finance</td>\n",
       "      <td>Traded Sectors</td>\n",
       "      <td>Consumer</td>\n",
       "      <td>not inherited</td>\n",
       "    </tr>\n",
       "    <tr>\n",
       "      <th>975</th>\n",
       "      <td>Alan Rydge</td>\n",
       "      <td>1.0</td>\n",
       "      <td>Australia</td>\n",
       "      <td>entertainment</td>\n",
       "      <td>2674</td>\n",
       "      <td>68.0</td>\n",
       "      <td>Media &amp; Entertainment</td>\n",
       "      <td>1913</td>\n",
       "      <td>relation</td>\n",
       "      <td>new</td>\n",
       "      <td>male</td>\n",
       "      <td>North America</td>\n",
       "      <td>inherited</td>\n",
       "      <td>Non-Traded Sectors</td>\n",
       "      <td>Media</td>\n",
       "      <td>father</td>\n",
       "    </tr>\n",
       "    <tr>\n",
       "      <th>976</th>\n",
       "      <td>Surin Upatkoon</td>\n",
       "      <td>1.0</td>\n",
       "      <td>Thailand</td>\n",
       "      <td>telecom, lotteries, insurance</td>\n",
       "      <td>2674</td>\n",
       "      <td>71.0</td>\n",
       "      <td>Diversified</td>\n",
       "      <td>1983</td>\n",
       "      <td>owner</td>\n",
       "      <td>new</td>\n",
       "      <td>male</td>\n",
       "      <td>East Asia</td>\n",
       "      <td>executive</td>\n",
       "      <td>Non-Traded Sectors</td>\n",
       "      <td>Media</td>\n",
       "      <td>not inherited</td>\n",
       "    </tr>\n",
       "    <tr>\n",
       "      <th>977</th>\n",
       "      <td>Murat Vargi</td>\n",
       "      <td>1.0</td>\n",
       "      <td>Turkey</td>\n",
       "      <td>telecom</td>\n",
       "      <td>2674</td>\n",
       "      <td>73.0</td>\n",
       "      <td>Telecom</td>\n",
       "      <td>1993</td>\n",
       "      <td>founder</td>\n",
       "      <td>new</td>\n",
       "      <td>male</td>\n",
       "      <td>Middle East/North Africa</td>\n",
       "      <td>founder non-finance</td>\n",
       "      <td>Non-Traded Sectors</td>\n",
       "      <td>Media</td>\n",
       "      <td>not inherited</td>\n",
       "    </tr>\n",
       "  </tbody>\n",
       "</table>\n",
       "<p>978 rows × 16 columns</p>\n",
       "</div>"
      ],
      "text/plain": [
       "                          name  NetWorth_billions        Country  \\\n",
       "0                   Jeff Bezos              177.0  United States   \n",
       "1                    Elon Musk              151.0  United States   \n",
       "2                   Bill Gates              124.0  United States   \n",
       "3              Mark Zuckerberg               97.0  United States   \n",
       "4               Warren Buffett               96.0  United States   \n",
       "..                         ...                ...            ...   \n",
       "973             Mofatraj Munot                1.0          India   \n",
       "974  Jorge Rodriguez Rodriguez                1.0           Peru   \n",
       "975                 Alan Rydge                1.0      Australia   \n",
       "976             Surin Upatkoon                1.0       Thailand   \n",
       "977                Murat Vargi                1.0         Turkey   \n",
       "\n",
       "                            Source  Rank   Age               Industry  \\\n",
       "0                           Amazon     1  57.0             Technology   \n",
       "1                    Tesla, SpaceX     2  49.0             Automotive   \n",
       "2                        Microsoft     4  65.0             Technology   \n",
       "3                         Facebook     5  36.0             Technology   \n",
       "4               Berkshire Hathaway     6  90.0  Finance & Investments   \n",
       "..                             ...   ...   ...                    ...   \n",
       "973                    real estate  2674  76.0            Real Estate   \n",
       "974                 processed milk  2674  75.0            Diversified   \n",
       "975                  entertainment  2674  68.0  Media & Entertainment   \n",
       "976  telecom, lotteries, insurance  2674  71.0            Diversified   \n",
       "977                        telecom  2674  73.0                Telecom   \n",
       "\n",
       "     company_founded company_relationship company_type demographics_gender  \\\n",
       "0               1995              founder          new                male   \n",
       "1               1999     investor/founder          new                male   \n",
       "2               1975              founder          new                male   \n",
       "3               2004              founder          new                male   \n",
       "4               1839              founder      aquired                male   \n",
       "..               ...                  ...          ...                 ...   \n",
       "973             1969              founder          new                male   \n",
       "974             1967              founder          new                male   \n",
       "975             1913             relation          new                male   \n",
       "976             1983                owner          new                male   \n",
       "977             1993              founder          new                male   \n",
       "\n",
       "              location_region          wealth_type wealth_how_category  \\\n",
       "0               North America  founder non-finance  Non-Traded Sectors   \n",
       "1               North America  founder non-finance      Traded Sectors   \n",
       "2               North America  founder non-finance         New Sectors   \n",
       "3               North America  founder non-finance         New Sectors   \n",
       "4               North America  founder non-finance      Traded Sectors   \n",
       "..                        ...                  ...                 ...   \n",
       "973                South Asia    self-made finance           Financial   \n",
       "974             Latin America  founder non-finance      Traded Sectors   \n",
       "975             North America            inherited  Non-Traded Sectors   \n",
       "976                 East Asia            executive  Non-Traded Sectors   \n",
       "977  Middle East/North Africa  founder non-finance  Non-Traded Sectors   \n",
       "\n",
       "     wealth_how_industry wealth_how_inherited  \n",
       "0     Retail, Restaurant        not inherited  \n",
       "1               Consumer        not inherited  \n",
       "2    Technology-Computer        not inherited  \n",
       "3    Technology-Computer        not inherited  \n",
       "4               Consumer        not inherited  \n",
       "..                   ...                  ...  \n",
       "973          Real Estate        not inherited  \n",
       "974             Consumer        not inherited  \n",
       "975                Media               father  \n",
       "976                Media        not inherited  \n",
       "977                Media        not inherited  \n",
       "\n",
       "[978 rows x 16 columns]"
      ]
     },
     "execution_count": 3,
     "metadata": {},
     "output_type": "execute_result"
    }
   ],
   "source": [
    "df = pd.read_csv(\"billionaire_2021_demographic.csv\")\n",
    "df"
   ]
  },
  {
   "cell_type": "markdown",
   "metadata": {},
   "source": [
    "## 2. First Research Question [2.25 pt]\n",
    "\n",
    "Select **two categorical variables** that you are interested in and answer the following questions.\n",
    "\n",
    "1. `Is there an association between these two categorical variables in this dataset? Explain why or why not.`\n",
    "2. `Describe the nature of the relationship between these categorical variables in this dataset.`\n",
    "\n",
    "*Note: Make sure that you thoroughly show the appropriate visualization and calculate the appropriate summary statistics to help you answer these questions. Make sure that you give your plots appropriate titles and axis labels as well!*\n",
    "\n",
    "*Note: You may choose to only focus on a few types of observations for each of these categorical variables if you'd like.*\n",
    "\n"
   ]
  },
  {
   "cell_type": "markdown",
   "metadata": {},
   "source": [
    "The two categorical variables we chose were \"industry\" and \"wealth_how_inherited\"."
   ]
  },
  {
   "cell_type": "code",
   "execution_count": 22,
   "metadata": {},
   "outputs": [
    {
     "data": {
      "text/plain": [
       "wealth_how_inherited\n",
       "not inherited               706\n",
       "father                      174\n",
       "3rd generation               57\n",
       "4th generation               18\n",
       "spouse/widow                 14\n",
       "5th generation or longer      9\n",
       "Name: count, dtype: int64"
      ]
     },
     "execution_count": 22,
     "metadata": {},
     "output_type": "execute_result"
    }
   ],
   "source": [
    "num_wealth = df['wealth_how_inherited'].value_counts()\n",
    "num_wealth"
   ]
  },
  {
   "cell_type": "code",
   "execution_count": 23,
   "metadata": {},
   "outputs": [
    {
     "data": {
      "text/plain": [
       "Industry\n",
       "Finance & Investments         182\n",
       "Fashion & Retail              111\n",
       "Technology                     90\n",
       "Real Estate                    87\n",
       "Diversified                    79\n",
       "Food & Beverage                64\n",
       "Manufacturing                  61\n",
       "Energy                         51\n",
       "Healthcare                     44\n",
       "Media & Entertainment          43\n",
       "Metals & Mining                38\n",
       "Service                        30\n",
       "Construction & Engineering     23\n",
       "Telecom                        19\n",
       "Automotive                     18\n",
       "Gambling & Casinos             15\n",
       "Sports                         13\n",
       "Logistics                      10\n",
       "Name: count, dtype: int64"
      ]
     },
     "execution_count": 23,
     "metadata": {},
     "output_type": "execute_result"
    }
   ],
   "source": [
    "num_industry = df['Industry'].value_counts()\n",
    "num_industry"
   ]
  },
  {
   "cell_type": "code",
   "execution_count": 30,
   "metadata": {},
   "outputs": [
    {
     "data": {
      "text/plain": [
       "([0, 1, 2, 3, 4, 5, 6, 7, 8, 9, 10, 11, 12, 13, 14, 15, 16, 17],\n",
       " [Text(0, 0, 'Technology'),\n",
       "  Text(1, 0, 'Automotive'),\n",
       "  Text(2, 0, 'Finance & Investments'),\n",
       "  Text(3, 0, 'Diversified'),\n",
       "  Text(4, 0, 'Fashion & Retail'),\n",
       "  Text(5, 0, 'Media & Entertainment'),\n",
       "  Text(6, 0, 'Telecom'),\n",
       "  Text(7, 0, 'Service'),\n",
       "  Text(8, 0, 'Manufacturing'),\n",
       "  Text(9, 0, 'Real Estate'),\n",
       "  Text(10, 0, 'Food & Beverage'),\n",
       "  Text(11, 0, 'Metals & Mining'),\n",
       "  Text(12, 0, 'Logistics'),\n",
       "  Text(13, 0, 'Energy'),\n",
       "  Text(14, 0, 'Healthcare'),\n",
       "  Text(15, 0, 'Construction & Engineering'),\n",
       "  Text(16, 0, 'Sports'),\n",
       "  Text(17, 0, 'Gambling & Casinos')])"
      ]
     },
     "execution_count": 30,
     "metadata": {},
     "output_type": "execute_result"
    },
    {
     "data": {
      "image/png": "[encoded data removed]",
      "text/plain": [
       "<Figure size 640x480 with 1 Axes>"
      ]
     },
     "metadata": {},
     "output_type": "display_data"
    }
   ],
   "source": [
    "sns.histplot(data=df, x=\"Industry\", hue=\"wealth_how_inherited\")\n",
    "plt.xticks(rotation=90)"
   ]
  },
  {
   "cell_type": "markdown",
   "metadata": {},
   "source": [
    "1. `Is there an association between these two categorical variables in this dataset? Explain why or why not.`\n",
    "\n",
    "From the graph we can see the number of wealth inheritance categorized by color. These are sorted based off industry. There seems to be an association between overall wealth and industry as finance and investments is very wealthy compared to automative having little wealth. We can also see associations between how the wealth was inherited and industry. Technology has a low portion of inheritance compared to others which makes sense as it is more recent. Fashion and Retail have a higher portion of inheritance which makes sense as it is a very broad industry that has been present for a long time.\n",
    "\n",
    "2. `Describe the nature of the relationship between these categorical variables in this dataset.`\n",
    "\n",
    "For the relationship between the categorical variables, it varies among industry and therefore there is no consistency.\n"
   ]
  },
  {
   "cell_type": "markdown",
   "metadata": {},
   "source": [
    "## 2. Second Research Question [2.25 pt]\n",
    "\n",
    "Select **a categorical variable and a numerical variable** that you are interested in and answer the following question\n",
    "\n",
    "`Is there an association between these two variables in this dataset? Explain why or why not.`\n",
    "\n",
    "*Note: Make sure that you give your plots appropriate titles and axis labels as well!*\n",
    "\n",
    "*Note: You may choose to only focus on a few types of observations for each of these categorical variables if you'd like.*\n",
    "\n"
   ]
  },
  {
   "cell_type": "markdown",
   "metadata": {},
   "source": []
  },
  {
   "cell_type": "code",
   "execution_count": 33,
   "metadata": {},
   "outputs": [
    {
     "data": {
      "text/plain": [
       "<Axes: xlabel='demographics_gender', ylabel='Age'>"
      ]
     },
     "execution_count": 33,
     "metadata": {},
     "output_type": "execute_result"
    },
    {
     "data": {
      "image/png": "[encoded data removed]",
      "text/plain": [
       "<Figure size 640x480 with 1 Axes>"
      ]
     },
     "metadata": {},
     "output_type": "display_data"
    }
   ],
   "source": [
    "#gender vs. age boxplot\n",
    "\n",
    "sns.boxplot(data=df,x=\"demographics_gender\",y=\"Age\")"
   ]
  },
  {
   "cell_type": "code",
   "execution_count": 38,
   "metadata": {},
   "outputs": [
    {
     "data": {
      "text/html": [
       "<div>\n",
       "<style scoped>\n",
       "    .dataframe tbody tr th:only-of-type {\n",
       "        vertical-align: middle;\n",
       "    }\n",
       "\n",
       "    .dataframe tbody tr th {\n",
       "        vertical-align: top;\n",
       "    }\n",
       "\n",
       "    .dataframe thead th {\n",
       "        text-align: right;\n",
       "    }\n",
       "</style>\n",
       "<table border=\"1\" class=\"dataframe\">\n",
       "  <thead>\n",
       "    <tr style=\"text-align: right;\">\n",
       "      <th></th>\n",
       "      <th>Age</th>\n",
       "    </tr>\n",
       "    <tr>\n",
       "      <th>demographics_gender</th>\n",
       "      <th></th>\n",
       "    </tr>\n",
       "  </thead>\n",
       "  <tbody>\n",
       "    <tr>\n",
       "      <th>female</th>\n",
       "      <td>67.093023</td>\n",
       "    </tr>\n",
       "    <tr>\n",
       "      <th>male</th>\n",
       "      <td>68.225479</td>\n",
       "    </tr>\n",
       "  </tbody>\n",
       "</table>\n",
       "</div>"
      ],
      "text/plain": [
       "                           Age\n",
       "demographics_gender           \n",
       "female               67.093023\n",
       "male                 68.225479"
      ]
     },
     "execution_count": 38,
     "metadata": {},
     "output_type": "execute_result"
    }
   ],
   "source": [
    "df[[\"demographics_gender\", \"Age\"]].groupby(\"demographics_gender\").mean()"
   ]
  },
  {
   "cell_type": "code",
   "execution_count": 39,
   "metadata": {},
   "outputs": [
    {
     "data": {
      "text/html": [
       "<div>\n",
       "<style scoped>\n",
       "    .dataframe tbody tr th:only-of-type {\n",
       "        vertical-align: middle;\n",
       "    }\n",
       "\n",
       "    .dataframe tbody tr th {\n",
       "        vertical-align: top;\n",
       "    }\n",
       "\n",
       "    .dataframe thead th {\n",
       "        text-align: right;\n",
       "    }\n",
       "</style>\n",
       "<table border=\"1\" class=\"dataframe\">\n",
       "  <thead>\n",
       "    <tr style=\"text-align: right;\">\n",
       "      <th></th>\n",
       "      <th>Age</th>\n",
       "    </tr>\n",
       "    <tr>\n",
       "      <th>demographics_gender</th>\n",
       "      <th></th>\n",
       "    </tr>\n",
       "  </thead>\n",
       "  <tbody>\n",
       "    <tr>\n",
       "      <th>female</th>\n",
       "      <td>67.0</td>\n",
       "    </tr>\n",
       "    <tr>\n",
       "      <th>male</th>\n",
       "      <td>68.0</td>\n",
       "    </tr>\n",
       "  </tbody>\n",
       "</table>\n",
       "</div>"
      ],
      "text/plain": [
       "                      Age\n",
       "demographics_gender      \n",
       "female               67.0\n",
       "male                 68.0"
      ]
     },
     "execution_count": 39,
     "metadata": {},
     "output_type": "execute_result"
    }
   ],
   "source": [
    "df[[\"demographics_gender\", \"Age\"]].groupby(\"demographics_gender\").median()"
   ]
  },
  {
   "cell_type": "markdown",
   "metadata": {},
   "source": [
    "There doesn't seem to be a strong correlation between age and gender. Both genders had around the same aged participants. This means that the gender of the participant wasn't a determinant of the age of the participant or the other way around."
   ]
  }
 ],
 "metadata": {
  "kernelspec": {
   "display_name": "Python 3 (ipykernel)",
   "language": "python",
   "name": "python3"
  },
  "language_info": {
   "codemirror_mode": {
    "name": "ipython",
    "version": 3
   },
   "file_extension": ".py",
   "mimetype": "text/x-python",
   "name": "python",
   "nbconvert_exporter": "python",
   "pygments_lexer": "ipython3",
   "version": "3.11.4"
  }
 },
 "nbformat": 4,
 "nbformat_minor": 2
}
