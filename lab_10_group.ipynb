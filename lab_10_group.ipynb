{
 "cells": [
  {
   "cell_type": "markdown",
   "metadata": {},
   "source": [
    "# STAT 207 Lab Assignment 10 - Group Part - [9 Points]\n",
    "\n",
    "\n",
    "\n",
    "## <u>Case Study</u>: Predicting Airbnb Superhost Status\n",
    "\n",
    "Suppose that you have a spare room in your house (in Seattle) and you are considering advertising this room to guests on Airbnb. Airbnb superhosts are considered to be experienced hosts who provide a shining example for other hosts, and extraordinary experiences for their guests. Once a host reaches Superhost status, a superhost badge will automatically appear on their listing and profile to help guests identify them. You would like to assess your chances of being named a superhost with your property.\n",
    "\n",
    "The following dataset is a sample (assume random) of available Airbnb listings in Seattle, WA. These listings were collected in January 2016, and filtered to just contain listings from the five most popular Seattlbe neighborhoods (for Airbnb listings) and just contain listings that are either in a house or apartment property.\n",
    "\n",
    "This dataset contains the following variables.\n",
    "\n",
    "**Listing Information**\n",
    "The dataset contains the following information about the Airbnb *listing*:\n",
    "* <u>price</u>: price of the listing (per night)(in US dollars)\n",
    "* <u>review_scores_rating</u>: the average rating of the listing [0,100] (100 is the best)\n",
    "* <u>number_of_reviews</u>: the number of reviews for the listing\n",
    "* <u>security_deposit</u>: the security deposit required for the listing (in US dollars)\n",
    "* <u>cleaning_fee</u>: the cleaning fee required for the listing (in US dollars)\n",
    "* <u>neighborhood</u>: the neighborhood of Seattle the listing is located in\n",
    "* <u>property_type</u>: is the listing in a 'House' or 'Apartment'\n",
    "* <u>room_type</u>: is the listing a 'Entire home/apt', 'Private room', or 'Shared room'\n",
    "* <u>accommodates</u>: how many guests will the listing accommodate\n",
    "* <u>bathrooms</u>:how many bathrooms does the listing have\n",
    "* <u>beds</u>: how many beds does the listing have\n",
    "\n",
    "**Host Information**\n",
    "The dataset also contains the following information about the *host* of the given Airbnb listing:\n",
    "* <u>host_is_superhost</u>: is the host a \"superhost\": t=True, f=False\n",
    "* <u>host_has_profile_pic</u>: does the host have a profile pic in their bio: t=True, f=False\n",
    "* <u>host_response_time</u>: how fast will the host respond to requests (on average)\n",
    "\n",
    "## Research Goals\n",
    "\n",
    "The primary research goal that we will pursue in this lab will be to build a predictive model that effectively predicts the `probability a Seattle Airbnb host is a **superhost**` for *new Seattle Airbnb listings/hosts* given some combination of the `remaining explanatory variables`.\n",
    "\n",
    "\n",
    "\n",
    "## Points\n",
    "\n",
    "<p>&nbsp;</p>\n",
    "<table style=\"border: none;border-collapse: collapse;width:102pt;\">\n",
    "    <tbody>\n",
    "        <tr>\n",
    "            <td style=\"color:black;font-size:15px;font-weight:700;font-style:normal;text-decoration:none;font-family:Calibri, sans-serif;text-align:general;vertical-align:bottom;border:.5pt solid black;height:14.25pt;width:51pt;\">Problem</td>\n",
    "            <td style=\"color:black;font-size:15px;font-weight:700;font-style:normal;text-decoration:none;font-family:Calibri, sans-serif;text-align:general;vertical-align:bottom;border:.5pt solid black;border-left:none;width:51pt;\">Points</td>\n",
    "        </tr>\n",
    "        <tr>\n",
    "            <td style=\"color:black;font-size:15px;font-weight:400;font-style:normal;text-decoration:none;font-family:Calibri, sans-serif;text-align:right;vertical-align:bottom;border:.5pt solid black;height:14.25pt;border-top:none;\">1.1</td>\n",
    "            <td style=\"color:black;font-size:15px;font-weight:400;font-style:normal;text-decoration:none;font-family:Calibri, sans-serif;text-align:right;vertical-align:bottom;border:.5pt solid black;border-top:none;border-left:none;\">0.25</td>\n",
    "        </tr>\n",
    "        <tr>\n",
    "            <td style=\"color:black;font-size:15px;font-weight:400;font-style:normal;text-decoration:none;font-family:Calibri, sans-serif;text-align:right;vertical-align:bottom;border:.5pt solid black;height:14.25pt;border-top:none;\">1.2</td>\n",
    "            <td style=\"color:black;font-size:15px;font-weight:400;font-style:normal;text-decoration:none;font-family:Calibri, sans-serif;text-align:right;vertical-align:bottom;border:.5pt solid black;border-top:none;border-left:none;\">0.75</td>\n",
    "        </tr>\n",
    "        <tr>\n",
    "            <td style=\"color:black;font-size:15px;font-weight:400;font-style:normal;text-decoration:none;font-family:Calibri, sans-serif;text-align:right;vertical-align:bottom;border:.5pt solid black;height:14.25pt;border-top:none;\">1.3</td>\n",
    "            <td style=\"color:black;font-size:15px;font-weight:400;font-style:normal;text-decoration:none;font-family:Calibri, sans-serif;text-align:right;vertical-align:bottom;border:.5pt solid black;border-top:none;border-left:none;\">0.5</td>\n",
    "        </tr>\n",
    "        <tr>\n",
    "            <td style=\"color:black;font-size:15px;font-weight:400;font-style:normal;text-decoration:none;font-family:Calibri, sans-serif;text-align:right;vertical-align:bottom;border:.5pt solid black;height:14.25pt;border-top:none;\">2.1</td>\n",
    "            <td style=\"color:black;font-size:15px;font-weight:400;font-style:normal;text-decoration:none;font-family:Calibri, sans-serif;text-align:right;vertical-align:bottom;border:.5pt solid black;border-top:none;border-left:none;\">1</td>\n",
    "        </tr>\n",
    "        <tr>\n",
    "            <td style=\"color:black;font-size:15px;font-weight:400;font-style:normal;text-decoration:none;font-family:Calibri, sans-serif;text-align:right;vertical-align:bottom;border:.5pt solid black;height:14.25pt;border-top:none;\">2.2</td>\n",
    "            <td style=\"color:black;font-size:15px;font-weight:400;font-style:normal;text-decoration:none;font-family:Calibri, sans-serif;text-align:right;vertical-align:bottom;border:.5pt solid black;border-top:none;border-left:none;\">0.75</td>\n",
    "        </tr>\n",
    "        <tr>\n",
    "            <td style=\"color:black;font-size:15px;font-weight:400;font-style:normal;text-decoration:none;font-family:Calibri, sans-serif;text-align:right;vertical-align:bottom;border:.5pt solid black;height:14.25pt;border-top:none;\">2.3</td>\n",
    "            <td style=\"color:black;font-size:15px;font-weight:400;font-style:normal;text-decoration:none;font-family:Calibri, sans-serif;text-align:right;vertical-align:bottom;border:.5pt solid black;border-top:none;border-left:none;\">0.25</td>\n",
    "        </tr>\n",
    "        <tr>\n",
    "            <td style=\"color:black;font-size:15px;font-weight:400;font-style:normal;text-decoration:none;font-family:Calibri, sans-serif;text-align:right;vertical-align:bottom;border:.5pt solid black;height:14.25pt;border-top:none;\">2.4</td>\n",
    "            <td style=\"color:black;font-size:15px;font-weight:400;font-style:normal;text-decoration:none;font-family:Calibri, sans-serif;text-align:right;vertical-align:bottom;border:.5pt solid black;border-top:none;border-left:none;\">1</td>\n",
    "        </tr>\n",
    "        <tr>\n",
    "            <td style=\"color:black;font-size:15px;font-weight:400;font-style:normal;text-decoration:none;font-family:Calibri, sans-serif;text-align:right;vertical-align:bottom;border:.5pt solid black;height:14.25pt;border-top:none;\">3</td>\n",
    "            <td style=\"color:black;font-size:15px;font-weight:400;font-style:normal;text-decoration:none;font-family:Calibri, sans-serif;text-align:right;vertical-align:bottom;border:.5pt solid black;border-top:none;border-left:none;\">3</td>\n",
    "        </tr>\n",
    "        <tr>\n",
    "            <td style=\"color:black;font-size:15px;font-weight:400;font-style:normal;text-decoration:none;font-family:Calibri, sans-serif;text-align:right;vertical-align:bottom;border:.5pt solid black;height:14.25pt;border-top:none;\">4</td>\n",
    "            <td style=\"color:black;font-size:15px;font-weight:400;font-style:normal;text-decoration:none;font-family:Calibri, sans-serif;text-align:right;vertical-align:bottom;border:.5pt solid black;border-top:none;border-left:none;\">1.5</td>\n",
    "        </tr>\n",
    "    </tbody>\n",
    "</table>"
   ]
  },
  {
   "cell_type": "code",
   "execution_count": 6,
   "metadata": {},
   "outputs": [],
   "source": [
    "import pandas as pd\n",
    "import numpy as np\n",
    "import seaborn as sns\n",
    "import matplotlib.pyplot as plt\n",
    "from sklearn.model_selection import train_test_split\n",
    "from sklearn.linear_model import Ridge\n",
    "from sklearn.linear_model import ElasticNet\n",
    "from sklearn.preprocessing import StandardScaler\n",
    "import statsmodels.formula.api as smf\n",
    "from sklearn.linear_model import LogisticRegression"
   ]
  },
  {
   "cell_type": "markdown",
   "metadata": {},
   "source": [
    "## 1. Basic Data Examination and Manipulation\n",
    "\n",
    "### 1.1. Basics\n",
    "1. Read this csv file into a dataframe.\n",
    "\n",
    "2. Display your dataframe.\n",
    "\n",
    "3. Show how many rows your dataframe has.\n",
    "\n"
   ]
  },
  {
   "cell_type": "code",
   "execution_count": 7,
   "metadata": {},
   "outputs": [
    {
     "data": {
      "text/html": [
       "<div>\n",
       "<style scoped>\n",
       "    .dataframe tbody tr th:only-of-type {\n",
       "        vertical-align: middle;\n",
       "    }\n",
       "\n",
       "    .dataframe tbody tr th {\n",
       "        vertical-align: top;\n",
       "    }\n",
       "\n",
       "    .dataframe thead th {\n",
       "        text-align: right;\n",
       "    }\n",
       "</style>\n",
       "<table border=\"1\" class=\"dataframe\">\n",
       "  <thead>\n",
       "    <tr style=\"text-align: right;\">\n",
       "      <th></th>\n",
       "      <th>price</th>\n",
       "      <th>review_scores_rating</th>\n",
       "      <th>number_of_reviews</th>\n",
       "      <th>security_deposit</th>\n",
       "      <th>cleaning_fee</th>\n",
       "      <th>neighborhood</th>\n",
       "      <th>property_type</th>\n",
       "      <th>room_type</th>\n",
       "      <th>accommodates</th>\n",
       "      <th>bathrooms</th>\n",
       "      <th>beds</th>\n",
       "      <th>host_response_time</th>\n",
       "      <th>host_response_rate</th>\n",
       "      <th>host_is_superhost</th>\n",
       "      <th>host_has_profile_pic</th>\n",
       "      <th>host_identity_verified</th>\n",
       "    </tr>\n",
       "  </thead>\n",
       "  <tbody>\n",
       "    <tr>\n",
       "      <th>0</th>\n",
       "      <td>300</td>\n",
       "      <td>100</td>\n",
       "      <td>24</td>\n",
       "      <td>500</td>\n",
       "      <td>95</td>\n",
       "      <td>Wallingford</td>\n",
       "      <td>House</td>\n",
       "      <td>Entire home/apt</td>\n",
       "      <td>5</td>\n",
       "      <td>1.5</td>\n",
       "      <td>3</td>\n",
       "      <td>within a few hours</td>\n",
       "      <td>1.00</td>\n",
       "      <td>t</td>\n",
       "      <td>t</td>\n",
       "      <td>t</td>\n",
       "    </tr>\n",
       "    <tr>\n",
       "      <th>1</th>\n",
       "      <td>149</td>\n",
       "      <td>96</td>\n",
       "      <td>11</td>\n",
       "      <td>300</td>\n",
       "      <td>105</td>\n",
       "      <td>Wallingford</td>\n",
       "      <td>Apartment</td>\n",
       "      <td>Entire home/apt</td>\n",
       "      <td>6</td>\n",
       "      <td>1.0</td>\n",
       "      <td>3</td>\n",
       "      <td>within an hour</td>\n",
       "      <td>1.00</td>\n",
       "      <td>f</td>\n",
       "      <td>t</td>\n",
       "      <td>t</td>\n",
       "    </tr>\n",
       "    <tr>\n",
       "      <th>2</th>\n",
       "      <td>95</td>\n",
       "      <td>95</td>\n",
       "      <td>79</td>\n",
       "      <td>150</td>\n",
       "      <td>40</td>\n",
       "      <td>Wallingford</td>\n",
       "      <td>Apartment</td>\n",
       "      <td>Entire home/apt</td>\n",
       "      <td>3</td>\n",
       "      <td>1.0</td>\n",
       "      <td>2</td>\n",
       "      <td>within an hour</td>\n",
       "      <td>1.00</td>\n",
       "      <td>f</td>\n",
       "      <td>t</td>\n",
       "      <td>t</td>\n",
       "    </tr>\n",
       "    <tr>\n",
       "      <th>3</th>\n",
       "      <td>105</td>\n",
       "      <td>100</td>\n",
       "      <td>13</td>\n",
       "      <td>500</td>\n",
       "      <td>50</td>\n",
       "      <td>Wallingford</td>\n",
       "      <td>House</td>\n",
       "      <td>Private room</td>\n",
       "      <td>2</td>\n",
       "      <td>2.0</td>\n",
       "      <td>1</td>\n",
       "      <td>within a few hours</td>\n",
       "      <td>1.00</td>\n",
       "      <td>t</td>\n",
       "      <td>t</td>\n",
       "      <td>t</td>\n",
       "    </tr>\n",
       "    <tr>\n",
       "      <th>4</th>\n",
       "      <td>140</td>\n",
       "      <td>99</td>\n",
       "      <td>30</td>\n",
       "      <td>250</td>\n",
       "      <td>65</td>\n",
       "      <td>Wallingford</td>\n",
       "      <td>House</td>\n",
       "      <td>Entire home/apt</td>\n",
       "      <td>2</td>\n",
       "      <td>1.0</td>\n",
       "      <td>1</td>\n",
       "      <td>within an hour</td>\n",
       "      <td>1.00</td>\n",
       "      <td>t</td>\n",
       "      <td>t</td>\n",
       "      <td>t</td>\n",
       "    </tr>\n",
       "    <tr>\n",
       "      <th>...</th>\n",
       "      <td>...</td>\n",
       "      <td>...</td>\n",
       "      <td>...</td>\n",
       "      <td>...</td>\n",
       "      <td>...</td>\n",
       "      <td>...</td>\n",
       "      <td>...</td>\n",
       "      <td>...</td>\n",
       "      <td>...</td>\n",
       "      <td>...</td>\n",
       "      <td>...</td>\n",
       "      <td>...</td>\n",
       "      <td>...</td>\n",
       "      <td>...</td>\n",
       "      <td>...</td>\n",
       "      <td>...</td>\n",
       "    </tr>\n",
       "    <tr>\n",
       "      <th>334</th>\n",
       "      <td>250</td>\n",
       "      <td>95</td>\n",
       "      <td>4</td>\n",
       "      <td>250</td>\n",
       "      <td>100</td>\n",
       "      <td>Fremont</td>\n",
       "      <td>House</td>\n",
       "      <td>Entire home/apt</td>\n",
       "      <td>16</td>\n",
       "      <td>3.5</td>\n",
       "      <td>10</td>\n",
       "      <td>within a few hours</td>\n",
       "      <td>0.97</td>\n",
       "      <td>f</td>\n",
       "      <td>t</td>\n",
       "      <td>t</td>\n",
       "    </tr>\n",
       "    <tr>\n",
       "      <th>335</th>\n",
       "      <td>125</td>\n",
       "      <td>95</td>\n",
       "      <td>12</td>\n",
       "      <td>150</td>\n",
       "      <td>45</td>\n",
       "      <td>Fremont</td>\n",
       "      <td>Apartment</td>\n",
       "      <td>Entire home/apt</td>\n",
       "      <td>2</td>\n",
       "      <td>1.0</td>\n",
       "      <td>1</td>\n",
       "      <td>within a few hours</td>\n",
       "      <td>1.00</td>\n",
       "      <td>t</td>\n",
       "      <td>t</td>\n",
       "      <td>t</td>\n",
       "    </tr>\n",
       "    <tr>\n",
       "      <th>336</th>\n",
       "      <td>100</td>\n",
       "      <td>98</td>\n",
       "      <td>10</td>\n",
       "      <td>200</td>\n",
       "      <td>89</td>\n",
       "      <td>Fremont</td>\n",
       "      <td>Apartment</td>\n",
       "      <td>Entire home/apt</td>\n",
       "      <td>6</td>\n",
       "      <td>1.0</td>\n",
       "      <td>2</td>\n",
       "      <td>within an hour</td>\n",
       "      <td>1.00</td>\n",
       "      <td>f</td>\n",
       "      <td>t</td>\n",
       "      <td>t</td>\n",
       "    </tr>\n",
       "    <tr>\n",
       "      <th>337</th>\n",
       "      <td>175</td>\n",
       "      <td>96</td>\n",
       "      <td>29</td>\n",
       "      <td>500</td>\n",
       "      <td>95</td>\n",
       "      <td>Fremont</td>\n",
       "      <td>House</td>\n",
       "      <td>Entire home/apt</td>\n",
       "      <td>6</td>\n",
       "      <td>2.0</td>\n",
       "      <td>3</td>\n",
       "      <td>within a few hours</td>\n",
       "      <td>1.00</td>\n",
       "      <td>f</td>\n",
       "      <td>t</td>\n",
       "      <td>t</td>\n",
       "    </tr>\n",
       "    <tr>\n",
       "      <th>338</th>\n",
       "      <td>154</td>\n",
       "      <td>92</td>\n",
       "      <td>5</td>\n",
       "      <td>150</td>\n",
       "      <td>85</td>\n",
       "      <td>Fremont</td>\n",
       "      <td>House</td>\n",
       "      <td>Entire home/apt</td>\n",
       "      <td>5</td>\n",
       "      <td>1.0</td>\n",
       "      <td>3</td>\n",
       "      <td>within an hour</td>\n",
       "      <td>1.00</td>\n",
       "      <td>f</td>\n",
       "      <td>t</td>\n",
       "      <td>t</td>\n",
       "    </tr>\n",
       "  </tbody>\n",
       "</table>\n",
       "<p>339 rows × 16 columns</p>\n",
       "</div>"
      ],
      "text/plain": [
       "     price  review_scores_rating  number_of_reviews  security_deposit  \\\n",
       "0      300                   100                 24               500   \n",
       "1      149                    96                 11               300   \n",
       "2       95                    95                 79               150   \n",
       "3      105                   100                 13               500   \n",
       "4      140                    99                 30               250   \n",
       "..     ...                   ...                ...               ...   \n",
       "334    250                    95                  4               250   \n",
       "335    125                    95                 12               150   \n",
       "336    100                    98                 10               200   \n",
       "337    175                    96                 29               500   \n",
       "338    154                    92                  5               150   \n",
       "\n",
       "     cleaning_fee neighborhood property_type        room_type  accommodates  \\\n",
       "0              95  Wallingford         House  Entire home/apt             5   \n",
       "1             105  Wallingford     Apartment  Entire home/apt             6   \n",
       "2              40  Wallingford     Apartment  Entire home/apt             3   \n",
       "3              50  Wallingford         House     Private room             2   \n",
       "4              65  Wallingford         House  Entire home/apt             2   \n",
       "..            ...          ...           ...              ...           ...   \n",
       "334           100      Fremont         House  Entire home/apt            16   \n",
       "335            45      Fremont     Apartment  Entire home/apt             2   \n",
       "336            89      Fremont     Apartment  Entire home/apt             6   \n",
       "337            95      Fremont         House  Entire home/apt             6   \n",
       "338            85      Fremont         House  Entire home/apt             5   \n",
       "\n",
       "     bathrooms  beds  host_response_time  host_response_rate  \\\n",
       "0          1.5     3  within a few hours                1.00   \n",
       "1          1.0     3      within an hour                1.00   \n",
       "2          1.0     2      within an hour                1.00   \n",
       "3          2.0     1  within a few hours                1.00   \n",
       "4          1.0     1      within an hour                1.00   \n",
       "..         ...   ...                 ...                 ...   \n",
       "334        3.5    10  within a few hours                0.97   \n",
       "335        1.0     1  within a few hours                1.00   \n",
       "336        1.0     2      within an hour                1.00   \n",
       "337        2.0     3  within a few hours                1.00   \n",
       "338        1.0     3      within an hour                1.00   \n",
       "\n",
       "    host_is_superhost host_has_profile_pic host_identity_verified  \n",
       "0                   t                    t                      t  \n",
       "1                   f                    t                      t  \n",
       "2                   f                    t                      t  \n",
       "3                   t                    t                      t  \n",
       "4                   t                    t                      t  \n",
       "..                ...                  ...                    ...  \n",
       "334                 f                    t                      t  \n",
       "335                 t                    t                      t  \n",
       "336                 f                    t                      t  \n",
       "337                 f                    t                      t  \n",
       "338                 f                    t                      t  \n",
       "\n",
       "[339 rows x 16 columns]"
      ]
     },
     "execution_count": 7,
     "metadata": {},
     "output_type": "execute_result"
    }
   ],
   "source": [
    "seattle_df = pd.read_csv('seattle_airbnb_listings_cleaned.csv')\n",
    "seattle_df"
   ]
  },
  {
   "cell_type": "code",
   "execution_count": 8,
   "metadata": {},
   "outputs": [
    {
     "name": "stdout",
     "output_type": "stream",
     "text": [
      "Rows: 339\n"
     ]
    }
   ],
   "source": [
    "print('Rows:',seattle_df.shape[0])"
   ]
  },
  {
   "cell_type": "markdown",
   "metadata": {},
   "source": [
    "### 1.2. 0/1 Response Variable\n",
    "\n",
    "Create a new 0/1 variable in your dataset in which `superhosts=1` and `nonsuperhosts=0`. "
   ]
  },
  {
   "cell_type": "code",
   "execution_count": 9,
   "metadata": {},
   "outputs": [
    {
     "data": {
      "text/html": [
       "<div>\n",
       "<style scoped>\n",
       "    .dataframe tbody tr th:only-of-type {\n",
       "        vertical-align: middle;\n",
       "    }\n",
       "\n",
       "    .dataframe tbody tr th {\n",
       "        vertical-align: top;\n",
       "    }\n",
       "\n",
       "    .dataframe thead th {\n",
       "        text-align: right;\n",
       "    }\n",
       "</style>\n",
       "<table border=\"1\" class=\"dataframe\">\n",
       "  <thead>\n",
       "    <tr style=\"text-align: right;\">\n",
       "      <th></th>\n",
       "      <th>price</th>\n",
       "      <th>review_scores_rating</th>\n",
       "      <th>number_of_reviews</th>\n",
       "      <th>security_deposit</th>\n",
       "      <th>cleaning_fee</th>\n",
       "      <th>neighborhood</th>\n",
       "      <th>property_type</th>\n",
       "      <th>room_type</th>\n",
       "      <th>accommodates</th>\n",
       "      <th>bathrooms</th>\n",
       "      <th>beds</th>\n",
       "      <th>host_response_time</th>\n",
       "      <th>host_response_rate</th>\n",
       "      <th>host_is_superhost</th>\n",
       "      <th>host_has_profile_pic</th>\n",
       "      <th>host_identity_verified</th>\n",
       "      <th>is_superhost</th>\n",
       "    </tr>\n",
       "  </thead>\n",
       "  <tbody>\n",
       "    <tr>\n",
       "      <th>0</th>\n",
       "      <td>300</td>\n",
       "      <td>100</td>\n",
       "      <td>24</td>\n",
       "      <td>500</td>\n",
       "      <td>95</td>\n",
       "      <td>Wallingford</td>\n",
       "      <td>House</td>\n",
       "      <td>Entire home/apt</td>\n",
       "      <td>5</td>\n",
       "      <td>1.5</td>\n",
       "      <td>3</td>\n",
       "      <td>within a few hours</td>\n",
       "      <td>1.00</td>\n",
       "      <td>t</td>\n",
       "      <td>t</td>\n",
       "      <td>t</td>\n",
       "      <td>1</td>\n",
       "    </tr>\n",
       "    <tr>\n",
       "      <th>1</th>\n",
       "      <td>149</td>\n",
       "      <td>96</td>\n",
       "      <td>11</td>\n",
       "      <td>300</td>\n",
       "      <td>105</td>\n",
       "      <td>Wallingford</td>\n",
       "      <td>Apartment</td>\n",
       "      <td>Entire home/apt</td>\n",
       "      <td>6</td>\n",
       "      <td>1.0</td>\n",
       "      <td>3</td>\n",
       "      <td>within an hour</td>\n",
       "      <td>1.00</td>\n",
       "      <td>f</td>\n",
       "      <td>t</td>\n",
       "      <td>t</td>\n",
       "      <td>0</td>\n",
       "    </tr>\n",
       "    <tr>\n",
       "      <th>2</th>\n",
       "      <td>95</td>\n",
       "      <td>95</td>\n",
       "      <td>79</td>\n",
       "      <td>150</td>\n",
       "      <td>40</td>\n",
       "      <td>Wallingford</td>\n",
       "      <td>Apartment</td>\n",
       "      <td>Entire home/apt</td>\n",
       "      <td>3</td>\n",
       "      <td>1.0</td>\n",
       "      <td>2</td>\n",
       "      <td>within an hour</td>\n",
       "      <td>1.00</td>\n",
       "      <td>f</td>\n",
       "      <td>t</td>\n",
       "      <td>t</td>\n",
       "      <td>0</td>\n",
       "    </tr>\n",
       "    <tr>\n",
       "      <th>3</th>\n",
       "      <td>105</td>\n",
       "      <td>100</td>\n",
       "      <td>13</td>\n",
       "      <td>500</td>\n",
       "      <td>50</td>\n",
       "      <td>Wallingford</td>\n",
       "      <td>House</td>\n",
       "      <td>Private room</td>\n",
       "      <td>2</td>\n",
       "      <td>2.0</td>\n",
       "      <td>1</td>\n",
       "      <td>within a few hours</td>\n",
       "      <td>1.00</td>\n",
       "      <td>t</td>\n",
       "      <td>t</td>\n",
       "      <td>t</td>\n",
       "      <td>1</td>\n",
       "    </tr>\n",
       "    <tr>\n",
       "      <th>4</th>\n",
       "      <td>140</td>\n",
       "      <td>99</td>\n",
       "      <td>30</td>\n",
       "      <td>250</td>\n",
       "      <td>65</td>\n",
       "      <td>Wallingford</td>\n",
       "      <td>House</td>\n",
       "      <td>Entire home/apt</td>\n",
       "      <td>2</td>\n",
       "      <td>1.0</td>\n",
       "      <td>1</td>\n",
       "      <td>within an hour</td>\n",
       "      <td>1.00</td>\n",
       "      <td>t</td>\n",
       "      <td>t</td>\n",
       "      <td>t</td>\n",
       "      <td>1</td>\n",
       "    </tr>\n",
       "    <tr>\n",
       "      <th>...</th>\n",
       "      <td>...</td>\n",
       "      <td>...</td>\n",
       "      <td>...</td>\n",
       "      <td>...</td>\n",
       "      <td>...</td>\n",
       "      <td>...</td>\n",
       "      <td>...</td>\n",
       "      <td>...</td>\n",
       "      <td>...</td>\n",
       "      <td>...</td>\n",
       "      <td>...</td>\n",
       "      <td>...</td>\n",
       "      <td>...</td>\n",
       "      <td>...</td>\n",
       "      <td>...</td>\n",
       "      <td>...</td>\n",
       "      <td>...</td>\n",
       "    </tr>\n",
       "    <tr>\n",
       "      <th>334</th>\n",
       "      <td>250</td>\n",
       "      <td>95</td>\n",
       "      <td>4</td>\n",
       "      <td>250</td>\n",
       "      <td>100</td>\n",
       "      <td>Fremont</td>\n",
       "      <td>House</td>\n",
       "      <td>Entire home/apt</td>\n",
       "      <td>16</td>\n",
       "      <td>3.5</td>\n",
       "      <td>10</td>\n",
       "      <td>within a few hours</td>\n",
       "      <td>0.97</td>\n",
       "      <td>f</td>\n",
       "      <td>t</td>\n",
       "      <td>t</td>\n",
       "      <td>0</td>\n",
       "    </tr>\n",
       "    <tr>\n",
       "      <th>335</th>\n",
       "      <td>125</td>\n",
       "      <td>95</td>\n",
       "      <td>12</td>\n",
       "      <td>150</td>\n",
       "      <td>45</td>\n",
       "      <td>Fremont</td>\n",
       "      <td>Apartment</td>\n",
       "      <td>Entire home/apt</td>\n",
       "      <td>2</td>\n",
       "      <td>1.0</td>\n",
       "      <td>1</td>\n",
       "      <td>within a few hours</td>\n",
       "      <td>1.00</td>\n",
       "      <td>t</td>\n",
       "      <td>t</td>\n",
       "      <td>t</td>\n",
       "      <td>1</td>\n",
       "    </tr>\n",
       "    <tr>\n",
       "      <th>336</th>\n",
       "      <td>100</td>\n",
       "      <td>98</td>\n",
       "      <td>10</td>\n",
       "      <td>200</td>\n",
       "      <td>89</td>\n",
       "      <td>Fremont</td>\n",
       "      <td>Apartment</td>\n",
       "      <td>Entire home/apt</td>\n",
       "      <td>6</td>\n",
       "      <td>1.0</td>\n",
       "      <td>2</td>\n",
       "      <td>within an hour</td>\n",
       "      <td>1.00</td>\n",
       "      <td>f</td>\n",
       "      <td>t</td>\n",
       "      <td>t</td>\n",
       "      <td>0</td>\n",
       "    </tr>\n",
       "    <tr>\n",
       "      <th>337</th>\n",
       "      <td>175</td>\n",
       "      <td>96</td>\n",
       "      <td>29</td>\n",
       "      <td>500</td>\n",
       "      <td>95</td>\n",
       "      <td>Fremont</td>\n",
       "      <td>House</td>\n",
       "      <td>Entire home/apt</td>\n",
       "      <td>6</td>\n",
       "      <td>2.0</td>\n",
       "      <td>3</td>\n",
       "      <td>within a few hours</td>\n",
       "      <td>1.00</td>\n",
       "      <td>f</td>\n",
       "      <td>t</td>\n",
       "      <td>t</td>\n",
       "      <td>0</td>\n",
       "    </tr>\n",
       "    <tr>\n",
       "      <th>338</th>\n",
       "      <td>154</td>\n",
       "      <td>92</td>\n",
       "      <td>5</td>\n",
       "      <td>150</td>\n",
       "      <td>85</td>\n",
       "      <td>Fremont</td>\n",
       "      <td>House</td>\n",
       "      <td>Entire home/apt</td>\n",
       "      <td>5</td>\n",
       "      <td>1.0</td>\n",
       "      <td>3</td>\n",
       "      <td>within an hour</td>\n",
       "      <td>1.00</td>\n",
       "      <td>f</td>\n",
       "      <td>t</td>\n",
       "      <td>t</td>\n",
       "      <td>0</td>\n",
       "    </tr>\n",
       "  </tbody>\n",
       "</table>\n",
       "<p>339 rows × 17 columns</p>\n",
       "</div>"
      ],
      "text/plain": [
       "     price  review_scores_rating  number_of_reviews  security_deposit  \\\n",
       "0      300                   100                 24               500   \n",
       "1      149                    96                 11               300   \n",
       "2       95                    95                 79               150   \n",
       "3      105                   100                 13               500   \n",
       "4      140                    99                 30               250   \n",
       "..     ...                   ...                ...               ...   \n",
       "334    250                    95                  4               250   \n",
       "335    125                    95                 12               150   \n",
       "336    100                    98                 10               200   \n",
       "337    175                    96                 29               500   \n",
       "338    154                    92                  5               150   \n",
       "\n",
       "     cleaning_fee neighborhood property_type        room_type  accommodates  \\\n",
       "0              95  Wallingford         House  Entire home/apt             5   \n",
       "1             105  Wallingford     Apartment  Entire home/apt             6   \n",
       "2              40  Wallingford     Apartment  Entire home/apt             3   \n",
       "3              50  Wallingford         House     Private room             2   \n",
       "4              65  Wallingford         House  Entire home/apt             2   \n",
       "..            ...          ...           ...              ...           ...   \n",
       "334           100      Fremont         House  Entire home/apt            16   \n",
       "335            45      Fremont     Apartment  Entire home/apt             2   \n",
       "336            89      Fremont     Apartment  Entire home/apt             6   \n",
       "337            95      Fremont         House  Entire home/apt             6   \n",
       "338            85      Fremont         House  Entire home/apt             5   \n",
       "\n",
       "     bathrooms  beds  host_response_time  host_response_rate  \\\n",
       "0          1.5     3  within a few hours                1.00   \n",
       "1          1.0     3      within an hour                1.00   \n",
       "2          1.0     2      within an hour                1.00   \n",
       "3          2.0     1  within a few hours                1.00   \n",
       "4          1.0     1      within an hour                1.00   \n",
       "..         ...   ...                 ...                 ...   \n",
       "334        3.5    10  within a few hours                0.97   \n",
       "335        1.0     1  within a few hours                1.00   \n",
       "336        1.0     2      within an hour                1.00   \n",
       "337        2.0     3  within a few hours                1.00   \n",
       "338        1.0     3      within an hour                1.00   \n",
       "\n",
       "    host_is_superhost host_has_profile_pic host_identity_verified  \\\n",
       "0                   t                    t                      t   \n",
       "1                   f                    t                      t   \n",
       "2                   f                    t                      t   \n",
       "3                   t                    t                      t   \n",
       "4                   t                    t                      t   \n",
       "..                ...                  ...                    ...   \n",
       "334                 f                    t                      t   \n",
       "335                 t                    t                      t   \n",
       "336                 f                    t                      t   \n",
       "337                 f                    t                      t   \n",
       "338                 f                    t                      t   \n",
       "\n",
       "     is_superhost  \n",
       "0               1  \n",
       "1               0  \n",
       "2               0  \n",
       "3               1  \n",
       "4               1  \n",
       "..            ...  \n",
       "334             0  \n",
       "335             1  \n",
       "336             0  \n",
       "337             0  \n",
       "338             0  \n",
       "\n",
       "[339 rows x 17 columns]"
      ]
     },
     "execution_count": 9,
     "metadata": {},
     "output_type": "execute_result"
    }
   ],
   "source": [
    "seattle_df['is_superhost'] = (seattle_df['host_is_superhost'] == 't').astype(int)\n",
    "seattle_df"
   ]
  },
  {
   "cell_type": "markdown",
   "metadata": {},
   "source": [
    "### 1.3. Train-Test-Split\n",
    "\n",
    "Create a training dataset and a test dataset from your dataframe using a random state of `101` and a test dataset size that is a random sample of about 20% of the observations from the original dataset."
   ]
  },
  {
   "cell_type": "code",
   "execution_count": 10,
   "metadata": {},
   "outputs": [],
   "source": [
    "seattle_test,seattle_train = train_test_split(seattle_df,test_size=0.2,random_state=101)"
   ]
  },
  {
   "cell_type": "markdown",
   "metadata": {},
   "source": [
    "## 2. Full Model and Test Log-Likelihood Function\n",
    "\n",
    "In the interest of time, let's only consider using 5 potential explanatory variables in our logistic regression model, which will predict the `probability that a host is a superhost`:\n",
    "\n",
    "* `review_scores_rating`\n",
    "* `number_of_reviews`\n",
    "* `neighborhood`\n",
    "* `room_type`\n",
    "* `property_type`\n",
    "\n",
    "### 2.1. Fit the Model\n",
    "\n",
    "Fit this \"full\" logistic regression model and show the summary output table. Use this summary output table to find the log-likelihood function value of this model and the training dataset."
   ]
  },
  {
   "cell_type": "code",
   "execution_count": 11,
   "metadata": {},
   "outputs": [
    {
     "data": {
      "text/html": [
       "<table class=\"simpletable\">\n",
       "<caption>OLS Regression Results</caption>\n",
       "<tr>\n",
       "  <th>Dep. Variable:</th>      <td>is_superhost</td>   <th>  R-squared:         </th> <td>   0.279</td>\n",
       "</tr>\n",
       "<tr>\n",
       "  <th>Model:</th>                   <td>OLS</td>       <th>  Adj. R-squared:    </th> <td>   0.167</td>\n",
       "</tr>\n",
       "<tr>\n",
       "  <th>Method:</th>             <td>Least Squares</td>  <th>  F-statistic:       </th> <td>   2.489</td>\n",
       "</tr>\n",
       "<tr>\n",
       "  <th>Date:</th>             <td>Tue, 31 Oct 2023</td> <th>  Prob (F-statistic):</th>  <td>0.0177</td> \n",
       "</tr>\n",
       "<tr>\n",
       "  <th>Time:</th>                 <td>23:30:13</td>     <th>  Log-Likelihood:    </th> <td> -35.172</td>\n",
       "</tr>\n",
       "<tr>\n",
       "  <th>No. Observations:</th>      <td>    68</td>      <th>  AIC:               </th> <td>   90.34</td>\n",
       "</tr>\n",
       "<tr>\n",
       "  <th>Df Residuals:</th>          <td>    58</td>      <th>  BIC:               </th> <td>   112.5</td>\n",
       "</tr>\n",
       "<tr>\n",
       "  <th>Df Model:</th>              <td>     9</td>      <th>                     </th>     <td> </td>   \n",
       "</tr>\n",
       "<tr>\n",
       "  <th>Covariance Type:</th>      <td>nonrobust</td>    <th>                     </th>     <td> </td>   \n",
       "</tr>\n",
       "</table>\n",
       "<table class=\"simpletable\">\n",
       "<tr>\n",
       "               <td></td>                  <th>coef</th>     <th>std err</th>      <th>t</th>      <th>P>|t|</th>  <th>[0.025</th>    <th>0.975]</th>  \n",
       "</tr>\n",
       "<tr>\n",
       "  <th>Intercept</th>                   <td>   -0.6137</td> <td>    0.472</td> <td>   -1.300</td> <td> 0.199</td> <td>   -1.559</td> <td>    0.331</td>\n",
       "</tr>\n",
       "<tr>\n",
       "  <th>neighborhood[T.Broadway]</th>    <td>   -0.3906</td> <td>    0.159</td> <td>   -2.453</td> <td> 0.017</td> <td>   -0.709</td> <td>   -0.072</td>\n",
       "</tr>\n",
       "<tr>\n",
       "  <th>neighborhood[T.Fremont]</th>     <td>   -0.5254</td> <td>    0.215</td> <td>   -2.442</td> <td> 0.018</td> <td>   -0.956</td> <td>   -0.095</td>\n",
       "</tr>\n",
       "<tr>\n",
       "  <th>neighborhood[T.Minor]</th>       <td>   -0.3281</td> <td>    0.221</td> <td>   -1.484</td> <td> 0.143</td> <td>   -0.771</td> <td>    0.114</td>\n",
       "</tr>\n",
       "<tr>\n",
       "  <th>neighborhood[T.Wallingford]</th> <td>   -0.1485</td> <td>    0.193</td> <td>   -0.770</td> <td> 0.444</td> <td>   -0.535</td> <td>    0.238</td>\n",
       "</tr>\n",
       "<tr>\n",
       "  <th>room_type[T.Private room]</th>   <td>   -0.1398</td> <td>    0.168</td> <td>   -0.832</td> <td> 0.409</td> <td>   -0.476</td> <td>    0.197</td>\n",
       "</tr>\n",
       "<tr>\n",
       "  <th>room_type[T.Shared room]</th>    <td>   -0.5289</td> <td>    0.276</td> <td>   -1.917</td> <td> 0.060</td> <td>   -1.081</td> <td>    0.024</td>\n",
       "</tr>\n",
       "<tr>\n",
       "  <th>property_type[T.House]</th>      <td>    0.0649</td> <td>    0.149</td> <td>    0.437</td> <td> 0.664</td> <td>   -0.232</td> <td>    0.362</td>\n",
       "</tr>\n",
       "<tr>\n",
       "  <th>review_scores_rating</th>        <td>    0.0126</td> <td>    0.005</td> <td>    2.532</td> <td> 0.014</td> <td>    0.003</td> <td>    0.023</td>\n",
       "</tr>\n",
       "<tr>\n",
       "  <th>number_of_reviews</th>           <td>    0.0023</td> <td>    0.001</td> <td>    1.580</td> <td> 0.120</td> <td>   -0.001</td> <td>    0.005</td>\n",
       "</tr>\n",
       "</table>\n",
       "<table class=\"simpletable\">\n",
       "<tr>\n",
       "  <th>Omnibus:</th>       <td> 9.145</td> <th>  Durbin-Watson:     </th> <td>   1.626</td>\n",
       "</tr>\n",
       "<tr>\n",
       "  <th>Prob(Omnibus):</th> <td> 0.010</td> <th>  Jarque-Bera (JB):  </th> <td>   3.159</td>\n",
       "</tr>\n",
       "<tr>\n",
       "  <th>Skew:</th>          <td> 0.139</td> <th>  Prob(JB):          </th> <td>   0.206</td>\n",
       "</tr>\n",
       "<tr>\n",
       "  <th>Kurtosis:</th>      <td> 1.981</td> <th>  Cond. No.          </th> <td>    898.</td>\n",
       "</tr>\n",
       "</table><br/><br/>Notes:<br/>[1] Standard Errors assume that the covariance matrix of the errors is correctly specified."
      ],
      "text/latex": [
       "\\begin{center}\n",
       "\\begin{tabular}{lclc}\n",
       "\\toprule\n",
       "\\textbf{Dep. Variable:}              &  is\\_superhost   & \\textbf{  R-squared:         } &     0.279   \\\\\n",
       "\\textbf{Model:}                      &       OLS        & \\textbf{  Adj. R-squared:    } &     0.167   \\\\\n",
       "\\textbf{Method:}                     &  Least Squares   & \\textbf{  F-statistic:       } &     2.489   \\\\\n",
       "\\textbf{Date:}                       & Tue, 31 Oct 2023 & \\textbf{  Prob (F-statistic):} &   0.0177    \\\\\n",
       "\\textbf{Time:}                       &     23:30:13     & \\textbf{  Log-Likelihood:    } &   -35.172   \\\\\n",
       "\\textbf{No. Observations:}           &          68      & \\textbf{  AIC:               } &     90.34   \\\\\n",
       "\\textbf{Df Residuals:}               &          58      & \\textbf{  BIC:               } &     112.5   \\\\\n",
       "\\textbf{Df Model:}                   &           9      & \\textbf{                     } &             \\\\\n",
       "\\textbf{Covariance Type:}            &    nonrobust     & \\textbf{                     } &             \\\\\n",
       "\\bottomrule\n",
       "\\end{tabular}\n",
       "\\begin{tabular}{lcccccc}\n",
       "                                     & \\textbf{coef} & \\textbf{std err} & \\textbf{t} & \\textbf{P$> |$t$|$} & \\textbf{[0.025} & \\textbf{0.975]}  \\\\\n",
       "\\midrule\n",
       "\\textbf{Intercept}                   &      -0.6137  &        0.472     &    -1.300  &         0.199        &       -1.559    &        0.331     \\\\\n",
       "\\textbf{neighborhood[T.Broadway]}    &      -0.3906  &        0.159     &    -2.453  &         0.017        &       -0.709    &       -0.072     \\\\\n",
       "\\textbf{neighborhood[T.Fremont]}     &      -0.5254  &        0.215     &    -2.442  &         0.018        &       -0.956    &       -0.095     \\\\\n",
       "\\textbf{neighborhood[T.Minor]}       &      -0.3281  &        0.221     &    -1.484  &         0.143        &       -0.771    &        0.114     \\\\\n",
       "\\textbf{neighborhood[T.Wallingford]} &      -0.1485  &        0.193     &    -0.770  &         0.444        &       -0.535    &        0.238     \\\\\n",
       "\\textbf{room\\_type[T.Private room]}  &      -0.1398  &        0.168     &    -0.832  &         0.409        &       -0.476    &        0.197     \\\\\n",
       "\\textbf{room\\_type[T.Shared room]}   &      -0.5289  &        0.276     &    -1.917  &         0.060        &       -1.081    &        0.024     \\\\\n",
       "\\textbf{property\\_type[T.House]}     &       0.0649  &        0.149     &     0.437  &         0.664        &       -0.232    &        0.362     \\\\\n",
       "\\textbf{review\\_scores\\_rating}      &       0.0126  &        0.005     &     2.532  &         0.014        &        0.003    &        0.023     \\\\\n",
       "\\textbf{number\\_of\\_reviews}         &       0.0023  &        0.001     &     1.580  &         0.120        &       -0.001    &        0.005     \\\\\n",
       "\\bottomrule\n",
       "\\end{tabular}\n",
       "\\begin{tabular}{lclc}\n",
       "\\textbf{Omnibus:}       &  9.145 & \\textbf{  Durbin-Watson:     } &    1.626  \\\\\n",
       "\\textbf{Prob(Omnibus):} &  0.010 & \\textbf{  Jarque-Bera (JB):  } &    3.159  \\\\\n",
       "\\textbf{Skew:}          &  0.139 & \\textbf{  Prob(JB):          } &    0.206  \\\\\n",
       "\\textbf{Kurtosis:}      &  1.981 & \\textbf{  Cond. No.          } &     898.  \\\\\n",
       "\\bottomrule\n",
       "\\end{tabular}\n",
       "%\\caption{OLS Regression Results}\n",
       "\\end{center}\n",
       "\n",
       "Notes: \\newline\n",
       " [1] Standard Errors assume that the covariance matrix of the errors is correctly specified."
      ],
      "text/plain": [
       "<class 'statsmodels.iolib.summary.Summary'>\n",
       "\"\"\"\n",
       "                            OLS Regression Results                            \n",
       "==============================================================================\n",
       "Dep. Variable:           is_superhost   R-squared:                       0.279\n",
       "Model:                            OLS   Adj. R-squared:                  0.167\n",
       "Method:                 Least Squares   F-statistic:                     2.489\n",
       "Date:                Tue, 31 Oct 2023   Prob (F-statistic):             0.0177\n",
       "Time:                        23:30:13   Log-Likelihood:                -35.172\n",
       "No. Observations:                  68   AIC:                             90.34\n",
       "Df Residuals:                      58   BIC:                             112.5\n",
       "Df Model:                           9                                         \n",
       "Covariance Type:            nonrobust                                         \n",
       "===============================================================================================\n",
       "                                  coef    std err          t      P>|t|      [0.025      0.975]\n",
       "-----------------------------------------------------------------------------------------------\n",
       "Intercept                      -0.6137      0.472     -1.300      0.199      -1.559       0.331\n",
       "neighborhood[T.Broadway]       -0.3906      0.159     -2.453      0.017      -0.709      -0.072\n",
       "neighborhood[T.Fremont]        -0.5254      0.215     -2.442      0.018      -0.956      -0.095\n",
       "neighborhood[T.Minor]          -0.3281      0.221     -1.484      0.143      -0.771       0.114\n",
       "neighborhood[T.Wallingford]    -0.1485      0.193     -0.770      0.444      -0.535       0.238\n",
       "room_type[T.Private room]      -0.1398      0.168     -0.832      0.409      -0.476       0.197\n",
       "room_type[T.Shared room]       -0.5289      0.276     -1.917      0.060      -1.081       0.024\n",
       "property_type[T.House]          0.0649      0.149      0.437      0.664      -0.232       0.362\n",
       "review_scores_rating            0.0126      0.005      2.532      0.014       0.003       0.023\n",
       "number_of_reviews               0.0023      0.001      1.580      0.120      -0.001       0.005\n",
       "==============================================================================\n",
       "Omnibus:                        9.145   Durbin-Watson:                   1.626\n",
       "Prob(Omnibus):                  0.010   Jarque-Bera (JB):                3.159\n",
       "Skew:                           0.139   Prob(JB):                        0.206\n",
       "Kurtosis:                       1.981   Cond. No.                         898.\n",
       "==============================================================================\n",
       "\n",
       "Notes:\n",
       "[1] Standard Errors assume that the covariance matrix of the errors is correctly specified.\n",
       "\"\"\""
      ]
     },
     "execution_count": 11,
     "metadata": {},
     "output_type": "execute_result"
    }
   ],
   "source": [
    "full_model = smf.ols(data=seattle_train,formula='is_superhost~review_scores_rating+number_of_reviews+neighborhood+room_type+property_type').fit()\n",
    "full_model.summary()"
   ]
  },
  {
   "cell_type": "markdown",
   "metadata": {},
   "source": [
    "Log-Likelihood:\t-35.172"
   ]
  },
  {
   "cell_type": "markdown",
   "metadata": {},
   "source": [
    "### 2.2. Training Data Predictive Probabilities\n",
    "\n",
    "Calculate the predictive probabilities for all observations in the **training** dataset with model. **Call the pandas series that contains each of these predictive probabilities `phat_train`**.\n",
    "\n",
    "*Note: In addition to using the **.predict()** function to predict the **predictive probability** of a single observation with a logistic regression model, we can use **.predict(YOUR_DATAFRAME)** to predict the predictive probabilities for all observations in a given dataframe with a logistic regression model.*"
   ]
  },
  {
   "cell_type": "code",
   "execution_count": 12,
   "metadata": {},
   "outputs": [
    {
     "data": {
      "text/plain": [
       "172    0.063449\n",
       "38     0.570393\n",
       "242    0.151654\n",
       "64     0.591473\n",
       "181    0.424916\n",
       "         ...   \n",
       "157    0.780811\n",
       "247    0.405172\n",
       "70     0.277378\n",
       "104    0.391359\n",
       "312    0.084234\n",
       "Length: 68, dtype: float64"
      ]
     },
     "execution_count": 12,
     "metadata": {},
     "output_type": "execute_result"
    }
   ],
   "source": [
    "phat_train = full_model.predict(seattle_train)\n",
    "phat_train"
   ]
  },
  {
   "cell_type": "markdown",
   "metadata": {},
   "source": [
    "### 2.3. Training Log-Likelihood Function Value\n",
    "\n",
    "Assuming that your training dataframe was called `df_train`, the code below should calculate the the log-likelihood function value for your training dataset and this model. (If not, modify the code below to contain the actual name of your training dataframe).\n",
    "\n",
    "This **log_loss()** should take take the following values:\n",
    "* the actual 0/1 response variable values\n",
    "* the predictive probabilities of a given model\n",
    "\n",
    "Verify that this output here is the same as what you got in 2.1."
   ]
  },
  {
   "cell_type": "code",
   "execution_count": 22,
   "metadata": {},
   "outputs": [
    {
     "name": "stdout",
     "output_type": "stream",
     "text": [
      "-35.17220687267453\n"
     ]
    }
   ],
   "source": [
    "from sklearn.metrics import log_loss\n",
    "\n",
    "-log_loss(seattle_train['host_is_superhost'], phat_train)*len(seattle_train['host_is_superhost'])"
   ]
  },
  {
   "cell_type": "markdown",
   "metadata": {},
   "source": []
  },
  {
   "cell_type": "markdown",
   "metadata": {},
   "source": [
    "### 2.4. Test Log-Likelihood Function Value\n",
    "\n",
    "Use the code in 2.2 and 2.3 to now calculate the log-likelihood function value of the **test dataset** and this model."
   ]
  },
  {
   "cell_type": "code",
   "execution_count": 14,
   "metadata": {},
   "outputs": [
    {
     "data": {
      "text/plain": [
       "154.46748342826666"
      ]
     },
     "execution_count": 14,
     "metadata": {},
     "output_type": "execute_result"
    }
   ],
   "source": [
    "phat_test = full_model.predict(seattle_test)\n",
    "\n",
    "log_loss(seattle_test['host_is_superhost'], phat_test)*len(seattle_test['host_is_superhost'])"
   ]
  },
  {
   "cell_type": "code",
   "execution_count": null,
   "metadata": {},
   "outputs": [],
   "source": []
  },
  {
   "cell_type": "markdown",
   "metadata": {},
   "source": [
    "## 3. Backwards Elimination Algorithm\n",
    "\n",
    "Ideally, we'd like to train (with our training dataset) and select the logistic regression model that will yield the HIGHEST **test log-likelihood function (LLF) value** (in our case it will be the LLF that is the least negative). Let's use a backwards elimination algorithm to try to help us find this model with the highest test LLF value.\n",
    "\n",
    "*Note: Remember that the backwards elimination algorithm is just an algorithm \"template\". You can use this algorithm template to evaluate other types of models (like logistic regression) in attempt to find the model that has the highest metric value (like the highest test LLF value).*"
   ]
  },
  {
   "cell_type": "code",
   "execution_count": 29,
   "metadata": {},
   "outputs": [
    {
     "name": "stdout",
     "output_type": "stream",
     "text": [
      "Optimization terminated successfully.\n",
      "         Current function value: 0.429991\n",
      "         Iterations 31\n"
     ]
    },
    {
     "data": {
      "text/plain": [
       "-182.38991426323844"
      ]
     },
     "execution_count": 29,
     "metadata": {},
     "output_type": "execute_result"
    }
   ],
   "source": [
    "current = smf.logit(formula='is_superhost~review_scores_rating+number_of_reviews+neighborhood+room_type+property_type', data=seattle_train).fit()\n",
    "current_test = current.predict(seattle_test)\n",
    "\n",
    "-log_loss(seattle_test['is_superhost'],current_test)*len(seattle_test['is_superhost'])"
   ]
  },
  {
   "cell_type": "code",
   "execution_count": 16,
   "metadata": {},
   "outputs": [
    {
     "name": "stdout",
     "output_type": "stream",
     "text": [
      "Warning: Maximum number of iterations has been exceeded.\n",
      "         Current function value: 0.537145\n",
      "         Iterations: 35\n"
     ]
    },
    {
     "name": "stderr",
     "output_type": "stream",
     "text": [
      "/Users/sabarishmogallapalli/miniconda3/lib/python3.11/site-packages/statsmodels/base/model.py:607: ConvergenceWarning: Maximum Likelihood optimization failed to converge. Check mle_retvals\n",
      "  warnings.warn(\"Maximum Likelihood optimization failed to \"\n"
     ]
    },
    {
     "data": {
      "text/plain": [
       "-183.89997164227808"
      ]
     },
     "execution_count": 16,
     "metadata": {},
     "output_type": "execute_result"
    }
   ],
   "source": [
    "#remove review-scores-rating\n",
    "remove_scores_rating = ('is_superhost~number_of_reviews+neighborhood+room_type+property_type')\n",
    "remove_scores_mod = smf.logit(formula=remove_scores_rating, data=seattle_train).fit()\n",
    "score_test = remove_scores_mod.predict(seattle_test)\n",
    "\n",
    "-log_loss(seattle_test['is_superhost'],score_test)*len(seattle_test['is_superhost'])"
   ]
  },
  {
   "cell_type": "code",
   "execution_count": 19,
   "metadata": {},
   "outputs": [
    {
     "name": "stdout",
     "output_type": "stream",
     "text": [
      "Warning: Maximum number of iterations has been exceeded.\n",
      "         Current function value: 0.473117\n",
      "         Iterations: 35\n"
     ]
    },
    {
     "name": "stderr",
     "output_type": "stream",
     "text": [
      "/Users/sabarishmogallapalli/miniconda3/lib/python3.11/site-packages/statsmodels/base/model.py:607: ConvergenceWarning: Maximum Likelihood optimization failed to converge. Check mle_retvals\n",
      "  warnings.warn(\"Maximum Likelihood optimization failed to \"\n"
     ]
    },
    {
     "data": {
      "text/plain": [
       "-181.8382384022453"
      ]
     },
     "execution_count": 19,
     "metadata": {},
     "output_type": "execute_result"
    }
   ],
   "source": [
    "#remove number_of_reviews\n",
    "\n",
    "remove_number_reviews = ('is_superhost~review_scores_rating+neighborhood+room_type+property_type')\n",
    "remove_number_reviews_mod = smf.logit(formula=remove_number_reviews,data=seattle_train).fit()\n",
    "reviews_test = remove_number_reviews_mod.predict(seattle_test)\n",
    "\n",
    "-log_loss(seattle_test['is_superhost'],reviews_test)*len(seattle_test['is_superhost'])"
   ]
  },
  {
   "cell_type": "code",
   "execution_count": 24,
   "metadata": {},
   "outputs": [
    {
     "name": "stdout",
     "output_type": "stream",
     "text": [
      "Warning: Maximum number of iterations has been exceeded.\n",
      "         Current function value: 0.464800\n",
      "         Iterations: 35\n"
     ]
    },
    {
     "name": "stderr",
     "output_type": "stream",
     "text": [
      "/Users/sabarishmogallapalli/miniconda3/lib/python3.11/site-packages/statsmodels/base/model.py:607: ConvergenceWarning: Maximum Likelihood optimization failed to converge. Check mle_retvals\n",
      "  warnings.warn(\"Maximum Likelihood optimization failed to \"\n"
     ]
    },
    {
     "data": {
      "text/plain": [
       "-170.78414262930775"
      ]
     },
     "execution_count": 24,
     "metadata": {},
     "output_type": "execute_result"
    }
   ],
   "source": [
    "#remove neighborhood\n",
    "\n",
    "remove_neighborhood = ('is_superhost~review_scores_rating+number_of_reviews+room_type+property_type')\n",
    "remove_neighborhood_mod = smf.logit(formula=remove_neighborhood,data=seattle_train).fit()\n",
    "neighborhood_test = remove_neighborhood_mod.predict(seattle_test)\n",
    "\n",
    "-log_loss(seattle_test['is_superhost'],neighborhood_test)*len(seattle_test['is_superhost'])"
   ]
  },
  {
   "cell_type": "code",
   "execution_count": 26,
   "metadata": {},
   "outputs": [
    {
     "name": "stdout",
     "output_type": "stream",
     "text": [
      "Optimization terminated successfully.\n",
      "         Current function value: 0.465017\n",
      "         Iterations 8\n"
     ]
    },
    {
     "data": {
      "text/plain": [
       "-143.5904561192218"
      ]
     },
     "execution_count": 26,
     "metadata": {},
     "output_type": "execute_result"
    }
   ],
   "source": [
    "#remove roomtype\n",
    "remove_roomtype = ('is_superhost~review_scores_rating+number_of_reviews+neighborhood+property_type')\n",
    "remove_roomtype_mod = smf.logit(formula=remove_roomtype,data=seattle_train).fit()\n",
    "roomtype_test = remove_roomtype_mod.predict(seattle_test)\n",
    "\n",
    "-log_loss(seattle_test['is_superhost'],roomtype_test)*len(seattle_test['is_superhost'])"
   ]
  },
  {
   "cell_type": "code",
   "execution_count": 27,
   "metadata": {},
   "outputs": [
    {
     "name": "stdout",
     "output_type": "stream",
     "text": [
      "Warning: Maximum number of iterations has been exceeded.\n",
      "         Current function value: 0.431900\n",
      "         Iterations: 35\n"
     ]
    },
    {
     "name": "stderr",
     "output_type": "stream",
     "text": [
      "/Users/sabarishmogallapalli/miniconda3/lib/python3.11/site-packages/statsmodels/base/model.py:607: ConvergenceWarning: Maximum Likelihood optimization failed to converge. Check mle_retvals\n",
      "  warnings.warn(\"Maximum Likelihood optimization failed to \"\n"
     ]
    },
    {
     "data": {
      "text/plain": [
       "-172.45816167881264"
      ]
     },
     "execution_count": 27,
     "metadata": {},
     "output_type": "execute_result"
    }
   ],
   "source": [
    "#remove propertytype\n",
    "remove_propertytype = ('is_superhost~review_scores_rating+number_of_reviews+neighborhood+room_type')\n",
    "remove_propertytype_mod = smf.logit(formula=remove_propertytype,data=seattle_train).fit()\n",
    "propertytype_test = remove_propertytype_mod.predict(seattle_test)\n",
    "\n",
    "-log_loss(seattle_test['is_superhost'],propertytype_test)*len(seattle_test['is_superhost'])"
   ]
  },
  {
   "cell_type": "code",
   "execution_count": 30,
   "metadata": {},
   "outputs": [
    {
     "name": "stdout",
     "output_type": "stream",
     "text": [
      "Optimization terminated successfully.\n",
      "         Current function value: 0.465017\n",
      "         Iterations 8\n"
     ]
    },
    {
     "data": {
      "text/plain": [
       "-143.5904561192218"
      ]
     },
     "execution_count": 30,
     "metadata": {},
     "output_type": "execute_result"
    }
   ],
   "source": [
    "#remove roomtype - CURRENT 2\n",
    "current_two = ('is_superhost~review_scores_rating+number_of_reviews+neighborhood+property_type')\n",
    "current_two_mod = smf.logit(formula=current_two,data=seattle_train).fit()\n",
    "current_two_test = current_two_mod.predict(seattle_test)\n",
    "\n",
    "-log_loss(seattle_test['is_superhost'],current_two_test)*len(seattle_test['is_superhost'])"
   ]
  },
  {
   "cell_type": "code",
   "execution_count": 31,
   "metadata": {},
   "outputs": [
    {
     "name": "stdout",
     "output_type": "stream",
     "text": [
      "Optimization terminated successfully.\n",
      "         Current function value: 0.565952\n",
      "         Iterations 6\n"
     ]
    },
    {
     "data": {
      "text/plain": [
       "-164.40323041099353"
      ]
     },
     "execution_count": 31,
     "metadata": {},
     "output_type": "execute_result"
    }
   ],
   "source": [
    "#remove scores\n",
    "remove_scores = ('is_superhost~number_of_reviews+neighborhood+property_type')\n",
    "remove_scores_mod = smf.logit(formula=remove_scores,data=seattle_train).fit()\n",
    "remove_scores_test = remove_scores_mod.predict(seattle_test)\n",
    "\n",
    "-log_loss(seattle_test['is_superhost'],remove_scores_test)*len(seattle_test['is_superhost'])"
   ]
  },
  {
   "cell_type": "code",
   "execution_count": 33,
   "metadata": {},
   "outputs": [
    {
     "name": "stdout",
     "output_type": "stream",
     "text": [
      "Optimization terminated successfully.\n",
      "         Current function value: 0.512114\n",
      "         Iterations 8\n"
     ]
    },
    {
     "data": {
      "text/plain": [
       "-155.8096905201557"
      ]
     },
     "execution_count": 33,
     "metadata": {},
     "output_type": "execute_result"
    }
   ],
   "source": [
    "#remove reviews\n",
    "remove_reviews = ('is_superhost~review_scores_rating+neighborhood+property_type')\n",
    "remove_reviews_mod = smf.logit(formula=remove_reviews,data=seattle_train).fit()\n",
    "remove_reviews_test = remove_reviews_mod.predict(seattle_test)\n",
    "\n",
    "-log_loss(seattle_test['is_superhost'],remove_reviews_test)*len(seattle_test['is_superhost'])"
   ]
  },
  {
   "cell_type": "code",
   "execution_count": 32,
   "metadata": {},
   "outputs": [
    {
     "name": "stdout",
     "output_type": "stream",
     "text": [
      "Optimization terminated successfully.\n",
      "         Current function value: 0.502913\n",
      "         Iterations 8\n"
     ]
    },
    {
     "data": {
      "text/plain": [
       "-142.43272473949014"
      ]
     },
     "execution_count": 32,
     "metadata": {},
     "output_type": "execute_result"
    }
   ],
   "source": [
    "#remove neighborhood\n",
    "remove_neighborhood = ('is_superhost~number_of_reviews+review_scores_rating+property_type')\n",
    "remove_neighborhood_mod = smf.logit(formula=remove_neighborhood,data=seattle_train).fit()\n",
    "remove_neighborhood_test = remove_neighborhood_mod.predict(seattle_test)\n",
    "\n",
    "-log_loss(seattle_test['is_superhost'],remove_neighborhood_test)*len(seattle_test['is_superhost'])"
   ]
  },
  {
   "cell_type": "code",
   "execution_count": 34,
   "metadata": {},
   "outputs": [
    {
     "name": "stdout",
     "output_type": "stream",
     "text": [
      "Optimization terminated successfully.\n",
      "         Current function value: 0.465225\n",
      "         Iterations 8\n"
     ]
    },
    {
     "data": {
      "text/plain": [
       "-143.9244874668851"
      ]
     },
     "execution_count": 34,
     "metadata": {},
     "output_type": "execute_result"
    }
   ],
   "source": [
    "#remove propertytype\n",
    "remove_propertytype = ('is_superhost~number_of_reviews+review_scores_rating+neighborhood')\n",
    "remove_propertytype_mod = smf.logit(formula=remove_propertytype,data=seattle_train).fit()\n",
    "remove_propertytype_test = remove_propertytype_mod.predict(seattle_test)\n",
    "\n",
    "-log_loss(seattle_test['is_superhost'],remove_propertytype_test)*len(seattle_test['is_superhost'])"
   ]
  },
  {
   "cell_type": "code",
   "execution_count": 35,
   "metadata": {},
   "outputs": [
    {
     "name": "stdout",
     "output_type": "stream",
     "text": [
      "Optimization terminated successfully.\n",
      "         Current function value: 0.502913\n",
      "         Iterations 8\n"
     ]
    },
    {
     "data": {
      "text/plain": [
       "-142.43272473949014"
      ]
     },
     "execution_count": 35,
     "metadata": {},
     "output_type": "execute_result"
    }
   ],
   "source": [
    "#remove neighborhood - CURRENT 3\n",
    "current_three = ('is_superhost~number_of_reviews+review_scores_rating+property_type')\n",
    "current_three_mod = smf.logit(formula=current_three,data=seattle_train).fit()\n",
    "current_three_test = current_three_mod.predict(seattle_test)\n",
    "\n",
    "-log_loss(seattle_test['is_superhost'],current_three_test)*len(seattle_test['is_superhost'])"
   ]
  },
  {
   "cell_type": "code",
   "execution_count": 36,
   "metadata": {},
   "outputs": [
    {
     "name": "stdout",
     "output_type": "stream",
     "text": [
      "Optimization terminated successfully.\n",
      "         Current function value: 0.557398\n",
      "         Iterations 8\n"
     ]
    },
    {
     "data": {
      "text/plain": [
       "-147.76606918759705"
      ]
     },
     "execution_count": 36,
     "metadata": {},
     "output_type": "execute_result"
    }
   ],
   "source": [
    "#remove reviews\n",
    "remove_reviews = ('is_superhost~review_scores_rating+property_type')\n",
    "remove_reviews_mod = smf.logit(formula=remove_reviews,data=seattle_train).fit()\n",
    "remove_reviews_test = remove_reviews_mod.predict(seattle_test)\n",
    "\n",
    "-log_loss(seattle_test['is_superhost'],remove_reviews_test)*len(seattle_test['is_superhost'])"
   ]
  },
  {
   "cell_type": "code",
   "execution_count": 37,
   "metadata": {},
   "outputs": [
    {
     "name": "stdout",
     "output_type": "stream",
     "text": [
      "Optimization terminated successfully.\n",
      "         Current function value: 0.622842\n",
      "         Iterations 5\n"
     ]
    },
    {
     "data": {
      "text/plain": [
       "-161.71033792562434"
      ]
     },
     "execution_count": 37,
     "metadata": {},
     "output_type": "execute_result"
    }
   ],
   "source": [
    "#remove scores\n",
    "remove_scores = ('is_superhost~number_of_reviews+property_type')\n",
    "remove_scores_mod = smf.logit(formula=remove_scores,data=seattle_train).fit()\n",
    "remove_scores_test = remove_scores_mod.predict(seattle_test)\n",
    "\n",
    "-log_loss(seattle_test['is_superhost'],remove_scores_test)*len(seattle_test['is_superhost'])"
   ]
  },
  {
   "cell_type": "code",
   "execution_count": 38,
   "metadata": {},
   "outputs": [
    {
     "name": "stdout",
     "output_type": "stream",
     "text": [
      "Optimization terminated successfully.\n",
      "         Current function value: 0.508411\n",
      "         Iterations 8\n"
     ]
    },
    {
     "data": {
      "text/plain": [
       "-141.5269437257977"
      ]
     },
     "execution_count": 38,
     "metadata": {},
     "output_type": "execute_result"
    }
   ],
   "source": [
    "#remove propertytype\n",
    "remove_propertytype = ('is_superhost~number_of_reviews+review_scores_rating')\n",
    "remove_propertytype_mod = smf.logit(formula=remove_propertytype,data=seattle_train).fit()\n",
    "remove_propertytype_test = remove_propertytype_mod.predict(seattle_test)\n",
    "\n",
    "-log_loss(seattle_test['is_superhost'],remove_propertytype_test)*len(seattle_test['is_superhost'])"
   ]
  },
  {
   "cell_type": "code",
   "execution_count": 39,
   "metadata": {},
   "outputs": [
    {
     "name": "stdout",
     "output_type": "stream",
     "text": [
      "Optimization terminated successfully.\n",
      "         Current function value: 0.508411\n",
      "         Iterations 8\n"
     ]
    },
    {
     "data": {
      "text/plain": [
       "-141.5269437257977"
      ]
     },
     "execution_count": 39,
     "metadata": {},
     "output_type": "execute_result"
    }
   ],
   "source": [
    "#remove propertytype - CURRENT 4\n",
    "current_four = ('is_superhost~number_of_reviews+review_scores_rating')\n",
    "current_four_mod = smf.logit(formula=current_four,data=seattle_train).fit()\n",
    "current_four_test = current_four_mod.predict(seattle_test)\n",
    "\n",
    "-log_loss(seattle_test['is_superhost'],current_four_test)*len(seattle_test['is_superhost'])"
   ]
  },
  {
   "cell_type": "code",
   "execution_count": 40,
   "metadata": {},
   "outputs": [
    {
     "name": "stdout",
     "output_type": "stream",
     "text": [
      "Optimization terminated successfully.\n",
      "         Current function value: 0.558426\n",
      "         Iterations 8\n"
     ]
    },
    {
     "data": {
      "text/plain": [
       "-148.14091038117996"
      ]
     },
     "execution_count": 40,
     "metadata": {},
     "output_type": "execute_result"
    }
   ],
   "source": [
    "#remove reviews\n",
    "remove_reviews = ('is_superhost~review_scores_rating')\n",
    "remove_reviews_mod = smf.logit(formula=remove_reviews,data=seattle_train).fit()\n",
    "remove_reviews_test = remove_reviews_mod.predict(seattle_test)\n",
    "\n",
    "-log_loss(seattle_test['is_superhost'],remove_reviews_test)*len(seattle_test['is_superhost'])"
   ]
  },
  {
   "cell_type": "code",
   "execution_count": 41,
   "metadata": {},
   "outputs": [
    {
     "name": "stdout",
     "output_type": "stream",
     "text": [
      "Optimization terminated successfully.\n",
      "         Current function value: 0.629816\n",
      "         Iterations 5\n"
     ]
    },
    {
     "data": {
      "text/plain": [
       "-160.97870044533744"
      ]
     },
     "execution_count": 41,
     "metadata": {},
     "output_type": "execute_result"
    }
   ],
   "source": [
    "#remove rating\n",
    "remove_rating = ('is_superhost~number_of_reviews')\n",
    "remove_rating_mod = smf.logit(formula=remove_rating,data=seattle_train).fit()\n",
    "remove_rating_test = remove_rating_mod.predict(seattle_test)\n",
    "\n",
    "-log_loss(seattle_test['is_superhost'],remove_rating_test)*len(seattle_test['is_superhost'])"
   ]
  },
  {
   "cell_type": "markdown",
   "metadata": {},
   "source": [
    "## 4. Final Model\n",
    "\n",
    "Write out your final logistic regression model in equation form using the three different representations that we discussed in class.\n",
    "1. The one that predicts the **probability** the host is a superhost on the left hand side.\n",
    "2. The one that predicts the **odds** the host is a superhost on the left hand side.\n",
    "3. The one that predicts the **log-odds** the host is a superhost on the left hand side.\n",
    "\n",
    "Make sure that you use the appropriate notation that we discussed in class."
   ]
  },
  {
   "cell_type": "code",
   "execution_count": null,
   "metadata": {},
   "outputs": [],
   "source": []
  },
  {
   "cell_type": "markdown",
   "metadata": {},
   "source": [
    "\n",
    "\n"
   ]
  }
 ],
 "metadata": {
  "kernelspec": {
   "display_name": "Python 3 (ipykernel)",
   "language": "python",
   "name": "python3"
  },
  "language_info": {
   "codemirror_mode": {
    "name": "ipython",
    "version": 3
   },
   "file_extension": ".py",
   "mimetype": "text/x-python",
   "name": "python",
   "nbconvert_exporter": "python",
   "pygments_lexer": "ipython3",
   "version": "3.11.4"
  }
 },
 "nbformat": 4,
 "nbformat_minor": 2
}
